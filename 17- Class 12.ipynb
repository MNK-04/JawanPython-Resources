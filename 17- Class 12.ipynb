{
 "cells": [
  {
   "cell_type": "markdown",
   "id": "5d233d82-833f-4395-9722-404cc2fbf56c",
   "metadata": {},
   "source": [
    "## Combining args and *kwargs"
   ]
  },
  {
   "cell_type": "code",
   "execution_count": 1,
   "id": "e5915763-97ba-4e66-93c3-31c2baf12c96",
   "metadata": {},
   "outputs": [
    {
     "name": "stdout",
     "output_type": "stream",
     "text": [
      "Positional arguments: ('Alice', 'Bob')\n",
      "Keyword arguments: {'age': 30, 'job': 'Engineer'}\n"
     ]
    }
   ],
   "source": [
    "# When used together, *args must appear before **kwargs in the function definition.\n",
    "\n",
    "def show_info(*args, **kwargs):\n",
    "    print(\"Positional arguments:\", args)\n",
    "    print(\"Keyword arguments:\", kwargs)\n",
    "\n",
    "show_info(\"Alice\", \"Bob\", age=30, job=\"Engineer\")"
   ]
  },
  {
   "cell_type": "code",
   "execution_count": 3,
   "id": "72ab8090-f97f-4228-a616-6e7685d940f8",
   "metadata": {},
   "outputs": [],
   "source": [
    "# Python allows you to put positional argument (*) first, and then keyword argument (**) otherwise error occurs."
   ]
  },
  {
   "cell_type": "code",
   "execution_count": 2,
   "id": "5de108a5-26e2-4534-81c1-1f998a6dc69b",
   "metadata": {},
   "outputs": [
    {
     "ename": "SyntaxError",
     "evalue": "positional argument follows keyword argument (3290679515.py, line 5)",
     "output_type": "error",
     "traceback": [
      "\u001b[1;36m  Cell \u001b[1;32mIn[2], line 5\u001b[1;36m\u001b[0m\n\u001b[1;33m    show_info(age=30, job=\"Engineer\",'Alice','Hello')\u001b[0m\n\u001b[1;37m                                                    ^\u001b[0m\n\u001b[1;31mSyntaxError\u001b[0m\u001b[1;31m:\u001b[0m positional argument follows keyword argument\n"
     ]
    }
   ],
   "source": [
    "def show_info(*args, **kwargs):\n",
    "    print(\"Positional arguments:\", args)\n",
    "    print(\"Keyword arguments:\", kwargs)\n",
    "\n",
    "show_info(age=30, job=\"Engineer\",'Alice','Hello')"
   ]
  },
  {
   "cell_type": "code",
   "execution_count": 4,
   "id": "84a535c6-19ff-40e4-9295-bc3b447cb500",
   "metadata": {},
   "outputs": [
    {
     "ename": "SyntaxError",
     "evalue": "arguments cannot follow var-keyword argument (2888698388.py, line 1)",
     "output_type": "error",
     "traceback": [
      "\u001b[1;36m  Cell \u001b[1;32mIn[4], line 1\u001b[1;36m\u001b[0m\n\u001b[1;33m    def show_info(**kwargs,*args):\u001b[0m\n\u001b[1;37m                           ^\u001b[0m\n\u001b[1;31mSyntaxError\u001b[0m\u001b[1;31m:\u001b[0m arguments cannot follow var-keyword argument\n"
     ]
    }
   ],
   "source": [
    "def show_info(**kwargs,*args):\n",
    "    print(\"Positional arguments:\", args)\n",
    "    print(\"Keyword arguments:\", kwargs)\n",
    "\n",
    "show_info(age=30, job=\"Engineer\")"
   ]
  },
  {
   "cell_type": "code",
   "execution_count": 5,
   "id": "b64049d8-3c08-4abb-b42c-a18a709a0326",
   "metadata": {},
   "outputs": [
    {
     "ename": "SyntaxError",
     "evalue": "arguments cannot follow var-keyword argument (1629483132.py, line 1)",
     "output_type": "error",
     "traceback": [
      "\u001b[1;36m  Cell \u001b[1;32mIn[5], line 1\u001b[1;36m\u001b[0m\n\u001b[1;33m    def show_info(**kwargs,*args):\u001b[0m\n\u001b[1;37m                           ^\u001b[0m\n\u001b[1;31mSyntaxError\u001b[0m\u001b[1;31m:\u001b[0m arguments cannot follow var-keyword argument\n"
     ]
    }
   ],
   "source": [
    "def show_info(**kwargs,*args):\n",
    "    print(\"Positional arguments:\", args)\n",
    "    print(\"Keyword arguments:\", kwargs)\n",
    "\n",
    "show_info(age=30, job=\"Engineer\",\"Alice\",\"Hello\")"
   ]
  },
  {
   "cell_type": "markdown",
   "id": "4a3bca0b-a0d8-4918-8af9-b40b27cb4bb4",
   "metadata": {},
   "source": [
    "Local variables: Variables defined inside a function are local to that function. They are only accessible within the function.\n",
    "Global variables: Variables defined outside of all functions are global. They can be accessed from anywhere in the code."
   ]
  },
  {
   "cell_type": "code",
   "execution_count": 6,
   "id": "b4d526bc-aa0b-4878-9f44-6d388ebbeeaf",
   "metadata": {},
   "outputs": [
    {
     "name": "stdout",
     "output_type": "stream",
     "text": [
      "Inside function: 20\n"
     ]
    }
   ],
   "source": [
    "x = 10  # Global variable\n",
    "\n",
    "def print_x():\n",
    "    x = 20  # Local variable\n",
    "    print(\"Inside function:\", x)\n",
    "\n",
    "print_x()"
   ]
  },
  {
   "cell_type": "code",
   "execution_count": 7,
   "id": "7bb34254-4f77-46a4-9484-1d11f2a756c0",
   "metadata": {},
   "outputs": [
    {
     "name": "stdout",
     "output_type": "stream",
     "text": [
      "10\n"
     ]
    }
   ],
   "source": [
    "x = 10\n",
    "\n",
    "def modify_x():\n",
    "    print(x)\n",
    "\n",
    "modify_x()"
   ]
  },
  {
   "cell_type": "code",
   "execution_count": 8,
   "id": "1ba85364-bb53-4b46-b5b3-d312224eee84",
   "metadata": {},
   "outputs": [
    {
     "name": "stdout",
     "output_type": "stream",
     "text": [
      "10\n"
     ]
    }
   ],
   "source": [
    "#use of global keyword\n",
    "\n",
    "x = 10\n",
    "\n",
    "def modify_x():\n",
    "    global x \n",
    "    print(x)\n",
    "\n",
    "modify_x()"
   ]
  },
  {
   "cell_type": "code",
   "execution_count": 9,
   "id": "fd8ae614-5e69-4e40-9c0e-0f70f64a6210",
   "metadata": {},
   "outputs": [
    {
     "name": "stdout",
     "output_type": "stream",
     "text": [
      "Inside function: 20\n"
     ]
    }
   ],
   "source": [
    "#use of global keyword\n",
    "\n",
    "x = 10\n",
    "\n",
    "def modify_x():\n",
    "    global x \n",
    "    x = 20\n",
    "    print(\"Inside function:\", x)\n",
    "\n",
    "modify_x()"
   ]
  },
  {
   "cell_type": "code",
   "execution_count": 10,
   "id": "60eecdad-cde6-49b6-966d-d74374c68594",
   "metadata": {},
   "outputs": [
    {
     "name": "stdout",
     "output_type": "stream",
     "text": [
      "Inside function: 10\n",
      "Outside function: 10\n"
     ]
    }
   ],
   "source": [
    "x = 30  # Global variable\n",
    "\n",
    "def modify_x():\n",
    "    global x  # Refers to the global variable `x` declared outside the function\n",
    "    x = 10    # Modifies the global `x`\n",
    "    print(\"Inside function:\", x)  # Prints the modified value of `x` inside the function\n",
    "\n",
    "modify_x()  # Call the function\n",
    "print(\"Outside function:\", x)  # Prints the updated value of `x` globally"
   ]
  },
  {
   "cell_type": "code",
   "execution_count": 11,
   "id": "df563ad0-dbb6-429c-b0bb-87a806247ca0",
   "metadata": {},
   "outputs": [
    {
     "name": "stdout",
     "output_type": "stream",
     "text": [
      "Inside function: 10\n",
      "Outside function: 30\n",
      "Outside function: 30\n"
     ]
    }
   ],
   "source": [
    "y = 30  # Global variable\n",
    "\n",
    "def modify_x():\n",
    "    global y  \n",
    "    x = 10    \n",
    "    print(\"Inside function:\", x)\n",
    "    print(\"Outside function:\", y)\n",
    "\n",
    "modify_x()  # Call the function\n",
    "print(\"Outside function:\", y)  # Prints the updated value of `y` globally"
   ]
  },
  {
   "cell_type": "code",
   "execution_count": 2,
   "id": "667aacb2-2d9d-4a8a-b466-1b2bc4c5b3a8",
   "metadata": {},
   "outputs": [
    {
     "name": "stdout",
     "output_type": "stream",
     "text": [
      "25\n"
     ]
    }
   ],
   "source": [
    "# Lambda Function\n",
    "# The function is one-liner and doesn’t require multiple expressions or statements.\n",
    "# lambda arguments: expression\n",
    "square = lambda x: x ** 2 \n",
    "# here x is arguments, (the thing which you want to see) & # x ** 2 is expressions, (the thing which you want to proceed)   \n",
    "print(square(5))"
   ]
  },
  {
   "cell_type": "code",
   "execution_count": 13,
   "id": "d50062b1-c0f3-4079-82d4-60cd6a0a1725",
   "metadata": {},
   "outputs": [
    {
     "ename": "TypeError",
     "evalue": "<lambda>() missing 1 required positional argument: 'y'",
     "output_type": "error",
     "traceback": [
      "\u001b[1;31m---------------------------------------------------------------------------\u001b[0m",
      "\u001b[1;31mTypeError\u001b[0m                                 Traceback (most recent call last)",
      "Cell \u001b[1;32mIn[13], line 2\u001b[0m\n\u001b[0;32m      1\u001b[0m add \u001b[38;5;241m=\u001b[39m \u001b[38;5;28;01mlambda\u001b[39;00m x,y:x\u001b[38;5;241m+\u001b[39my\n\u001b[1;32m----> 2\u001b[0m add(\u001b[38;5;241m5\u001b[39m)\n",
      "\u001b[1;31mTypeError\u001b[0m: <lambda>() missing 1 required positional argument: 'y'"
     ]
    }
   ],
   "source": [
    "add = lambda x,y:x+y\n",
    "add(5)"
   ]
  },
  {
   "cell_type": "code",
   "execution_count": 14,
   "id": "22ef1526-1c3d-469d-bfb5-a9461bdec90b",
   "metadata": {},
   "outputs": [
    {
     "data": {
      "text/plain": [
       "7"
      ]
     },
     "execution_count": 14,
     "metadata": {},
     "output_type": "execute_result"
    }
   ],
   "source": [
    "add = lambda x,y:x+y\n",
    "add(5,2)"
   ]
  },
  {
   "cell_type": "markdown",
   "id": "ed303763-f620-4dcc-867c-764921158a1a",
   "metadata": {},
   "source": [
    "## Nested Function"
   ]
  },
  {
   "cell_type": "code",
   "execution_count": 15,
   "id": "20f0ef84-6286-46de-9fe6-74069c307d36",
   "metadata": {},
   "outputs": [
    {
     "name": "stdout",
     "output_type": "stream",
     "text": [
      "Outer variable: 5\n",
      "Inner variable: 10\n",
      "Outer variable inside outer function: 5\n"
     ]
    }
   ],
   "source": [
    "def outer_function(outer_variable):\n",
    "    def inner_function(inner_variable):\n",
    "        print(f\"Outer variable: {outer_variable}\")\n",
    "        print(f\"Inner variable: {inner_variable}\")\n",
    "    inner_function(10)\n",
    "    print(f\"Outer variable inside outer function: {outer_variable}\")\n",
    "\n",
    "outer_function(5)"
   ]
  },
  {
   "cell_type": "code",
   "execution_count": 16,
   "id": "5edf3d47-e5db-4836-ba50-3b190a44bc82",
   "metadata": {},
   "outputs": [
    {
     "name": "stdout",
     "output_type": "stream",
     "text": [
      "Inside inner function\n"
     ]
    }
   ],
   "source": [
    "#Calling inner functions outside the outer function\n",
    "def outer():\n",
    "    def inner():\n",
    "        print(\"Inside inner function\")\n",
    "\n",
    "    inner()\n",
    "outer()"
   ]
  },
  {
   "cell_type": "markdown",
   "id": "2a844512-8ea1-4ef4-84dc-7fa75e39200e",
   "metadata": {},
   "source": [
    "## List Comprehension"
   ]
  },
  {
   "cell_type": "code",
   "execution_count": 17,
   "id": "396777d7-db1f-41a6-b3b4-68dd75cad64e",
   "metadata": {},
   "outputs": [],
   "source": [
    "square = []\n",
    "\n",
    "for x in range(5):\n",
    "    # print(x ** 2)\n",
    "    y = x ** 2\n",
    "    square.append(y)"
   ]
  },
  {
   "cell_type": "code",
   "execution_count": 18,
   "id": "dcb5636f-a0ba-4ff9-84b7-59c3b1a631da",
   "metadata": {},
   "outputs": [
    {
     "data": {
      "text/plain": [
       "[0, 1, 4, 9, 16]"
      ]
     },
     "execution_count": 18,
     "metadata": {},
     "output_type": "execute_result"
    }
   ],
   "source": [
    "square"
   ]
  },
  {
   "cell_type": "code",
   "execution_count": 19,
   "id": "74443823-3791-4210-ae70-57f2dab2911f",
   "metadata": {},
   "outputs": [],
   "source": [
    "Ec_Store_Orders = [\n",
    "    {\"order_id\": 1, \"customer_name\": \"Ali\", \"total_amount\": 120, \"status\": \"Completed\"},\n",
    "    {\"order_id\": 2, \"customer_name\": \"Raheel\", \"total_amount\": 80, \"status\": \"Pending\"},\n",
    "    {\"order_id\": 3, \"customer_name\": \"Saleem\", \"total_amount\": 150, \"status\": \"Completed\"},\n",
    "    {\"order_id\": 4, \"customer_name\": \"khushnoor\", \"total_amount\": 95, \"status\": \"Completed\"},\n",
    "    {\"order_id\": 5, \"customer_name\": \"Alizy\", \"total_amount\": 200, \"status\": \"Pending\"},\n",
    "    {\"order_id\": 6, \"customer_name\": \"javaid\", \"total_amount\": 85, \"status\": \"Completed\"},\n",
    "    {\"order_id\": 7, \"customer_name\": \"Talha\", \"total_amount\": 150, \"status\": \"Pending\"},\n",
    "    {\"order_id\": 8, \"customer_name\": \"Naveed\", \"total_amount\": 200, \"status\": \"Completed\"},\n",
    "]"
   ]
  },
  {
   "cell_type": "code",
   "execution_count": 20,
   "id": "8cd6501e-a79f-467f-996a-200fb9e66d87",
   "metadata": {},
   "outputs": [
    {
     "data": {
      "text/plain": [
       "[{'order_id': 1,\n",
       "  'customer_name': 'Ali',\n",
       "  'total_amount': 120,\n",
       "  'status': 'Completed'},\n",
       " {'order_id': 2,\n",
       "  'customer_name': 'Raheel',\n",
       "  'total_amount': 80,\n",
       "  'status': 'Pending'},\n",
       " {'order_id': 3,\n",
       "  'customer_name': 'Saleem',\n",
       "  'total_amount': 150,\n",
       "  'status': 'Completed'},\n",
       " {'order_id': 4,\n",
       "  'customer_name': 'khushnoor',\n",
       "  'total_amount': 95,\n",
       "  'status': 'Completed'},\n",
       " {'order_id': 5,\n",
       "  'customer_name': 'Alizy',\n",
       "  'total_amount': 200,\n",
       "  'status': 'Pending'},\n",
       " {'order_id': 6,\n",
       "  'customer_name': 'javaid',\n",
       "  'total_amount': 85,\n",
       "  'status': 'Completed'},\n",
       " {'order_id': 7,\n",
       "  'customer_name': 'Talha',\n",
       "  'total_amount': 150,\n",
       "  'status': 'Pending'},\n",
       " {'order_id': 8,\n",
       "  'customer_name': 'Naveed',\n",
       "  'total_amount': 200,\n",
       "  'status': 'Completed'}]"
      ]
     },
     "execution_count": 20,
     "metadata": {},
     "output_type": "execute_result"
    }
   ],
   "source": [
    "Ec_Store_Orders"
   ]
  },
  {
   "cell_type": "markdown",
   "id": "35bc8cc6-9709-482b-8553-ce374e20eb5f",
   "metadata": {},
   "source": [
    "## Class Assignment"
   ]
  },
  {
   "cell_type": "markdown",
   "id": "6b3c3fab-5232-4df6-9689-ded91ce017f4",
   "metadata": {},
   "source": [
    "Q: Find out the order id, having atleast total amount = 100 and status must be completed, answer in []."
   ]
  },
  {
   "cell_type": "code",
   "execution_count": 21,
   "id": "b3a9f9a7-f7d3-4bb5-a20a-f74649b166c0",
   "metadata": {},
   "outputs": [
    {
     "name": "stdout",
     "output_type": "stream",
     "text": [
      "{'order_id': 1, 'customer_name': 'Ali', 'total_amount': 120, 'status': 'Completed'}\n",
      "{'order_id': 2, 'customer_name': 'Raheel', 'total_amount': 80, 'status': 'Pending'}\n",
      "{'order_id': 3, 'customer_name': 'Saleem', 'total_amount': 150, 'status': 'Completed'}\n",
      "{'order_id': 4, 'customer_name': 'khushnoor', 'total_amount': 95, 'status': 'Completed'}\n",
      "{'order_id': 5, 'customer_name': 'Alizy', 'total_amount': 200, 'status': 'Pending'}\n",
      "{'order_id': 6, 'customer_name': 'javaid', 'total_amount': 85, 'status': 'Completed'}\n",
      "{'order_id': 7, 'customer_name': 'Talha', 'total_amount': 150, 'status': 'Pending'}\n",
      "{'order_id': 8, 'customer_name': 'Naveed', 'total_amount': 200, 'status': 'Completed'}\n"
     ]
    }
   ],
   "source": [
    "for order in Ec_Store_Orders:\n",
    "    print(order)"
   ]
  },
  {
   "cell_type": "code",
   "execution_count": 24,
   "id": "8b7963f0-e07f-48fe-857b-7e867e05eeb6",
   "metadata": {},
   "outputs": [],
   "source": [
    "# Method 1."
   ]
  },
  {
   "cell_type": "code",
   "execution_count": 22,
   "id": "a4eb3691-6564-4ed8-a460-631d9aca04a4",
   "metadata": {},
   "outputs": [
    {
     "data": {
      "text/plain": [
       "[1, 3, 8]"
      ]
     },
     "execution_count": 22,
     "metadata": {},
     "output_type": "execute_result"
    }
   ],
   "source": [
    "order_id_comp = []\n",
    "\n",
    "for order in Ec_Store_Orders:\n",
    "    if order['total_amount'] > 100 and order['status'] == 'Completed':\n",
    "      order_id_comp.append(order['order_id'])  \n",
    "\n",
    "order_id_comp"
   ]
  },
  {
   "cell_type": "code",
   "execution_count": null,
   "id": "7dbc8e5e-4f41-4687-97b7-e4f898dcf7ad",
   "metadata": {},
   "outputs": [],
   "source": [
    "# Method 2."
   ]
  },
  {
   "cell_type": "code",
   "execution_count": 23,
   "id": "f43fd447-b764-4ab1-8857-c5447ce0cf91",
   "metadata": {},
   "outputs": [
    {
     "data": {
      "text/plain": [
       "[1, 3, 8]"
      ]
     },
     "execution_count": 23,
     "metadata": {},
     "output_type": "execute_result"
    }
   ],
   "source": [
    "order_id_comp = [order['order_id'] for order in Ec_Store_Orders \n",
    "                 if order['total_amount']>100 and order['status'] == 'Completed']\n",
    "\n",
    "order_id_comp"
   ]
  },
  {
   "cell_type": "code",
   "execution_count": null,
   "id": "07ccd188-4294-4eea-addf-0fc338fc7b0e",
   "metadata": {},
   "outputs": [],
   "source": []
  }
 ],
 "metadata": {
  "kernelspec": {
   "display_name": "Python 3 (ipykernel)",
   "language": "python",
   "name": "python3"
  },
  "language_info": {
   "codemirror_mode": {
    "name": "ipython",
    "version": 3
   },
   "file_extension": ".py",
   "mimetype": "text/x-python",
   "name": "python",
   "nbconvert_exporter": "python",
   "pygments_lexer": "ipython3",
   "version": "3.12.7"
  }
 },
 "nbformat": 4,
 "nbformat_minor": 5
}
