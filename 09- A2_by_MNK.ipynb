{
 "cells": [
  {
   "cell_type": "markdown",
   "id": "fea62591-86b0-438a-a089-3ac97b102db9",
   "metadata": {},
   "source": [
    "### Question 1: Age Group Classification"
   ]
  },
  {
   "cell_type": "code",
   "execution_count": 1,
   "id": "baa2ef58-a51b-43ac-813f-5f575abcdfae",
   "metadata": {},
   "outputs": [
    {
     "name": "stdin",
     "output_type": "stream",
     "text": [
      "Enter your Age:  10\n"
     ]
    },
    {
     "name": "stdout",
     "output_type": "stream",
     "text": [
      "Child, Inclusive\n"
     ]
    }
   ],
   "source": [
    "# Age Group Classification\n",
    "age = int(input(\"Enter your Age: \"))\n",
    "if age >= 0 and age <= 12:\n",
    "    print(\"Child, Inclusive\")\n",
    "elif age >= 13 and age <= 19:\n",
    "    print(\"Teenager, Inclusive\")\n",
    "elif age >= 20 and age <= 64:\n",
    "    print(\"Adult, Inclusive\")\n",
    "else:\n",
    "    print(\"Senior, Exclusive\")"
   ]
  },
  {
   "cell_type": "markdown",
   "id": "467727a8-5f2f-473a-b279-9825d8713854",
   "metadata": {},
   "source": [
    "### Question 2: Checking for Eligibility for Discount"
   ]
  },
  {
   "cell_type": "code",
   "execution_count": 2,
   "id": "ea583744-4862-4974-b44d-93f51953e2f0",
   "metadata": {},
   "outputs": [
    {
     "name": "stdin",
     "output_type": "stream",
     "text": [
      "Membership Status:  Premium\n",
      "Purchase Amount:  1100\n"
     ]
    },
    {
     "name": "stdout",
     "output_type": "stream",
     "text": [
      "Eligible for discount\n"
     ]
    }
   ],
   "source": [
    "# Checking for Eligibility for Discount\n",
    "status = input(\"Membership Status: \")\n",
    "amount = int(input(\"Purchase Amount: \"))\n",
    "if status == \"Premium\" and amount >= 1000:\n",
    "    print(\"Eligible for discount\")\n",
    "elif status == \"Regular\" and amount >= 2000:\n",
    "    print(\"Eligible for discount too\")\n",
    "else:\n",
    "    print(\"Not eligible for discount\")"
   ]
  },
  {
   "cell_type": "markdown",
   "id": "9157e4d0-bf74-4118-9690-67574def21b1",
   "metadata": {},
   "source": [
    "### Question 3: Voting Eligibility Check"
   ]
  },
  {
   "cell_type": "code",
   "execution_count": 3,
   "id": "5ce66abe-b636-44e2-9210-e12d9fec4ae2",
   "metadata": {},
   "outputs": [
    {
     "name": "stdin",
     "output_type": "stream",
     "text": [
      "Age:  18\n",
      "Citizenship status(Citizen or Non-Citizen):  Citizen\n",
      "Are you from special region?:  \n"
     ]
    },
    {
     "name": "stdout",
     "output_type": "stream",
     "text": [
      "Eligible to vote\n"
     ]
    }
   ],
   "source": [
    "# Voting Eligibility Check\n",
    "age = int(input(\"Age: \"))\n",
    "status = input(\"Citizenship status(Citizen or Non-Citizen): \")\n",
    "region = input(\"Are you from special region?: \")\n",
    "if age >= 18 and status == \"Citizen\":\n",
    "    print(\"Eligible to vote\")\n",
    "elif age >= 16 and status == \"Non-Citizen\" and region == \"Yes\":\n",
    "    print(\"Eligible to vote too\")\n",
    "else:\n",
    "    print(\"Not eligible to vote\")"
   ]
  },
  {
   "cell_type": "markdown",
   "id": "ec4fa5c2-67be-43d9-a727-bfb0e2db0321",
   "metadata": {},
   "source": [
    "### Question 4: Employee Salary Bonus Eligibility"
   ]
  },
  {
   "cell_type": "code",
   "execution_count": 4,
   "id": "2257d6ac-0121-44d1-811e-51284f1fa807",
   "metadata": {},
   "outputs": [
    {
     "name": "stdin",
     "output_type": "stream",
     "text": [
      "Performance Rating:  Good\n",
      "Year of Service:  15\n"
     ]
    },
    {
     "name": "stdout",
     "output_type": "stream",
     "text": [
      "Eligible for bonus\n"
     ]
    }
   ],
   "source": [
    "# Employee Salary Bonus Eligibility\n",
    "rating = input(\"Performance Rating: \")\n",
    "service = int(input(\"Year of Service: \"))\n",
    "if rating == \"Excellent\" and service >= 5:\n",
    "    print(\"Eligible for bonus\")\n",
    "elif rating == \"Good\" and service >= 10:\n",
    "    print(\"Eligible for bonus\")\n",
    "elif rating == \"Satisfactory\" or service >= 15:\n",
    "    print(\"Eligible for bonus\")\n",
    "else:\n",
    "    print(\"Not Eligible for bonus\")"
   ]
  },
  {
   "cell_type": "markdown",
   "id": "d36955d1-1ceb-497b-81d1-28214c08de62",
   "metadata": {},
   "source": [
    "### Question 5. Write a program that replaces spaces with underscores, counts how many underscores are there, and finds the position of the first underscore."
   ]
  },
  {
   "cell_type": "code",
   "execution_count": 26,
   "id": "55e81d2a-6145-4965-a0fd-9182957e21f3",
   "metadata": {},
   "outputs": [],
   "source": [
    "f = \"I'm learning Python programming\""
   ]
  },
  {
   "cell_type": "code",
   "execution_count": 27,
   "id": "900c3f01-a15f-4066-8e35-5ea0230f7c56",
   "metadata": {},
   "outputs": [],
   "source": [
    "f1 = f.replace(\" \", \"_\")"
   ]
  },
  {
   "cell_type": "code",
   "execution_count": 28,
   "id": "97172bbe-2dbc-4d9b-9ada-580eccf4bbc3",
   "metadata": {},
   "outputs": [
    {
     "data": {
      "text/plain": [
       "\"I'm_learning_Python_programming\""
      ]
     },
     "execution_count": 28,
     "metadata": {},
     "output_type": "execute_result"
    }
   ],
   "source": [
    "f1"
   ]
  },
  {
   "cell_type": "code",
   "execution_count": 30,
   "id": "d66b4448-f0b5-476e-8654-e4b84046ad65",
   "metadata": {},
   "outputs": [
    {
     "data": {
      "text/plain": [
       "3"
      ]
     },
     "execution_count": 30,
     "metadata": {},
     "output_type": "execute_result"
    }
   ],
   "source": [
    "f1.count(\"_\")"
   ]
  },
  {
   "cell_type": "code",
   "execution_count": 31,
   "id": "56760ddb-cda8-4052-b262-e78805813f92",
   "metadata": {},
   "outputs": [
    {
     "data": {
      "text/plain": [
       "3"
      ]
     },
     "execution_count": 31,
     "metadata": {},
     "output_type": "execute_result"
    }
   ],
   "source": [
    "f1.find(\"_\")"
   ]
  },
  {
   "cell_type": "markdown",
   "id": "f431369d-945b-4816-bef8-22e9eb5d2ab7",
   "metadata": {},
   "source": [
    "### Question 6:"
   ]
  },
  {
   "cell_type": "code",
   "execution_count": 42,
   "id": "b01da767-d7f3-4b84-ab8e-d15e2a9e6757",
   "metadata": {},
   "outputs": [
    {
     "name": "stdin",
     "output_type": "stream",
     "text": [
      "Write anything:  Program\n"
     ]
    }
   ],
   "source": [
    "g = input(\"Write anything: \")"
   ]
  },
  {
   "cell_type": "code",
   "execution_count": 43,
   "id": "053c88e3-2030-45cb-bffa-96e044b2d9d5",
   "metadata": {},
   "outputs": [
    {
     "data": {
      "text/plain": [
       "str"
      ]
     },
     "execution_count": 43,
     "metadata": {},
     "output_type": "execute_result"
    }
   ],
   "source": [
    "type(g)"
   ]
  },
  {
   "cell_type": "code",
   "execution_count": 44,
   "id": "90cdcc8d-3f17-40dd-9fe1-19d372155485",
   "metadata": {},
   "outputs": [
    {
     "data": {
      "text/plain": [
       "7"
      ]
     },
     "execution_count": 44,
     "metadata": {},
     "output_type": "execute_result"
    }
   ],
   "source": [
    "len(g)"
   ]
  },
  {
   "cell_type": "code",
   "execution_count": 46,
   "id": "a603d13f-7866-4320-96f2-d6be2f83b5fe",
   "metadata": {},
   "outputs": [
    {
     "data": {
      "text/plain": [
       "'Prog'"
      ]
     },
     "execution_count": 46,
     "metadata": {},
     "output_type": "execute_result"
    }
   ],
   "source": [
    "g[:4]"
   ]
  },
  {
   "cell_type": "code",
   "execution_count": 47,
   "id": "e84d49a9-fcf6-43dc-8fdf-b177bb932983",
   "metadata": {},
   "outputs": [
    {
     "data": {
      "text/plain": [
       "'Porm'"
      ]
     },
     "execution_count": 47,
     "metadata": {},
     "output_type": "execute_result"
    }
   ],
   "source": [
    "g[::2]"
   ]
  },
  {
   "cell_type": "code",
   "execution_count": 51,
   "id": "992a1dfd-9f5c-43d1-9a12-48960d6c176c",
   "metadata": {},
   "outputs": [
    {
     "data": {
      "text/plain": [
       "'Program'"
      ]
     },
     "execution_count": 51,
     "metadata": {},
     "output_type": "execute_result"
    }
   ],
   "source": [
    "g"
   ]
  },
  {
   "cell_type": "code",
   "execution_count": 53,
   "id": "20912550-6458-4690-bfab-bdf3de66485f",
   "metadata": {},
   "outputs": [
    {
     "data": {
      "text/plain": [
       "'margorP'"
      ]
     },
     "execution_count": 53,
     "metadata": {},
     "output_type": "execute_result"
    }
   ],
   "source": [
    "g[::-1]"
   ]
  },
  {
   "cell_type": "markdown",
   "id": "6634c68e-02e0-4fbc-a076-309fd419e3bb",
   "metadata": {},
   "source": [
    "### Question 7. Given a sentence, you need to reverse the order of the words in the sentence while preserving their original capitalization and spaces."
   ]
  },
  {
   "cell_type": "code",
   "execution_count": 5,
   "id": "b05d548b-4ff1-4c93-bfa7-291e243a85e1",
   "metadata": {},
   "outputs": [],
   "source": [
    "sentence = \"Hello World, We are learning Python\""
   ]
  },
  {
   "cell_type": "code",
   "execution_count": 6,
   "id": "305999c5-ce23-4676-8296-e65fce2e6289",
   "metadata": {},
   "outputs": [],
   "source": [
    "sentence_1 = sentence.split()"
   ]
  },
  {
   "cell_type": "code",
   "execution_count": 7,
   "id": "7beaa37e-ce9a-4807-bfcb-3948688f4afd",
   "metadata": {},
   "outputs": [
    {
     "data": {
      "text/plain": [
       "['Hello', 'World,', 'We', 'are', 'learning', 'Python']"
      ]
     },
     "execution_count": 7,
     "metadata": {},
     "output_type": "execute_result"
    }
   ],
   "source": [
    "sentence_1"
   ]
  },
  {
   "cell_type": "code",
   "execution_count": 8,
   "id": "67b2e32d-2859-4c15-9df4-88e8d54ecc48",
   "metadata": {},
   "outputs": [],
   "source": [
    "sentence_2 = sentence_1[::-1]"
   ]
  },
  {
   "cell_type": "code",
   "execution_count": 9,
   "id": "664c419d-73ca-47fc-bb24-5f8552906152",
   "metadata": {},
   "outputs": [
    {
     "data": {
      "text/plain": [
       "['Python', 'learning', 'are', 'We', 'World,', 'Hello']"
      ]
     },
     "execution_count": 9,
     "metadata": {},
     "output_type": "execute_result"
    }
   ],
   "source": [
    "sentence_2"
   ]
  },
  {
   "cell_type": "code",
   "execution_count": 10,
   "id": "0195154b-77a4-4162-8e1c-f55034b2b023",
   "metadata": {},
   "outputs": [],
   "source": [
    "sentence_3 = \" \".join(sentence_2)"
   ]
  },
  {
   "cell_type": "code",
   "execution_count": 11,
   "id": "99942ebc-28d5-43fc-93aa-3e9e38fbe324",
   "metadata": {},
   "outputs": [
    {
     "data": {
      "text/plain": [
       "'Python learning are We World, Hello'"
      ]
     },
     "execution_count": 11,
     "metadata": {},
     "output_type": "execute_result"
    }
   ],
   "source": [
    "sentence_3"
   ]
  },
  {
   "cell_type": "markdown",
   "id": "cb4e9ec0-4bd5-4d11-a336-a704d044a531",
   "metadata": {},
   "source": [
    "### Question 8. You have a product code that follows the format \"SKU-12345-XYZ\". You need to remove the \"SKU-\" and the \"-XYZ\" from the product code."
   ]
  },
  {
   "cell_type": "code",
   "execution_count": 12,
   "id": "9986e717-a4e9-4916-9c8b-ffa3cd7b16f1",
   "metadata": {},
   "outputs": [],
   "source": [
    "code = \"SKU-12345-XYZ\""
   ]
  },
  {
   "cell_type": "code",
   "execution_count": 13,
   "id": "0d5b06c5-51cf-44d2-80ac-49842306c225",
   "metadata": {},
   "outputs": [
    {
     "data": {
      "text/plain": [
       "4"
      ]
     },
     "execution_count": 13,
     "metadata": {},
     "output_type": "execute_result"
    }
   ],
   "source": [
    "code.index(\"1\")"
   ]
  },
  {
   "cell_type": "code",
   "execution_count": 14,
   "id": "28077c84-3bd3-4626-85f4-1bd772a6a8b8",
   "metadata": {},
   "outputs": [
    {
     "data": {
      "text/plain": [
       "8"
      ]
     },
     "execution_count": 14,
     "metadata": {},
     "output_type": "execute_result"
    }
   ],
   "source": [
    "code.index(\"5\")"
   ]
  },
  {
   "cell_type": "code",
   "execution_count": 15,
   "id": "6aee4a93-b473-4772-b53f-24c73ba6d232",
   "metadata": {},
   "outputs": [
    {
     "data": {
      "text/plain": [
       "12"
      ]
     },
     "execution_count": 15,
     "metadata": {},
     "output_type": "execute_result"
    }
   ],
   "source": [
    "code.index(\"Z\")"
   ]
  },
  {
   "cell_type": "code",
   "execution_count": 16,
   "id": "af9c8a56-bc1a-43d6-9775-b420488c96ab",
   "metadata": {},
   "outputs": [],
   "source": [
    "code_1 = code[4:-4]"
   ]
  },
  {
   "cell_type": "code",
   "execution_count": 17,
   "id": "ab80f459-a27b-4757-8b0d-e89d637b3b82",
   "metadata": {},
   "outputs": [
    {
     "data": {
      "text/plain": [
       "'12345'"
      ]
     },
     "execution_count": 17,
     "metadata": {},
     "output_type": "execute_result"
    }
   ],
   "source": [
    "code_1"
   ]
  },
  {
   "cell_type": "code",
   "execution_count": 18,
   "id": "eab42071-403c-4722-af3e-10bd092edaa7",
   "metadata": {},
   "outputs": [
    {
     "name": "stdout",
     "output_type": "stream",
     "text": [
      "Numbers:  12345\n"
     ]
    }
   ],
   "source": [
    "code_2 = print(\"Numbers: \", code_1)"
   ]
  },
  {
   "cell_type": "markdown",
   "id": "ecccb681-a691-44c0-8ba0-931422f7daa4",
   "metadata": {},
   "source": [
    "### Question 9. Write a Python program to check user password has following: Whether the string contains any uppercase or any lowercase characters or any spaces or any special characters (anything other than letters, digits, and spaces)."
   ]
  },
  {
   "cell_type": "code",
   "execution_count": 149,
   "id": "cdb166ae-5ba8-429e-abf5-17cde0e88c7a",
   "metadata": {},
   "outputs": [
    {
     "name": "stdin",
     "output_type": "stream",
     "text": [
      "Enter your password:  Abdul Moiz@22\n"
     ]
    },
    {
     "name": "stdout",
     "output_type": "stream",
     "text": [
      "Uppercase Characters?: True\n",
      "Lowercase Characters?: True\n",
      "Spaces?: True\n",
      "Special Characters?: True\n"
     ]
    }
   ],
   "source": [
    "password = input(\"Enter your password: \")\n",
    "Uppercase = any(char.isupper() for char in password)\n",
    "Lowercase = any(char.islower() for char in password)\n",
    "Spaces = any(char.isspace() for char in password)\n",
    "Special_Characters = any(not char.isalnum() and not char.isspace() for char in password)\n",
    "print(\"Uppercase Characters?:\", Uppercase)\n",
    "print(\"Lowercase Characters?:\", Lowercase)\n",
    "print(\"Spaces?:\", Spaces)\n",
    "print(\"Special Characters?:\", Special_Characters)"
   ]
  },
  {
   "cell_type": "markdown",
   "id": "0ccbeed7-a429-4298-b0a0-2dfb65a27ba5",
   "metadata": {},
   "source": [
    "### Question 10: Find the Longest Word"
   ]
  },
  {
   "cell_type": "code",
   "execution_count": 19,
   "id": "1579d858-af50-4304-b935-ede89412c62b",
   "metadata": {},
   "outputs": [
    {
     "name": "stdin",
     "output_type": "stream",
     "text": [
      "Enter a sentence:  I love programming in Python\n"
     ]
    },
    {
     "name": "stdout",
     "output_type": "stream",
     "text": [
      "The longest word is: programming\n"
     ]
    }
   ],
   "source": [
    "sentence = input(\"Enter a sentence: \")\n",
    "words = sentence.split()\n",
    "long_word = max(words, key=len)\n",
    "print(\"The longest word is:\", long_word)"
   ]
  },
  {
   "cell_type": "code",
   "execution_count": null,
   "id": "167cbdd3-9101-4bf0-b336-8e8ecbabfd98",
   "metadata": {},
   "outputs": [],
   "source": []
  }
 ],
 "metadata": {
  "kernelspec": {
   "display_name": "Python 3 (ipykernel)",
   "language": "python",
   "name": "python3"
  },
  "language_info": {
   "codemirror_mode": {
    "name": "ipython",
    "version": 3
   },
   "file_extension": ".py",
   "mimetype": "text/x-python",
   "name": "python",
   "nbconvert_exporter": "python",
   "pygments_lexer": "ipython3",
   "version": "3.12.7"
  }
 },
 "nbformat": 4,
 "nbformat_minor": 5
}
