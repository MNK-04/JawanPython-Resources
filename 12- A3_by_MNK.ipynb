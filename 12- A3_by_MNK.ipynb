{
 "cells": [
  {
   "cell_type": "markdown",
   "id": "922ed691-f7d9-4c91-afbd-0d1ddb34939e",
   "metadata": {},
   "source": [
    "Q1. Write program to check a person’s eligibility for a loan based on age, credit score, and income. This time, the\n",
    "eligibility criteria will be:\n",
    "\n",
    "The person must be 18 years or older. The person must have a credit score of 650 or higher. The person must have\n",
    "an annual income of at least 30000 dollars If the person has a credit score of 700 or higher, they may still be eligible\n",
    "with an income of 25000 dollars or more."
   ]
  },
  {
   "cell_type": "code",
   "execution_count": 1,
   "id": "17d3041b-0e88-45fe-af83-9ec9e68f9371",
   "metadata": {},
   "outputs": [
    {
     "name": "stdin",
     "output_type": "stream",
     "text": [
      "What's your age?:  18\n",
      "What's your credit score?:  1000\n",
      "How much you earn annually?(USD):  24000\n"
     ]
    },
    {
     "name": "stdout",
     "output_type": "stream",
     "text": [
      "You are not eligible for loan as per our criteria\n"
     ]
    }
   ],
   "source": [
    "Age = int(input(\"What's your age?: \"))\n",
    "\n",
    "if Age >= 18:\n",
    "    Credit_Score = int(input(\"What's your credit score?: \"))\n",
    "    Income = float(input(\"How much you earn annually?(USD): \"))\n",
    "    if Credit_Score >= 650 and Income >= 30000:\n",
    "        print(\"You are eligible for loan\")\n",
    "    elif Credit_Score >= 700 and Income >= 25000:\n",
    "        print(\"You are also eligible for loan\")\n",
    "    else:\n",
    "        print(\"You are not eligible for loan as per our criteria\")\n",
    "else:\n",
    "    print(\"You are not eligible for loan due to underage\")"
   ]
  },
  {
   "cell_type": "markdown",
   "id": "be7a40ad-0c31-4cc4-8db2-d4b33977b6d9",
   "metadata": {},
   "source": [
    "Q2. Write a Python program that checks if a person is an adult (age ≥ 18).\n",
    "\n",
    "Take the age as input.\n",
    "If the person is underage (age < 18), show message: \"You are underage\" and don't ask for experience.\n",
    "\n",
    "If the person is an adult, take years of experience as input and print:\n",
    "\"You have a lot of experience.\" (10+ years)\n",
    "\"You have moderate experience.\" (5-9 years)\n",
    "\"You are relatively new.\" (2-4 years)\n",
    "\"You are just starting out.\" (less than 2 years)"
   ]
  },
  {
   "cell_type": "code",
   "execution_count": 2,
   "id": "e876ac30-1a42-44bd-b1a2-c46b81091f2f",
   "metadata": {},
   "outputs": [
    {
     "name": "stdin",
     "output_type": "stream",
     "text": [
      "What's your age?:  18\n",
      "Years of experience?:  2\n"
     ]
    },
    {
     "name": "stdout",
     "output_type": "stream",
     "text": [
      "You are relatively new\n"
     ]
    }
   ],
   "source": [
    "Age = int(input(\"What's your age?: \"))\n",
    "\n",
    "if Age >= 18:\n",
    "    Experience = int(input(\"Years of experience?: \"))\n",
    "    if Experience >= 10:\n",
    "        print(\"You have a lot of experience\")\n",
    "    elif Experience >= 5 and Experience <= 9:\n",
    "        print(\"You have moderate of experience\")\n",
    "    elif Experience >= 2 and Experience <= 4:\n",
    "        print(\"You are relatively new\")\n",
    "    else:\n",
    "        print(\"You are are just starting out\")\n",
    "else:\n",
    "    print(\"You are underage\")"
   ]
  },
  {
   "cell_type": "markdown",
   "id": "e5448859-76e5-4005-8a49-d96d7f6bcb91",
   "metadata": {},
   "source": [
    "Q3. Write a program to explore below variables\n",
    "\n",
    "a) Print their memory address (to check if python assigns same address of different variables having same element)\n",
    "b) Find memory size and append them in a list, use this list to find data type having least memory size\n",
    "c) Print final name of data type which has lowest memory\n",
    "Result will help a programmer to decide which variable is storing less memory and variable locations"
   ]
  },
  {
   "cell_type": "code",
   "execution_count": 5,
   "id": "6e28ceaf-36cb-45fd-9126-e0aa1d2e4e81",
   "metadata": {},
   "outputs": [
    {
     "name": "stdout",
     "output_type": "stream",
     "text": [
      "Memory address of Variable_One: 140734687162328\n",
      "Memory address of Variable_Two: 140734687167128\n",
      "Memory address of Variable_Three: 2539123837360\n",
      "Memory address of Variable_Four: 2539123933328\n"
     ]
    }
   ],
   "source": [
    "Variable_One = 50\n",
    "Variable_Two = 200\n",
    "Variable_Three = 50.0 \n",
    "Variable_Four = \"Hello\"\n",
    "print(\"Memory address of Variable_One:\", id(Variable_One))\n",
    "print(\"Memory address of Variable_Two:\", id(Variable_Two))\n",
    "print(\"Memory address of Variable_Three:\", id(Variable_Three))\n",
    "print(\"Memory address of Variable_Four:\", id(Variable_Four))"
   ]
  },
  {
   "cell_type": "code",
   "execution_count": 8,
   "id": "7cb65bb7-0476-4a8a-a35e-eec0f532d66d",
   "metadata": {},
   "outputs": [
    {
     "name": "stdout",
     "output_type": "stream",
     "text": [
      "28 bytes\n",
      "28 bytes\n",
      "24 bytes\n",
      "46 bytes\n"
     ]
    }
   ],
   "source": [
    "import sys\n",
    "# sys.getsizeof()\n",
    "\n",
    "memory = \"bytes\"\n",
    "\n",
    "One = Variable_One\n",
    "print(sys.getsizeof(One),memory)\n",
    "\n",
    "Two = Variable_Two\n",
    "print(sys.getsizeof(Two),memory)\n",
    "\n",
    "Three = Variable_Three\n",
    "print(sys.getsizeof(Three),memory)\n",
    "\n",
    "Four = Variable_Four\n",
    "print(sys.getsizeof(Four),memory)"
   ]
  },
  {
   "cell_type": "code",
   "execution_count": 9,
   "id": "55a883e1-86c9-4e1a-9a21-2f8e1f163e15",
   "metadata": {},
   "outputs": [],
   "source": [
    "memory_sizes = [\n",
    "    (sys.getsizeof(Variable_One)),\n",
    "    (sys.getsizeof(Variable_Two)),\n",
    "    (sys.getsizeof(Variable_Three)),\n",
    "    (sys.getsizeof(Variable_Four)),\n",
    "]"
   ]
  },
  {
   "cell_type": "code",
   "execution_count": 10,
   "id": "cb792aaf-b8dc-41d2-b2e3-e4d517ec1c71",
   "metadata": {},
   "outputs": [
    {
     "data": {
      "text/plain": [
       "[28, 28, 24, 46]"
      ]
     },
     "execution_count": 10,
     "metadata": {},
     "output_type": "execute_result"
    }
   ],
   "source": [
    "memory_sizes"
   ]
  },
  {
   "cell_type": "code",
   "execution_count": 11,
   "id": "0ed094d0-e66a-4680-a35b-f9766bdd268d",
   "metadata": {},
   "outputs": [
    {
     "data": {
      "text/plain": [
       "24"
      ]
     },
     "execution_count": 11,
     "metadata": {},
     "output_type": "execute_result"
    }
   ],
   "source": [
    "min(memory_sizes)"
   ]
  },
  {
   "cell_type": "code",
   "execution_count": 12,
   "id": "2e12145a-f54d-45f3-ae86-bf91b4e8ecbe",
   "metadata": {},
   "outputs": [
    {
     "data": {
      "text/plain": [
       "float"
      ]
     },
     "execution_count": 12,
     "metadata": {},
     "output_type": "execute_result"
    }
   ],
   "source": [
    "type(Variable_Three)"
   ]
  },
  {
   "cell_type": "markdown",
   "id": "c6b2631e-779c-4365-89ba-405d39d0d537",
   "metadata": {},
   "source": [
    "Q4. Write a Python program that asks the user to enter an email address. The program should check if the email\n",
    "contains the characters @ and \".\" (ignoring case). If either character is present, print \"Email format is valid.\"\n",
    "Otherwise, print \"Invalid email format.\""
   ]
  },
  {
   "cell_type": "code",
   "execution_count": 14,
   "id": "713d1417-8dbd-4a4d-b3af-3866da9915f8",
   "metadata": {},
   "outputs": [
    {
     "name": "stdin",
     "output_type": "stream",
     "text": [
      "Enter your email address here:  mnk@gmail.com\n"
     ]
    },
    {
     "name": "stdout",
     "output_type": "stream",
     "text": [
      "Email format is Valid\n"
     ]
    }
   ],
   "source": [
    "email = input(\"Enter your email address here: \")\n",
    "\n",
    "if \"@\" in email or \".\" in email:\n",
    "    print(\"Email format is Valid\")\n",
    "else:\n",
    "    print(\"Invalid Email format\")"
   ]
  },
  {
   "cell_type": "markdown",
   "id": "ad5f921d-4935-4e54-8ffc-62cde9c2e20b",
   "metadata": {},
   "source": [
    "Q5. Write a python program to know data type of each element stored in a tuple, append the data types in a list.\n",
    "Show final output in a list as data types of tuple elements. x = (11,22.333,\"apple\",[1,2,3],(\"a\",\"b\"))"
   ]
  },
  {
   "cell_type": "code",
   "execution_count": 15,
   "id": "98a74aa3-ff88-4325-801f-1b2133ce4f59",
   "metadata": {},
   "outputs": [],
   "source": [
    "my_tuple = (11, 22.333, 'apple', [1,2,3], ('a','b'))"
   ]
  },
  {
   "cell_type": "code",
   "execution_count": 16,
   "id": "2e915991-fc37-480a-9c02-2ba9016dff71",
   "metadata": {},
   "outputs": [],
   "source": [
    "type1 = type(my_tuple[0])\n",
    "type2 = type(my_tuple[1])\n",
    "type3 = type(my_tuple[2])\n",
    "type4 = type(my_tuple[3])\n",
    "type5 = type(my_tuple[4])"
   ]
  },
  {
   "cell_type": "code",
   "execution_count": 17,
   "id": "8318d560-fae7-4068-b24b-9d963f47200c",
   "metadata": {},
   "outputs": [],
   "source": [
    "data_types = [type1, type2, type3, type4, type5]"
   ]
  },
  {
   "cell_type": "code",
   "execution_count": 18,
   "id": "8cbc6fc4-d773-4e5b-900b-7b040d4f2802",
   "metadata": {},
   "outputs": [
    {
     "name": "stdout",
     "output_type": "stream",
     "text": [
      "Data types of tuple elements: [<class 'int'>, <class 'float'>, <class 'str'>, <class 'list'>, <class 'tuple'>]\n"
     ]
    }
   ],
   "source": [
    "print(\"Data types of tuple elements:\", data_types)"
   ]
  },
  {
   "cell_type": "markdown",
   "id": "5b581ba5-3ed6-46c5-b8be-626443b73eb8",
   "metadata": {},
   "source": [
    "Q6. Write a Python program that:\n",
    "Check if a given username exists in a list of active users.\n",
    "Verifies if the user is the admin using identity operators.\n",
    "Hints:\n",
    "Use a list of tuples where each tuple contains a username and role\n",
    "[(\"alice\", \"admin\"), (\"bob\", \"user\"), (\"charlie\", \"moderator\")]\n",
    "Use the in operator to check if the username exists in the list.\n",
    "Use the is operator to check if the user is the admin (admin is a specific reference, e.g., (\"alice\", \"admin\"))."
   ]
  },
  {
   "cell_type": "code",
   "execution_count": 20,
   "id": "e669defd-3d0a-4229-9c94-6eeebfb7734a",
   "metadata": {},
   "outputs": [
    {
     "name": "stdin",
     "output_type": "stream",
     "text": [
      "Enter username to check:  alice\n"
     ]
    },
    {
     "name": "stdout",
     "output_type": "stream",
     "text": [
      "The username exists in the active users list.\n",
      "The user is the admin.\n"
     ]
    }
   ],
   "source": [
    "active_users = [(\"alice\", \"admin\"), (\"bob\", \"user\"), (\"charlie\", \"moderator\")]\n",
    "\n",
    "admin_user = (\"alice\", \"admin\")\n",
    "\n",
    "user_input = input(\"Enter username to check: \")\n",
    "\n",
    "user_exists = (user_input, \"admin\") in active_users or (user_input, \"user\") in active_users or (user_input, \"moderator\") in active_users\n",
    "\n",
    "if user_exists:\n",
    "    print(\"The username exists in the active users list.\")\n",
    "    if (user_input, \"admin\") in active_users:\n",
    "        print(\"The user is the admin.\")\n",
    "    else:\n",
    "        print(\"The user is not the admin.\")\n",
    "else:\n",
    "    print(\"The username does not exist in the active users list.\")"
   ]
  },
  {
   "cell_type": "markdown",
   "id": "58cf5873-7a0b-47b2-970a-773451229c6c",
   "metadata": {},
   "source": [
    "Q7. person1 has same family as of person2, write a program to print relation between person1 and person2, if their\n",
    "data is [\"father name\",\"mother name\",\"district\",\"family number\"] same (Print relation \"Siblings\") also check person1\n",
    "data with person3 which is cousin of person1 (Print relation \"Cousin\") Hint: Use identity operator"
   ]
  },
  {
   "cell_type": "code",
   "execution_count": 21,
   "id": "530a61c6-9fd7-4ee3-8833-1b4674ce9d85",
   "metadata": {},
   "outputs": [
    {
     "name": "stdout",
     "output_type": "stream",
     "text": [
      "2539138651712\n",
      "2539138651712\n",
      "2539138551296\n",
      "True\n"
     ]
    }
   ],
   "source": [
    "person1 = ['Shehzad','Shama','Shah Faisal','5555'] \n",
    "\n",
    "person2 = person1\n",
    "\n",
    "person3 = ['Zaki','Sahera','Nazimabad','9999']\n",
    "\n",
    "print(id(person1))\n",
    "print(id(person2))\n",
    "print(id(person3))\n",
    "print(person1 is person2)"
   ]
  },
  {
   "cell_type": "code",
   "execution_count": 22,
   "id": "2b3bcfe0-4e66-4502-a6bf-b2451b6a070d",
   "metadata": {},
   "outputs": [
    {
     "name": "stdout",
     "output_type": "stream",
     "text": [
      "Relation: Siblings\n"
     ]
    }
   ],
   "source": [
    "if person1 is person2:\n",
    "  print(\"Relation: Siblings\")\n",
    "else:\n",
    "    print(\"Relation: Not Siblings\")"
   ]
  },
  {
   "cell_type": "code",
   "execution_count": 23,
   "id": "4889b0bb-a137-4725-8a3d-38acaad2de89",
   "metadata": {},
   "outputs": [
    {
     "name": "stdout",
     "output_type": "stream",
     "text": [
      "Relation: Not Cousin\n"
     ]
    }
   ],
   "source": [
    "if person1 is person3:\n",
    "  print(\"Relation: Cousin\")\n",
    "else:\n",
    "    print(\"Relation: Not Cousin\")"
   ]
  },
  {
   "cell_type": "markdown",
   "id": "0ea21acd-d10f-4597-9e4d-fb447edac948",
   "metadata": {},
   "source": [
    "Q8. Write a Python program to store and display a book's title, author, year of publication, and price using a tuple.\n",
    "Instructions:\n",
    "Create a tuple to store the book details.\n",
    "Ask the user for the book's title, author, year, and price.\n",
    "Display the stored book information."
   ]
  },
  {
   "cell_type": "code",
   "execution_count": 24,
   "id": "f198e8ee-6c01-4217-a848-9957fed14d75",
   "metadata": {},
   "outputs": [
    {
     "name": "stdin",
     "output_type": "stream",
     "text": [
      "Enter the book's title:  Intro to python\n",
      "Enter the author's name:  Ms. Khushboo Saleem\n",
      "Enter the year of publication:  2023\n",
      "Enter the book's price:  999.99\n"
     ]
    },
    {
     "name": "stdout",
     "output_type": "stream",
     "text": [
      "('Intro to python', 'Ms. Khushboo Saleem', 2023, 999.99)\n"
     ]
    }
   ],
   "source": [
    "title = input(\"Enter the book's title: \")\n",
    "author = input(\"Enter the author's name: \")\n",
    "year = int(input(\"Enter the year of publication: \"))\n",
    "price = float(input(\"Enter the book's price: \"))\n",
    "\n",
    "book_info = (title, author, year, price)\n",
    "print(book_info)"
   ]
  },
  {
   "cell_type": "markdown",
   "id": "edb8a6c2-f5be-4b10-835d-79ff677e2441",
   "metadata": {},
   "source": [
    "Q9. Write a program to check if a user’s chosen subject is available in the list of offered subjects.\n",
    "Instructions:\n",
    "Given a list of subjects, ask the user to input a subject.\n",
    "Display whether the subject is available or not."
   ]
  },
  {
   "cell_type": "code",
   "execution_count": 29,
   "id": "51b5f4f0-ea0a-4e91-8582-fe4a498178f2",
   "metadata": {},
   "outputs": [
    {
     "name": "stdin",
     "output_type": "stream",
     "text": [
      "Subject Name:  Ethics\n"
     ]
    },
    {
     "name": "stdout",
     "output_type": "stream",
     "text": [
      "Subject is available\n"
     ]
    }
   ],
   "source": [
    "Input = input(\"Subject Name: \")\n",
    "\n",
    "Offered_Subjects = [\"Mathematics\", \"Science\", \"History\", \"Geography\", \"English\", \"Urdu\", \"Ethics\"]\n",
    "\n",
    "if Input in Offered_Subjects:\n",
    "    print(\"Subject is available\")\n",
    "else:\n",
    "    print(\"Subject is not available\")"
   ]
  },
  {
   "cell_type": "markdown",
   "id": "811001de-0fff-47aa-8f89-55108f4e6df0",
   "metadata": {},
   "source": [
    "Q10. Write a Python program that performs the following tasks using tuple methods\n",
    "Create a tuple with multiple integer values, including duplicates.\n",
    "Prompt the user to input a number and find the index of its first occurrence in the tuple.\n",
    "Ask the user for another number and count how many times it appears in the tuple.\n",
    "Display appropriate messages based on the results"
   ]
  },
  {
   "cell_type": "code",
   "execution_count": 36,
   "id": "22693236-3f53-47d5-afbd-73ff05727ffc",
   "metadata": {},
   "outputs": [
    {
     "name": "stdin",
     "output_type": "stream",
     "text": [
      "Put a number, please:  15\n"
     ]
    },
    {
     "name": "stdout",
     "output_type": "stream",
     "text": [
      "Index of its first occurrence of 15 in the tuple is 7.\n"
     ]
    },
    {
     "name": "stdin",
     "output_type": "stream",
     "text": [
      "One more, please:  20\n"
     ]
    },
    {
     "name": "stdout",
     "output_type": "stream",
     "text": [
      "20 appears 2 Times in the tuple.\n"
     ]
    }
   ],
   "source": [
    "Tuple = (0,4,8,12,16,20,10,15,20)\n",
    "\n",
    "Input_1 = int(input(\"Put a number, please: \"))\n",
    "if Input_1 in Tuple:\n",
    "    index = Tuple.index(Input_1)\n",
    "    print(f\"Index of its first occurrence of {Input_1} in the tuple is {index}.\")\n",
    "else:\n",
    "    print(f\"Number {Input_1} is not available in the tuple.\")\n",
    "    \n",
    "Input_2 = int(input(\"One more, please: \"))\n",
    "count = Tuple.count(Input_2)\n",
    "print(f\"{Input_2} appears {count} Times in the tuple.\")"
   ]
  },
  {
   "cell_type": "markdown",
   "id": "1508e952-6dc9-49e0-a142-207553500348",
   "metadata": {},
   "source": [
    "Question: Write a Python program that asks the user to enter the current temperature in Celsius and checks whether it's\n",
    "freezing, normal, or hot based on predefined temperature values.\"\n",
    "Assignment Requirements:\n",
    "Input: The user will be asked to enter the current temperature in Celsius.\n",
    "Predefined values:\n",
    "Freezing: -5\n",
    "Normal: 25\n",
    "Hot: 40"
   ]
  },
  {
   "cell_type": "code",
   "execution_count": 39,
   "id": "14110384-cb85-41ee-8fce-9ed502f0a0d5",
   "metadata": {},
   "outputs": [
    {
     "name": "stdin",
     "output_type": "stream",
     "text": [
      "What temperature you're feeling right now? (Celsius):  -6\n"
     ]
    },
    {
     "name": "stdout",
     "output_type": "stream",
     "text": [
      "Freezing\n"
     ]
    }
   ],
   "source": [
    "Temperature = int(input(\"What temperature you're feeling right now? (Celsius): \"))\n",
    "\n",
    "if Temperature <= -5:\n",
    "    print(\"Freezing\")\n",
    "elif -5 < Temperature <= 25:\n",
    "    print(\"Normal\")\n",
    "elif Temperature > 25:\n",
    "    print(\"Hot\")"
   ]
  },
  {
   "cell_type": "code",
   "execution_count": null,
   "id": "cd823884-80a5-438c-9cbd-631cc083b7e3",
   "metadata": {},
   "outputs": [],
   "source": []
  }
 ],
 "metadata": {
  "kernelspec": {
   "display_name": "Python 3 (ipykernel)",
   "language": "python",
   "name": "python3"
  },
  "language_info": {
   "codemirror_mode": {
    "name": "ipython",
    "version": 3
   },
   "file_extension": ".py",
   "mimetype": "text/x-python",
   "name": "python",
   "nbconvert_exporter": "python",
   "pygments_lexer": "ipython3",
   "version": "3.12.7"
  }
 },
 "nbformat": 4,
 "nbformat_minor": 5
}
