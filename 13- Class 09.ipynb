{
 "cells": [
  {
   "cell_type": "markdown",
   "id": "4d121d20-69f2-4c0f-a173-1b6342fb3de4",
   "metadata": {},
   "source": [
    "## Tuple ()"
   ]
  },
  {
   "cell_type": "code",
   "execution_count": 1,
   "id": "c166ccb6-44aa-42ef-b3ed-1e6c5af19473",
   "metadata": {},
   "outputs": [
    {
     "data": {
      "text/plain": [
       "(1, 3, 4, 6)"
      ]
     },
     "execution_count": 1,
     "metadata": {},
     "output_type": "execute_result"
    }
   ],
   "source": [
    "# Concatenation\n",
    "a = (1,3)\n",
    "b = (4,6)\n",
    "c = a + b\n",
    "c"
   ]
  },
  {
   "cell_type": "code",
   "execution_count": 2,
   "id": "2c953ebd-4098-44ed-97b9-84ef1c552a32",
   "metadata": {},
   "outputs": [
    {
     "data": {
      "text/plain": [
       "(1, 4, 7, 6)"
      ]
     },
     "execution_count": 2,
     "metadata": {},
     "output_type": "execute_result"
    }
   ],
   "source": [
    "# Concatenation #unordered\n",
    "a = (1,4)\n",
    "b = (7,6)\n",
    "c = a + b\n",
    "c"
   ]
  },
  {
   "cell_type": "code",
   "execution_count": 3,
   "id": "4540167b-8c40-46c0-ba4d-63327c9a3fd3",
   "metadata": {},
   "outputs": [
    {
     "data": {
      "text/plain": [
       "(1, 2, 3, 'c', 1, 2, 3, 'c')"
      ]
     },
     "execution_count": 3,
     "metadata": {},
     "output_type": "execute_result"
    }
   ],
   "source": [
    "# Repetition\n",
    "a=(1,2,3,'c')*2\n",
    "a"
   ]
  },
  {
   "cell_type": "code",
   "execution_count": 4,
   "id": "ea8e9a46-8eb4-444c-aa75-86aa3f5e9b85",
   "metadata": {},
   "outputs": [
    {
     "ename": "TypeError",
     "evalue": "can only concatenate tuple (not \"int\") to tuple",
     "output_type": "error",
     "traceback": [
      "\u001b[1;31m---------------------------------------------------------------------------\u001b[0m",
      "\u001b[1;31mTypeError\u001b[0m                                 Traceback (most recent call last)",
      "Cell \u001b[1;32mIn[4], line 1\u001b[0m\n\u001b[1;32m----> 1\u001b[0m a\u001b[38;5;241m=\u001b[39m(\u001b[38;5;241m1\u001b[39m,\u001b[38;5;241m2\u001b[39m,\u001b[38;5;241m3\u001b[39m,\u001b[38;5;124m'\u001b[39m\u001b[38;5;124mc\u001b[39m\u001b[38;5;124m'\u001b[39m)\u001b[38;5;241m+\u001b[39m\u001b[38;5;241m2\u001b[39m\n\u001b[0;32m      2\u001b[0m a\n",
      "\u001b[1;31mTypeError\u001b[0m: can only concatenate tuple (not \"int\") to tuple"
     ]
    }
   ],
   "source": [
    "a=(1,2,3,'c')+2\n",
    "a"
   ]
  },
  {
   "cell_type": "code",
   "execution_count": 5,
   "id": "870fbd27-de38-46ff-b6bd-98c14c2bac44",
   "metadata": {},
   "outputs": [
    {
     "ename": "TypeError",
     "evalue": "unsupported operand type(s) for -: 'tuple' and 'int'",
     "output_type": "error",
     "traceback": [
      "\u001b[1;31m---------------------------------------------------------------------------\u001b[0m",
      "\u001b[1;31mTypeError\u001b[0m                                 Traceback (most recent call last)",
      "Cell \u001b[1;32mIn[5], line 1\u001b[0m\n\u001b[1;32m----> 1\u001b[0m a\u001b[38;5;241m=\u001b[39m(\u001b[38;5;241m1\u001b[39m,\u001b[38;5;241m2\u001b[39m,\u001b[38;5;241m3\u001b[39m)\u001b[38;5;241m-\u001b[39m\u001b[38;5;241m2\u001b[39m\n\u001b[0;32m      2\u001b[0m a\n",
      "\u001b[1;31mTypeError\u001b[0m: unsupported operand type(s) for -: 'tuple' and 'int'"
     ]
    }
   ],
   "source": [
    "a=(1,2,3)-2\n",
    "a"
   ]
  },
  {
   "cell_type": "code",
   "execution_count": 6,
   "id": "50d272c6-47d2-4492-bc01-714411bed2b2",
   "metadata": {},
   "outputs": [
    {
     "ename": "TypeError",
     "evalue": "unsupported operand type(s) for -: 'tuple' and 'tuple'",
     "output_type": "error",
     "traceback": [
      "\u001b[1;31m---------------------------------------------------------------------------\u001b[0m",
      "\u001b[1;31mTypeError\u001b[0m                                 Traceback (most recent call last)",
      "Cell \u001b[1;32mIn[6], line 1\u001b[0m\n\u001b[1;32m----> 1\u001b[0m a\u001b[38;5;241m=\u001b[39m(\u001b[38;5;241m1\u001b[39m,\u001b[38;5;241m2\u001b[39m,\u001b[38;5;241m3\u001b[39m)\u001b[38;5;241m-\u001b[39m(\u001b[38;5;241m1\u001b[39m,\u001b[38;5;241m3\u001b[39m,\u001b[38;5;241m6\u001b[39m)\n\u001b[0;32m      2\u001b[0m a\n",
      "\u001b[1;31mTypeError\u001b[0m: unsupported operand type(s) for -: 'tuple' and 'tuple'"
     ]
    }
   ],
   "source": [
    "a=(1,2,3)-(1,3,6)\n",
    "a"
   ]
  },
  {
   "cell_type": "code",
   "execution_count": 7,
   "id": "9a799e4a-cb66-4ac8-9295-8a60fe07ec18",
   "metadata": {},
   "outputs": [
    {
     "ename": "TypeError",
     "evalue": "unsupported operand type(s) for -: 'tuple' and 'tuple'",
     "output_type": "error",
     "traceback": [
      "\u001b[1;31m---------------------------------------------------------------------------\u001b[0m",
      "\u001b[1;31mTypeError\u001b[0m                                 Traceback (most recent call last)",
      "Cell \u001b[1;32mIn[7], line 1\u001b[0m\n\u001b[1;32m----> 1\u001b[0m a\u001b[38;5;241m=\u001b[39m(\u001b[38;5;241m1\u001b[39m,\u001b[38;5;241m2\u001b[39m,\u001b[38;5;241m3\u001b[39m)\u001b[38;5;241m-\u001b[39m(\u001b[38;5;241m1\u001b[39m,\u001b[38;5;241m2\u001b[39m,\u001b[38;5;241m3\u001b[39m)\n\u001b[0;32m      2\u001b[0m a\n",
      "\u001b[1;31mTypeError\u001b[0m: unsupported operand type(s) for -: 'tuple' and 'tuple'"
     ]
    }
   ],
   "source": [
    "a=(1,2,3)-(1,2,3)\n",
    "a"
   ]
  },
  {
   "cell_type": "code",
   "execution_count": 8,
   "id": "6a011fa1-c354-4d44-91bc-b910b31492d1",
   "metadata": {},
   "outputs": [
    {
     "ename": "TypeError",
     "evalue": "'tuple' object does not support item assignment",
     "output_type": "error",
     "traceback": [
      "\u001b[1;31m---------------------------------------------------------------------------\u001b[0m",
      "\u001b[1;31mTypeError\u001b[0m                                 Traceback (most recent call last)",
      "Cell \u001b[1;32mIn[8], line 3\u001b[0m\n\u001b[0;32m      1\u001b[0m \u001b[38;5;66;03m#immutability\u001b[39;00m\n\u001b[0;32m      2\u001b[0m a\u001b[38;5;241m=\u001b[39m(\u001b[38;5;241m1\u001b[39m,\u001b[38;5;241m2\u001b[39m,\u001b[38;5;241m4\u001b[39m,\u001b[38;5;241m5\u001b[39m)\n\u001b[1;32m----> 3\u001b[0m a[\u001b[38;5;241m1\u001b[39m]\u001b[38;5;241m=\u001b[39m\u001b[38;5;124m'\u001b[39m\u001b[38;5;124mabc\u001b[39m\u001b[38;5;124m'\u001b[39m\n",
      "\u001b[1;31mTypeError\u001b[0m: 'tuple' object does not support item assignment"
     ]
    }
   ],
   "source": [
    "#immutability\n",
    "a=(1,2,4,5)\n",
    "a[1]='abc'"
   ]
  },
  {
   "cell_type": "code",
   "execution_count": 9,
   "id": "af193dc5-5ba5-46dd-8df1-06d92bcf5ce7",
   "metadata": {},
   "outputs": [
    {
     "ename": "TypeError",
     "evalue": "'tuple' object does not support item assignment",
     "output_type": "error",
     "traceback": [
      "\u001b[1;31m---------------------------------------------------------------------------\u001b[0m",
      "\u001b[1;31mTypeError\u001b[0m                                 Traceback (most recent call last)",
      "Cell \u001b[1;32mIn[9], line 3\u001b[0m\n\u001b[0;32m      1\u001b[0m \u001b[38;5;66;03m#immutability\u001b[39;00m\n\u001b[0;32m      2\u001b[0m a\u001b[38;5;241m=\u001b[39m(\u001b[38;5;241m1\u001b[39m,\u001b[38;5;241m2\u001b[39m,\u001b[38;5;241m4\u001b[39m,\u001b[38;5;241m5\u001b[39m)\n\u001b[1;32m----> 3\u001b[0m a[\u001b[38;5;241m-\u001b[39m\u001b[38;5;241m1\u001b[39m]\u001b[38;5;241m=\u001b[39m\u001b[38;5;124m'\u001b[39m\u001b[38;5;124mabc\u001b[39m\u001b[38;5;124m'\u001b[39m\n",
      "\u001b[1;31mTypeError\u001b[0m: 'tuple' object does not support item assignment"
     ]
    }
   ],
   "source": [
    "#immutability\n",
    "a=(1,2,4,5)\n",
    "a[-1]='abc'"
   ]
  },
  {
   "cell_type": "code",
   "execution_count": 98,
   "id": "e42c2fe7-f6eb-4a2d-962e-0975c372029f",
   "metadata": {},
   "outputs": [
    {
     "data": {
      "text/plain": [
       "[1, 2, 4]"
      ]
     },
     "execution_count": 98,
     "metadata": {},
     "output_type": "execute_result"
    }
   ],
   "source": [
    "# Access List\n",
    "a=(1,2,4,5,[1,2,4])\n",
    "a[4]"
   ]
  },
  {
   "cell_type": "code",
   "execution_count": 99,
   "id": "9f642d6d-b168-48ee-bccd-5a35051f8b54",
   "metadata": {},
   "outputs": [
    {
     "data": {
      "text/plain": [
       "'b'"
      ]
     },
     "execution_count": 99,
     "metadata": {},
     "output_type": "execute_result"
    }
   ],
   "source": [
    "a=(1,2,4,5,[1,'b',4])\n",
    "a[4][1]"
   ]
  },
  {
   "cell_type": "code",
   "execution_count": 100,
   "id": "f9730f01-4205-4305-9082-48fde95855e9",
   "metadata": {},
   "outputs": [
    {
     "data": {
      "text/plain": [
       "(1, 2, 4, 5, [1, 'x', 4])"
      ]
     },
     "execution_count": 100,
     "metadata": {},
     "output_type": "execute_result"
    }
   ],
   "source": [
    "a=(1,2,4,5,[1,'b',4])\n",
    "a[4][1]='x'\n",
    "a"
   ]
  },
  {
   "cell_type": "code",
   "execution_count": 101,
   "id": "c22d152f-efe0-4c54-bd7e-2f2a3d97e98f",
   "metadata": {},
   "outputs": [
    {
     "ename": "TypeError",
     "evalue": "'tuple' object does not support item assignment",
     "output_type": "error",
     "traceback": [
      "\u001b[1;31m---------------------------------------------------------------------------\u001b[0m",
      "\u001b[1;31mTypeError\u001b[0m                                 Traceback (most recent call last)",
      "Cell \u001b[1;32mIn[101], line 2\u001b[0m\n\u001b[0;32m      1\u001b[0m a\u001b[38;5;241m=\u001b[39m(\u001b[38;5;241m1\u001b[39m,\u001b[38;5;241m2\u001b[39m,\u001b[38;5;241m4\u001b[39m,\u001b[38;5;241m5\u001b[39m)\n\u001b[1;32m----> 2\u001b[0m a[\u001b[38;5;241m2\u001b[39m]\u001b[38;5;241m=\u001b[39m\u001b[38;5;124m'\u001b[39m\u001b[38;5;124mx\u001b[39m\u001b[38;5;124m'\u001b[39m\n",
      "\u001b[1;31mTypeError\u001b[0m: 'tuple' object does not support item assignment"
     ]
    }
   ],
   "source": [
    "a=(1,2,4,5)\n",
    "a[2]='x'"
   ]
  },
  {
   "cell_type": "code",
   "execution_count": 14,
   "id": "ecaac3b8-eef0-42b0-8f4f-8a624d3aaae4",
   "metadata": {},
   "outputs": [
    {
     "data": {
      "text/plain": [
       "(1, (2, 3), (4, 5, 6))"
      ]
     },
     "execution_count": 14,
     "metadata": {},
     "output_type": "execute_result"
    }
   ],
   "source": [
    "#nested tuple\n",
    "nested_tuple = (1, (2, 3), (4, 5, 6))\n",
    "nested_tuple"
   ]
  },
  {
   "cell_type": "code",
   "execution_count": 1,
   "id": "19df1570-5a84-47f7-9532-d2fbac9b4baf",
   "metadata": {},
   "outputs": [
    {
     "data": {
      "text/plain": [
       "'b'"
      ]
     },
     "execution_count": 1,
     "metadata": {},
     "output_type": "execute_result"
    }
   ],
   "source": [
    "a = (1,2,('a','b'),7,8)\n",
    "a[2][1]"
   ]
  },
  {
   "cell_type": "code",
   "execution_count": 2,
   "id": "3e1eb75f-39d8-4449-a06b-e3f96ee22cf7",
   "metadata": {},
   "outputs": [
    {
     "ename": "TypeError",
     "evalue": "'tuple' object does not support item assignment",
     "output_type": "error",
     "traceback": [
      "\u001b[1;31m---------------------------------------------------------------------------\u001b[0m",
      "\u001b[1;31mTypeError\u001b[0m                                 Traceback (most recent call last)",
      "Cell \u001b[1;32mIn[2], line 1\u001b[0m\n\u001b[1;32m----> 1\u001b[0m a[\u001b[38;5;241m2\u001b[39m][\u001b[38;5;241m1\u001b[39m]\u001b[38;5;241m=\u001b[39m \u001b[38;5;124m'\u001b[39m\u001b[38;5;124mx\u001b[39m\u001b[38;5;124m'\u001b[39m\n",
      "\u001b[1;31mTypeError\u001b[0m: 'tuple' object does not support item assignment"
     ]
    }
   ],
   "source": [
    "a[2][1]= 'x'"
   ]
  },
  {
   "cell_type": "markdown",
   "id": "35620571-40e5-4354-b794-7602f5655655",
   "metadata": {},
   "source": [
    "## Packing and Unpacking in Tuples"
   ]
  },
  {
   "cell_type": "markdown",
   "id": "d81dee99-07d2-49ea-8ed7-e32f3a195b9c",
   "metadata": {},
   "source": [
    "Packing refers to the process of combining multiple values into a tuple, and Unpacking is extracting those values back from the tuple into individual variables."
   ]
  },
  {
   "cell_type": "code",
   "execution_count": 110,
   "id": "6554b180-0b19-4383-81b2-c855aa454062",
   "metadata": {},
   "outputs": [
    {
     "data": {
      "text/plain": [
       "('John', 25, 'Software Engineer')"
      ]
     },
     "execution_count": 110,
     "metadata": {},
     "output_type": "execute_result"
    }
   ],
   "source": [
    "# #packing\n",
    "person_info = (\"John\", 25, \"Software Engineer\")\n",
    "person_info"
   ]
  },
  {
   "cell_type": "code",
   "execution_count": 111,
   "id": "7a320f22-b1c4-4000-b752-669939c2adf3",
   "metadata": {},
   "outputs": [],
   "source": [
    "#unpacking\n",
    "name, age, job = person_info\n",
    "# name\n",
    "# age\n",
    "# job"
   ]
  },
  {
   "cell_type": "code",
   "execution_count": 112,
   "id": "25a96e06-cbad-40d4-8c65-100af106616f",
   "metadata": {},
   "outputs": [
    {
     "data": {
      "text/plain": [
       "'John'"
      ]
     },
     "execution_count": 112,
     "metadata": {},
     "output_type": "execute_result"
    }
   ],
   "source": [
    "#unpacking\n",
    "name, age, job = person_info\n",
    "name\n",
    "# age\n",
    "# job"
   ]
  },
  {
   "cell_type": "code",
   "execution_count": 113,
   "id": "dd44d8eb-1adb-486b-b097-32bd5b1ee425",
   "metadata": {},
   "outputs": [
    {
     "data": {
      "text/plain": [
       "25"
      ]
     },
     "execution_count": 113,
     "metadata": {},
     "output_type": "execute_result"
    }
   ],
   "source": [
    "#unpacking\n",
    "name, age, job = person_info\n",
    "# name\n",
    "age\n",
    "# job"
   ]
  },
  {
   "cell_type": "code",
   "execution_count": 114,
   "id": "3b03daf1-e3f7-4061-9a13-31d96f832fb2",
   "metadata": {},
   "outputs": [
    {
     "data": {
      "text/plain": [
       "'Software Engineer'"
      ]
     },
     "execution_count": 114,
     "metadata": {},
     "output_type": "execute_result"
    }
   ],
   "source": [
    "#unpacking\n",
    "name, age, job = person_info\n",
    "# name\n",
    "# age\n",
    "job"
   ]
  },
  {
   "cell_type": "code",
   "execution_count": 115,
   "id": "11742d67-57bc-499a-9ed3-173554153a35",
   "metadata": {},
   "outputs": [
    {
     "data": {
      "text/plain": [
       "('John', 25, 'Software Engineer')"
      ]
     },
     "execution_count": 115,
     "metadata": {},
     "output_type": "execute_result"
    }
   ],
   "source": [
    "person_info"
   ]
  },
  {
   "cell_type": "code",
   "execution_count": 116,
   "id": "ead27837-dcd0-4de1-91f8-ca4199327884",
   "metadata": {},
   "outputs": [
    {
     "data": {
      "text/plain": [
       "('John', 'Software Engineer', 25)"
      ]
     },
     "execution_count": 116,
     "metadata": {},
     "output_type": "execute_result"
    }
   ],
   "source": [
    "# #packing\n",
    "person_info = (\"John\", \"Software Engineer\", 25)\n",
    "person_info"
   ]
  },
  {
   "cell_type": "code",
   "execution_count": 118,
   "id": "c4a5565b-7976-41c3-b608-e546da30612a",
   "metadata": {},
   "outputs": [
    {
     "data": {
      "text/plain": [
       "'John'"
      ]
     },
     "execution_count": 118,
     "metadata": {},
     "output_type": "execute_result"
    }
   ],
   "source": [
    "name"
   ]
  },
  {
   "cell_type": "code",
   "execution_count": 119,
   "id": "7f73d355-f751-4be6-b605-2d5129475b56",
   "metadata": {},
   "outputs": [
    {
     "data": {
      "text/plain": [
       "'Software Engineer'"
      ]
     },
     "execution_count": 119,
     "metadata": {},
     "output_type": "execute_result"
    }
   ],
   "source": [
    "age"
   ]
  },
  {
   "cell_type": "code",
   "execution_count": 21,
   "id": "f44d5fec-f088-42f6-9f98-a2048c1b72d3",
   "metadata": {},
   "outputs": [
    {
     "data": {
      "text/plain": [
       "25"
      ]
     },
     "execution_count": 21,
     "metadata": {},
     "output_type": "execute_result"
    }
   ],
   "source": [
    "job"
   ]
  },
  {
   "cell_type": "code",
   "execution_count": 3,
   "id": "e63020aa-74da-4250-870f-dd8ec9b69716",
   "metadata": {},
   "outputs": [],
   "source": [
    "# means it follows the sequence which you've provided."
   ]
  },
  {
   "cell_type": "code",
   "execution_count": 22,
   "id": "0532a910-eac1-480d-b155-2a0c46524659",
   "metadata": {},
   "outputs": [
    {
     "data": {
      "text/plain": [
       "'Apple'"
      ]
     },
     "execution_count": 22,
     "metadata": {},
     "output_type": "execute_result"
    }
   ],
   "source": [
    "values = (\"Apple\", \"Banana\", \"Cherry\", \"Grapes\")\n",
    "first, second, *others = values\n",
    "first"
   ]
  },
  {
   "cell_type": "code",
   "execution_count": 23,
   "id": "598f728e-741e-4b4e-b905-cd6c7b74e470",
   "metadata": {},
   "outputs": [
    {
     "data": {
      "text/plain": [
       "'Banana'"
      ]
     },
     "execution_count": 23,
     "metadata": {},
     "output_type": "execute_result"
    }
   ],
   "source": [
    "values = (\"Apple\", \"Banana\", \"Cherry\", \"Grapes\")\n",
    "first, second, *others = values\n",
    "second"
   ]
  },
  {
   "cell_type": "code",
   "execution_count": 25,
   "id": "daed62cb-6e07-45f8-b747-6e56cb6c113d",
   "metadata": {},
   "outputs": [
    {
     "ename": "SyntaxError",
     "evalue": "can't use starred expression here (3894210640.py, line 3)",
     "output_type": "error",
     "traceback": [
      "\u001b[1;36m  Cell \u001b[1;32mIn[25], line 3\u001b[1;36m\u001b[0m\n\u001b[1;33m    *others\u001b[0m\n\u001b[1;37m    ^\u001b[0m\n\u001b[1;31mSyntaxError\u001b[0m\u001b[1;31m:\u001b[0m can't use starred expression here\n"
     ]
    }
   ],
   "source": [
    "values = (\"Apple\", \"Banana\", \"Cherry\", \"Grapes\")\n",
    "first, second, *others = values\n",
    "*others"
   ]
  },
  {
   "cell_type": "code",
   "execution_count": 24,
   "id": "6fdce639-1e09-458f-b734-01244bcc0d68",
   "metadata": {},
   "outputs": [
    {
     "data": {
      "text/plain": [
       "['Cherry', 'Grapes']"
      ]
     },
     "execution_count": 24,
     "metadata": {},
     "output_type": "execute_result"
    }
   ],
   "source": [
    "values = (\"Apple\", \"Banana\", \"Cherry\", \"Grapes\")\n",
    "first, second, *others = values\n",
    "others"
   ]
  },
  {
   "cell_type": "code",
   "execution_count": 26,
   "id": "3953e101-0cfb-4d7c-b67c-8aaea1acf182",
   "metadata": {},
   "outputs": [
    {
     "data": {
      "text/plain": [
       "('Apple', 'Banana', 'Cherry', 'Grapes')"
      ]
     },
     "execution_count": 26,
     "metadata": {},
     "output_type": "execute_result"
    }
   ],
   "source": [
    "values = (\"Apple\", \"Banana\", \"Cherry\", \"Grapes\")\n",
    "values"
   ]
  },
  {
   "cell_type": "code",
   "execution_count": 27,
   "id": "2016f6e4-b96e-4349-8607-4947dae4e1ee",
   "metadata": {},
   "outputs": [
    {
     "data": {
      "text/plain": [
       "['Apple', 'Banana', 'Cherry', 'Grapes']"
      ]
     },
     "execution_count": 27,
     "metadata": {},
     "output_type": "execute_result"
    }
   ],
   "source": [
    "values = (\"Apple\", \"Banana\", \"Cherry\", \"Grapes\")\n",
    "list(values)"
   ]
  },
  {
   "cell_type": "code",
   "execution_count": 28,
   "id": "f5905ffa-36ae-4c22-bbf1-34d31e6e05d0",
   "metadata": {},
   "outputs": [
    {
     "data": {
      "text/plain": [
       "('Apple', 'Banana', 'Cherry', 'Grapes')"
      ]
     },
     "execution_count": 28,
     "metadata": {},
     "output_type": "execute_result"
    }
   ],
   "source": [
    "abc = [\"Apple\", \"Banana\", \"Cherry\", \"Grapes\"]\n",
    "tuple(abc)"
   ]
  },
  {
   "cell_type": "code",
   "execution_count": 6,
   "id": "b6fdb3f4-e0a7-46b0-bfc6-ae485468a420",
   "metadata": {},
   "outputs": [
    {
     "data": {
      "text/plain": [
       "30"
      ]
     },
     "execution_count": 6,
     "metadata": {},
     "output_type": "execute_result"
    }
   ],
   "source": [
    "details = (\"Alice\", 30, \"Manager\", \"New York\")\n",
    "name, age, role, _ = details\n",
    "name\n",
    "age"
   ]
  },
  {
   "cell_type": "code",
   "execution_count": 120,
   "id": "e99d964a-de12-4b30-8c67-880589e33ae8",
   "metadata": {},
   "outputs": [],
   "source": [
    "# if you can't type the variables without print, the last variable will overwrite the remaining."
   ]
  },
  {
   "cell_type": "code",
   "execution_count": 7,
   "id": "e59aeb35-9982-44b6-a3dc-9da048af60ec",
   "metadata": {},
   "outputs": [
    {
     "name": "stdout",
     "output_type": "stream",
     "text": [
      "Alice\n",
      "30\n"
     ]
    }
   ],
   "source": [
    "details = (\"Alice\", 30, \"Manager\", \"New York\")\n",
    "name, age, role, _ = details\n",
    "print(name)\n",
    "print(age)"
   ]
  },
  {
   "cell_type": "code",
   "execution_count": 8,
   "id": "90b9c424-8412-4229-a652-bdc53d9cdaf5",
   "metadata": {},
   "outputs": [
    {
     "name": "stdout",
     "output_type": "stream",
     "text": [
      "New York\n"
     ]
    }
   ],
   "source": [
    "details = (\"Alice\", 30, \"Manager\", \"New York\")\n",
    "name, age, role, _ = details\n",
    "print(_)"
   ]
  },
  {
   "cell_type": "code",
   "execution_count": 122,
   "id": "5602b4c0-e0ef-401e-85d4-c7df99df393d",
   "metadata": {},
   "outputs": [
    {
     "data": {
      "text/plain": [
       "'apple'"
      ]
     },
     "execution_count": 122,
     "metadata": {},
     "output_type": "execute_result"
    }
   ],
   "source": [
    "details = (\"Alice\", 30, \"Manager\", \"New York\",'apple')\n",
    "name, age, role, _ , _= details\n",
    "_"
   ]
  },
  {
   "cell_type": "code",
   "execution_count": 123,
   "id": "1a97b6f9-8e73-4013-8b89-9f44ff2949c0",
   "metadata": {},
   "outputs": [
    {
     "ename": "ValueError",
     "evalue": "too many values to unpack (expected 4)",
     "output_type": "error",
     "traceback": [
      "\u001b[1;31m---------------------------------------------------------------------------\u001b[0m",
      "\u001b[1;31mValueError\u001b[0m                                Traceback (most recent call last)",
      "Cell \u001b[1;32mIn[123], line 2\u001b[0m\n\u001b[0;32m      1\u001b[0m details \u001b[38;5;241m=\u001b[39m (\u001b[38;5;124m\"\u001b[39m\u001b[38;5;124mAlice\u001b[39m\u001b[38;5;124m\"\u001b[39m, \u001b[38;5;241m30\u001b[39m, \u001b[38;5;124m\"\u001b[39m\u001b[38;5;124mManager\u001b[39m\u001b[38;5;124m\"\u001b[39m, \u001b[38;5;124m\"\u001b[39m\u001b[38;5;124mNew York\u001b[39m\u001b[38;5;124m\"\u001b[39m,\u001b[38;5;124m'\u001b[39m\u001b[38;5;124mapple\u001b[39m\u001b[38;5;124m'\u001b[39m)\n\u001b[1;32m----> 2\u001b[0m name, age, role, _ \u001b[38;5;241m=\u001b[39m details\n\u001b[0;32m      3\u001b[0m _\n",
      "\u001b[1;31mValueError\u001b[0m: too many values to unpack (expected 4)"
     ]
    }
   ],
   "source": [
    "details = (\"Alice\", 30, \"Manager\", \"New York\",'apple')\n",
    "name, age, role, _ = details\n",
    "_"
   ]
  },
  {
   "cell_type": "code",
   "execution_count": 124,
   "id": "721d8195-cde9-47c0-9787-1e792bef6e99",
   "metadata": {},
   "outputs": [
    {
     "data": {
      "text/plain": [
       "('apple', 'apple')"
      ]
     },
     "execution_count": 124,
     "metadata": {},
     "output_type": "execute_result"
    }
   ],
   "source": [
    "details = (\"Alice\", 30, \"Manager\", \"New York\",'apple')\n",
    "name, age, role, _, _ = details\n",
    "_, _"
   ]
  },
  {
   "cell_type": "code",
   "execution_count": 125,
   "id": "54492f0e-0c7f-43e0-9a86-41240d293b7a",
   "metadata": {},
   "outputs": [
    {
     "name": "stdout",
     "output_type": "stream",
     "text": [
      "apple\n",
      "apple\n"
     ]
    }
   ],
   "source": [
    "details = (\"Alice\", 30, \"Manager\", \"New York\",'apple')\n",
    "name, age, role, _, _ = details\n",
    "print(_)\n",
    "print(_)"
   ]
  },
  {
   "cell_type": "markdown",
   "id": "b70854a7-e76f-4122-b1aa-d164abfa8cb4",
   "metadata": {},
   "source": [
    "## Dictionary {key:value}"
   ]
  },
  {
   "cell_type": "raw",
   "id": "5da5fc70-1a42-49cd-a84f-1b218795dff2",
   "metadata": {},
   "source": [
    "In Python, a dictionary is an unordered, mutable collection of key-value pairs. It is one of the most versatile data structures in Python, allowing you to efficiently store and retrieve data based on custom keys."
   ]
  },
  {
   "cell_type": "code",
   "execution_count": 33,
   "id": "30a7c663-14fd-4561-8c20-c8bd8224e235",
   "metadata": {},
   "outputs": [],
   "source": [
    "#unordered\n",
    "#mutable\n",
    "#indexed by key\n",
    "#no duplicates"
   ]
  },
  {
   "cell_type": "code",
   "execution_count": 34,
   "id": "965cd54f-ec95-4dc9-91dc-1cf8d7562735",
   "metadata": {},
   "outputs": [
    {
     "ename": "SyntaxError",
     "evalue": "cannot assign to literal here. Maybe you meant '==' instead of '='? (2577826987.py, line 4)",
     "output_type": "error",
     "traceback": [
      "\u001b[1;36m  Cell \u001b[1;32mIn[34], line 4\u001b[1;36m\u001b[0m\n\u001b[1;33m    'name' = 'ali',\u001b[0m\n\u001b[1;37m    ^\u001b[0m\n\u001b[1;31mSyntaxError\u001b[0m\u001b[1;31m:\u001b[0m cannot assign to literal here. Maybe you meant '==' instead of '='?\n"
     ]
    }
   ],
   "source": [
    "#first dict\n",
    "\n",
    "my_dict1 = {\n",
    "    'name' = 'ali',\n",
    "    'age' = 22\n",
    "}\n",
    "my_dict1"
   ]
  },
  {
   "cell_type": "code",
   "execution_count": 37,
   "id": "7826f040-5236-4231-9dd5-e24ecfff025c",
   "metadata": {},
   "outputs": [
    {
     "ename": "SyntaxError",
     "evalue": "invalid syntax (1711982542.py, line 3)",
     "output_type": "error",
     "traceback": [
      "\u001b[1;36m  Cell \u001b[1;32mIn[37], line 3\u001b[1;36m\u001b[0m\n\u001b[1;33m    \"age\": 25\u001b[0m\n\u001b[1;37m         ^\u001b[0m\n\u001b[1;31mSyntaxError\u001b[0m\u001b[1;31m:\u001b[0m invalid syntax\n"
     ]
    }
   ],
   "source": [
    "my_dict = {\n",
    "    \"name\": \"Alice\"\n",
    "    \"age\": 25\n",
    "    \"city\": \"New York\"\n",
    "}\n",
    "my_dict #key : value"
   ]
  },
  {
   "cell_type": "code",
   "execution_count": 35,
   "id": "180e19f5-6be1-4dda-965b-54b7fa0ccb52",
   "metadata": {},
   "outputs": [
    {
     "data": {
      "text/plain": [
       "{'name': 'Alice', 'age': 25, 'city': 'New York'}"
      ]
     },
     "execution_count": 35,
     "metadata": {},
     "output_type": "execute_result"
    }
   ],
   "source": [
    "my_dict = {\n",
    "    \"name\": \"Alice\",\n",
    "    \"age\": 25,\n",
    "    \"city\": \"New York\"\n",
    "}\n",
    "my_dict"
   ]
  },
  {
   "cell_type": "code",
   "execution_count": 36,
   "id": "e169c132-09b8-4f9f-83c6-976c50062c9c",
   "metadata": {},
   "outputs": [
    {
     "data": {
      "text/plain": [
       "{'name': 'Alice', 'age': 25, 'city': 'New York'}"
      ]
     },
     "execution_count": 36,
     "metadata": {},
     "output_type": "execute_result"
    }
   ],
   "source": [
    "my_dict = {\n",
    "    \"name\": \"Alice\",\n",
    "    \"age\": 25,\n",
    "    \"city\": \"New York\",\n",
    "}\n",
    "my_dict"
   ]
  },
  {
   "cell_type": "code",
   "execution_count": 38,
   "id": "e27a7090-3e52-471e-86f5-de63e5432a16",
   "metadata": {},
   "outputs": [
    {
     "ename": "KeyError",
     "evalue": "0",
     "output_type": "error",
     "traceback": [
      "\u001b[1;31m---------------------------------------------------------------------------\u001b[0m",
      "\u001b[1;31mKeyError\u001b[0m                                  Traceback (most recent call last)",
      "Cell \u001b[1;32mIn[38], line 4\u001b[0m\n\u001b[0;32m      1\u001b[0m \u001b[38;5;66;03m#indexed by key\u001b[39;00m\n\u001b[0;32m      2\u001b[0m \u001b[38;5;66;03m# Accessing Values in a Dictionary\u001b[39;00m\n\u001b[0;32m      3\u001b[0m \u001b[38;5;66;03m# Unlike lists, which are indexed by numbers, dictionaries use keys to access values.\u001b[39;00m\n\u001b[1;32m----> 4\u001b[0m my_dict[\u001b[38;5;241m0\u001b[39m]\n",
      "\u001b[1;31mKeyError\u001b[0m: 0"
     ]
    }
   ],
   "source": [
    "#indexed by key\n",
    "# Accessing Values in a Dictionary\n",
    "# Unlike lists, which are indexed by numbers, dictionaries use keys to access values.\n",
    "my_dict[0]"
   ]
  },
  {
   "cell_type": "code",
   "execution_count": 39,
   "id": "0f60baca-0f06-42a7-af71-b5057e62e673",
   "metadata": {},
   "outputs": [
    {
     "data": {
      "text/plain": [
       "'New York'"
      ]
     },
     "execution_count": 39,
     "metadata": {},
     "output_type": "execute_result"
    }
   ],
   "source": [
    "my_dict['city']"
   ]
  },
  {
   "cell_type": "code",
   "execution_count": 40,
   "id": "e9cde798-ff12-4caa-bc6a-7cf62e7d8152",
   "metadata": {},
   "outputs": [
    {
     "data": {
      "text/plain": [
       "{'name': 'Alice', 'age': 22, 'city': 'New York'}"
      ]
     },
     "execution_count": 40,
     "metadata": {},
     "output_type": "execute_result"
    }
   ],
   "source": [
    "#no duplicates\n",
    "# Each key in a dictionary must be unique, but different keys can have the same value.\n",
    "my_dict = {\n",
    "    \"name\": \"Alice\",\n",
    "    \"age\": 25,\n",
    "    \"city\": \"New York\",\n",
    "    \"age\": 22\n",
    "}\n",
    "my_dict"
   ]
  },
  {
   "cell_type": "code",
   "execution_count": 4,
   "id": "99fb9ba7-754a-45dd-a78e-5ecb9749b52b",
   "metadata": {},
   "outputs": [],
   "source": [
    "# if different keys have the same value, the last one will override the remaining."
   ]
  },
  {
   "cell_type": "code",
   "execution_count": 41,
   "id": "83b5f7aa-98fd-4f9e-bc2a-0ebadf152d7e",
   "metadata": {},
   "outputs": [
    {
     "data": {
      "text/plain": [
       "22"
      ]
     },
     "execution_count": 41,
     "metadata": {},
     "output_type": "execute_result"
    }
   ],
   "source": [
    "my_dict[\"age\"]"
   ]
  },
  {
   "cell_type": "code",
   "execution_count": 42,
   "id": "df458a40-a453-4b8c-80c5-ac86117d3129",
   "metadata": {},
   "outputs": [
    {
     "data": {
      "text/plain": [
       "{'name': 'Alice', 'age': 25, 'city': 'New York'}"
      ]
     },
     "execution_count": 42,
     "metadata": {},
     "output_type": "execute_result"
    }
   ],
   "source": [
    "my_dict = {\n",
    "    \"name\": \"Alice\",\n",
    "    \"age\": 25,\n",
    "    \"city\": \"New York\"\n",
    "}\n",
    "my_dict"
   ]
  },
  {
   "cell_type": "code",
   "execution_count": 43,
   "id": "5eff5b03-e89a-4e6b-aa01-20ff3bcba1fc",
   "metadata": {},
   "outputs": [
    {
     "data": {
      "text/plain": [
       "{'name': 'Alice', 'age': 25, 'city': 'New York', 'email': 'abc@gmail.com'}"
      ]
     },
     "execution_count": 43,
     "metadata": {},
     "output_type": "execute_result"
    }
   ],
   "source": [
    "#Modifying a Dictionary\n",
    "my_dict['email']='abc@gmail.com'\n",
    "my_dict"
   ]
  },
  {
   "cell_type": "code",
   "execution_count": 44,
   "id": "3767928e-92a7-4174-894c-a4d936b44c7f",
   "metadata": {},
   "outputs": [
    {
     "data": {
      "text/plain": [
       "{'name': 'Alice', 'age': 25, 'city': 'New York'}"
      ]
     },
     "execution_count": 44,
     "metadata": {},
     "output_type": "execute_result"
    }
   ],
   "source": [
    "my_dict = {\n",
    "    \"name\": \"Alice\",\n",
    "    \"age\": 25,\n",
    "    \"city\": \"New York\",\n",
    "}\n",
    "my_dict"
   ]
  },
  {
   "cell_type": "code",
   "execution_count": 45,
   "id": "463f71bd-e827-4232-90b3-28fcd1f0b783",
   "metadata": {},
   "outputs": [
    {
     "data": {
      "text/plain": [
       "{'name': 'Alice', 'age': 44, 'city': 'New York'}"
      ]
     },
     "execution_count": 45,
     "metadata": {},
     "output_type": "execute_result"
    }
   ],
   "source": [
    "my_dict['age']=44\n",
    "my_dict"
   ]
  },
  {
   "cell_type": "code",
   "execution_count": 46,
   "id": "6473d25a-311c-49e0-a596-712379b1b1f8",
   "metadata": {},
   "outputs": [
    {
     "data": {
      "text/plain": [
       "3"
      ]
     },
     "execution_count": 46,
     "metadata": {},
     "output_type": "execute_result"
    }
   ],
   "source": [
    "len(my_dict)"
   ]
  },
  {
   "cell_type": "code",
   "execution_count": 47,
   "id": "d1a366a1-9c3e-4b64-9498-2d8798756546",
   "metadata": {},
   "outputs": [
    {
     "data": {
      "text/plain": [
       "['__class__',\n",
       " '__class_getitem__',\n",
       " '__contains__',\n",
       " '__delattr__',\n",
       " '__delitem__',\n",
       " '__dir__',\n",
       " '__doc__',\n",
       " '__eq__',\n",
       " '__format__',\n",
       " '__ge__',\n",
       " '__getattribute__',\n",
       " '__getitem__',\n",
       " '__getstate__',\n",
       " '__gt__',\n",
       " '__hash__',\n",
       " '__init__',\n",
       " '__init_subclass__',\n",
       " '__ior__',\n",
       " '__iter__',\n",
       " '__le__',\n",
       " '__len__',\n",
       " '__lt__',\n",
       " '__ne__',\n",
       " '__new__',\n",
       " '__or__',\n",
       " '__reduce__',\n",
       " '__reduce_ex__',\n",
       " '__repr__',\n",
       " '__reversed__',\n",
       " '__ror__',\n",
       " '__setattr__',\n",
       " '__setitem__',\n",
       " '__sizeof__',\n",
       " '__str__',\n",
       " '__subclasshook__',\n",
       " 'clear',\n",
       " 'copy',\n",
       " 'fromkeys',\n",
       " 'get',\n",
       " 'items',\n",
       " 'keys',\n",
       " 'pop',\n",
       " 'popitem',\n",
       " 'setdefault',\n",
       " 'update',\n",
       " 'values']"
      ]
     },
     "execution_count": 47,
     "metadata": {},
     "output_type": "execute_result"
    }
   ],
   "source": [
    "dir(my_dict)"
   ]
  },
  {
   "cell_type": "code",
   "execution_count": 126,
   "id": "47608bc0-11c2-4c8f-964e-cc94cd9739b1",
   "metadata": {},
   "outputs": [
    {
     "data": {
      "text/plain": [
       "{'a': 0, 'b': 0, 'c': 0}"
      ]
     },
     "execution_count": 126,
     "metadata": {},
     "output_type": "execute_result"
    }
   ],
   "source": [
    "keys = [\"a\", \"b\", \"c\"]\n",
    "new_dict = dict.fromkeys(keys, 0)\n",
    "new_dict"
   ]
  },
  {
   "cell_type": "code",
   "execution_count": 17,
   "id": "6fa116c4-8ca9-4ad2-a781-fd95f66bef7c",
   "metadata": {},
   "outputs": [
    {
     "data": {
      "text/plain": [
       "{'a': 4, 'b': 4, 'c': 4}"
      ]
     },
     "execution_count": 17,
     "metadata": {},
     "output_type": "execute_result"
    }
   ],
   "source": [
    "keys = [\"a\", \"b\", \"c\"]\n",
    "values = 4\n",
    "new_dict = dict.fromkeys(keys, values)\n",
    "new_dict"
   ]
  },
  {
   "cell_type": "code",
   "execution_count": 127,
   "id": "77a18c23-69da-42d0-9a4b-eb5e3d82c058",
   "metadata": {},
   "outputs": [
    {
     "data": {
      "text/plain": [
       "{'name': 'Alice', 'age': 25, 'city': 'New York'}"
      ]
     },
     "execution_count": 127,
     "metadata": {},
     "output_type": "execute_result"
    }
   ],
   "source": [
    "my_dict = {\n",
    "    \"name\": \"Alice\",\n",
    "    \"age\": 25,\n",
    "    \"city\": \"New York\"\n",
    "}\n",
    "my_dict"
   ]
  },
  {
   "cell_type": "code",
   "execution_count": 5,
   "id": "ada0c71d-acb9-4eb4-8ffe-844567342cdf",
   "metadata": {},
   "outputs": [],
   "source": [
    "#difference between del, pop, popitem, clear"
   ]
  },
  {
   "cell_type": "code",
   "execution_count": 128,
   "id": "8b710888-b438-42a5-8d44-af27de166d66",
   "metadata": {},
   "outputs": [
    {
     "data": {
      "text/plain": [
       "{'name': 'Alice', 'city': 'New York'}"
      ]
     },
     "execution_count": 128,
     "metadata": {},
     "output_type": "execute_result"
    }
   ],
   "source": [
    "# Removing Items\n",
    "del my_dict[\"age\"]\n",
    "my_dict"
   ]
  },
  {
   "cell_type": "code",
   "execution_count": 51,
   "id": "99ca9ebd-bcdf-4891-a6a3-5761678b563f",
   "metadata": {},
   "outputs": [
    {
     "data": {
      "text/plain": [
       "('city', 'New York')"
      ]
     },
     "execution_count": 51,
     "metadata": {},
     "output_type": "execute_result"
    }
   ],
   "source": [
    "my_dict.popitem() #get dict empty #run 3 times"
   ]
  },
  {
   "cell_type": "code",
   "execution_count": 7,
   "id": "db6f090c-90f5-4392-82e4-66d1143cec16",
   "metadata": {},
   "outputs": [],
   "source": [
    "# popitem delete the last one from dict."
   ]
  },
  {
   "cell_type": "code",
   "execution_count": 55,
   "id": "ebd60373-a7a4-41b8-9e47-cdb16129e69d",
   "metadata": {},
   "outputs": [
    {
     "data": {
      "text/plain": [
       "{'name': 'Alice'}"
      ]
     },
     "execution_count": 55,
     "metadata": {},
     "output_type": "execute_result"
    }
   ],
   "source": [
    "my_dict"
   ]
  },
  {
   "cell_type": "code",
   "execution_count": 56,
   "id": "694bda5e-34a9-4c86-9fc6-efcfbc9969a4",
   "metadata": {},
   "outputs": [
    {
     "data": {
      "text/plain": [
       "'Alice'"
      ]
     },
     "execution_count": 56,
     "metadata": {},
     "output_type": "execute_result"
    }
   ],
   "source": [
    "my_dict.pop('name')"
   ]
  },
  {
   "cell_type": "code",
   "execution_count": 57,
   "id": "092eb7c6-8b71-492e-a0d8-c86f2dedf193",
   "metadata": {},
   "outputs": [
    {
     "data": {
      "text/plain": [
       "{}"
      ]
     },
     "execution_count": 57,
     "metadata": {},
     "output_type": "execute_result"
    }
   ],
   "source": [
    "my_dict"
   ]
  },
  {
   "cell_type": "code",
   "execution_count": 61,
   "id": "2ccc5cc5-6366-4aba-a5c2-b61939510ab8",
   "metadata": {},
   "outputs": [
    {
     "data": {
      "text/plain": [
       "{'name': 'Alice', 'age': 25, 'city': 'New York'}"
      ]
     },
     "execution_count": 61,
     "metadata": {},
     "output_type": "execute_result"
    }
   ],
   "source": [
    "my_dict = {\n",
    "    \"name\": \"Alice\",\n",
    "    \"age\": 25,\n",
    "    \"city\": \"New York\"\n",
    "}\n",
    "my_dict"
   ]
  },
  {
   "cell_type": "code",
   "execution_count": 68,
   "id": "34c60645-93aa-41ef-b779-2c0db6c8c381",
   "metadata": {},
   "outputs": [],
   "source": [
    "my_dict.clear()"
   ]
  },
  {
   "cell_type": "code",
   "execution_count": 69,
   "id": "fb3a1710-4f45-4e33-9436-f041fda138cb",
   "metadata": {},
   "outputs": [
    {
     "data": {
      "text/plain": [
       "{}"
      ]
     },
     "execution_count": 69,
     "metadata": {},
     "output_type": "execute_result"
    }
   ],
   "source": [
    "my_dict"
   ]
  },
  {
   "cell_type": "code",
   "execution_count": 134,
   "id": "d61f6ffc-cb91-447d-8a84-8687e6f3c601",
   "metadata": {},
   "outputs": [
    {
     "data": {
      "text/plain": [
       "{'name': 'Alice', 'age': 25, 'city': 'New York'}"
      ]
     },
     "execution_count": 134,
     "metadata": {},
     "output_type": "execute_result"
    }
   ],
   "source": [
    "my_dict = {\n",
    "    \"name\": \"Alice\",\n",
    "    \"age\": 25,\n",
    "    \"city\": \"New York\"\n",
    "}\n",
    "my_dict"
   ]
  },
  {
   "cell_type": "code",
   "execution_count": 72,
   "id": "28c6b02b-d2cb-460d-a327-deb946911c91",
   "metadata": {},
   "outputs": [
    {
     "data": {
      "text/plain": [
       "dict_keys(['name', 'age', 'city'])"
      ]
     },
     "execution_count": 72,
     "metadata": {},
     "output_type": "execute_result"
    }
   ],
   "source": [
    "my_dict.keys()"
   ]
  },
  {
   "cell_type": "code",
   "execution_count": 73,
   "id": "e765d067-1bd8-49ec-aa7c-1eaa544c0cff",
   "metadata": {},
   "outputs": [
    {
     "data": {
      "text/plain": [
       "dict_values(['Alice', 25, 'New York'])"
      ]
     },
     "execution_count": 73,
     "metadata": {},
     "output_type": "execute_result"
    }
   ],
   "source": [
    "my_dict.values()"
   ]
  },
  {
   "cell_type": "code",
   "execution_count": 74,
   "id": "ba2012a3-c0ff-4f1f-abf7-6410111036de",
   "metadata": {},
   "outputs": [
    {
     "data": {
      "text/plain": [
       "dict_items([('name', 'Alice'), ('age', 25), ('city', 'New York')])"
      ]
     },
     "execution_count": 74,
     "metadata": {},
     "output_type": "execute_result"
    }
   ],
   "source": [
    "my_dict.items()"
   ]
  },
  {
   "cell_type": "code",
   "execution_count": 135,
   "id": "8ec76919-8e87-4824-b889-7ffa8eba0b6b",
   "metadata": {},
   "outputs": [
    {
     "data": {
      "text/plain": [
       "{'student': 'Ali', 'rollno': 22, 'state': 'Punjab'}"
      ]
     },
     "execution_count": 135,
     "metadata": {},
     "output_type": "execute_result"
    }
   ],
   "source": [
    "dict2 = {\n",
    "    \"student\": \"Ali\",\n",
    "    \"rollno\": 22,\n",
    "    \"state\": \"Punjab\"\n",
    "}\n",
    "dict2"
   ]
  },
  {
   "cell_type": "code",
   "execution_count": 132,
   "id": "c9cabfb4-9721-4689-8894-e8406fb13d4b",
   "metadata": {},
   "outputs": [
    {
     "data": {
      "text/plain": [
       "{'name': 'Alice', 'age': 25, 'city': 'New York'}"
      ]
     },
     "execution_count": 132,
     "metadata": {},
     "output_type": "execute_result"
    }
   ],
   "source": [
    "my_dict"
   ]
  },
  {
   "cell_type": "code",
   "execution_count": 141,
   "id": "ed348874-9112-434a-8258-96aaebb6c672",
   "metadata": {},
   "outputs": [
    {
     "data": {
      "text/plain": [
       "{'name': 'Alice',\n",
       " 'age': 25,\n",
       " 'city': 'New York',\n",
       " 'student': 'Ali',\n",
       " 'rollno': 22,\n",
       " 'state': 'Punjab'}"
      ]
     },
     "execution_count": 141,
     "metadata": {},
     "output_type": "execute_result"
    }
   ],
   "source": [
    "my_dict.update(dict2)\n",
    "my_dict"
   ]
  },
  {
   "cell_type": "code",
   "execution_count": 142,
   "id": "d3444e2e-bf76-473c-9972-453fe91fce25",
   "metadata": {},
   "outputs": [
    {
     "name": "stdout",
     "output_type": "stream",
     "text": [
      "Alice\n"
     ]
    }
   ],
   "source": [
    "print(my_dict.get(\"name\")) "
   ]
  },
  {
   "cell_type": "code",
   "execution_count": 143,
   "id": "0eb3a1b4-e9f9-4036-a041-b7e269df921d",
   "metadata": {},
   "outputs": [
    {
     "name": "stdout",
     "output_type": "stream",
     "text": [
      "None\n"
     ]
    }
   ],
   "source": [
    "print(my_dict.get(\"address\")) "
   ]
  },
  {
   "cell_type": "code",
   "execution_count": 144,
   "id": "12e9d8c5-6bea-4af6-ba10-f37b4f6e130c",
   "metadata": {},
   "outputs": [
    {
     "name": "stdout",
     "output_type": "stream",
     "text": [
      "{'name': 'Alice', 'age': 25}\n"
     ]
    }
   ],
   "source": [
    "bye_dict = {\"name\": \"Alice\"}\n",
    "bye_dict.setdefault(\"age\", 25)\n",
    "print(bye_dict)"
   ]
  },
  {
   "cell_type": "code",
   "execution_count": 79,
   "id": "593654a9-a814-49ee-8642-9457a852755a",
   "metadata": {},
   "outputs": [
    {
     "data": {
      "text/plain": [
       "{'person1': {'name': 'Alice', 'age': 25},\n",
       " 'person2': {'name': 'Bob', 'age': 30}}"
      ]
     },
     "execution_count": 79,
     "metadata": {},
     "output_type": "execute_result"
    }
   ],
   "source": [
    "# Nesting Dictionaries\n",
    "nested_dict = {\n",
    "    \"person1\": {\"name\": \"Alice\", \"age\": 25},\n",
    "    \"person2\": {\"name\": \"Bob\", \"age\": 30}\n",
    "}\n",
    "nested_dict"
   ]
  },
  {
   "cell_type": "code",
   "execution_count": 80,
   "id": "3e374201-8186-4fc1-85fa-f68be508c668",
   "metadata": {},
   "outputs": [
    {
     "data": {
      "text/plain": [
       "25"
      ]
     },
     "execution_count": 80,
     "metadata": {},
     "output_type": "execute_result"
    }
   ],
   "source": [
    "nested_dict[\"person1\"]['age']"
   ]
  },
  {
   "cell_type": "code",
   "execution_count": 81,
   "id": "a10acaac-6f83-4342-ab41-941b1263342b",
   "metadata": {},
   "outputs": [
    {
     "data": {
      "text/plain": [
       "{'person1': {'name': 'Alice', 'age': 55},\n",
       " 'person2': {'name': 'Bob', 'age': 30}}"
      ]
     },
     "execution_count": 81,
     "metadata": {},
     "output_type": "execute_result"
    }
   ],
   "source": [
    "nested_dict[\"person1\"]['age']=55\n",
    "nested_dict"
   ]
  },
  {
   "cell_type": "code",
   "execution_count": 82,
   "id": "75e08e25-1b93-4223-a0b5-826b72c46ac6",
   "metadata": {},
   "outputs": [
    {
     "name": "stdout",
     "output_type": "stream",
     "text": [
      "{'name': 'ali', 'age': 34, 'job': 'engineer'}\n"
     ]
    }
   ],
   "source": [
    "my_dict3 = dict(name = 'ali', age = 34 , job = 'engineer') #dict as constructor\n",
    "print(my_dict3)"
   ]
  },
  {
   "cell_type": "code",
   "execution_count": 83,
   "id": "19151a53-120c-46a6-bf96-748a6f02a497",
   "metadata": {},
   "outputs": [
    {
     "ename": "KeyError",
     "evalue": "'age'",
     "output_type": "error",
     "traceback": [
      "\u001b[1;31m---------------------------------------------------------------------------\u001b[0m",
      "\u001b[1;31mKeyError\u001b[0m                                  Traceback (most recent call last)",
      "Cell \u001b[1;32mIn[83], line 3\u001b[0m\n\u001b[0;32m      1\u001b[0m \u001b[38;5;66;03m#errors\u001b[39;00m\n\u001b[0;32m      2\u001b[0m my_dict \u001b[38;5;241m=\u001b[39m {\u001b[38;5;124m\"\u001b[39m\u001b[38;5;124mname\u001b[39m\u001b[38;5;124m\"\u001b[39m: \u001b[38;5;124m\"\u001b[39m\u001b[38;5;124mAlice\u001b[39m\u001b[38;5;124m\"\u001b[39m}\n\u001b[1;32m----> 3\u001b[0m \u001b[38;5;28mprint\u001b[39m(my_dict[\u001b[38;5;124m\"\u001b[39m\u001b[38;5;124mage\u001b[39m\u001b[38;5;124m\"\u001b[39m])\n",
      "\u001b[1;31mKeyError\u001b[0m: 'age'"
     ]
    }
   ],
   "source": [
    "#errors\n",
    "my_dict = {\"name\": \"Alice\"}\n",
    "print(my_dict[\"age\"])  # KeyError: 'age'"
   ]
  },
  {
   "cell_type": "code",
   "execution_count": 84,
   "id": "1a33e0de-0efc-47cc-a3ce-6560c9dd0830",
   "metadata": {},
   "outputs": [
    {
     "ename": "TypeError",
     "evalue": "unhashable type: 'list'",
     "output_type": "error",
     "traceback": [
      "\u001b[1;31m---------------------------------------------------------------------------\u001b[0m",
      "\u001b[1;31mTypeError\u001b[0m                                 Traceback (most recent call last)",
      "Cell \u001b[1;32mIn[84], line 1\u001b[0m\n\u001b[1;32m----> 1\u001b[0m my_dict \u001b[38;5;241m=\u001b[39m {[\u001b[38;5;241m1\u001b[39m, \u001b[38;5;241m2\u001b[39m, \u001b[38;5;241m3\u001b[39m]: \u001b[38;5;124m\"\u001b[39m\u001b[38;5;124mlist as key\u001b[39m\u001b[38;5;124m\"\u001b[39m}\n",
      "\u001b[1;31mTypeError\u001b[0m: unhashable type: 'list'"
     ]
    }
   ],
   "source": [
    "my_dict = {[1, 2, 3]: \"list as key\"}  # TypeError"
   ]
  },
  {
   "cell_type": "markdown",
   "id": "68a5d1f6-084d-445d-bf4e-e11b067be3f7",
   "metadata": {},
   "source": [
    "## SET {}"
   ]
  },
  {
   "cell_type": "markdown",
   "id": "17c2f394-8a6a-4a2f-93d0-f5297538cf10",
   "metadata": {},
   "source": [
    "A set in Python is an unordered collection of unique elements. This means that a set cannot contain duplicate values, and the elements are stored in no specific order.\n",
    "Unordered: The elements in a set do not maintain any specific order.\n",
    "Unique: Sets cannot contain duplicate elements. If you try to add a duplicate element, it will not be added.\n",
    "Mutable: You can add or remove elements from a set after it is created.\n",
    "No indexing: Sets do not support indexing or slicing like lists."
   ]
  },
  {
   "cell_type": "code",
   "execution_count": 86,
   "id": "6015a523-2a15-4860-87b2-79f9efa4f97a",
   "metadata": {},
   "outputs": [
    {
     "data": {
      "text/plain": [
       "{1, 33, 447.5, 5, 'abc', 'pqr'}"
      ]
     },
     "execution_count": 86,
     "metadata": {},
     "output_type": "execute_result"
    }
   ],
   "source": [
    "#first set\n",
    "\n",
    "name = {1,33,5,'abc',447.5,'pqr',1,1,1,33} \n",
    "name"
   ]
  },
  {
   "cell_type": "code",
   "execution_count": 87,
   "id": "eeee05d5-ff1a-40af-8594-3709dc2267fa",
   "metadata": {},
   "outputs": [
    {
     "data": {
      "text/plain": [
       "{1, 2, 3, 'apple', 'banana', 'coconut'}"
      ]
     },
     "execution_count": 87,
     "metadata": {},
     "output_type": "execute_result"
    }
   ],
   "source": [
    "#set\n",
    "\n",
    "fruits = {'apple','banana','coconut',1,2,3}\n",
    "fruits"
   ]
  },
  {
   "cell_type": "code",
   "execution_count": 88,
   "id": "0f44b06b-e22d-40f1-a59f-f3779c1c8ead",
   "metadata": {},
   "outputs": [],
   "source": [
    "#set as constructor\n",
    "a = ['sky','cloud','apple',2,55,7,2,2,'sky']\n",
    "b = set(a)"
   ]
  },
  {
   "cell_type": "code",
   "execution_count": 91,
   "id": "3ddc9eb5-3219-497a-a44c-62721142000c",
   "metadata": {},
   "outputs": [
    {
     "data": {
      "text/plain": [
       "{2, 55, 7, 'apple', 'cloud', 'sky'}"
      ]
     },
     "execution_count": 91,
     "metadata": {},
     "output_type": "execute_result"
    }
   ],
   "source": [
    "b"
   ]
  },
  {
   "cell_type": "code",
   "execution_count": 89,
   "id": "fdbe93c5-fc22-4db6-b5f0-6cd1bb6d9f95",
   "metadata": {},
   "outputs": [
    {
     "data": {
      "text/plain": [
       "9"
      ]
     },
     "execution_count": 89,
     "metadata": {},
     "output_type": "execute_result"
    }
   ],
   "source": [
    "len(a)"
   ]
  },
  {
   "cell_type": "code",
   "execution_count": 90,
   "id": "c4c7004c-1711-4c1c-8faf-0ca1eeb7565f",
   "metadata": {},
   "outputs": [
    {
     "data": {
      "text/plain": [
       "6"
      ]
     },
     "execution_count": 90,
     "metadata": {},
     "output_type": "execute_result"
    }
   ],
   "source": [
    "len(b)"
   ]
  },
  {
   "cell_type": "code",
   "execution_count": 92,
   "id": "7baa7c56-f89e-4a88-8109-2350ca87ae1f",
   "metadata": {},
   "outputs": [
    {
     "data": {
      "text/plain": [
       "['__and__',\n",
       " '__class__',\n",
       " '__class_getitem__',\n",
       " '__contains__',\n",
       " '__delattr__',\n",
       " '__dir__',\n",
       " '__doc__',\n",
       " '__eq__',\n",
       " '__format__',\n",
       " '__ge__',\n",
       " '__getattribute__',\n",
       " '__getstate__',\n",
       " '__gt__',\n",
       " '__hash__',\n",
       " '__iand__',\n",
       " '__init__',\n",
       " '__init_subclass__',\n",
       " '__ior__',\n",
       " '__isub__',\n",
       " '__iter__',\n",
       " '__ixor__',\n",
       " '__le__',\n",
       " '__len__',\n",
       " '__lt__',\n",
       " '__ne__',\n",
       " '__new__',\n",
       " '__or__',\n",
       " '__rand__',\n",
       " '__reduce__',\n",
       " '__reduce_ex__',\n",
       " '__repr__',\n",
       " '__ror__',\n",
       " '__rsub__',\n",
       " '__rxor__',\n",
       " '__setattr__',\n",
       " '__sizeof__',\n",
       " '__str__',\n",
       " '__sub__',\n",
       " '__subclasshook__',\n",
       " '__xor__',\n",
       " 'add',\n",
       " 'clear',\n",
       " 'copy',\n",
       " 'difference',\n",
       " 'difference_update',\n",
       " 'discard',\n",
       " 'intersection',\n",
       " 'intersection_update',\n",
       " 'isdisjoint',\n",
       " 'issubset',\n",
       " 'issuperset',\n",
       " 'pop',\n",
       " 'remove',\n",
       " 'symmetric_difference',\n",
       " 'symmetric_difference_update',\n",
       " 'union',\n",
       " 'update']"
      ]
     },
     "execution_count": 92,
     "metadata": {},
     "output_type": "execute_result"
    }
   ],
   "source": [
    "dir(set())"
   ]
  },
  {
   "cell_type": "code",
   "execution_count": 93,
   "id": "867a3d9d-0fc8-4d6d-aede-0b89bb168e88",
   "metadata": {},
   "outputs": [],
   "source": [
    "#concatenation\n",
    "#update"
   ]
  },
  {
   "cell_type": "code",
   "execution_count": 8,
   "id": "d9c7d1e2-e3f4-4c31-b6bd-3744e3eee8c4",
   "metadata": {},
   "outputs": [],
   "source": [
    "#difference between remove, discard, pop, clear"
   ]
  },
  {
   "cell_type": "code",
   "execution_count": 150,
   "id": "7d4ce4f2-497f-40bb-92b4-82e637b11eac",
   "metadata": {},
   "outputs": [
    {
     "name": "stdout",
     "output_type": "stream",
     "text": [
      "{'orange', 'apple', 'cherry'}\n"
     ]
    }
   ],
   "source": [
    "fruits = {\"apple\", \"banana\", \"cherry\", \"orange\"}\n",
    "\n",
    "fruits.remove(\"banana\")\n",
    "print(fruits)\n",
    "\n",
    "# fruits.discard(\"orange\")\n",
    "# print(fruits)\n",
    "\n",
    "# fruits.pop()\n",
    "# print(fruits)\n",
    "\n",
    "# fruits.clear()\n",
    "# print(fruits)"
   ]
  },
  {
   "cell_type": "code",
   "execution_count": 151,
   "id": "3f0e7630-04c0-499c-98ea-409cf1ffde1a",
   "metadata": {},
   "outputs": [
    {
     "name": "stdout",
     "output_type": "stream",
     "text": [
      "{'banana', 'apple', 'cherry'}\n"
     ]
    }
   ],
   "source": [
    "fruits = {\"apple\", \"banana\", \"cherry\", \"orange\"}\n",
    "\n",
    "# fruits.remove(\"banana\")\n",
    "# print(fruits)\n",
    "\n",
    "fruits.discard(\"orange\")\n",
    "print(fruits)\n",
    "\n",
    "# fruits.pop()\n",
    "# print(fruits)\n",
    "\n",
    "# fruits.clear()\n",
    "# print(fruits)"
   ]
  },
  {
   "cell_type": "code",
   "execution_count": 149,
   "id": "d427903f-2b88-4241-8c84-0fee806836bb",
   "metadata": {},
   "outputs": [
    {
     "name": "stdout",
     "output_type": "stream",
     "text": [
      "{'orange', 'banana', 'apple', 'cherry'}\n"
     ]
    }
   ],
   "source": [
    "fruits = {\"apple\", \"banana\", \"cherry\", \"orange\"}\n",
    "\n",
    "# fruits.remove(\"banana\")\n",
    "# print(fruits)\n",
    "\n",
    "fruits.discard(\"mango\")\n",
    "print(fruits)\n",
    "\n",
    "# fruits.pop()\n",
    "# print(fruits)\n",
    "\n",
    "# fruits.clear()\n",
    "# print(fruits)"
   ]
  },
  {
   "cell_type": "code",
   "execution_count": 152,
   "id": "73689afc-5f0a-4422-8891-9cc0dedb0ac1",
   "metadata": {},
   "outputs": [
    {
     "name": "stdout",
     "output_type": "stream",
     "text": [
      "{'banana', 'apple', 'cherry'}\n"
     ]
    }
   ],
   "source": [
    "fruits = {\"apple\", \"banana\", \"cherry\", \"orange\"}\n",
    "\n",
    "# fruits.remove(\"banana\")\n",
    "# print(fruits)\n",
    "\n",
    "# fruits.discard(\"orange\")\n",
    "# print(fruits)\n",
    "\n",
    "fruits.pop()\n",
    "print(fruits)\n",
    "\n",
    "# fruits.clear()\n",
    "# print(fruits)"
   ]
  },
  {
   "cell_type": "code",
   "execution_count": 153,
   "id": "a85fafce-2060-4ada-8ea0-7feeb62649fc",
   "metadata": {},
   "outputs": [
    {
     "name": "stdout",
     "output_type": "stream",
     "text": [
      "set()\n"
     ]
    }
   ],
   "source": [
    "fruits = {\"apple\", \"banana\", \"cherry\", \"orange\"}\n",
    "\n",
    "# fruits.remove(\"banana\")\n",
    "# print(fruits)\n",
    "\n",
    "# fruits.discard(\"orange\")\n",
    "# print(fruits)\n",
    "\n",
    "# fruits.pop()\n",
    "# print(fruits)\n",
    "\n",
    "fruits.clear()\n",
    "print(fruits)"
   ]
  },
  {
   "cell_type": "code",
   "execution_count": 155,
   "id": "c6e25204-1c67-46d0-af6e-802cbae0429f",
   "metadata": {},
   "outputs": [
    {
     "name": "stdout",
     "output_type": "stream",
     "text": [
      "{1, 2, 3, 4, 5, 6}\n"
     ]
    }
   ],
   "source": [
    "# #operation on set\n",
    "\n",
    "set1 = {1, 2, 3, 4}\n",
    "set2 = {3, 4, 5, 6}\n",
    "\n",
    "union_set = set1 | set2\n",
    "print(union_set)\n",
    "\n",
    "# intersection_set = set1 & set2\n",
    "# print(intersection_set)\n",
    "\n",
    "# difference_set = set1 - set2\n",
    "# print(difference_set)\n",
    "\n",
    "# sym_diff_set = set1 ^ set2 #returns except commmon\n",
    "# print(sym_diff_set)"
   ]
  },
  {
   "cell_type": "code",
   "execution_count": 156,
   "id": "c8f7f3da-226e-47da-89f0-8648f8f10ca8",
   "metadata": {},
   "outputs": [
    {
     "name": "stdout",
     "output_type": "stream",
     "text": [
      "{3, 4}\n"
     ]
    }
   ],
   "source": [
    "# #operation on set\n",
    "\n",
    "set1 = {1, 2, 3, 4}\n",
    "set2 = {3, 4, 5, 6}\n",
    "\n",
    "# union_set = set1 | set2\n",
    "# print(union_set)\n",
    "\n",
    "intersection_set = set1 & set2\n",
    "print(intersection_set)\n",
    "\n",
    "# difference_set = set1 - set2\n",
    "# print(difference_set)\n",
    "\n",
    "# sym_diff_set = set1 ^ set2 #returns except commmon\n",
    "# print(sym_diff_set)"
   ]
  },
  {
   "cell_type": "code",
   "execution_count": 157,
   "id": "c62aa3c3-ef4a-413c-b1fa-b5fbb2622fd0",
   "metadata": {},
   "outputs": [
    {
     "name": "stdout",
     "output_type": "stream",
     "text": [
      "{1, 2}\n"
     ]
    }
   ],
   "source": [
    "# #operation on set\n",
    "\n",
    "set1 = {1, 2, 3, 4}\n",
    "set2 = {3, 4, 5, 6}\n",
    "\n",
    "# union_set = set1 | set2\n",
    "# print(union_set)\n",
    "\n",
    "# intersection_set = set1 & set2\n",
    "# print(intersection_set)\n",
    "\n",
    "difference_set = set1 - set2\n",
    "print(difference_set)\n",
    "\n",
    "# sym_diff_set = set1 ^ set2 #returns except commmon\n",
    "# print(sym_diff_set)"
   ]
  },
  {
   "cell_type": "code",
   "execution_count": 158,
   "id": "53b72100-83c6-4b3e-9487-d2e7440ccc81",
   "metadata": {},
   "outputs": [
    {
     "name": "stdout",
     "output_type": "stream",
     "text": [
      "{1, 2, 5, 6}\n"
     ]
    }
   ],
   "source": [
    "# #operation on set\n",
    "\n",
    "set1 = {1, 2, 3, 4}\n",
    "set2 = {3, 4, 5, 6}\n",
    "\n",
    "# union_set = set1 | set2\n",
    "# print(union_set)\n",
    "\n",
    "# intersection_set = set1 & set2\n",
    "# print(intersection_set)\n",
    "\n",
    "# difference_set = set1 - set2\n",
    "# print(difference_set)\n",
    "\n",
    "sym_diff_set = set1 ^ set2 #returns except commmon\n",
    "print(sym_diff_set)"
   ]
  },
  {
   "cell_type": "code",
   "execution_count": 166,
   "id": "572b8c2a-5bb8-4083-845f-80e353babbb3",
   "metadata": {},
   "outputs": [],
   "source": [
    "set_1 = {\"Alice\", \"Bob\", \"Charlie\", \"Dave\"}"
   ]
  },
  {
   "cell_type": "code",
   "execution_count": 167,
   "id": "4b63eeff-2418-407a-91b3-f94363042b83",
   "metadata": {},
   "outputs": [
    {
     "data": {
      "text/plain": [
       "{'Alice', 'Bob', 'Charlie', 'Dave', 'Rosy'}"
      ]
     },
     "execution_count": 167,
     "metadata": {},
     "output_type": "execute_result"
    }
   ],
   "source": [
    "set = set_1\n",
    "set.add(\"Rosy\")\n",
    "set"
   ]
  },
  {
   "cell_type": "code",
   "execution_count": 175,
   "id": "f754f76a-423b-4abd-9656-787d0061f6fa",
   "metadata": {},
   "outputs": [
    {
     "name": "stdout",
     "output_type": "stream",
     "text": [
      "True\n"
     ]
    }
   ],
   "source": [
    "set_01 = {\"Alice\", \"Bob\"}\n",
    "set_02 = {\"Eve\", \"Frank\"}\n",
    "print(set_01.isdisjoint(set_02))"
   ]
  },
  {
   "cell_type": "code",
   "execution_count": 176,
   "id": "1bfa6eb0-d6d9-448a-b338-a56c087afb64",
   "metadata": {},
   "outputs": [
    {
     "name": "stdout",
     "output_type": "stream",
     "text": [
      "False\n"
     ]
    }
   ],
   "source": [
    "set_1 = {\"Alice\", \"Bob\", \"Charlie\", \"Dave\"}\n",
    "set_2 = {\"Charlie\", \"Dave\", \"Eve\", \"Frank\"}\n",
    "print(set_1.isdisjoint(set_2))"
   ]
  },
  {
   "cell_type": "code",
   "execution_count": 174,
   "id": "0ebd4b3f-c770-47f7-a578-f9299da8a227",
   "metadata": {},
   "outputs": [
    {
     "name": "stdout",
     "output_type": "stream",
     "text": [
      "True\n"
     ]
    }
   ],
   "source": [
    "set_01 = {\"Alice\", \"Bob\"}\n",
    "set_1 = {\"Alice\", \"Bob\", \"Charlie\", \"Dave\"}\n",
    "print(set_01.issubset(set_1))"
   ]
  },
  {
   "cell_type": "code",
   "execution_count": 177,
   "id": "461fab06-c814-4d78-96c6-8398747223d2",
   "metadata": {},
   "outputs": [
    {
     "name": "stdout",
     "output_type": "stream",
     "text": [
      "True\n"
     ]
    }
   ],
   "source": [
    "set_2 = {\"Charlie\", \"Dave\", \"Eve\", \"Frank\"}\n",
    "set_02 = {\"Eve\", \"Frank\"}\n",
    "print(set_2.issuperset(set_02))"
   ]
  },
  {
   "cell_type": "code",
   "execution_count": 178,
   "id": "99f662dd-6f32-41d7-b2a2-bb23764e2773",
   "metadata": {},
   "outputs": [
    {
     "name": "stdout",
     "output_type": "stream",
     "text": [
      "{'Eve', 'Alice', 'Frank', 'Bob'}\n"
     ]
    }
   ],
   "source": [
    "set_1 = {\"Alice\", \"Bob\", \"Charlie\", \"Dave\"}\n",
    "set_2 = {\"Charlie\", \"Dave\", \"Eve\", \"Frank\"}\n",
    "print(set_1.symmetric_difference(set_2)) "
   ]
  },
  {
   "cell_type": "code",
   "execution_count": 179,
   "id": "aba87cdb-faa1-42f8-a3d2-808214eb6993",
   "metadata": {},
   "outputs": [
    {
     "name": "stdout",
     "output_type": "stream",
     "text": [
      "{1, 2, 3, 4, 5}\n"
     ]
    }
   ],
   "source": [
    "set_69 = {1, 2, 3}\n",
    "set_69.update([4, 5])\n",
    "print(set_69) "
   ]
  },
  {
   "cell_type": "code",
   "execution_count": null,
   "id": "b65179b0-95f3-4ce8-9332-122ba8145958",
   "metadata": {},
   "outputs": [],
   "source": []
  }
 ],
 "metadata": {
  "kernelspec": {
   "display_name": "Python 3 (ipykernel)",
   "language": "python",
   "name": "python3"
  },
  "language_info": {
   "codemirror_mode": {
    "name": "ipython",
    "version": 3
   },
   "file_extension": ".py",
   "mimetype": "text/x-python",
   "name": "python",
   "nbconvert_exporter": "python",
   "pygments_lexer": "ipython3",
   "version": "3.12.7"
  }
 },
 "nbformat": 4,
 "nbformat_minor": 5
}
