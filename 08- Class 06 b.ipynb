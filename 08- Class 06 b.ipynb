{
 "cells": [
  {
   "cell_type": "code",
   "execution_count": 1,
   "id": "7777c6da-78b0-4c9a-8283-4a91ce6ddef7",
   "metadata": {},
   "outputs": [
    {
     "name": "stdin",
     "output_type": "stream",
     "text": [
      "Enter your password:  hehe\n"
     ]
    },
    {
     "name": "stdout",
     "output_type": "stream",
     "text": [
      "Password is valid.\n"
     ]
    }
   ],
   "source": [
    "#use case of not\n",
    "password = input(\"Enter your password: \")\n",
    "\n",
    "if not password:\n",
    "    print(\"Password cannot be empty!\")\n",
    "else:\n",
    "    print(\"Password is valid.\")"
   ]
  },
  {
   "cell_type": "code",
   "execution_count": 2,
   "id": "ab05274e-b660-40c4-88c8-d58e1fdb738d",
   "metadata": {},
   "outputs": [
    {
     "name": "stdin",
     "output_type": "stream",
     "text": [
      "Enter your password:  \n"
     ]
    },
    {
     "name": "stdout",
     "output_type": "stream",
     "text": [
      "Password cannot be empty!\n"
     ]
    }
   ],
   "source": [
    "#use case of not\n",
    "password = input(\"Enter your password: \")\n",
    "\n",
    "if not password:\n",
    "    print(\"Password cannot be empty!\")\n",
    "else:\n",
    "    print(\"Password is valid.\")"
   ]
  },
  {
   "cell_type": "code",
   "execution_count": 3,
   "id": "89758e07-9ae5-4e1e-970f-7bd9f63d5370",
   "metadata": {},
   "outputs": [
    {
     "name": "stdin",
     "output_type": "stream",
     "text": [
      "Enter your password:  \n"
     ]
    }
   ],
   "source": [
    "password = input(\"Enter your password: \")"
   ]
  },
  {
   "cell_type": "code",
   "execution_count": 4,
   "id": "0cf57df1-0353-47cc-98e3-2ecc8546409e",
   "metadata": {},
   "outputs": [
    {
     "data": {
      "text/plain": [
       "''"
      ]
     },
     "execution_count": 4,
     "metadata": {},
     "output_type": "execute_result"
    }
   ],
   "source": [
    "password"
   ]
  },
  {
   "cell_type": "code",
   "execution_count": 5,
   "id": "f1a3e9aa-fdfa-4c23-922c-3a614570ea92",
   "metadata": {},
   "outputs": [
    {
     "name": "stdin",
     "output_type": "stream",
     "text": [
      "Enter your name:  MNK\n"
     ]
    },
    {
     "name": "stdout",
     "output_type": "stream",
     "text": [
      "Hello MNK\n"
     ]
    }
   ],
   "source": [
    "x = input(\"Enter your name: \")\n",
    "print(\"Hello\", x)"
   ]
  },
  {
   "cell_type": "code",
   "execution_count": 7,
   "id": "71441f58-090b-408f-9fd8-3da66f431602",
   "metadata": {},
   "outputs": [
    {
     "name": "stdin",
     "output_type": "stream",
     "text": [
      "Enter your name:  MNK\n"
     ]
    },
    {
     "ename": "NameError",
     "evalue": "name 'X' is not defined",
     "output_type": "error",
     "traceback": [
      "\u001b[1;31m---------------------------------------------------------------------------\u001b[0m",
      "\u001b[1;31mNameError\u001b[0m                                 Traceback (most recent call last)",
      "Cell \u001b[1;32mIn[7], line 2\u001b[0m\n\u001b[0;32m      1\u001b[0m x \u001b[38;5;241m=\u001b[39m \u001b[38;5;28minput\u001b[39m(\u001b[38;5;124m\"\u001b[39m\u001b[38;5;124mEnter your name: \u001b[39m\u001b[38;5;124m\"\u001b[39m)\n\u001b[1;32m----> 2\u001b[0m \u001b[38;5;28mprint\u001b[39m(\u001b[38;5;124m\"\u001b[39m\u001b[38;5;124mHello\u001b[39m\u001b[38;5;124m\"\u001b[39m, X)\n",
      "\u001b[1;31mNameError\u001b[0m: name 'X' is not defined"
     ]
    }
   ],
   "source": [
    "x = input(\"Enter your name: \")\n",
    "print(\"Hello\", X)"
   ]
  },
  {
   "cell_type": "code",
   "execution_count": 8,
   "id": "1ce9effa-0612-4112-ad52-c4a738b9f3d2",
   "metadata": {},
   "outputs": [
    {
     "name": "stdin",
     "output_type": "stream",
     "text": [
      "NUM1:  4\n",
      "NUM2:  5\n"
     ]
    },
    {
     "name": "stdout",
     "output_type": "stream",
     "text": [
      "9\n"
     ]
    }
   ],
   "source": [
    "x = int(input('NUM1: '))\n",
    "y = int(input('NUM2: '))\n",
    "a = x + y\n",
    "print(a)"
   ]
  },
  {
   "cell_type": "code",
   "execution_count": 9,
   "id": "6a54877c-79df-4895-aa0c-920644fbc8e1",
   "metadata": {},
   "outputs": [
    {
     "name": "stdin",
     "output_type": "stream",
     "text": [
      "NUM1:  4\n",
      "NUM2:  5\n"
     ]
    },
    {
     "name": "stdout",
     "output_type": "stream",
     "text": [
      "45\n"
     ]
    }
   ],
   "source": [
    "x = input('NUM1: ')\n",
    "y = input('NUM2: ')\n",
    "a = x + y\n",
    "print(a)"
   ]
  },
  {
   "cell_type": "markdown",
   "id": "167a78fb-d589-4c56-a863-2836b384fde3",
   "metadata": {},
   "source": [
    "## If, Elif and Else Statements."
   ]
  },
  {
   "cell_type": "code",
   "execution_count": 10,
   "id": "fbce1c40-b36c-4854-b00c-59d2f2e8743f",
   "metadata": {},
   "outputs": [
    {
     "name": "stdout",
     "output_type": "stream",
     "text": [
      "Get Ready!\n"
     ]
    }
   ],
   "source": [
    "# signal light example\n",
    "\n",
    "light = \"yellow\"\n",
    "\n",
    "if light == \"red\":\n",
    "    print(\"Wait!\")\n",
    "elif light == \"green\":\n",
    "    print('Move!')\n",
    "else:\n",
    "    print(\"Get Ready!\")"
   ]
  },
  {
   "cell_type": "code",
   "execution_count": 12,
   "id": "05d3611f-d2cc-4daf-9ef7-59dc61274de8",
   "metadata": {},
   "outputs": [
    {
     "name": "stdout",
     "output_type": "stream",
     "text": [
      "Wait!\n"
     ]
    }
   ],
   "source": [
    "light = \"red\"\n",
    "\n",
    "if light == \"red\":\n",
    "    print(\"Wait!\")\n",
    "elif light == \"green\":\n",
    "    print('Move!')\n",
    "else:\n",
    "    print(\"Get Ready!\")"
   ]
  },
  {
   "cell_type": "code",
   "execution_count": 13,
   "id": "30952cda-cb83-4e7e-84cd-9eba8a577fa9",
   "metadata": {},
   "outputs": [
    {
     "name": "stdout",
     "output_type": "stream",
     "text": [
      "Move!\n"
     ]
    }
   ],
   "source": [
    "light = \"green\"\n",
    "\n",
    "if light == \"red\":\n",
    "    print(\"Wait!\")\n",
    "elif light == \"green\":\n",
    "    print('Move!')\n",
    "else:\n",
    "    print(\"Get Ready!\")"
   ]
  },
  {
   "cell_type": "code",
   "execution_count": 14,
   "id": "636b3cd7-041b-4d16-bc7b-41cbe405db59",
   "metadata": {},
   "outputs": [
    {
     "name": "stdout",
     "output_type": "stream",
     "text": [
      "Eligible\n"
     ]
    }
   ],
   "source": [
    "# or and (Job Application)\n",
    "province = \"Sindh\"\n",
    "education = \"Intermediate\"\n",
    "age = 22\n",
    "\n",
    "if province == \"Punjab\" or (age >= 18 and age <= 22):\n",
    "    print(\"Eligible\")\n",
    "else:\n",
    "    print(\"Not Eligible\")"
   ]
  },
  {
   "cell_type": "code",
   "execution_count": 15,
   "id": "01d68b9a-8a05-4a41-a02f-304dc3276e4b",
   "metadata": {},
   "outputs": [
    {
     "name": "stdout",
     "output_type": "stream",
     "text": [
      "Not Eligible\n"
     ]
    }
   ],
   "source": [
    "province = \"Sindh\"\n",
    "education = \"Intermediate\"\n",
    "age = 22\n",
    "\n",
    "if province == \"Punjab\" and (age >= 18 and age <= 22):\n",
    "    print(\"Eligible\")\n",
    "else:\n",
    "    print(\"Not Eligible\")"
   ]
  },
  {
   "cell_type": "code",
   "execution_count": 21,
   "id": "b18acf0b-e3df-47db-94ae-b708ed2ede10",
   "metadata": {},
   "outputs": [
    {
     "name": "stdout",
     "output_type": "stream",
     "text": [
      "Not Eligible\n"
     ]
    }
   ],
   "source": [
    "province = \"Sindh\"\n",
    "education = \"Intermediate\"\n",
    "age = 22\n",
    "\n",
    "if province == \"Punjab\" or (age >= 18 and age < 22):\n",
    "    print(\"Eligible\")\n",
    "else:\n",
    "    print(\"Not Eligible\")"
   ]
  },
  {
   "cell_type": "code",
   "execution_count": 19,
   "id": "b9393b53-06ab-4c0e-b8bc-947fb886810d",
   "metadata": {},
   "outputs": [
    {
     "name": "stdout",
     "output_type": "stream",
     "text": [
      "Eligible\n"
     ]
    }
   ],
   "source": [
    "province = \"Sindh\"\n",
    "education = \"Intermediate\"\n",
    "age = 22\n",
    "\n",
    "if province == \"Punjab\" or (age >= 18 and age < 23):\n",
    "    print(\"Eligible\")\n",
    "else:\n",
    "    print(\"Not Eligible\")"
   ]
  },
  {
   "cell_type": "code",
   "execution_count": 20,
   "id": "6e5149af-6687-4d51-b071-62efe5cab2a8",
   "metadata": {},
   "outputs": [
    {
     "name": "stdout",
     "output_type": "stream",
     "text": [
      "Eligible\n"
     ]
    }
   ],
   "source": [
    "province = \"Sindh\"\n",
    "education = \"Intermediate\"\n",
    "age = 22\n",
    "\n",
    "if province == \"Sindh\" and (age >= 18 and age <= 22):\n",
    "    print(\"Eligible\")\n",
    "else:\n",
    "    print(\"Not Eligible\")"
   ]
  },
  {
   "cell_type": "code",
   "execution_count": 23,
   "id": "6d93facf-2a4a-4d77-a578-98f59dbc8001",
   "metadata": {},
   "outputs": [
    {
     "name": "stdout",
     "output_type": "stream",
     "text": [
      "Not Eligible\n"
     ]
    }
   ],
   "source": [
    "# or and (Job Application)\n",
    "province = \"KPK\"\n",
    "education = \"Graduate\"\n",
    "age = 25\n",
    "gender = \"Male\"\n",
    "\n",
    "if (province == \"KPK\") and (age >= 18 and age <= 25) and education == \"Intermediate\":\n",
    "    print(\"Eligible\")\n",
    "else:\n",
    "    print(\"Not Eligible\")"
   ]
  },
  {
   "cell_type": "code",
   "execution_count": 24,
   "id": "887a6a36-1bcd-42a1-9152-0a762c190372",
   "metadata": {},
   "outputs": [
    {
     "name": "stdout",
     "output_type": "stream",
     "text": [
      "Eligible\n"
     ]
    }
   ],
   "source": [
    "# or and (Job Application)\n",
    "province = \"KPK\"\n",
    "education = \"Graduate\"\n",
    "age = 25\n",
    "gender = \"Male\"\n",
    "\n",
    "if (province == \"KPK\") or (age >= 18 and age <= 25) or education == \"Intermediate\":\n",
    "    print(\"Eligible\")\n",
    "else:\n",
    "    print(\"Not Eligible\")"
   ]
  },
  {
   "cell_type": "code",
   "execution_count": 25,
   "id": "0d495d18-2728-4465-8dfd-70988ccca7c4",
   "metadata": {},
   "outputs": [
    {
     "name": "stdout",
     "output_type": "stream",
     "text": [
      "Eligible\n"
     ]
    }
   ],
   "source": [
    "# or and (Job Application)\n",
    "province = \"KPK\"\n",
    "education = \"Graduate\"\n",
    "age = 25\n",
    "gender = \"Male\"\n",
    "\n",
    "if (province == \"KPK\") or (age >= 18 and age <= 25) and education == \"Intermediate\":\n",
    "    print(\"Eligible\")\n",
    "else:\n",
    "    print(\"Not Eligible\")"
   ]
  },
  {
   "cell_type": "code",
   "execution_count": 27,
   "id": "f56ac0e7-4dcf-4a2a-b30a-f6d2998fef96",
   "metadata": {},
   "outputs": [
    {
     "name": "stdout",
     "output_type": "stream",
     "text": [
      "Eligible\n"
     ]
    }
   ],
   "source": [
    "# or and (Job Application)\n",
    "province = \"KPK\"\n",
    "education = \"Graduate\"\n",
    "age = 25\n",
    "gender = \"Male\"\n",
    "\n",
    "if (province == \"KPK\") or education == \"Intermediate\" and (age >= 18 and age <= 25):\n",
    "    print(\"Eligible\")\n",
    "else:\n",
    "    print(\"Not Eligible\")"
   ]
  },
  {
   "cell_type": "code",
   "execution_count": 28,
   "id": "0bea380a-608c-4528-b29b-66f77aaadfbc",
   "metadata": {},
   "outputs": [
    {
     "name": "stdout",
     "output_type": "stream",
     "text": [
      "Eligible\n"
     ]
    }
   ],
   "source": [
    "# or and (Job Application)\n",
    "province = \"Punjab\"\n",
    "education = \"Master\"\n",
    "age = 30\n",
    "gender = \"Male\"\n",
    "\n",
    "if (province == \"Punjab\") and (age >= 26 and age <= 30) and education == \"Master\":\n",
    "    print(\"Eligible\")\n",
    "elif (province == \"Punjab\") and (age >= 18 and age <= 26) and education == \"Graduate\":\n",
    "    print(\"Eligible too\")\n",
    "else:\n",
    "    print(\"Not Eligible\")"
   ]
  },
  {
   "cell_type": "code",
   "execution_count": 29,
   "id": "43d5a01a-b613-4207-8c08-767bb068d961",
   "metadata": {},
   "outputs": [
    {
     "name": "stdout",
     "output_type": "stream",
     "text": [
      "Eligible too\n"
     ]
    }
   ],
   "source": [
    "# or and (Job Application)\n",
    "province = \"Punjab\"\n",
    "education = \"Graduate\"\n",
    "age = 24\n",
    "gender = \"Male\"\n",
    "\n",
    "if (province == \"Punjab\") and (age >= 26 and age <= 30) and education == \"Master\":\n",
    "    print(\"Eligible\")\n",
    "elif (province == \"Punjab\") and (age >= 18 and age <= 26) and education == \"Graduate\":\n",
    "    print(\"Eligible too\")\n",
    "else:\n",
    "    print(\"Not Eligible\")"
   ]
  },
  {
   "cell_type": "code",
   "execution_count": 30,
   "id": "42fcef26-ea2f-407e-9981-bc375d43a15a",
   "metadata": {},
   "outputs": [
    {
     "name": "stdout",
     "output_type": "stream",
     "text": [
      "Not Eligible\n"
     ]
    }
   ],
   "source": [
    "# or and (Job Application)\n",
    "province = \"Other\"\n",
    "education = \"Matric\"\n",
    "age = 20\n",
    "gender = \"Male\"\n",
    "\n",
    "if (province == \"Punjab\") and (age >= 26 and age <= 30) and education == \"Master\":\n",
    "    print(\"Eligible\")\n",
    "elif (province == \"Punjab\") and (age >= 18 and age <= 26) and education == \"Graduate\":\n",
    "    print(\"Eligible too\")\n",
    "else:\n",
    "    print(\"Not Eligible\")"
   ]
  },
  {
   "cell_type": "code",
   "execution_count": 33,
   "id": "18b55e2d-ce87-46bf-b3b0-3e8d9c35e579",
   "metadata": {},
   "outputs": [
    {
     "name": "stdout",
     "output_type": "stream",
     "text": [
      "B\n"
     ]
    }
   ],
   "source": [
    "#student grading\n",
    "\n",
    "marks = 75\n",
    "\n",
    "if marks >= 90:\n",
    "    print(\"A+\")\n",
    "elif marks >= 80:\n",
    "    print(\"A\")\n",
    "elif marks >= 70:\n",
    "    print(\"B\")\n",
    "elif marks >= 60:\n",
    "    print(\"C\")\n",
    "elif marks >= 50:\n",
    "    print(\"D\")\n",
    "else:\n",
    "    print('FAILED')"
   ]
  },
  {
   "cell_type": "code",
   "execution_count": 36,
   "id": "048497fc-0a0f-468a-9329-d35d7a6a10a5",
   "metadata": {},
   "outputs": [
    {
     "name": "stdout",
     "output_type": "stream",
     "text": [
      "D\n"
     ]
    }
   ],
   "source": [
    "#student grading\n",
    "\n",
    "marks = 50\n",
    "\n",
    "if marks >= 90:\n",
    "    print(\"A+\")\n",
    "elif marks >= 80:\n",
    "    print(\"A\")\n",
    "elif marks >= 70:\n",
    "    print(\"B\")\n",
    "elif marks >= 60:\n",
    "    print(\"C\")\n",
    "elif marks >= 50:\n",
    "    print(\"D\")\n",
    "else:\n",
    "    print('FAILED')"
   ]
  },
  {
   "cell_type": "code",
   "execution_count": 35,
   "id": "19bb3020-e479-4db5-acde-8ef4183f8773",
   "metadata": {},
   "outputs": [
    {
     "name": "stdout",
     "output_type": "stream",
     "text": [
      "FAILED\n"
     ]
    }
   ],
   "source": [
    "#student grading\n",
    "\n",
    "marks = 49\n",
    "\n",
    "if marks >= 90:\n",
    "    print(\"A+\")\n",
    "elif marks >= 80:\n",
    "    print(\"A\")\n",
    "elif marks >= 70:\n",
    "    print(\"B\")\n",
    "elif marks >= 60:\n",
    "    print(\"C\")\n",
    "elif marks >= 50:\n",
    "    print(\"D\")\n",
    "else:\n",
    "    print('FAILED')"
   ]
  },
  {
   "cell_type": "code",
   "execution_count": 39,
   "id": "d44e220b-7a54-4e04-9a18-6d0a59704b9a",
   "metadata": {},
   "outputs": [
    {
     "name": "stdin",
     "output_type": "stream",
     "text": [
      "enter number:  2\n"
     ]
    },
    {
     "name": "stdout",
     "output_type": "stream",
     "text": [
      "Even\n"
     ]
    }
   ],
   "source": [
    "#WAP to check if a number entered by user is even or odd?\n",
    "num = int(input(\"enter number: \"))\n",
    "rem = num % 2\n",
    "if (rem==0):\n",
    "    print(\"Even\")\n",
    "else:\n",
    "    print(\"Odd\")"
   ]
  },
  {
   "cell_type": "code",
   "execution_count": 40,
   "id": "3057e5fe-2c20-4ce0-a8cd-db00915e79d2",
   "metadata": {},
   "outputs": [
    {
     "name": "stdin",
     "output_type": "stream",
     "text": [
      "enter number:  20\n"
     ]
    },
    {
     "name": "stdout",
     "output_type": "stream",
     "text": [
      "Even\n"
     ]
    }
   ],
   "source": [
    "#WAP to check if a number entered by user is even or odd?\n",
    "num = int(input(\"enter number: \"))\n",
    "rem = num % 2\n",
    "if (rem==0):\n",
    "    print(\"Even\")\n",
    "else:\n",
    "    print(\"Odd\")"
   ]
  },
  {
   "cell_type": "code",
   "execution_count": 41,
   "id": "3609a8e4-b64f-42ce-a8be-0965f886406c",
   "metadata": {},
   "outputs": [
    {
     "name": "stdin",
     "output_type": "stream",
     "text": [
      "enter number:  9\n"
     ]
    },
    {
     "name": "stdout",
     "output_type": "stream",
     "text": [
      "Odd\n"
     ]
    }
   ],
   "source": [
    "#WAP to check if a number entered by user is even or odd?\n",
    "num = int(input(\"enter number: \"))\n",
    "rem = num % 2\n",
    "if (rem==0):\n",
    "    print(\"Even\")\n",
    "else:\n",
    "    print(\"Odd\")"
   ]
  },
  {
   "cell_type": "code",
   "execution_count": 43,
   "id": "edff72b7-1756-49c1-9da1-14e67932de1e",
   "metadata": {},
   "outputs": [
    {
     "name": "stdin",
     "output_type": "stream",
     "text": [
      "enter number:  690\n"
     ]
    },
    {
     "name": "stdout",
     "output_type": "stream",
     "text": [
      "Multiple\n"
     ]
    }
   ],
   "source": [
    "# WAP to check if number is a multiple of 5 or not\n",
    "x = int(input(\"enter number: \"))\n",
    "y = x%5\n",
    "if (y==0):\n",
    "    print(\"Multiple\")\n",
    "else:\n",
    "    print(\"Not a Multiple\")"
   ]
  },
  {
   "cell_type": "code",
   "execution_count": 44,
   "id": "3259a18a-77fd-45e3-a3bc-740b8840d4d0",
   "metadata": {},
   "outputs": [
    {
     "name": "stdin",
     "output_type": "stream",
     "text": [
      "enter number:  69\n"
     ]
    },
    {
     "name": "stdout",
     "output_type": "stream",
     "text": [
      "Not a Multiple\n"
     ]
    }
   ],
   "source": [
    "# WAP to check if number is a multiple of 5 or not\n",
    "x = int(input(\"enter number: \"))\n",
    "y = x%5\n",
    "if (y==0):\n",
    "    print(\"Multiple\")\n",
    "else:\n",
    "    print(\"Not a Multiple\")"
   ]
  },
  {
   "cell_type": "code",
   "execution_count": 45,
   "id": "c62c0ce7-3ee0-42db-9dc5-5630bfb0e42f",
   "metadata": {},
   "outputs": [
    {
     "name": "stdin",
     "output_type": "stream",
     "text": [
      "enter number:  96\n"
     ]
    },
    {
     "name": "stdout",
     "output_type": "stream",
     "text": [
      "Not a Multiple\n"
     ]
    }
   ],
   "source": [
    "# WAP to check if number is a multiple of 5 or not\n",
    "x = int(input(\"enter number: \"))\n",
    "y = x%5\n",
    "if (y==0):\n",
    "    print(\"Multiple\")\n",
    "else:\n",
    "    print(\"Not a Multiple\")"
   ]
  },
  {
   "cell_type": "code",
   "execution_count": 50,
   "id": "90b1437a-65d4-47da-a5fc-0246ad1d68a7",
   "metadata": {},
   "outputs": [
    {
     "name": "stdin",
     "output_type": "stream",
     "text": [
      "enter number:  25\n"
     ]
    },
    {
     "name": "stdout",
     "output_type": "stream",
     "text": [
      "Not a Multiple\n"
     ]
    }
   ],
   "source": [
    "# WAP to check if number is a multiple of 5 or not\n",
    "x = int(input(\"enter number: \"))\n",
    "y = x%5\n",
    "if (y**5):\n",
    "    print(\"Multiple\")\n",
    "else:\n",
    "    print(\"Not a Multiple\")"
   ]
  },
  {
   "cell_type": "code",
   "execution_count": null,
   "id": "02dca7c1-68a1-4963-83e7-622a5ee974ee",
   "metadata": {},
   "outputs": [],
   "source": []
  }
 ],
 "metadata": {
  "kernelspec": {
   "display_name": "Python 3 (ipykernel)",
   "language": "python",
   "name": "python3"
  },
  "language_info": {
   "codemirror_mode": {
    "name": "ipython",
    "version": 3
   },
   "file_extension": ".py",
   "mimetype": "text/x-python",
   "name": "python",
   "nbconvert_exporter": "python",
   "pygments_lexer": "ipython3",
   "version": "3.12.7"
  }
 },
 "nbformat": 4,
 "nbformat_minor": 5
}
