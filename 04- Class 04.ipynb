{
 "cells": [
  {
   "cell_type": "markdown",
   "id": "af19a789-98e2-401f-80ff-86a6e2642871",
   "metadata": {},
   "source": [
    "##  List"
   ]
  },
  {
   "cell_type": "code",
   "execution_count": 1,
   "id": "4adeffb5-1c62-47f1-8538-97ea61aef60b",
   "metadata": {},
   "outputs": [
    {
     "ename": "NameError",
     "evalue": "name 'k' is not defined",
     "output_type": "error",
     "traceback": [
      "\u001b[1;31m---------------------------------------------------------------------------\u001b[0m",
      "\u001b[1;31mNameError\u001b[0m                                 Traceback (most recent call last)",
      "Cell \u001b[1;32mIn[1], line 1\u001b[0m\n\u001b[1;32m----> 1\u001b[0m \u001b[38;5;241m30\u001b[39m\u001b[38;5;241m+\u001b[39mk\n",
      "\u001b[1;31mNameError\u001b[0m: name 'k' is not defined"
     ]
    }
   ],
   "source": [
    "30+k"
   ]
  },
  {
   "cell_type": "code",
   "execution_count": null,
   "id": "070903ef-1ae0-4c0f-8cc1-b84754c27ce9",
   "metadata": {},
   "outputs": [],
   "source": [
    "30 + 'k'"
   ]
  },
  {
   "cell_type": "code",
   "execution_count": null,
   "id": "79a6b103-3279-4a3b-841f-f61da570de35",
   "metadata": {},
   "outputs": [],
   "source": [
    "# as above data types are different from one another that's why python is giving an error."
   ]
  },
  {
   "cell_type": "code",
   "execution_count": 2,
   "id": "64d99459-62ee-40ba-b993-6d8c320b6b4b",
   "metadata": {},
   "outputs": [
    {
     "data": {
      "text/plain": [
       "'30k'"
      ]
     },
     "execution_count": 2,
     "metadata": {},
     "output_type": "execute_result"
    }
   ],
   "source": [
    "'30'+'k'"
   ]
  },
  {
   "cell_type": "code",
   "execution_count": null,
   "id": "a915e6d0-6600-4e33-ac72-b10e7dd9b3ce",
   "metadata": {},
   "outputs": [],
   "source": [
    "# Now its considering both as string as both contains '' around them."
   ]
  },
  {
   "cell_type": "code",
   "execution_count": null,
   "id": "507867f1-e32a-42c9-95e8-29ef8d552ab4",
   "metadata": {},
   "outputs": [],
   "source": [
    "salaries = [30k]"
   ]
  },
  {
   "cell_type": "code",
   "execution_count": 4,
   "id": "2d8d7fb9-9c90-468b-b063-1de8542f5f94",
   "metadata": {},
   "outputs": [],
   "source": [
    "salaries = ['30k','20k','65k','89k','25k']"
   ]
  },
  {
   "cell_type": "code",
   "execution_count": 5,
   "id": "cc350f9c-8ea1-4967-8b82-110db255d888",
   "metadata": {},
   "outputs": [
    {
     "data": {
      "text/plain": [
       "['30k', '20k', '65k', '89k', '25k']"
      ]
     },
     "execution_count": 5,
     "metadata": {},
     "output_type": "execute_result"
    }
   ],
   "source": [
    "salaries"
   ]
  },
  {
   "cell_type": "code",
   "execution_count": 6,
   "id": "4dd189f4-64d7-4577-aa49-3022dc38e75c",
   "metadata": {},
   "outputs": [
    {
     "data": {
      "text/plain": [
       "['Moiz', 20, 45.5, 'email', ['30k', '20k', '65k', '89k', '25k']]"
      ]
     },
     "execution_count": 6,
     "metadata": {},
     "output_type": "execute_result"
    }
   ],
   "source": [
    "bio = ['Moiz',20,45.5,'email',salaries]\n",
    "bio"
   ]
  },
  {
   "cell_type": "code",
   "execution_count": null,
   "id": "19b0951b-0571-48b2-934e-35f9b0e506e6",
   "metadata": {},
   "outputs": [],
   "source": [
    "# list in list applied here."
   ]
  },
  {
   "cell_type": "code",
   "execution_count": 7,
   "id": "44198d8f-fb5f-4304-8310-3d24a6b9c55b",
   "metadata": {},
   "outputs": [
    {
     "data": {
      "text/plain": [
       "['30k', '20k', '65k', '89k', '25k']"
      ]
     },
     "execution_count": 7,
     "metadata": {},
     "output_type": "execute_result"
    }
   ],
   "source": [
    "salaries"
   ]
  },
  {
   "cell_type": "code",
   "execution_count": 8,
   "id": "1de11448-6e02-4d54-845e-8a5426b336ab",
   "metadata": {},
   "outputs": [
    {
     "data": {
      "text/plain": [
       "5"
      ]
     },
     "execution_count": 8,
     "metadata": {},
     "output_type": "execute_result"
    }
   ],
   "source": [
    "len(salaries)"
   ]
  },
  {
   "cell_type": "code",
   "execution_count": null,
   "id": "ff233353-e203-48ba-a034-7e2f22179dbe",
   "metadata": {},
   "outputs": [],
   "source": [
    "# the number of elements, a list contain."
   ]
  },
  {
   "cell_type": "markdown",
   "id": "452f95b5-a0e1-4ced-ade2-d4e6d6c1f100",
   "metadata": {},
   "source": [
    "## Indexing"
   ]
  },
  {
   "cell_type": "code",
   "execution_count": null,
   "id": "2c8e42ad-1afe-445f-b792-23f7089c71a0",
   "metadata": {},
   "outputs": [],
   "source": [
    "# In indexing these [] are used."
   ]
  },
  {
   "cell_type": "code",
   "execution_count": 9,
   "id": "558f9d1c-cd8d-46db-b7e1-a9d33d1cb68a",
   "metadata": {},
   "outputs": [
    {
     "data": {
      "text/plain": [
       "['30k', '20k', '65k', '89k', '25k']"
      ]
     },
     "execution_count": 9,
     "metadata": {},
     "output_type": "execute_result"
    }
   ],
   "source": [
    "salaries"
   ]
  },
  {
   "cell_type": "code",
   "execution_count": null,
   "id": "f8801c3e-0ec1-4b2c-9dfe-1af95a4d2f45",
   "metadata": {},
   "outputs": [],
   "source": [
    "# Index function counts from 0."
   ]
  },
  {
   "cell_type": "code",
   "execution_count": 10,
   "id": "74505e4c-e6e5-47ae-aff3-833d9dd5305d",
   "metadata": {},
   "outputs": [
    {
     "data": {
      "text/plain": [
       "'89k'"
      ]
     },
     "execution_count": 10,
     "metadata": {},
     "output_type": "execute_result"
    }
   ],
   "source": [
    "salaries[3]"
   ]
  },
  {
   "cell_type": "code",
   "execution_count": null,
   "id": "cae3451c-2a54-4ca9-aa36-c877277ac763",
   "metadata": {},
   "outputs": [],
   "source": [
    "# +ve indexing counts from left to right."
   ]
  },
  {
   "cell_type": "code",
   "execution_count": 11,
   "id": "09b3ce3e-0b2f-4d27-8a46-f1800f7c1adb",
   "metadata": {},
   "outputs": [
    {
     "data": {
      "text/plain": [
       "'25k'"
      ]
     },
     "execution_count": 11,
     "metadata": {},
     "output_type": "execute_result"
    }
   ],
   "source": [
    "salaries[-1]"
   ]
  },
  {
   "cell_type": "code",
   "execution_count": null,
   "id": "7710cac8-c8a2-455e-be9f-11926c955f25",
   "metadata": {},
   "outputs": [],
   "source": [
    "# -ve indexing counts from right to left."
   ]
  },
  {
   "cell_type": "code",
   "execution_count": 12,
   "id": "47181755-cd9d-46ff-a568-27448b6cac0b",
   "metadata": {},
   "outputs": [
    {
     "data": {
      "text/plain": [
       "'65k'"
      ]
     },
     "execution_count": 12,
     "metadata": {},
     "output_type": "execute_result"
    }
   ],
   "source": [
    "salaries[-3]"
   ]
  },
  {
   "cell_type": "code",
   "execution_count": 13,
   "id": "f95b9a36-5eb4-4ac2-b787-a214f1181200",
   "metadata": {},
   "outputs": [
    {
     "data": {
      "text/plain": [
       "['30k', '20k', '65k', '89k', '25k']"
      ]
     },
     "execution_count": 13,
     "metadata": {},
     "output_type": "execute_result"
    }
   ],
   "source": [
    "salaries"
   ]
  },
  {
   "cell_type": "code",
   "execution_count": 14,
   "id": "14d88d7b-5f85-4199-9e72-bcdf9136e398",
   "metadata": {},
   "outputs": [
    {
     "ename": "TypeError",
     "evalue": "list indices must be integers or slices, not tuple",
     "output_type": "error",
     "traceback": [
      "\u001b[1;31m---------------------------------------------------------------------------\u001b[0m",
      "\u001b[1;31mTypeError\u001b[0m                                 Traceback (most recent call last)",
      "Cell \u001b[1;32mIn[14], line 1\u001b[0m\n\u001b[1;32m----> 1\u001b[0m salaries[\u001b[38;5;241m1\u001b[39m,\u001b[38;5;241m2\u001b[39m,\u001b[38;5;241m3\u001b[39m]\n",
      "\u001b[1;31mTypeError\u001b[0m: list indices must be integers or slices, not tuple"
     ]
    }
   ],
   "source": [
    "salaries[1,2,3]"
   ]
  },
  {
   "cell_type": "code",
   "execution_count": 17,
   "id": "be1ca3f1-5894-443d-be38-b4b08a84ec61",
   "metadata": {},
   "outputs": [],
   "source": [
    "#If you want all the items at even-numbered indexes."
   ]
  },
  {
   "cell_type": "code",
   "execution_count": 15,
   "id": "c8175312-5a78-4c53-88da-3b29acc207f1",
   "metadata": {},
   "outputs": [
    {
     "data": {
      "text/plain": [
       "['30k', '65k', '25k']"
      ]
     },
     "execution_count": 15,
     "metadata": {},
     "output_type": "execute_result"
    }
   ],
   "source": [
    "salaries[0::2]"
   ]
  },
  {
   "cell_type": "code",
   "execution_count": 16,
   "id": "d361500d-edf6-4f5b-828d-f6dd37f5df96",
   "metadata": {},
   "outputs": [],
   "source": [
    "#start: Where to begin (we started at 0).\n",
    "#end: Where to stop (we didn't need to specify, so it goes to the end).\n",
    "#step: How many steps to skip (we used 2 to pick every second item)."
   ]
  },
  {
   "cell_type": "code",
   "execution_count": 18,
   "id": "11520841-a603-4f36-b8e9-e05efe86c456",
   "metadata": {},
   "outputs": [],
   "source": [
    "#If you want all the items at odd-numbered indexes."
   ]
  },
  {
   "cell_type": "code",
   "execution_count": 19,
   "id": "b06e9441-6fa3-4a32-8bcb-ac020cb69169",
   "metadata": {},
   "outputs": [
    {
     "data": {
      "text/plain": [
       "['20k', '89k']"
      ]
     },
     "execution_count": 19,
     "metadata": {},
     "output_type": "execute_result"
    }
   ],
   "source": [
    "salaries[1::2]"
   ]
  },
  {
   "cell_type": "markdown",
   "id": "abcd4fdf-9e8e-425a-9c9d-0f805ab231be",
   "metadata": {},
   "source": [
    "## Slicing"
   ]
  },
  {
   "cell_type": "code",
   "execution_count": 20,
   "id": "54a3efdf-f4d0-4050-b469-298866bbc8e8",
   "metadata": {},
   "outputs": [
    {
     "data": {
      "text/plain": [
       "['30k', '20k', '65k', '89k', '25k']"
      ]
     },
     "execution_count": 20,
     "metadata": {},
     "output_type": "execute_result"
    }
   ],
   "source": [
    "salaries"
   ]
  },
  {
   "cell_type": "code",
   "execution_count": null,
   "id": "a849f4a2-1303-4b78-a166-b372e196f9d0",
   "metadata": {},
   "outputs": [],
   "source": [
    "# In slicing last mentioned digit doesn't come."
   ]
  },
  {
   "cell_type": "code",
   "execution_count": 21,
   "id": "048aa96a-598d-4dd5-92fb-f6df09288c63",
   "metadata": {},
   "outputs": [
    {
     "data": {
      "text/plain": [
       "['20k', '65k']"
      ]
     },
     "execution_count": 21,
     "metadata": {},
     "output_type": "execute_result"
    }
   ],
   "source": [
    "salaries[1:3]"
   ]
  },
  {
   "cell_type": "code",
   "execution_count": 22,
   "id": "57158860-869d-4688-ba07-5a8ae2069340",
   "metadata": {},
   "outputs": [
    {
     "data": {
      "text/plain": [
       "['20k', '65k', '89k']"
      ]
     },
     "execution_count": 22,
     "metadata": {},
     "output_type": "execute_result"
    }
   ],
   "source": [
    "salaries[1:4]"
   ]
  },
  {
   "cell_type": "code",
   "execution_count": 23,
   "id": "9118d4a9-6d03-4c38-95fa-39d0d6b533bb",
   "metadata": {},
   "outputs": [
    {
     "ename": "IndexError",
     "evalue": "list index out of range",
     "output_type": "error",
     "traceback": [
      "\u001b[1;31m---------------------------------------------------------------------------\u001b[0m",
      "\u001b[1;31mIndexError\u001b[0m                                Traceback (most recent call last)",
      "Cell \u001b[1;32mIn[23], line 1\u001b[0m\n\u001b[1;32m----> 1\u001b[0m salaries[\u001b[38;5;241m5\u001b[39m]\n",
      "\u001b[1;31mIndexError\u001b[0m: list index out of range"
     ]
    }
   ],
   "source": [
    "salaries[5]"
   ]
  },
  {
   "cell_type": "code",
   "execution_count": null,
   "id": "4c4b02ff-0639-4d1b-89cf-034c98981d3c",
   "metadata": {},
   "outputs": [],
   "source": [
    "# As elements are 5  which comes under 0 to 4."
   ]
  },
  {
   "cell_type": "code",
   "execution_count": 24,
   "id": "29daa88a-e1f2-4630-a033-db2bd95b2091",
   "metadata": {},
   "outputs": [
    {
     "data": {
      "text/plain": [
       "['30k', '20k', '65k', '89k', '25k']"
      ]
     },
     "execution_count": 24,
     "metadata": {},
     "output_type": "execute_result"
    }
   ],
   "source": [
    "salaries"
   ]
  },
  {
   "cell_type": "code",
   "execution_count": 25,
   "id": "0a42482e-3eea-4386-9f75-778c02d9562a",
   "metadata": {},
   "outputs": [
    {
     "data": {
      "text/plain": [
       "[]"
      ]
     },
     "execution_count": 25,
     "metadata": {},
     "output_type": "execute_result"
    }
   ],
   "source": [
    "salaries[-2:-5]"
   ]
  },
  {
   "cell_type": "code",
   "execution_count": null,
   "id": "e500722f-a8d4-41f8-9056-b29f6ebe416c",
   "metadata": {},
   "outputs": [],
   "source": [
    "# While applying -ve indexing put the bigger number with negative sign before :"
   ]
  },
  {
   "cell_type": "code",
   "execution_count": 26,
   "id": "6e8a08ed-4c7e-4f50-be64-3dd9dbbb798e",
   "metadata": {},
   "outputs": [
    {
     "data": {
      "text/plain": [
       "['20k', '65k', '89k']"
      ]
     },
     "execution_count": 26,
     "metadata": {},
     "output_type": "execute_result"
    }
   ],
   "source": [
    "salaries[-4:-1]"
   ]
  },
  {
   "cell_type": "code",
   "execution_count": 27,
   "id": "6028c624-9cd6-4dca-b82b-29675b3fc477",
   "metadata": {},
   "outputs": [
    {
     "data": {
      "text/plain": [
       "['20k', '65k', '89k', '25k']"
      ]
     },
     "execution_count": 27,
     "metadata": {},
     "output_type": "execute_result"
    }
   ],
   "source": [
    "salaries[-4:]"
   ]
  },
  {
   "cell_type": "markdown",
   "id": "dfa6ae08-95ca-4316-b8e7-f6d529f06d2e",
   "metadata": {},
   "source": [
    "##### salaries"
   ]
  },
  {
   "cell_type": "code",
   "execution_count": 30,
   "id": "6707449c-e5e9-41ad-ad1b-08093b710e1c",
   "metadata": {},
   "outputs": [
    {
     "data": {
      "text/plain": [
       "['20k', '65k', '89k', '25k']"
      ]
     },
     "execution_count": 30,
     "metadata": {},
     "output_type": "execute_result"
    }
   ],
   "source": [
    "salaries[1:]"
   ]
  },
  {
   "cell_type": "code",
   "execution_count": 29,
   "id": "f29f5c1f-1d3e-4bff-b6f8-b8e11855b82c",
   "metadata": {},
   "outputs": [
    {
     "data": {
      "text/plain": [
       "['30k', '20k', '65k']"
      ]
     },
     "execution_count": 29,
     "metadata": {},
     "output_type": "execute_result"
    }
   ],
   "source": [
    "salaries[:3]"
   ]
  },
  {
   "cell_type": "code",
   "execution_count": 31,
   "id": "58c6776d-d5e0-4c9a-a683-927bc525de91",
   "metadata": {},
   "outputs": [
    {
     "data": {
      "text/plain": [
       "list"
      ]
     },
     "execution_count": 31,
     "metadata": {},
     "output_type": "execute_result"
    }
   ],
   "source": [
    "type(salaries)"
   ]
  },
  {
   "cell_type": "code",
   "execution_count": null,
   "id": "34c3120e-3a2e-4b2a-8562-d8f5ef6724a2",
   "metadata": {},
   "outputs": [],
   "source": [
    "# here dir means directory."
   ]
  },
  {
   "cell_type": "code",
   "execution_count": 32,
   "id": "7a61733c-b1a5-4108-962d-7a3a4129cfe5",
   "metadata": {},
   "outputs": [
    {
     "ename": "NameError",
     "evalue": "name 'List' is not defined",
     "output_type": "error",
     "traceback": [
      "\u001b[1;31m---------------------------------------------------------------------------\u001b[0m",
      "\u001b[1;31mNameError\u001b[0m                                 Traceback (most recent call last)",
      "Cell \u001b[1;32mIn[32], line 1\u001b[0m\n\u001b[1;32m----> 1\u001b[0m \u001b[38;5;28mdir\u001b[39m(List)\n",
      "\u001b[1;31mNameError\u001b[0m: name 'List' is not defined"
     ]
    }
   ],
   "source": [
    "dir(List)"
   ]
  },
  {
   "cell_type": "code",
   "execution_count": 33,
   "id": "c928fa2c-d1ed-459c-a744-8b9f6f111c60",
   "metadata": {},
   "outputs": [
    {
     "data": {
      "text/plain": [
       "['__add__',\n",
       " '__class__',\n",
       " '__class_getitem__',\n",
       " '__contains__',\n",
       " '__delattr__',\n",
       " '__delitem__',\n",
       " '__dir__',\n",
       " '__doc__',\n",
       " '__eq__',\n",
       " '__format__',\n",
       " '__ge__',\n",
       " '__getattribute__',\n",
       " '__getitem__',\n",
       " '__getstate__',\n",
       " '__gt__',\n",
       " '__hash__',\n",
       " '__iadd__',\n",
       " '__imul__',\n",
       " '__init__',\n",
       " '__init_subclass__',\n",
       " '__iter__',\n",
       " '__le__',\n",
       " '__len__',\n",
       " '__lt__',\n",
       " '__mul__',\n",
       " '__ne__',\n",
       " '__new__',\n",
       " '__reduce__',\n",
       " '__reduce_ex__',\n",
       " '__repr__',\n",
       " '__reversed__',\n",
       " '__rmul__',\n",
       " '__setattr__',\n",
       " '__setitem__',\n",
       " '__sizeof__',\n",
       " '__str__',\n",
       " '__subclasshook__',\n",
       " 'append',\n",
       " 'clear',\n",
       " 'copy',\n",
       " 'count',\n",
       " 'extend',\n",
       " 'index',\n",
       " 'insert',\n",
       " 'pop',\n",
       " 'remove',\n",
       " 'reverse',\n",
       " 'sort']"
      ]
     },
     "execution_count": 33,
     "metadata": {},
     "output_type": "execute_result"
    }
   ],
   "source": [
    "dir(list)"
   ]
  },
  {
   "cell_type": "code",
   "execution_count": 34,
   "id": "71f58d8b-ee71-4da5-baae-5f1488beffc7",
   "metadata": {},
   "outputs": [
    {
     "data": {
      "text/plain": [
       "['__add__',\n",
       " '__class__',\n",
       " '__class_getitem__',\n",
       " '__contains__',\n",
       " '__delattr__',\n",
       " '__delitem__',\n",
       " '__dir__',\n",
       " '__doc__',\n",
       " '__eq__',\n",
       " '__format__',\n",
       " '__ge__',\n",
       " '__getattribute__',\n",
       " '__getitem__',\n",
       " '__getstate__',\n",
       " '__gt__',\n",
       " '__hash__',\n",
       " '__iadd__',\n",
       " '__imul__',\n",
       " '__init__',\n",
       " '__init_subclass__',\n",
       " '__iter__',\n",
       " '__le__',\n",
       " '__len__',\n",
       " '__lt__',\n",
       " '__mul__',\n",
       " '__ne__',\n",
       " '__new__',\n",
       " '__reduce__',\n",
       " '__reduce_ex__',\n",
       " '__repr__',\n",
       " '__reversed__',\n",
       " '__rmul__',\n",
       " '__setattr__',\n",
       " '__setitem__',\n",
       " '__sizeof__',\n",
       " '__str__',\n",
       " '__subclasshook__',\n",
       " 'append',\n",
       " 'clear',\n",
       " 'copy',\n",
       " 'count',\n",
       " 'extend',\n",
       " 'index',\n",
       " 'insert',\n",
       " 'pop',\n",
       " 'remove',\n",
       " 'reverse',\n",
       " 'sort']"
      ]
     },
     "execution_count": 34,
     "metadata": {},
     "output_type": "execute_result"
    }
   ],
   "source": [
    "dir([])"
   ]
  },
  {
   "cell_type": "code",
   "execution_count": null,
   "id": "2df27b2a-9d66-4098-8d7d-e8fc5f02ecbe",
   "metadata": {},
   "outputs": [],
   "source": []
  }
 ],
 "metadata": {
  "kernelspec": {
   "display_name": "Python 3 (ipykernel)",
   "language": "python",
   "name": "python3"
  },
  "language_info": {
   "codemirror_mode": {
    "name": "ipython",
    "version": 3
   },
   "file_extension": ".py",
   "mimetype": "text/x-python",
   "name": "python",
   "nbconvert_exporter": "python",
   "pygments_lexer": "ipython3",
   "version": "3.12.7"
  }
 },
 "nbformat": 4,
 "nbformat_minor": 5
}
