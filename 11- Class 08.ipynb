{
 "cells": [
  {
   "cell_type": "markdown",
   "id": "3603695c-03df-498e-a00b-a9b267455182",
   "metadata": {},
   "source": [
    "## Identity Operators (IS - IS NOT)"
   ]
  },
  {
   "cell_type": "markdown",
   "id": "9997a241-1015-4bbf-8d31-224a23117adf",
   "metadata": {},
   "source": [
    "Identity operators are used to compare the memory location of two objects. These are different from the relational operators because they check if two variables refer to the same object, not if their values are equal. (returns True or False) (optimization, performance enhancement)"
   ]
  },
  {
   "cell_type": "code",
   "execution_count": 3,
   "id": "24c5a0a4-135a-40c7-b339-beb732658955",
   "metadata": {},
   "outputs": [
    {
     "name": "stdout",
     "output_type": "stream",
     "text": [
      "True\n",
      "140734687160760\n",
      "140734687160760\n"
     ]
    }
   ],
   "source": [
    "#basic example (immutable)\n",
    "#is\n",
    "a = 1 \n",
    "b = 1\n",
    "#save one copy\n",
    "\n",
    "print(a is b)\n",
    "\n",
    "#function id\n",
    "print(id(a))\n",
    "print(id(b))"
   ]
  },
  {
   "cell_type": "code",
   "execution_count": 4,
   "id": "02d22aa3-9b50-4052-b404-72223c8d9cc5",
   "metadata": {},
   "outputs": [
    {
     "data": {
      "text/plain": [
       "3177135570160"
      ]
     },
     "execution_count": 4,
     "metadata": {},
     "output_type": "execute_result"
    }
   ],
   "source": [
    "a = \"python\"\n",
    "b = \"python\"\n",
    "\n",
    "# print(a is b)\n",
    "id(a)\n",
    "id(b)"
   ]
  },
  {
   "cell_type": "code",
   "execution_count": 1,
   "id": "369394b7-2a62-4870-b434-e2ceb1ac4f4e",
   "metadata": {},
   "outputs": [],
   "source": [
    "# If we write the variables alone the last one will over ride the remaining."
   ]
  },
  {
   "cell_type": "code",
   "execution_count": 6,
   "id": "5b1515f9-f355-44d0-9995-1754a9f83712",
   "metadata": {},
   "outputs": [
    {
     "name": "stdout",
     "output_type": "stream",
     "text": [
      "True\n",
      "3177135570160\n",
      "3177135570160\n"
     ]
    }
   ],
   "source": [
    "a = \"python\"\n",
    "b = \"python\"\n",
    "\n",
    "print(a is b)\n",
    "print(id(a))\n",
    "print(id(b))"
   ]
  },
  {
   "cell_type": "code",
   "execution_count": 8,
   "id": "77fdd81a-5739-4566-8cc3-a3a52cd9dd79",
   "metadata": {},
   "outputs": [
    {
     "name": "stdin",
     "output_type": "stream",
     "text": [
      "enter python\n",
      "enter python\n"
     ]
    },
    {
     "name": "stdout",
     "output_type": "stream",
     "text": [
      "False\n",
      "3177228719552\n",
      "3177228719888\n"
     ]
    }
   ],
   "source": [
    "#input\n",
    "x = input(\"enter\")\n",
    "y = input(\"enter\")\n",
    "\n",
    "print(x is y)\n",
    "print(id(x))\n",
    "print(id(y))"
   ]
  },
  {
   "cell_type": "code",
   "execution_count": 9,
   "id": "d16bcbf2-4cd5-4929-a81c-0c65609d4857",
   "metadata": {},
   "outputs": [
    {
     "name": "stdin",
     "output_type": "stream",
     "text": [
      "enter 1\n",
      "enter 1\n"
     ]
    },
    {
     "name": "stdout",
     "output_type": "stream",
     "text": [
      "True\n",
      "140734687160760\n",
      "140734687160760\n"
     ]
    }
   ],
   "source": [
    "x = int(input(\"enter\"))\n",
    "y = int(input(\"enter\"))\n",
    "\n",
    "print(x is y)\n",
    "print(id(x))\n",
    "print(id(y))"
   ]
  },
  {
   "cell_type": "code",
   "execution_count": 10,
   "id": "21e42501-0046-439e-b0a7-5b515b5bd500",
   "metadata": {},
   "outputs": [
    {
     "name": "stdout",
     "output_type": "stream",
     "text": [
      "True\n",
      "False\n"
     ]
    }
   ],
   "source": [
    "# Identity with mutable objects\n",
    "a = [1,2,3]\n",
    "b = [1,2,3]\n",
    "c = [1,2,3]\n",
    "print(a == b) \n",
    "print(a is b)"
   ]
  },
  {
   "cell_type": "code",
   "execution_count": 11,
   "id": "f7626d07-0444-4bc9-b865-75bf3dfdc782",
   "metadata": {},
   "outputs": [
    {
     "name": "stdout",
     "output_type": "stream",
     "text": [
      "False\n",
      "3177228663232\n",
      "3177228654528\n"
     ]
    }
   ],
   "source": [
    "# Identity with mutable objects\n",
    "a = [1,2,3]\n",
    "b = [1,2,3]\n",
    "c = [1,2,3]\n",
    "\n",
    "print(a is b)\n",
    "print(id(a)) #location\n",
    "print(id(b)) #location"
   ]
  },
  {
   "cell_type": "code",
   "execution_count": 12,
   "id": "fc5ef734-df8f-4579-b6dd-eaa9639199c7",
   "metadata": {},
   "outputs": [
    {
     "name": "stdout",
     "output_type": "stream",
     "text": [
      "True\n",
      "3177228709696\n",
      "3177228709696\n"
     ]
    }
   ],
   "source": [
    "# Identity with mutable objects\n",
    "a = [1,2,3]\n",
    "b = a #python assigned same location\n",
    "c = [1,2,3]\n",
    "\n",
    "print(a is b)\n",
    "print(id(a))\n",
    "print(id(b))"
   ]
  },
  {
   "cell_type": "code",
   "execution_count": 13,
   "id": "8a0fe032-0950-44f5-bb88-c35224b6ea32",
   "metadata": {},
   "outputs": [
    {
     "name": "stdout",
     "output_type": "stream",
     "text": [
      "True\n",
      "True\n",
      "140734687168920\n",
      "140734687168920\n"
     ]
    }
   ],
   "source": [
    "# Integer Memory Range (Caching Behavior) -5 to 256 faster results\n",
    "\n",
    "a = 256\n",
    "b = 256\n",
    "print(a == b)\n",
    "print(a is b)\n",
    "print(id(a))\n",
    "print(id(b))"
   ]
  },
  {
   "cell_type": "code",
   "execution_count": 14,
   "id": "e8021695-fb96-4f75-97f6-b8920030c72f",
   "metadata": {},
   "outputs": [
    {
     "name": "stdout",
     "output_type": "stream",
     "text": [
      "True\n",
      "False\n",
      "3177228600944\n",
      "3177228602192\n"
     ]
    }
   ],
   "source": [
    "x = 257\n",
    "y = 257\n",
    "\n",
    "print(x == y)\n",
    "print(x is y)\n",
    "print(id(x))\n",
    "print(id(y))"
   ]
  },
  {
   "cell_type": "code",
   "execution_count": 20,
   "id": "fde0b820-4b5b-4e4a-bc7b-c194fa6913f8",
   "metadata": {},
   "outputs": [
    {
     "name": "stdout",
     "output_type": "stream",
     "text": [
      "True\n",
      "False\n"
     ]
    }
   ],
   "source": [
    "# Difference between == and is:\n",
    "# a == b\n",
    "# a is b\n",
    "\n",
    "a = 555\n",
    "b = 555\n",
    "\n",
    "print(a == b)\n",
    "print(a is b)"
   ]
  },
  {
   "cell_type": "code",
   "execution_count": 15,
   "id": "659329f0-f9b0-4a28-a90c-41d245302e6a",
   "metadata": {},
   "outputs": [
    {
     "name": "stdout",
     "output_type": "stream",
     "text": [
      "False\n"
     ]
    }
   ],
   "source": [
    "#is not\n",
    "a = 256\n",
    "b = 256\n",
    "\n",
    "print(a is not b)"
   ]
  },
  {
   "cell_type": "code",
   "execution_count": 16,
   "id": "df83f22c-cb22-4aa2-bf9e-299cba4a919c",
   "metadata": {},
   "outputs": [
    {
     "name": "stdout",
     "output_type": "stream",
     "text": [
      "True\n"
     ]
    }
   ],
   "source": [
    "#is not\n",
    "a = 257\n",
    "b = 257\n",
    "\n",
    "print(a is not b)"
   ]
  },
  {
   "cell_type": "code",
   "execution_count": 17,
   "id": "51c7358b-402a-4f35-99fc-effb009e2f5b",
   "metadata": {},
   "outputs": [
    {
     "name": "stdout",
     "output_type": "stream",
     "text": [
      "False\n",
      "3177228831280\n",
      "3177228831088\n"
     ]
    }
   ],
   "source": [
    "# short string / long string\n",
    "a = \"python is beautiful\"\n",
    "b = \"python is beautiful\"\n",
    "print(a is b)\n",
    "\n",
    "print(id(a))\n",
    "print(id(b))\n"
   ]
  },
  {
   "cell_type": "code",
   "execution_count": 2,
   "id": "98b560bf-29ed-48ef-917d-1ae5ffb634bc",
   "metadata": {},
   "outputs": [],
   "source": [
    "# Since there are spaces among the words so jupyter has saved them in separate locations."
   ]
  },
  {
   "cell_type": "code",
   "execution_count": 18,
   "id": "7f6b9405-3016-41fe-bbaf-41c5956c96cb",
   "metadata": {},
   "outputs": [
    {
     "name": "stdout",
     "output_type": "stream",
     "text": [
      "True\n",
      "3177228830704\n",
      "3177228830704\n"
     ]
    }
   ],
   "source": [
    "a = \"pythonisbeautiful\"\n",
    "b = \"pythonisbeautiful\"\n",
    "print(a is b)\n",
    "\n",
    "print(id(a))\n",
    "print(id(b))"
   ]
  },
  {
   "cell_type": "code",
   "execution_count": 19,
   "id": "45d1a5f5-4b99-4699-9905-e0035aa906ce",
   "metadata": {},
   "outputs": [
    {
     "name": "stdout",
     "output_type": "stream",
     "text": [
      "True\n",
      "3177228834160\n",
      "3177228834160\n"
     ]
    }
   ],
   "source": [
    "x='python_world'\n",
    "y='python_world'\n",
    "\n",
    "print(x is y)\n",
    "\n",
    "print(id(x))\n",
    "print(id(y))"
   ]
  },
  {
   "cell_type": "code",
   "execution_count": null,
   "id": "25fd8459-f9c1-47f1-aeda-5c26de50041a",
   "metadata": {},
   "outputs": [],
   "source": [
    "!pip install sys"
   ]
  },
  {
   "cell_type": "code",
   "execution_count": 21,
   "id": "004b5415-92f5-418f-8f93-7d1800afe000",
   "metadata": {},
   "outputs": [
    {
     "name": "stdout",
     "output_type": "stream",
     "text": [
      "88 bytes\n",
      "28 bytes\n",
      "67 bytes\n"
     ]
    }
   ],
   "source": [
    "import sys\n",
    "# sys.getsizeof()\n",
    "\n",
    "a = \"bytes\"\n",
    "\n",
    "x = [1, 2, 3]\n",
    "print(sys.getsizeof(x),a)\n",
    "\n",
    "y = 100\n",
    "print(sys.getsizeof(y),a)\n",
    "\n",
    "z = \"Hi, We are learning python\"\n",
    "print(sys.getsizeof(z),a)"
   ]
  },
  {
   "cell_type": "code",
   "execution_count": 6,
   "id": "b759f6ba-7185-470b-8925-f8e3ba3c9ebd",
   "metadata": {},
   "outputs": [],
   "source": [
    "#office example (practice)\n",
    "ali = ['manager', 'office location', 'salary']\n",
    "ahmed = ali\n",
    "khan = ['manager', 'office location', 'salary']"
   ]
  },
  {
   "cell_type": "code",
   "execution_count": 4,
   "id": "7aa61151-1c5f-45d7-b622-38b0ab5ac4b2",
   "metadata": {},
   "outputs": [
    {
     "data": {
      "text/plain": [
       "True"
      ]
     },
     "execution_count": 4,
     "metadata": {},
     "output_type": "execute_result"
    }
   ],
   "source": [
    "ahmed is ali"
   ]
  },
  {
   "cell_type": "code",
   "execution_count": 5,
   "id": "71bc1340-dc23-4ed5-a6b8-a0485e6bfb0a",
   "metadata": {},
   "outputs": [
    {
     "name": "stdout",
     "output_type": "stream",
     "text": [
      "2132258494080\n",
      "2132258494080\n"
     ]
    }
   ],
   "source": [
    "print(id(ahmed))\n",
    "print(id(ali))"
   ]
  },
  {
   "cell_type": "markdown",
   "id": "6348cf58-1c3d-4a46-aa7b-e5377d9168a8",
   "metadata": {},
   "source": [
    "## Membership Operators (IN - NOT IN)"
   ]
  },
  {
   "cell_type": "markdown",
   "id": "c78c88da-82c5-46ed-b5cf-83468ddc68e5",
   "metadata": {},
   "source": [
    "Membership operators are used to test whether a value is present in a sequence (such as a list, tuple, or string). These operators are often used in loops or conditions to check membership. (returns Ture or False)"
   ]
  },
  {
   "cell_type": "code",
   "execution_count": 27,
   "id": "bf062cf0-c763-43fc-88c5-6c98ed4c2965",
   "metadata": {},
   "outputs": [
    {
     "ename": "TypeError",
     "evalue": "'in <string>' requires string as left operand, not int",
     "output_type": "error",
     "traceback": [
      "\u001b[1;31m---------------------------------------------------------------------------\u001b[0m",
      "\u001b[1;31mTypeError\u001b[0m                                 Traceback (most recent call last)",
      "Cell \u001b[1;32mIn[27], line 5\u001b[0m\n\u001b[0;32m      2\u001b[0m a \u001b[38;5;241m=\u001b[39m \u001b[38;5;124m\"\u001b[39m\u001b[38;5;124mpython\u001b[39m\u001b[38;5;124m\"\u001b[39m\n\u001b[0;32m      3\u001b[0m b \u001b[38;5;241m=\u001b[39m \u001b[38;5;124m\"\u001b[39m\u001b[38;5;124mpython\u001b[39m\u001b[38;5;124m\"\u001b[39m\n\u001b[1;32m----> 5\u001b[0m \u001b[38;5;28mprint\u001b[39m(y \u001b[38;5;129;01min\u001b[39;00m a)\n",
      "\u001b[1;31mTypeError\u001b[0m: 'in <string>' requires string as left operand, not int"
     ]
    }
   ],
   "source": [
    "#basic example\n",
    "a = \"python\"\n",
    "b = \"python\"\n",
    "\n",
    "print(y in a)"
   ]
  },
  {
   "cell_type": "code",
   "execution_count": 28,
   "id": "ba7391d3-9862-4e32-9f07-f7cce30b074f",
   "metadata": {},
   "outputs": [
    {
     "name": "stdout",
     "output_type": "stream",
     "text": [
      "True\n"
     ]
    }
   ],
   "source": [
    "#basic example\n",
    "a = \"python\"\n",
    "b = \"python\"\n",
    "\n",
    "print('y' in a)"
   ]
  },
  {
   "cell_type": "code",
   "execution_count": 30,
   "id": "3b249b4f-8689-4de5-97a8-0841e01c6ba9",
   "metadata": {},
   "outputs": [
    {
     "name": "stdout",
     "output_type": "stream",
     "text": [
      "True\n"
     ]
    }
   ],
   "source": [
    "#returns true/false or customize action (if/loop/function etc) if value exists in sequence\n",
    "#cars list\n",
    "\n",
    "cars = ['mehran','ferrari','sportage']\n",
    "print('ferrari' in cars)"
   ]
  },
  {
   "cell_type": "code",
   "execution_count": 31,
   "id": "7a715aaa-d235-41b3-b361-7425a12b42d6",
   "metadata": {},
   "outputs": [
    {
     "data": {
      "text/plain": [
       "'mehran'"
      ]
     },
     "execution_count": 31,
     "metadata": {},
     "output_type": "execute_result"
    }
   ],
   "source": [
    "cars = ['mehran','ferrari','sportage']\n",
    "cars[0]\n",
    "# print('ferrari' in cars)"
   ]
  },
  {
   "cell_type": "code",
   "execution_count": 32,
   "id": "c58dbd90-a9df-4a70-8858-ca95bbde9825",
   "metadata": {},
   "outputs": [
    {
     "data": {
      "text/plain": [
       "3"
      ]
     },
     "execution_count": 32,
     "metadata": {},
     "output_type": "execute_result"
    }
   ],
   "source": [
    "len(cars)"
   ]
  },
  {
   "cell_type": "code",
   "execution_count": 34,
   "id": "43d0a49c-6cd5-4edb-84fb-43a2f7f551f8",
   "metadata": {},
   "outputs": [
    {
     "name": "stdout",
     "output_type": "stream",
     "text": [
      "True\n"
     ]
    }
   ],
   "source": [
    "#not in\n",
    "\n",
    "cars = ['mehran','ferrari','sportage']\n",
    "print('laptop' not in cars)"
   ]
  },
  {
   "cell_type": "code",
   "execution_count": 35,
   "id": "61fc8c52-31b7-423f-86b7-65e80cef6566",
   "metadata": {},
   "outputs": [
    {
     "name": "stdout",
     "output_type": "stream",
     "text": [
      "True\n",
      "False\n"
     ]
    }
   ],
   "source": [
    "# Difference between == and in:\n",
    "#a == b\n",
    "#1 in a/b\n",
    "\n",
    "a=['apple','mango','orange']\n",
    "b=['apple','mango','orange']\n",
    "\n",
    "print(a == b)\n",
    "print('mangoooooo' in a)"
   ]
  },
  {
   "cell_type": "code",
   "execution_count": 36,
   "id": "2b03f1f4-8c47-4440-b532-7834c4631982",
   "metadata": {},
   "outputs": [
    {
     "name": "stdout",
     "output_type": "stream",
     "text": [
      "True\n"
     ]
    }
   ],
   "source": [
    "# Edge Cases \"\"\n",
    "# Empty sequences []\n",
    "# Case-sensitivity apple Apple\n",
    "\n",
    "a = \"\"\n",
    "print(\"\" in a)"
   ]
  },
  {
   "cell_type": "code",
   "execution_count": 37,
   "id": "476aba27-43c4-4b86-ad44-0dcedc4cb343",
   "metadata": {},
   "outputs": [
    {
     "name": "stdout",
     "output_type": "stream",
     "text": [
      "False\n"
     ]
    }
   ],
   "source": [
    "a = \"\"\n",
    "print(\"a\" in a)"
   ]
  },
  {
   "cell_type": "code",
   "execution_count": 38,
   "id": "d9324e4d-3f44-435b-812d-0dff54b0b46b",
   "metadata": {},
   "outputs": [
    {
     "name": "stdout",
     "output_type": "stream",
     "text": [
      "False\n"
     ]
    }
   ],
   "source": [
    "# Empty sequences []\n",
    "\n",
    "a = []\n",
    "print(1 in a)"
   ]
  },
  {
   "cell_type": "code",
   "execution_count": 39,
   "id": "46f4072f-731e-4a68-8649-0490142c91c3",
   "metadata": {},
   "outputs": [
    {
     "name": "stdout",
     "output_type": "stream",
     "text": [
      "False\n"
     ]
    }
   ],
   "source": [
    "a = []\n",
    "print([] in a) #important to note"
   ]
  },
  {
   "cell_type": "code",
   "execution_count": 40,
   "id": "c488c035-7ec4-4648-a66f-e2e69e91bd9c",
   "metadata": {},
   "outputs": [
    {
     "name": "stdout",
     "output_type": "stream",
     "text": [
      "False\n"
     ]
    }
   ],
   "source": [
    "a = []\n",
    "print([0] in a) #important to note"
   ]
  },
  {
   "cell_type": "code",
   "execution_count": 41,
   "id": "d3fb46d7-48f4-432c-9e6f-54f55fe9fa55",
   "metadata": {},
   "outputs": [
    {
     "name": "stdout",
     "output_type": "stream",
     "text": [
      "False\n"
     ]
    }
   ],
   "source": [
    "a = [0]\n",
    "print([0] in a) #important to note"
   ]
  },
  {
   "cell_type": "code",
   "execution_count": 43,
   "id": "bad210c6-ab78-4803-bf2c-98e034e796aa",
   "metadata": {},
   "outputs": [
    {
     "name": "stdout",
     "output_type": "stream",
     "text": [
      "False\n"
     ]
    }
   ],
   "source": [
    "# Case-sensitivity apple Apple\n",
    "\n",
    "a = \"python\"\n",
    "print('Python' in a)"
   ]
  },
  {
   "cell_type": "code",
   "execution_count": 44,
   "id": "ebacab69-db60-4626-b008-e79a5b98fc04",
   "metadata": {},
   "outputs": [],
   "source": [
    "#practice\n",
    "#find out students class\n",
    "name = ['ali','ahmed','shah']\n",
    "campus = ['A','B','C']"
   ]
  },
  {
   "cell_type": "markdown",
   "id": "7543457f-2b6a-4a54-835e-7c81c714e0c6",
   "metadata": {},
   "source": [
    "## Tuple () (Data Structure)"
   ]
  },
  {
   "cell_type": "code",
   "execution_count": 45,
   "id": "609706b1-932e-402f-8871-dee77f4d368b",
   "metadata": {},
   "outputs": [],
   "source": [
    "()\n",
    "\n",
    "#Ordered\n",
    "a = ('ali', 14, 'student')\n",
    "\n",
    "#Allow duplicates:\n",
    "#Can store mixed data types:\n",
    "#Indexing and Slicing:\n",
    "#empty_tuple\n",
    "# single_element_tuple = (5,)\n",
    "#nested tuple\n",
    "#Immutable"
   ]
  },
  {
   "cell_type": "code",
   "execution_count": 46,
   "id": "cd0bb709-d168-4b77-9a20-b48b5eff08f0",
   "metadata": {},
   "outputs": [
    {
     "data": {
      "text/plain": [
       "('ali', 14, 'student')"
      ]
     },
     "execution_count": 46,
     "metadata": {},
     "output_type": "execute_result"
    }
   ],
   "source": [
    "a"
   ]
  },
  {
   "cell_type": "code",
   "execution_count": 47,
   "id": "f69a55e2-048b-49cc-ab5d-86df8a5cba62",
   "metadata": {},
   "outputs": [
    {
     "data": {
      "text/plain": [
       "tuple"
      ]
     },
     "execution_count": 47,
     "metadata": {},
     "output_type": "execute_result"
    }
   ],
   "source": [
    "type(a)"
   ]
  },
  {
   "cell_type": "code",
   "execution_count": 48,
   "id": "9ee3f3ea-0866-4742-8e1e-187579245ab1",
   "metadata": {},
   "outputs": [
    {
     "data": {
      "text/plain": [
       "list"
      ]
     },
     "execution_count": 48,
     "metadata": {},
     "output_type": "execute_result"
    }
   ],
   "source": [
    "type([])"
   ]
  },
  {
   "cell_type": "code",
   "execution_count": 49,
   "id": "1644061a-ed81-43df-a439-4cbea142b242",
   "metadata": {},
   "outputs": [
    {
     "data": {
      "text/plain": [
       "tuple"
      ]
     },
     "execution_count": 49,
     "metadata": {},
     "output_type": "execute_result"
    }
   ],
   "source": [
    "type(())"
   ]
  },
  {
   "cell_type": "code",
   "execution_count": 50,
   "id": "615a59c0-ed2a-49d1-b893-8e51b88be7e2",
   "metadata": {},
   "outputs": [
    {
     "data": {
      "text/plain": [
       "str"
      ]
     },
     "execution_count": 50,
     "metadata": {},
     "output_type": "execute_result"
    }
   ],
   "source": [
    "type(\"\")"
   ]
  },
  {
   "cell_type": "code",
   "execution_count": 51,
   "id": "17c44117-04cf-4283-8103-fae24f289b09",
   "metadata": {},
   "outputs": [
    {
     "data": {
      "text/plain": [
       "('ali', 14, 141.2, 'father name')"
      ]
     },
     "execution_count": 51,
     "metadata": {},
     "output_type": "execute_result"
    }
   ],
   "source": [
    "#Can store mixed data types:\n",
    "a = ('ali', 14, 141.2,'father name')\n",
    "a"
   ]
  },
  {
   "cell_type": "code",
   "execution_count": 52,
   "id": "7e9c4c5a-bde8-42f9-85dd-0144bd1b8a19",
   "metadata": {},
   "outputs": [
    {
     "ename": "TypeError",
     "evalue": "'tuple' object is not callable",
     "output_type": "error",
     "traceback": [
      "\u001b[1;31m---------------------------------------------------------------------------\u001b[0m",
      "\u001b[1;31mTypeError\u001b[0m                                 Traceback (most recent call last)",
      "Cell \u001b[1;32mIn[52], line 2\u001b[0m\n\u001b[0;32m      1\u001b[0m a \u001b[38;5;241m=\u001b[39m (\u001b[38;5;124m'\u001b[39m\u001b[38;5;124mali\u001b[39m\u001b[38;5;124m'\u001b[39m, \u001b[38;5;241m14\u001b[39m, \u001b[38;5;241m141.2\u001b[39m,\u001b[38;5;124m'\u001b[39m\u001b[38;5;124mfather name\u001b[39m\u001b[38;5;124m'\u001b[39m)\n\u001b[1;32m----> 2\u001b[0m a(\u001b[38;5;241m2\u001b[39m)\n",
      "\u001b[1;31mTypeError\u001b[0m: 'tuple' object is not callable"
     ]
    }
   ],
   "source": [
    "a = ('ali', 14, 141.2,'father name')\n",
    "a(2)"
   ]
  },
  {
   "cell_type": "code",
   "execution_count": 53,
   "id": "c1042636-ec17-423f-93eb-09265f47901f",
   "metadata": {},
   "outputs": [
    {
     "data": {
      "text/plain": [
       "141.2"
      ]
     },
     "execution_count": 53,
     "metadata": {},
     "output_type": "execute_result"
    }
   ],
   "source": [
    "a = ('ali', 14, 141.2,'father name')\n",
    "a[2]"
   ]
  },
  {
   "cell_type": "code",
   "execution_count": 62,
   "id": "9cd820ad-409b-4840-863d-8a6e88f03191",
   "metadata": {},
   "outputs": [
    {
     "ename": "TypeError",
     "evalue": "'tuple' object does not support item assignment",
     "output_type": "error",
     "traceback": [
      "\u001b[1;31m---------------------------------------------------------------------------\u001b[0m",
      "\u001b[1;31mTypeError\u001b[0m                                 Traceback (most recent call last)",
      "Cell \u001b[1;32mIn[62], line 2\u001b[0m\n\u001b[0;32m      1\u001b[0m a \u001b[38;5;241m=\u001b[39m (\u001b[38;5;124m'\u001b[39m\u001b[38;5;124mali\u001b[39m\u001b[38;5;124m'\u001b[39m, \u001b[38;5;241m14\u001b[39m, \u001b[38;5;241m141.2\u001b[39m,\u001b[38;5;124m'\u001b[39m\u001b[38;5;124mfather name\u001b[39m\u001b[38;5;124m'\u001b[39m)\n\u001b[1;32m----> 2\u001b[0m a[\u001b[38;5;241m2\u001b[39m]\u001b[38;5;241m=\u001b[39m \u001b[38;5;124m'\u001b[39m\u001b[38;5;124m166.3\u001b[39m\u001b[38;5;124m'\u001b[39m\n",
      "\u001b[1;31mTypeError\u001b[0m: 'tuple' object does not support item assignment"
     ]
    }
   ],
   "source": [
    "a = ('ali', 14, 141.2,'father name')\n",
    "a[2]= '166.3'"
   ]
  },
  {
   "cell_type": "code",
   "execution_count": 55,
   "id": "17bfbaef-347e-40a8-9d3b-ba82c30506cd",
   "metadata": {},
   "outputs": [
    {
     "data": {
      "text/plain": [
       "['__add__',\n",
       " '__class__',\n",
       " '__class_getitem__',\n",
       " '__contains__',\n",
       " '__delattr__',\n",
       " '__dir__',\n",
       " '__doc__',\n",
       " '__eq__',\n",
       " '__format__',\n",
       " '__ge__',\n",
       " '__getattribute__',\n",
       " '__getitem__',\n",
       " '__getnewargs__',\n",
       " '__getstate__',\n",
       " '__gt__',\n",
       " '__hash__',\n",
       " '__init__',\n",
       " '__init_subclass__',\n",
       " '__iter__',\n",
       " '__le__',\n",
       " '__len__',\n",
       " '__lt__',\n",
       " '__mul__',\n",
       " '__ne__',\n",
       " '__new__',\n",
       " '__reduce__',\n",
       " '__reduce_ex__',\n",
       " '__repr__',\n",
       " '__rmul__',\n",
       " '__setattr__',\n",
       " '__sizeof__',\n",
       " '__str__',\n",
       " '__subclasshook__',\n",
       " 'count',\n",
       " 'index']"
      ]
     },
     "execution_count": 55,
     "metadata": {},
     "output_type": "execute_result"
    }
   ],
   "source": [
    "# dir\n",
    "dir(a)"
   ]
  },
  {
   "cell_type": "code",
   "execution_count": 56,
   "id": "1d4a4464-ba69-4368-a505-93658f583c7e",
   "metadata": {},
   "outputs": [
    {
     "data": {
      "text/plain": [
       "14"
      ]
     },
     "execution_count": 56,
     "metadata": {},
     "output_type": "execute_result"
    }
   ],
   "source": [
    "#indexing\n",
    "a = ('ali', 14, 141.2,'father name')\n",
    "a[1]"
   ]
  },
  {
   "cell_type": "code",
   "execution_count": 57,
   "id": "440eff63-76ed-4da8-963f-0748c76944f8",
   "metadata": {},
   "outputs": [
    {
     "data": {
      "text/plain": [
       "('ali', 14, 141.2)"
      ]
     },
     "execution_count": 57,
     "metadata": {},
     "output_type": "execute_result"
    }
   ],
   "source": [
    "#slicing\n",
    "a = ('ali', 14, 141.2,'father name')\n",
    "a[0:3]"
   ]
  },
  {
   "cell_type": "code",
   "execution_count": null,
   "id": "ea4eb471-3464-4d75-9796-602043e151d9",
   "metadata": {},
   "outputs": [],
   "source": []
  }
 ],
 "metadata": {
  "kernelspec": {
   "display_name": "Python 3 (ipykernel)",
   "language": "python",
   "name": "python3"
  },
  "language_info": {
   "codemirror_mode": {
    "name": "ipython",
    "version": 3
   },
   "file_extension": ".py",
   "mimetype": "text/x-python",
   "name": "python",
   "nbconvert_exporter": "python",
   "pygments_lexer": "ipython3",
   "version": "3.12.7"
  }
 },
 "nbformat": 4,
 "nbformat_minor": 5
}
