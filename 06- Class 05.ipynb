{
 "cells": [
  {
   "cell_type": "code",
   "execution_count": 1,
   "id": "d6d3c958-78cb-495c-adce-dc6ae8b8a2dc",
   "metadata": {},
   "outputs": [
    {
     "data": {
      "text/plain": [
       "['__add__',\n",
       " '__class__',\n",
       " '__class_getitem__',\n",
       " '__contains__',\n",
       " '__delattr__',\n",
       " '__delitem__',\n",
       " '__dir__',\n",
       " '__doc__',\n",
       " '__eq__',\n",
       " '__format__',\n",
       " '__ge__',\n",
       " '__getattribute__',\n",
       " '__getitem__',\n",
       " '__getstate__',\n",
       " '__gt__',\n",
       " '__hash__',\n",
       " '__iadd__',\n",
       " '__imul__',\n",
       " '__init__',\n",
       " '__init_subclass__',\n",
       " '__iter__',\n",
       " '__le__',\n",
       " '__len__',\n",
       " '__lt__',\n",
       " '__mul__',\n",
       " '__ne__',\n",
       " '__new__',\n",
       " '__reduce__',\n",
       " '__reduce_ex__',\n",
       " '__repr__',\n",
       " '__reversed__',\n",
       " '__rmul__',\n",
       " '__setattr__',\n",
       " '__setitem__',\n",
       " '__sizeof__',\n",
       " '__str__',\n",
       " '__subclasshook__',\n",
       " 'append',\n",
       " 'clear',\n",
       " 'copy',\n",
       " 'count',\n",
       " 'extend',\n",
       " 'index',\n",
       " 'insert',\n",
       " 'pop',\n",
       " 'remove',\n",
       " 'reverse',\n",
       " 'sort']"
      ]
     },
     "execution_count": 1,
     "metadata": {},
     "output_type": "execute_result"
    }
   ],
   "source": [
    "dir(list)"
   ]
  },
  {
   "cell_type": "code",
   "execution_count": 11,
   "id": "0e89aea4-a7e0-4160-abb0-c2ec621953e4",
   "metadata": {},
   "outputs": [],
   "source": [
    "a = [2, 4, 6, 8, 10, 12, 14, 16, 18, 20, 25, 35]"
   ]
  },
  {
   "cell_type": "code",
   "execution_count": 12,
   "id": "f4f2c826-2b52-4b5b-bda9-9bce28bd5601",
   "metadata": {},
   "outputs": [],
   "source": [
    "a.append(45)"
   ]
  },
  {
   "cell_type": "code",
   "execution_count": 13,
   "id": "320c4357-9e68-49e4-9da8-c365bf86e61c",
   "metadata": {},
   "outputs": [
    {
     "data": {
      "text/plain": [
       "[2, 4, 6, 8, 10, 12, 14, 16, 18, 20, 25, 35, 45]"
      ]
     },
     "execution_count": 13,
     "metadata": {},
     "output_type": "execute_result"
    }
   ],
   "source": [
    "a"
   ]
  },
  {
   "cell_type": "code",
   "execution_count": 14,
   "id": "2abb35e2-0f1c-4eb5-8fe0-23194b6ed796",
   "metadata": {},
   "outputs": [
    {
     "data": {
      "text/plain": [
       "13"
      ]
     },
     "execution_count": 14,
     "metadata": {},
     "output_type": "execute_result"
    }
   ],
   "source": [
    "len(a)"
   ]
  },
  {
   "cell_type": "code",
   "execution_count": 17,
   "id": "ab91de55-14cb-490f-82f5-902f441aec1d",
   "metadata": {},
   "outputs": [],
   "source": [
    "a += [55]"
   ]
  },
  {
   "cell_type": "code",
   "execution_count": 10,
   "id": "601a19be-692a-49c5-8a7d-cf582c0732bc",
   "metadata": {},
   "outputs": [
    {
     "data": {
      "text/plain": [
       "[2, 4, 6, 8, 10, 12, 14, 16, 18, 20, 25, 35, 55]"
      ]
     },
     "execution_count": 10,
     "metadata": {},
     "output_type": "execute_result"
    }
   ],
   "source": [
    "a"
   ]
  },
  {
   "cell_type": "code",
   "execution_count": 18,
   "id": "430eba16-c382-47fa-8951-8cacb65cd557",
   "metadata": {},
   "outputs": [],
   "source": [
    "b = [a, 65]"
   ]
  },
  {
   "cell_type": "code",
   "execution_count": 19,
   "id": "9388ea77-8844-41e4-b901-e568fd26257e",
   "metadata": {},
   "outputs": [
    {
     "data": {
      "text/plain": [
       "[[2, 4, 6, 8, 10, 12, 14, 16, 18, 20, 25, 35, 45, 55], 65]"
      ]
     },
     "execution_count": 19,
     "metadata": {},
     "output_type": "execute_result"
    }
   ],
   "source": [
    "b"
   ]
  },
  {
   "cell_type": "code",
   "execution_count": 24,
   "id": "22b49cc5-b541-4c3a-bafd-10dbb368795c",
   "metadata": {},
   "outputs": [],
   "source": [
    "b.clear()"
   ]
  },
  {
   "cell_type": "code",
   "execution_count": 25,
   "id": "9f4a0e97-6802-454a-9341-828750c6c519",
   "metadata": {},
   "outputs": [
    {
     "data": {
      "text/plain": [
       "[]"
      ]
     },
     "execution_count": 25,
     "metadata": {},
     "output_type": "execute_result"
    }
   ],
   "source": [
    "b"
   ]
  },
  {
   "cell_type": "code",
   "execution_count": 26,
   "id": "4c40d8d2-84b4-49bf-9b15-f27d950f2980",
   "metadata": {},
   "outputs": [],
   "source": [
    "b = [a, 65]"
   ]
  },
  {
   "cell_type": "code",
   "execution_count": 27,
   "id": "6b827962-24ea-4436-80c2-0038131e0472",
   "metadata": {},
   "outputs": [
    {
     "data": {
      "text/plain": [
       "[[2, 4, 6, 8, 10, 12, 14, 16, 18, 20, 25, 35, 45, 55], 65]"
      ]
     },
     "execution_count": 27,
     "metadata": {},
     "output_type": "execute_result"
    }
   ],
   "source": [
    "b"
   ]
  },
  {
   "cell_type": "code",
   "execution_count": 45,
   "id": "0a2acf9f-d068-4ffb-9601-78ee2f0f7ef9",
   "metadata": {},
   "outputs": [],
   "source": [
    "c = a"
   ]
  },
  {
   "cell_type": "code",
   "execution_count": 46,
   "id": "67520254-c751-4b9c-b873-c26f5a96599e",
   "metadata": {},
   "outputs": [
    {
     "data": {
      "text/plain": [
       "[2, 4, 6, 8, 10, 12, 14, 16, 18, 20, 25, 35, 45, 55]"
      ]
     },
     "execution_count": 46,
     "metadata": {},
     "output_type": "execute_result"
    }
   ],
   "source": [
    "c"
   ]
  },
  {
   "cell_type": "code",
   "execution_count": 48,
   "id": "badbdc49-49ad-420f-b028-fab1c7901604",
   "metadata": {},
   "outputs": [],
   "source": [
    "c += [100]"
   ]
  },
  {
   "cell_type": "code",
   "execution_count": 49,
   "id": "873246b8-8c3c-4462-8dea-445342badddf",
   "metadata": {},
   "outputs": [
    {
     "data": {
      "text/plain": [
       "[2, 4, 6, 8, 10, 12, 14, 16, 18, 20, 25, 35, 45, 55, 100]"
      ]
     },
     "execution_count": 49,
     "metadata": {},
     "output_type": "execute_result"
    }
   ],
   "source": [
    "c"
   ]
  },
  {
   "cell_type": "code",
   "execution_count": 50,
   "id": "b372ad73-9949-4ece-95dc-f4a71f227e28",
   "metadata": {},
   "outputs": [
    {
     "data": {
      "text/plain": [
       "[2, 4, 6, 8, 10, 12, 14, 16, 18, 20, 25, 35, 45, 55, 100]"
      ]
     },
     "execution_count": 50,
     "metadata": {},
     "output_type": "execute_result"
    }
   ],
   "source": [
    "a"
   ]
  },
  {
   "cell_type": "code",
   "execution_count": 51,
   "id": "75c93f17-e0e5-47b8-b6d8-d9bcfb6838c5",
   "metadata": {},
   "outputs": [],
   "source": [
    "a.remove(4)"
   ]
  },
  {
   "cell_type": "code",
   "execution_count": 52,
   "id": "9056d99f-776e-4a33-9535-ccfb23ee1e1e",
   "metadata": {},
   "outputs": [
    {
     "data": {
      "text/plain": [
       "[2, 6, 8, 10, 12, 14, 16, 18, 20, 25, 35, 45, 55, 100]"
      ]
     },
     "execution_count": 52,
     "metadata": {},
     "output_type": "execute_result"
    }
   ],
   "source": [
    "a"
   ]
  },
  {
   "cell_type": "code",
   "execution_count": 53,
   "id": "9e726531-150c-47c2-8a63-fad011b8a2a1",
   "metadata": {},
   "outputs": [
    {
     "data": {
      "text/plain": [
       "[2, 6, 8, 10, 12, 14, 16, 18, 20, 25, 35, 45, 55, 100]"
      ]
     },
     "execution_count": 53,
     "metadata": {},
     "output_type": "execute_result"
    }
   ],
   "source": [
    "c"
   ]
  },
  {
   "cell_type": "code",
   "execution_count": 57,
   "id": "531ddb02-583a-4747-806e-0de9c7bb076a",
   "metadata": {},
   "outputs": [],
   "source": [
    "d = a.copy()"
   ]
  },
  {
   "cell_type": "code",
   "execution_count": 58,
   "id": "7bdcad68-f2c3-4451-b4bc-b10990f500ae",
   "metadata": {},
   "outputs": [
    {
     "data": {
      "text/plain": [
       "[2, 6, 8, 10, 12, 14, 16, 18, 20, 25, 35, 45, 55, 100]"
      ]
     },
     "execution_count": 58,
     "metadata": {},
     "output_type": "execute_result"
    }
   ],
   "source": [
    "a"
   ]
  },
  {
   "cell_type": "code",
   "execution_count": 59,
   "id": "9c9b036d-1006-48c9-8630-656979d9676a",
   "metadata": {},
   "outputs": [
    {
     "data": {
      "text/plain": [
       "[2, 6, 8, 10, 12, 14, 16, 18, 20, 25, 35, 45, 55, 100]"
      ]
     },
     "execution_count": 59,
     "metadata": {},
     "output_type": "execute_result"
    }
   ],
   "source": [
    "d"
   ]
  },
  {
   "cell_type": "code",
   "execution_count": 60,
   "id": "4e112b3a-ec5b-47a4-b401-9b4f1f2716e6",
   "metadata": {},
   "outputs": [],
   "source": [
    "d += [200]"
   ]
  },
  {
   "cell_type": "code",
   "execution_count": 61,
   "id": "b8ed3110-438e-4b75-91ee-9a5cd90f5f82",
   "metadata": {},
   "outputs": [
    {
     "data": {
      "text/plain": [
       "[2, 6, 8, 10, 12, 14, 16, 18, 20, 25, 35, 45, 55, 100, 200]"
      ]
     },
     "execution_count": 61,
     "metadata": {},
     "output_type": "execute_result"
    }
   ],
   "source": [
    "d"
   ]
  },
  {
   "cell_type": "code",
   "execution_count": 62,
   "id": "df030470-38c0-42ee-afd9-b4623a3b7ef5",
   "metadata": {},
   "outputs": [
    {
     "data": {
      "text/plain": [
       "[2, 6, 8, 10, 12, 14, 16, 18, 20, 25, 35, 45, 55, 100]"
      ]
     },
     "execution_count": 62,
     "metadata": {},
     "output_type": "execute_result"
    }
   ],
   "source": [
    "a"
   ]
  },
  {
   "cell_type": "code",
   "execution_count": 63,
   "id": "e8759114-221d-4ea7-8a4f-a26cc5792d4a",
   "metadata": {},
   "outputs": [
    {
     "data": {
      "text/plain": [
       "14"
      ]
     },
     "execution_count": 63,
     "metadata": {},
     "output_type": "execute_result"
    }
   ],
   "source": [
    "len(a)"
   ]
  },
  {
   "cell_type": "code",
   "execution_count": 65,
   "id": "97fa5d22-5407-45ef-a355-5268d4b70d67",
   "metadata": {},
   "outputs": [
    {
     "data": {
      "text/plain": [
       "1"
      ]
     },
     "execution_count": 65,
     "metadata": {},
     "output_type": "execute_result"
    }
   ],
   "source": [
    "a.count(100)"
   ]
  },
  {
   "cell_type": "code",
   "execution_count": 66,
   "id": "ea5370f4-a5b3-4dc4-a4a1-dd17e729db42",
   "metadata": {},
   "outputs": [],
   "source": [
    "a.extend(d)"
   ]
  },
  {
   "cell_type": "code",
   "execution_count": 67,
   "id": "ffd5ae77-949d-4c0e-ab9a-08116428545b",
   "metadata": {},
   "outputs": [
    {
     "data": {
      "text/plain": [
       "[2,\n",
       " 6,\n",
       " 8,\n",
       " 10,\n",
       " 12,\n",
       " 14,\n",
       " 16,\n",
       " 18,\n",
       " 20,\n",
       " 25,\n",
       " 35,\n",
       " 45,\n",
       " 55,\n",
       " 100,\n",
       " 2,\n",
       " 6,\n",
       " 8,\n",
       " 10,\n",
       " 12,\n",
       " 14,\n",
       " 16,\n",
       " 18,\n",
       " 20,\n",
       " 25,\n",
       " 35,\n",
       " 45,\n",
       " 55,\n",
       " 100,\n",
       " 200]"
      ]
     },
     "execution_count": 67,
     "metadata": {},
     "output_type": "execute_result"
    }
   ],
   "source": [
    "a"
   ]
  },
  {
   "cell_type": "code",
   "execution_count": 68,
   "id": "ecedba8c-0df1-4c51-8bd3-06008cfc027d",
   "metadata": {},
   "outputs": [],
   "source": [
    "e = b+d"
   ]
  },
  {
   "cell_type": "code",
   "execution_count": 69,
   "id": "219d096f-d978-49ec-a5ec-d170fa38156a",
   "metadata": {},
   "outputs": [
    {
     "data": {
      "text/plain": [
       "[[2,\n",
       "  6,\n",
       "  8,\n",
       "  10,\n",
       "  12,\n",
       "  14,\n",
       "  16,\n",
       "  18,\n",
       "  20,\n",
       "  25,\n",
       "  35,\n",
       "  45,\n",
       "  55,\n",
       "  100,\n",
       "  2,\n",
       "  6,\n",
       "  8,\n",
       "  10,\n",
       "  12,\n",
       "  14,\n",
       "  16,\n",
       "  18,\n",
       "  20,\n",
       "  25,\n",
       "  35,\n",
       "  45,\n",
       "  55,\n",
       "  100,\n",
       "  200],\n",
       " 65,\n",
       " 2,\n",
       " 6,\n",
       " 8,\n",
       " 10,\n",
       " 12,\n",
       " 14,\n",
       " 16,\n",
       " 18,\n",
       " 20,\n",
       " 25,\n",
       " 35,\n",
       " 45,\n",
       " 55,\n",
       " 100,\n",
       " 200]"
      ]
     },
     "execution_count": 69,
     "metadata": {},
     "output_type": "execute_result"
    }
   ],
   "source": [
    "e"
   ]
  },
  {
   "cell_type": "code",
   "execution_count": 70,
   "id": "73fff685-7c9d-498c-a237-9a996b460585",
   "metadata": {},
   "outputs": [
    {
     "data": {
      "text/plain": [
       "[2,\n",
       " 6,\n",
       " 8,\n",
       " 10,\n",
       " 12,\n",
       " 14,\n",
       " 16,\n",
       " 18,\n",
       " 20,\n",
       " 25,\n",
       " 35,\n",
       " 45,\n",
       " 55,\n",
       " 100,\n",
       " 2,\n",
       " 6,\n",
       " 8,\n",
       " 10,\n",
       " 12,\n",
       " 14,\n",
       " 16,\n",
       " 18,\n",
       " 20,\n",
       " 25,\n",
       " 35,\n",
       " 45,\n",
       " 55,\n",
       " 100,\n",
       " 200]"
      ]
     },
     "execution_count": 70,
     "metadata": {},
     "output_type": "execute_result"
    }
   ],
   "source": [
    "a"
   ]
  },
  {
   "cell_type": "code",
   "execution_count": 71,
   "id": "accbff08-c869-4d14-bced-e1b5c31a81ef",
   "metadata": {},
   "outputs": [
    {
     "data": {
      "text/plain": [
       "[[2,\n",
       "  6,\n",
       "  8,\n",
       "  10,\n",
       "  12,\n",
       "  14,\n",
       "  16,\n",
       "  18,\n",
       "  20,\n",
       "  25,\n",
       "  35,\n",
       "  45,\n",
       "  55,\n",
       "  100,\n",
       "  2,\n",
       "  6,\n",
       "  8,\n",
       "  10,\n",
       "  12,\n",
       "  14,\n",
       "  16,\n",
       "  18,\n",
       "  20,\n",
       "  25,\n",
       "  35,\n",
       "  45,\n",
       "  55,\n",
       "  100,\n",
       "  200],\n",
       " 65]"
      ]
     },
     "execution_count": 71,
     "metadata": {},
     "output_type": "execute_result"
    }
   ],
   "source": [
    "b"
   ]
  },
  {
   "cell_type": "code",
   "execution_count": 72,
   "id": "6451f0ca-48c1-47c4-8224-0462ac47a689",
   "metadata": {},
   "outputs": [
    {
     "data": {
      "text/plain": [
       "[2,\n",
       " 6,\n",
       " 8,\n",
       " 10,\n",
       " 12,\n",
       " 14,\n",
       " 16,\n",
       " 18,\n",
       " 20,\n",
       " 25,\n",
       " 35,\n",
       " 45,\n",
       " 55,\n",
       " 100,\n",
       " 2,\n",
       " 6,\n",
       " 8,\n",
       " 10,\n",
       " 12,\n",
       " 14,\n",
       " 16,\n",
       " 18,\n",
       " 20,\n",
       " 25,\n",
       " 35,\n",
       " 45,\n",
       " 55,\n",
       " 100,\n",
       " 200]"
      ]
     },
     "execution_count": 72,
     "metadata": {},
     "output_type": "execute_result"
    }
   ],
   "source": [
    "c"
   ]
  },
  {
   "cell_type": "code",
   "execution_count": 73,
   "id": "4df1bb8f-0ddf-444e-949f-3de07019b155",
   "metadata": {},
   "outputs": [
    {
     "data": {
      "text/plain": [
       "[2, 6, 8, 10, 12, 14, 16, 18, 20, 25, 35, 45, 55, 100, 200]"
      ]
     },
     "execution_count": 73,
     "metadata": {},
     "output_type": "execute_result"
    }
   ],
   "source": [
    "d"
   ]
  },
  {
   "cell_type": "code",
   "execution_count": 75,
   "id": "d80ffa79-2b18-4797-8262-299299cbfd1d",
   "metadata": {},
   "outputs": [
    {
     "data": {
      "text/plain": [
       "13"
      ]
     },
     "execution_count": 75,
     "metadata": {},
     "output_type": "execute_result"
    }
   ],
   "source": [
    "d.index(100)"
   ]
  },
  {
   "cell_type": "code",
   "execution_count": 76,
   "id": "9710b7d9-0abc-4b57-b58c-2cf5dc6b28db",
   "metadata": {},
   "outputs": [],
   "source": [
    "d.insert(13, 75)"
   ]
  },
  {
   "cell_type": "code",
   "execution_count": 77,
   "id": "59421bb0-096b-45d1-8ec0-c67c363885b7",
   "metadata": {},
   "outputs": [
    {
     "data": {
      "text/plain": [
       "[2, 6, 8, 10, 12, 14, 16, 18, 20, 25, 35, 45, 55, 75, 100, 200]"
      ]
     },
     "execution_count": 77,
     "metadata": {},
     "output_type": "execute_result"
    }
   ],
   "source": [
    "d"
   ]
  },
  {
   "cell_type": "code",
   "execution_count": 78,
   "id": "b7484f0f-2605-4a05-918a-15c5d5cfb4f1",
   "metadata": {},
   "outputs": [],
   "source": [
    "d.remove(14)"
   ]
  },
  {
   "cell_type": "code",
   "execution_count": 79,
   "id": "1a836889-42c1-4ca0-86d4-2b1dc535c423",
   "metadata": {},
   "outputs": [
    {
     "data": {
      "text/plain": [
       "[2, 6, 8, 10, 12, 16, 18, 20, 25, 35, 45, 55, 75, 100, 200]"
      ]
     },
     "execution_count": 79,
     "metadata": {},
     "output_type": "execute_result"
    }
   ],
   "source": [
    "d"
   ]
  },
  {
   "cell_type": "code",
   "execution_count": 80,
   "id": "bac46744-ac90-4f1a-b9d3-0211d9b2a61e",
   "metadata": {},
   "outputs": [
    {
     "data": {
      "text/plain": [
       "200"
      ]
     },
     "execution_count": 80,
     "metadata": {},
     "output_type": "execute_result"
    }
   ],
   "source": [
    "d.pop()"
   ]
  },
  {
   "cell_type": "code",
   "execution_count": 81,
   "id": "b5d5df9b-1214-40e6-8b09-19c4d6d99c4c",
   "metadata": {},
   "outputs": [
    {
     "data": {
      "text/plain": [
       "[2, 6, 8, 10, 12, 16, 18, 20, 25, 35, 45, 55, 75, 100]"
      ]
     },
     "execution_count": 81,
     "metadata": {},
     "output_type": "execute_result"
    }
   ],
   "source": [
    "d"
   ]
  },
  {
   "cell_type": "code",
   "execution_count": 82,
   "id": "4c1eafee-90ca-4d6a-a53f-d19697a78902",
   "metadata": {},
   "outputs": [
    {
     "data": {
      "text/plain": [
       "8"
      ]
     },
     "execution_count": 82,
     "metadata": {},
     "output_type": "execute_result"
    }
   ],
   "source": [
    "d.pop(2)"
   ]
  },
  {
   "cell_type": "code",
   "execution_count": 83,
   "id": "fd2e3614-0288-49bd-98bf-e5feaec4a332",
   "metadata": {},
   "outputs": [
    {
     "data": {
      "text/plain": [
       "[2, 6, 10, 12, 16, 18, 20, 25, 35, 45, 55, 75, 100]"
      ]
     },
     "execution_count": 83,
     "metadata": {},
     "output_type": "execute_result"
    }
   ],
   "source": [
    "d"
   ]
  },
  {
   "cell_type": "code",
   "execution_count": 86,
   "id": "0420bf5d-017d-41f0-9d71-fd73cd7bdc37",
   "metadata": {},
   "outputs": [],
   "source": [
    "f = d.reverse()"
   ]
  },
  {
   "cell_type": "code",
   "execution_count": 89,
   "id": "50ac6135-5a8f-4e64-9e4d-6953dc0b4865",
   "metadata": {},
   "outputs": [],
   "source": [
    "f"
   ]
  },
  {
   "cell_type": "code",
   "execution_count": null,
   "id": "76b4bf60-a8fb-468d-8e5e-d3e091638ed9",
   "metadata": {},
   "outputs": [],
   "source": []
  }
 ],
 "metadata": {
  "kernelspec": {
   "display_name": "Python 3 (ipykernel)",
   "language": "python",
   "name": "python3"
  },
  "language_info": {
   "codemirror_mode": {
    "name": "ipython",
    "version": 3
   },
   "file_extension": ".py",
   "mimetype": "text/x-python",
   "name": "python",
   "nbconvert_exporter": "python",
   "pygments_lexer": "ipython3",
   "version": "3.12.7"
  }
 },
 "nbformat": 4,
 "nbformat_minor": 5
}
