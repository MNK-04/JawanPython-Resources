{
 "cells": [
  {
   "cell_type": "code",
   "execution_count": 9,
   "id": "de50a381-0a00-4e57-b9f3-b450094704c3",
   "metadata": {},
   "outputs": [],
   "source": [
    "#basic example\n",
    "\n",
    "a = 2\n",
    "b = 3\n",
    "c = 5\n",
    "d = 2"
   ]
  },
  {
   "cell_type": "code",
   "execution_count": 10,
   "id": "71784698-27fa-46ef-881a-9480f690a794",
   "metadata": {},
   "outputs": [
    {
     "data": {
      "text/plain": [
       "True"
      ]
     },
     "execution_count": 10,
     "metadata": {},
     "output_type": "execute_result"
    }
   ],
   "source": [
    "a <= 2"
   ]
  },
  {
   "cell_type": "code",
   "execution_count": 11,
   "id": "6dd6dd41-2a04-4791-8afe-34016da4d032",
   "metadata": {},
   "outputs": [
    {
     "data": {
      "text/plain": [
       "False"
      ]
     },
     "execution_count": 11,
     "metadata": {},
     "output_type": "execute_result"
    }
   ],
   "source": [
    "b <= 1"
   ]
  },
  {
   "cell_type": "code",
   "execution_count": 12,
   "id": "62727924-46af-4b88-b976-dfd4e146601f",
   "metadata": {},
   "outputs": [
    {
     "data": {
      "text/plain": [
       "False"
      ]
     },
     "execution_count": 12,
     "metadata": {},
     "output_type": "execute_result"
    }
   ],
   "source": [
    "not a <= 2"
   ]
  },
  {
   "cell_type": "code",
   "execution_count": 13,
   "id": "8c001046-8a2a-4254-b909-fe8ad82c8395",
   "metadata": {},
   "outputs": [
    {
     "data": {
      "text/plain": [
       "True"
      ]
     },
     "execution_count": 13,
     "metadata": {},
     "output_type": "execute_result"
    }
   ],
   "source": [
    "not (b <= 1)"
   ]
  },
  {
   "cell_type": "code",
   "execution_count": 14,
   "id": "9cebb9fc-ec7e-423d-a36b-24895b7b4e15",
   "metadata": {},
   "outputs": [
    {
     "data": {
      "text/plain": [
       "False"
      ]
     },
     "execution_count": 14,
     "metadata": {},
     "output_type": "execute_result"
    }
   ],
   "source": [
    "not (a <= 2 or b <= 1)"
   ]
  },
  {
   "cell_type": "code",
   "execution_count": 15,
   "id": "904d8ce0-99db-4575-b7c9-0135163be1f6",
   "metadata": {},
   "outputs": [
    {
     "data": {
      "text/plain": [
       "False"
      ]
     },
     "execution_count": 15,
     "metadata": {},
     "output_type": "execute_result"
    }
   ],
   "source": [
    "not (a <= 2) or (b <= 1)"
   ]
  },
  {
   "cell_type": "code",
   "execution_count": 16,
   "id": "85c9ee04-6f9f-4569-a953-3fc80753763a",
   "metadata": {},
   "outputs": [
    {
     "data": {
      "text/plain": [
       "False"
      ]
     },
     "execution_count": 16,
     "metadata": {},
     "output_type": "execute_result"
    }
   ],
   "source": [
    "(not a <= 2) or (b <= 1)"
   ]
  },
  {
   "cell_type": "code",
   "execution_count": 17,
   "id": "f70cc9fb-e5ce-4dc9-862b-90afa2529f68",
   "metadata": {},
   "outputs": [
    {
     "data": {
      "text/plain": [
       "False"
      ]
     },
     "execution_count": 17,
     "metadata": {},
     "output_type": "execute_result"
    }
   ],
   "source": [
    "not (a <= 2 or b <= 1) and not (a <= 2)\n",
    "#true (a <= 2 or b <= 1) \n",
    "#true (a <= 2)\n",
    "\n",
    "not (True) and not (True)"
   ]
  },
  {
   "cell_type": "code",
   "execution_count": 18,
   "id": "d8e8e3dc-3563-4289-ae82-183255fc0091",
   "metadata": {},
   "outputs": [
    {
     "name": "stdout",
     "output_type": "stream",
     "text": [
      "this is hello\n"
     ]
    }
   ],
   "source": [
    "# Not Equal to Condition ( != ) with NOT (when to use them)\n",
    "\n",
    "a = \"hello\"\n",
    "\n",
    "if not a == \"hello\":\n",
    "    print(\"this is not hello\")\n",
    "else:\n",
    "    print(\"this is hello\")"
   ]
  },
  {
   "cell_type": "code",
   "execution_count": 19,
   "id": "5cc492c4-8d37-4911-88a7-dbbfd9767db4",
   "metadata": {},
   "outputs": [
    {
     "data": {
      "text/plain": [
       "False"
      ]
     },
     "execution_count": 19,
     "metadata": {},
     "output_type": "execute_result"
    }
   ],
   "source": [
    "a = \"hello\"\n",
    "\n",
    "a != \"hello\""
   ]
  },
  {
   "cell_type": "code",
   "execution_count": 20,
   "id": "659eaa73-7e13-4fcd-996b-2ceba41e56f1",
   "metadata": {},
   "outputs": [
    {
     "name": "stdout",
     "output_type": "stream",
     "text": [
      "this is hello\n"
     ]
    }
   ],
   "source": [
    "a = \"hello\"\n",
    "\n",
    "if a != \"hello\":\n",
    "    print(\"this is not hello\")\n",
    "else:\n",
    "    print(\"this is hello\")"
   ]
  },
  {
   "cell_type": "code",
   "execution_count": 21,
   "id": "efc5e200-f17c-417b-9901-929b4d8ca714",
   "metadata": {},
   "outputs": [
    {
     "data": {
      "text/plain": [
       "True"
      ]
     },
     "execution_count": 21,
     "metadata": {},
     "output_type": "execute_result"
    }
   ],
   "source": [
    "a = \"bye\"\n",
    "\n",
    "a != \"hello\""
   ]
  },
  {
   "cell_type": "code",
   "execution_count": 22,
   "id": "21fb9e03-205d-4cfb-a330-fd0548cc4648",
   "metadata": {},
   "outputs": [
    {
     "name": "stdout",
     "output_type": "stream",
     "text": [
      "this is not hello\n"
     ]
    }
   ],
   "source": [
    "a = \"hello\"\n",
    "\n",
    "if not a != \"hello\":\n",
    "    print(\"this is not hello\")\n",
    "else:\n",
    "    print(\"this is hello\")"
   ]
  },
  {
   "cell_type": "code",
   "execution_count": 1,
   "id": "c8ccf6fe-ef98-4076-bf9e-b37e4032a9df",
   "metadata": {},
   "outputs": [
    {
     "ename": "SyntaxError",
     "evalue": "leading zeros in decimal integer literals are not permitted; use an 0o prefix for octal integers (1548574824.py, line 3)",
     "output_type": "error",
     "traceback": [
      "\u001b[1;36m  Cell \u001b[1;32mIn[1], line 3\u001b[1;36m\u001b[0m\n\u001b[1;33m    if x == 0004:\u001b[0m\n\u001b[1;37m            ^\u001b[0m\n\u001b[1;31mSyntaxError\u001b[0m\u001b[1;31m:\u001b[0m leading zeros in decimal integer literals are not permitted; use an 0o prefix for octal integers\n"
     ]
    }
   ],
   "source": [
    "x = int(input(\"Enter employee code: \"))\n",
    "\n",
    "if x == 0004:\n",
    "    print(\"Welcome to Company\")\n",
    "else:\n",
    "    print(\"you are not employee\")"
   ]
  },
  {
   "cell_type": "code",
   "execution_count": 2,
   "id": "0b25dd87-65cc-4e1a-af7c-646b640f017e",
   "metadata": {},
   "outputs": [
    {
     "ename": "SyntaxError",
     "evalue": "leading zeros in decimal integer literals are not permitted; use an 0o prefix for octal integers (3647827389.py, line 3)",
     "output_type": "error",
     "traceback": [
      "\u001b[1;36m  Cell \u001b[1;32mIn[2], line 3\u001b[1;36m\u001b[0m\n\u001b[1;33m    if x == 0004:\u001b[0m\n\u001b[1;37m            ^\u001b[0m\n\u001b[1;31mSyntaxError\u001b[0m\u001b[1;31m:\u001b[0m leading zeros in decimal integer literals are not permitted; use an 0o prefix for octal integers\n"
     ]
    }
   ],
   "source": [
    "x = float(input(\"Enter employee code: \"))\n",
    "\n",
    "if x == 0004:\n",
    "    print(\"Welcome to Company\")\n",
    "else:\n",
    "    print(\"you are not employee\")"
   ]
  },
  {
   "cell_type": "code",
   "execution_count": 3,
   "id": "89aaa0c7-0f16-48d3-8ecb-87fabe022731",
   "metadata": {},
   "outputs": [
    {
     "ename": "SyntaxError",
     "evalue": "leading zeros in decimal integer literals are not permitted; use an 0o prefix for octal integers (4197268400.py, line 3)",
     "output_type": "error",
     "traceback": [
      "\u001b[1;36m  Cell \u001b[1;32mIn[3], line 3\u001b[1;36m\u001b[0m\n\u001b[1;33m    if x == 0004:\u001b[0m\n\u001b[1;37m            ^\u001b[0m\n\u001b[1;31mSyntaxError\u001b[0m\u001b[1;31m:\u001b[0m leading zeros in decimal integer literals are not permitted; use an 0o prefix for octal integers\n"
     ]
    }
   ],
   "source": [
    "x = input(\"Enter employee code: \")\n",
    "\n",
    "if x == 0004:\n",
    "    print(\"Welcome to Company\")\n",
    "else:\n",
    "    print(\"you are not employee\")"
   ]
  },
  {
   "cell_type": "code",
   "execution_count": 2,
   "id": "d7603804-647e-4ec7-a1fb-d763d831fb81",
   "metadata": {},
   "outputs": [],
   "source": [
    "# Here python doesn't consider 0004 as an interger nor as a float bcz the amount is too low."
   ]
  },
  {
   "cell_type": "code",
   "execution_count": 4,
   "id": "cd90f268-4026-4e8e-be9e-14a88cfbb3b9",
   "metadata": {},
   "outputs": [
    {
     "name": "stdin",
     "output_type": "stream",
     "text": [
      "Enter employee code:  4\n"
     ]
    },
    {
     "name": "stdout",
     "output_type": "stream",
     "text": [
      "you are not employee\n"
     ]
    }
   ],
   "source": [
    "x = input(\"Enter employee code: \")\n",
    "\n",
    "if x == \"0004\":\n",
    "    print(\"Welcome to Company\")\n",
    "else:\n",
    "    print(\"you are not employee\")"
   ]
  },
  {
   "cell_type": "code",
   "execution_count": 5,
   "id": "7d0221a0-446a-46ad-bf82-c340ee3e5fca",
   "metadata": {},
   "outputs": [
    {
     "name": "stdin",
     "output_type": "stream",
     "text": [
      "Enter employee code:  0004\n"
     ]
    },
    {
     "name": "stdout",
     "output_type": "stream",
     "text": [
      "Welcome to Company\n"
     ]
    }
   ],
   "source": [
    "x = input(\"Enter employee code: \")\n",
    "\n",
    "if x == \"0004\":\n",
    "    print(\"Welcome to Company\")\n",
    "else:\n",
    "    print(\"you are not employee\")"
   ]
  },
  {
   "cell_type": "code",
   "execution_count": 8,
   "id": "0ca4d070-6bb5-42d1-b287-54913fd013a3",
   "metadata": {},
   "outputs": [
    {
     "name": "stdin",
     "output_type": "stream",
     "text": [
      "Enter employee code:  \n"
     ]
    },
    {
     "name": "stdout",
     "output_type": "stream",
     "text": [
      "you are not employee\n"
     ]
    }
   ],
   "source": [
    "x = input(\"Enter employee code: \")\n",
    "\n",
    "if x == \"0004\":\n",
    "    print(\"Welcome to Company\")\n",
    "else:\n",
    "    print(\"you are not employee\")"
   ]
  },
  {
   "cell_type": "code",
   "execution_count": 23,
   "id": "aea924c9-6ed7-44da-8c47-8a9b674444bd",
   "metadata": {},
   "outputs": [
    {
     "name": "stdin",
     "output_type": "stream",
     "text": [
      "Enter employee code:  \n"
     ]
    },
    {
     "name": "stdout",
     "output_type": "stream",
     "text": [
      "Welcome to Company\n"
     ]
    }
   ],
   "source": [
    "x = input(\"Enter employee code: \")\n",
    "\n",
    "if not x == \"0004\":\n",
    "    print(\"Welcome to Company\")\n",
    "else:\n",
    "    print(\"you are not employee\")\n"
   ]
  },
  {
   "cell_type": "code",
   "execution_count": 24,
   "id": "962e5e4c-2587-4e4b-8809-d2329a9fd469",
   "metadata": {},
   "outputs": [
    {
     "name": "stdin",
     "output_type": "stream",
     "text": [
      "Enter employee code:  0004\n"
     ]
    },
    {
     "name": "stdout",
     "output_type": "stream",
     "text": [
      "you are not employee\n"
     ]
    }
   ],
   "source": [
    "x = input(\"Enter employee code: \")\n",
    "\n",
    "if not x == \"0004\":\n",
    "    print(\"Welcome to Company\")\n",
    "else:\n",
    "    print(\"you are not employee\")"
   ]
  },
  {
   "cell_type": "code",
   "execution_count": 25,
   "id": "e63cb3ba-610c-4c2f-8577-b9abd3d371ed",
   "metadata": {},
   "outputs": [
    {
     "name": "stdin",
     "output_type": "stream",
     "text": [
      "Enter employee code:  0004\n"
     ]
    },
    {
     "name": "stdout",
     "output_type": "stream",
     "text": [
      "Welcome to Company\n"
     ]
    }
   ],
   "source": [
    "x = input(\"Enter employee code: \")\n",
    "\n",
    "if not(not x == \"0004\"):\n",
    "    print(\"Welcome to Company\")\n",
    "else:\n",
    "    print(\"you are not employee\")"
   ]
  },
  {
   "cell_type": "markdown",
   "id": "19b85592-e4c6-4b09-89bf-dd601e01d4ab",
   "metadata": {},
   "source": [
    "# Nested If."
   ]
  },
  {
   "cell_type": "code",
   "execution_count": 4,
   "id": "e3b89011-fece-407a-92b4-ae2d493214f3",
   "metadata": {},
   "outputs": [],
   "source": [
    "visa = \"valid\"\n",
    "account_statement = 5000001\n",
    "purpose = \"education\"\n",
    "admission_letter = \"no\"\n",
    "job_recommendation = \"na\"\n",
    "age = 26\n",
    "family_member = \"yes\"\n",
    "documents_submitted = \"yes\""
   ]
  },
  {
   "cell_type": "code",
   "execution_count": 4,
   "id": "6651d36f-c8a6-4e52-bf96-ae3720ccc136",
   "metadata": {},
   "outputs": [
    {
     "name": "stdout",
     "output_type": "stream",
     "text": [
      "welcome for addmission\n"
     ]
    }
   ],
   "source": [
    "#age\n",
    "    #purpose\n",
    "\n",
    "if age > 25:\n",
    "    if purpose == \"education\":\n",
    "        print(\"welcome for addmission\")\n",
    "    else:\n",
    "        print(\"define your purpose\")\n",
    "else:\n",
    "    print(\"underage\")"
   ]
  },
  {
   "cell_type": "code",
   "execution_count": 3,
   "id": "8ab8dca4-9879-4ca7-925a-be105ec38aa6",
   "metadata": {},
   "outputs": [
    {
     "name": "stdout",
     "output_type": "stream",
     "text": [
      "define your purpose\n"
     ]
    }
   ],
   "source": [
    "if age > 25:\n",
    "    if purpose == \"job\":\n",
    "        print(\"welcome for addmission\")\n",
    "    else:\n",
    "        print(\"define your purpose\")\n",
    "else:\n",
    "    print(\"underage\")"
   ]
  },
  {
   "cell_type": "code",
   "execution_count": 5,
   "id": "419e1180-d4a7-4da6-80a3-dc709cee0f3b",
   "metadata": {},
   "outputs": [
    {
     "name": "stdout",
     "output_type": "stream",
     "text": [
      "underage\n"
     ]
    }
   ],
   "source": [
    "if age > 26:\n",
    "    if purpose == \"education\":\n",
    "        print(\"welcome for addmission\")\n",
    "    else:\n",
    "        print(\"define your purpose\")\n",
    "else:\n",
    "    print(\"underage\")"
   ]
  },
  {
   "cell_type": "code",
   "execution_count": 7,
   "id": "001b24eb-2b35-4086-ad2b-360d722e96e9",
   "metadata": {},
   "outputs": [
    {
     "name": "stdout",
     "output_type": "stream",
     "text": [
      "welcome for admission\n"
     ]
    }
   ],
   "source": [
    "#age\n",
    "    #purpose\n",
    "    #purpose\n",
    "if age > 25:\n",
    "    if purpose == \"job\":\n",
    "       print(\"welcome for job\")\n",
    "    elif purpose == \"education\":\n",
    "        print(\"welcome for admission\")\n",
    "    else:\n",
    "        print(\"underage\")"
   ]
  },
  {
   "cell_type": "code",
   "execution_count": 10,
   "id": "bce08eb0-8320-4b1f-8bd3-a51ae79018f4",
   "metadata": {},
   "outputs": [
    {
     "name": "stdout",
     "output_type": "stream",
     "text": [
      "eligible for visa\n"
     ]
    }
   ],
   "source": [
    "#age\n",
    "    #purpose\n",
    "        #family member\n",
    "\n",
    "if age > 25:\n",
    "    if purpose == \"education\":\n",
    "        if family_member == \"yes\":\n",
    "            print(\"eligible for visa\")\n",
    "        else:\n",
    "            print(\"not eligible for visa\")\n",
    "else:\n",
    "    print(\"underage\")"
   ]
  },
  {
   "cell_type": "code",
   "execution_count": 9,
   "id": "44a22cfe-2c1d-471c-86eb-989fa2012004",
   "metadata": {},
   "outputs": [
    {
     "name": "stdout",
     "output_type": "stream",
     "text": [
      "not eligible for visa\n"
     ]
    }
   ],
   "source": [
    "if age > 25:\n",
    "    if purpose == \"education\":\n",
    "        if family_member == \"no\":\n",
    "            print(\"eligible for visa\")\n",
    "        else:\n",
    "            print(\"not eligible for visa\")\n",
    "else:\n",
    "    print(\"you are younger\")"
   ]
  },
  {
   "cell_type": "code",
   "execution_count": 17,
   "id": "ef2300e9-627d-47c8-b50f-4a98a2210cea",
   "metadata": {},
   "outputs": [
    {
     "name": "stdout",
     "output_type": "stream",
     "text": [
      "eligible for visa\n"
     ]
    }
   ],
   "source": [
    "#age\n",
    "    #purpose\n",
    "        #family member\n",
    "        #job recommendation\n",
    "\n",
    "if age > 25:\n",
    "    if purpose == \"education\":\n",
    "        if family_member == \"yes\":\n",
    "            if job_recommendation == \"na\":\n",
    "                print(\"eligible for visa\")\n",
    "            else:\n",
    "                print(\"Not eligible for visa\")\n",
    "                if documents_submitted == \"yes\":\n",
    "                    print(\"eligible\")\n",
    "                else:\n",
    "                    print(\"submit documents\")\n",
    "else:\n",
    "    print(\"underage\")"
   ]
  },
  {
   "cell_type": "code",
   "execution_count": 18,
   "id": "9182becd-aaa1-48ed-9977-f299249c27d9",
   "metadata": {},
   "outputs": [
    {
     "name": "stdout",
     "output_type": "stream",
     "text": [
      "Not eligible for visa\n",
      "eligible\n"
     ]
    }
   ],
   "source": [
    "if age > 25:\n",
    "    if purpose == \"education\":\n",
    "        if family_member == \"yes\":\n",
    "            if job_recommendation == \"yes\":\n",
    "                print(\"eligible for visa\")\n",
    "            else:\n",
    "                print(\"Not eligible for visa\")\n",
    "                if documents_submitted == \"yes\":\n",
    "                    print(\"eligible\")\n",
    "                else:\n",
    "                    print(\"submit documents\")\n",
    "else:\n",
    "    print(\"underage\")"
   ]
  },
  {
   "cell_type": "code",
   "execution_count": 16,
   "id": "f447a244-af97-4545-b8db-e7b91ccd962a",
   "metadata": {},
   "outputs": [
    {
     "name": "stdout",
     "output_type": "stream",
     "text": [
      "Not eligible for visa\n",
      "submit documents\n"
     ]
    }
   ],
   "source": [
    "if age > 25:\n",
    "    if purpose == \"education\":\n",
    "        if family_member == \"yes\":\n",
    "            if job_recommendation == \"yes\":\n",
    "                print(\"eligible for visa\")\n",
    "            else:\n",
    "                print(\"Not eligible for visa\")\n",
    "                if documents_submitted == \"no\":\n",
    "                    print(\"eligible\")\n",
    "                else:\n",
    "                    print(\"submit documents\")\n",
    "else:\n",
    "    print(\"underage\")"
   ]
  },
  {
   "cell_type": "code",
   "execution_count": null,
   "id": "50fea752-1660-450b-ae33-59ff500c20dd",
   "metadata": {},
   "outputs": [],
   "source": []
  }
 ],
 "metadata": {
  "kernelspec": {
   "display_name": "Python 3 (ipykernel)",
   "language": "python",
   "name": "python3"
  },
  "language_info": {
   "codemirror_mode": {
    "name": "ipython",
    "version": 3
   },
   "file_extension": ".py",
   "mimetype": "text/x-python",
   "name": "python",
   "nbconvert_exporter": "python",
   "pygments_lexer": "ipython3",
   "version": "3.12.7"
  }
 },
 "nbformat": 4,
 "nbformat_minor": 5
}
