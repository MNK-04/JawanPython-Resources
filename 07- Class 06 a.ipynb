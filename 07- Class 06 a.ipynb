{
 "cells": [
  {
   "cell_type": "code",
   "execution_count": 1,
   "id": "758b6a25-5f85-4579-af98-17d9d127b6d4",
   "metadata": {},
   "outputs": [
    {
     "data": {
      "text/plain": [
       "['__add__',\n",
       " '__class__',\n",
       " '__contains__',\n",
       " '__delattr__',\n",
       " '__dir__',\n",
       " '__doc__',\n",
       " '__eq__',\n",
       " '__format__',\n",
       " '__ge__',\n",
       " '__getattribute__',\n",
       " '__getitem__',\n",
       " '__getnewargs__',\n",
       " '__getstate__',\n",
       " '__gt__',\n",
       " '__hash__',\n",
       " '__init__',\n",
       " '__init_subclass__',\n",
       " '__iter__',\n",
       " '__le__',\n",
       " '__len__',\n",
       " '__lt__',\n",
       " '__mod__',\n",
       " '__mul__',\n",
       " '__ne__',\n",
       " '__new__',\n",
       " '__reduce__',\n",
       " '__reduce_ex__',\n",
       " '__repr__',\n",
       " '__rmod__',\n",
       " '__rmul__',\n",
       " '__setattr__',\n",
       " '__sizeof__',\n",
       " '__str__',\n",
       " '__subclasshook__',\n",
       " 'capitalize',\n",
       " 'casefold',\n",
       " 'center',\n",
       " 'count',\n",
       " 'encode',\n",
       " 'endswith',\n",
       " 'expandtabs',\n",
       " 'find',\n",
       " 'format',\n",
       " 'format_map',\n",
       " 'index',\n",
       " 'isalnum',\n",
       " 'isalpha',\n",
       " 'isascii',\n",
       " 'isdecimal',\n",
       " 'isdigit',\n",
       " 'isidentifier',\n",
       " 'islower',\n",
       " 'isnumeric',\n",
       " 'isprintable',\n",
       " 'isspace',\n",
       " 'istitle',\n",
       " 'isupper',\n",
       " 'join',\n",
       " 'ljust',\n",
       " 'lower',\n",
       " 'lstrip',\n",
       " 'maketrans',\n",
       " 'partition',\n",
       " 'removeprefix',\n",
       " 'removesuffix',\n",
       " 'replace',\n",
       " 'rfind',\n",
       " 'rindex',\n",
       " 'rjust',\n",
       " 'rpartition',\n",
       " 'rsplit',\n",
       " 'rstrip',\n",
       " 'split',\n",
       " 'splitlines',\n",
       " 'startswith',\n",
       " 'strip',\n",
       " 'swapcase',\n",
       " 'title',\n",
       " 'translate',\n",
       " 'upper',\n",
       " 'zfill']"
      ]
     },
     "execution_count": 1,
     "metadata": {},
     "output_type": "execute_result"
    }
   ],
   "source": [
    "dir(\"\")"
   ]
  },
  {
   "cell_type": "code",
   "execution_count": 2,
   "id": "6f5302a4-ab39-48ab-89dc-8acef8b8b99e",
   "metadata": {},
   "outputs": [],
   "source": [
    "a = \"hello WORLD\""
   ]
  },
  {
   "cell_type": "code",
   "execution_count": 3,
   "id": "58736302-c4c3-4201-9e71-ec1bdaf866ad",
   "metadata": {},
   "outputs": [
    {
     "data": {
      "text/plain": [
       "'Hello world'"
      ]
     },
     "execution_count": 3,
     "metadata": {},
     "output_type": "execute_result"
    }
   ],
   "source": [
    "a.capitalize()"
   ]
  },
  {
   "cell_type": "code",
   "execution_count": 4,
   "id": "8dd30d89-fb60-4f8c-ba5d-fa138af85c54",
   "metadata": {},
   "outputs": [],
   "source": [
    "b = \"Moiz & Maria Are Working\""
   ]
  },
  {
   "cell_type": "code",
   "execution_count": 5,
   "id": "1278d7c5-a81f-462c-85d5-f7b57cf914e0",
   "metadata": {},
   "outputs": [
    {
     "data": {
      "text/plain": [
       "'moiz & maria are working'"
      ]
     },
     "execution_count": 5,
     "metadata": {},
     "output_type": "execute_result"
    }
   ],
   "source": [
    "b.casefold()"
   ]
  },
  {
   "cell_type": "code",
   "execution_count": 6,
   "id": "32ddfb72-3230-4f93-9f0d-6db9b0679b09",
   "metadata": {},
   "outputs": [],
   "source": [
    "c = \"I am learning Python\""
   ]
  },
  {
   "cell_type": "code",
   "execution_count": 7,
   "id": "6cf5fd5f-e5a2-4f69-ba4d-2cb3038f43a4",
   "metadata": {},
   "outputs": [
    {
     "data": {
      "text/plain": [
       "'   I am learning Python  '"
      ]
     },
     "execution_count": 7,
     "metadata": {},
     "output_type": "execute_result"
    }
   ],
   "source": [
    "c.center(25)"
   ]
  },
  {
   "cell_type": "code",
   "execution_count": 8,
   "id": "a59b7301-6638-49cc-a854-748d9dc1f0f1",
   "metadata": {},
   "outputs": [
    {
     "data": {
      "text/plain": [
       "'I am learning Python'"
      ]
     },
     "execution_count": 8,
     "metadata": {},
     "output_type": "execute_result"
    }
   ],
   "source": [
    "c"
   ]
  },
  {
   "cell_type": "code",
   "execution_count": 9,
   "id": "6ed28c21-34e0-45b1-bbf4-b75b95c722f6",
   "metadata": {},
   "outputs": [
    {
     "data": {
      "text/plain": [
       "3"
      ]
     },
     "execution_count": 9,
     "metadata": {},
     "output_type": "execute_result"
    }
   ],
   "source": [
    "c.count(\"n\")"
   ]
  },
  {
   "cell_type": "code",
   "execution_count": 10,
   "id": "ad03026e-d410-45c1-ab8c-71ba320c34e8",
   "metadata": {},
   "outputs": [],
   "source": [
    "d = \"Hello\""
   ]
  },
  {
   "cell_type": "code",
   "execution_count": 11,
   "id": "654504fa-e2f9-4820-baca-4d764228f03f",
   "metadata": {},
   "outputs": [
    {
     "data": {
      "text/plain": [
       "b'Hello'"
      ]
     },
     "execution_count": 11,
     "metadata": {},
     "output_type": "execute_result"
    }
   ],
   "source": [
    "d.encode()"
   ]
  },
  {
   "cell_type": "code",
   "execution_count": 12,
   "id": "2c641351-8a4d-421f-8796-b838650948cf",
   "metadata": {},
   "outputs": [],
   "source": [
    "# In simple words, the encode() method in Python is used to convert a string (like \"Hello\") into a format that computers can easily handle, \n",
    "# called \"bytes.\"\n",
    "# Computer two ways may text handle karta ha. For example, text like \"Hello World\" is easy to read by humans, but to store it in a file, \n",
    "# send it over the internet, or save it in a database, we need to convert it into bytes."
   ]
  },
  {
   "cell_type": "code",
   "execution_count": 13,
   "id": "240d93b3-5d2f-493b-b0f8-50847f37e6db",
   "metadata": {},
   "outputs": [],
   "source": [
    "e = \"text.csv\""
   ]
  },
  {
   "cell_type": "code",
   "execution_count": 14,
   "id": "91e17770-6cbc-4032-a454-e8a1cd372494",
   "metadata": {},
   "outputs": [
    {
     "data": {
      "text/plain": [
       "True"
      ]
     },
     "execution_count": 14,
     "metadata": {},
     "output_type": "execute_result"
    }
   ],
   "source": [
    "e.endswith(\".csv\")"
   ]
  },
  {
   "cell_type": "code",
   "execution_count": 15,
   "id": "5e24e7b7-19b1-4d67-993e-546472458a22",
   "metadata": {},
   "outputs": [
    {
     "data": {
      "text/plain": [
       "False"
      ]
     },
     "execution_count": 15,
     "metadata": {},
     "output_type": "execute_result"
    }
   ],
   "source": [
    "e.endswith(\".txt\")"
   ]
  },
  {
   "cell_type": "code",
   "execution_count": 16,
   "id": "db4f37f8-e212-4cea-8bf4-fa8a416be479",
   "metadata": {},
   "outputs": [],
   "source": [
    "f = \"hello\\tworld\""
   ]
  },
  {
   "cell_type": "code",
   "execution_count": 17,
   "id": "8587d272-8687-4565-baf9-847efa11105e",
   "metadata": {},
   "outputs": [
    {
     "data": {
      "text/plain": [
       "'hello   world'"
      ]
     },
     "execution_count": 17,
     "metadata": {},
     "output_type": "execute_result"
    }
   ],
   "source": [
    "f.expandtabs()"
   ]
  },
  {
   "cell_type": "code",
   "execution_count": 18,
   "id": "eeef21cd-540f-4a70-badf-57490d364073",
   "metadata": {},
   "outputs": [
    {
     "data": {
      "text/plain": [
       "'hello world'"
      ]
     },
     "execution_count": 18,
     "metadata": {},
     "output_type": "execute_result"
    }
   ],
   "source": [
    "f.expandtabs(1)"
   ]
  },
  {
   "cell_type": "code",
   "execution_count": 19,
   "id": "57024c49-0cec-4283-845a-f80891b420ca",
   "metadata": {},
   "outputs": [],
   "source": [
    "g = \"Hello Jawan Pakistan\""
   ]
  },
  {
   "cell_type": "code",
   "execution_count": 20,
   "id": "c4cd22dc-fae0-43bd-a257-64b184ea990b",
   "metadata": {},
   "outputs": [
    {
     "data": {
      "text/plain": [
       "12"
      ]
     },
     "execution_count": 20,
     "metadata": {},
     "output_type": "execute_result"
    }
   ],
   "source": [
    "g.find(\"Pakistan\")"
   ]
  },
  {
   "cell_type": "code",
   "execution_count": 21,
   "id": "5d751319-475c-4855-8f01-1d9525f707bb",
   "metadata": {},
   "outputs": [
    {
     "data": {
      "text/plain": [
       "10"
      ]
     },
     "execution_count": 21,
     "metadata": {},
     "output_type": "execute_result"
    }
   ],
   "source": [
    "g.find(\"n\")"
   ]
  },
  {
   "cell_type": "code",
   "execution_count": 22,
   "id": "66fe5115-92f3-4c59-b377-a0642d2d4760",
   "metadata": {},
   "outputs": [
    {
     "data": {
      "text/plain": [
       "10"
      ]
     },
     "execution_count": 22,
     "metadata": {},
     "output_type": "execute_result"
    }
   ],
   "source": [
    "g.index(\"n\")"
   ]
  },
  {
   "cell_type": "code",
   "execution_count": 23,
   "id": "b6c6a247-7d0c-4112-93c6-78d882696ae3",
   "metadata": {},
   "outputs": [
    {
     "data": {
      "text/plain": [
       "12"
      ]
     },
     "execution_count": 23,
     "metadata": {},
     "output_type": "execute_result"
    }
   ],
   "source": [
    "g.index(\"Pakistan\")"
   ]
  },
  {
   "cell_type": "code",
   "execution_count": 24,
   "id": "808f435e-5c5f-48dd-b02b-e5e58cdc830d",
   "metadata": {},
   "outputs": [],
   "source": [
    "h = \"Hello, {}!\""
   ]
  },
  {
   "cell_type": "code",
   "execution_count": 25,
   "id": "d2f3b851-0de6-4930-82ac-bdfe825c05ea",
   "metadata": {},
   "outputs": [
    {
     "data": {
      "text/plain": [
       "'Hello, Boss!'"
      ]
     },
     "execution_count": 25,
     "metadata": {},
     "output_type": "execute_result"
    }
   ],
   "source": [
    "h.format(\"Boss\")"
   ]
  },
  {
   "cell_type": "code",
   "execution_count": 26,
   "id": "9e76218e-08de-442c-bebd-3c5b1762e4c2",
   "metadata": {},
   "outputs": [
    {
     "data": {
      "text/plain": [
       "'Hello, Sir!'"
      ]
     },
     "execution_count": 26,
     "metadata": {},
     "output_type": "execute_result"
    }
   ],
   "source": [
    "i1 = {\"name\": \"Sir\"}\n",
    "i2 = \"Hello, {name}!\"\n",
    "i2.format_map(i1)"
   ]
  },
  {
   "cell_type": "code",
   "execution_count": 27,
   "id": "1202cb90-363a-4833-b070-af71858daec3",
   "metadata": {},
   "outputs": [],
   "source": [
    "j = \"abc123\""
   ]
  },
  {
   "cell_type": "code",
   "execution_count": 28,
   "id": "78f38be9-4d09-4bd7-82f1-8ebe751181ca",
   "metadata": {},
   "outputs": [
    {
     "data": {
      "text/plain": [
       "True"
      ]
     },
     "execution_count": 28,
     "metadata": {},
     "output_type": "execute_result"
    }
   ],
   "source": [
    "j.isalnum()"
   ]
  },
  {
   "cell_type": "code",
   "execution_count": 31,
   "id": "b1e6d510-ee69-4357-a97f-60dff6639af3",
   "metadata": {},
   "outputs": [],
   "source": [
    "k = \"abc\""
   ]
  },
  {
   "cell_type": "code",
   "execution_count": 32,
   "id": "d1b49ea8-1ec8-4d08-a4eb-ea3bcf17f897",
   "metadata": {},
   "outputs": [
    {
     "data": {
      "text/plain": [
       "True"
      ]
     },
     "execution_count": 32,
     "metadata": {},
     "output_type": "execute_result"
    }
   ],
   "source": [
    "k.isalpha()"
   ]
  },
  {
   "cell_type": "code",
   "execution_count": 33,
   "id": "38206c52-758d-4b23-a3f7-c64511670291",
   "metadata": {},
   "outputs": [],
   "source": [
    "l = \"123\""
   ]
  },
  {
   "cell_type": "code",
   "execution_count": 34,
   "id": "316c16b6-3592-4dbb-b1e2-e9f0f97b55c0",
   "metadata": {},
   "outputs": [
    {
     "data": {
      "text/plain": [
       "True"
      ]
     },
     "execution_count": 34,
     "metadata": {},
     "output_type": "execute_result"
    }
   ],
   "source": [
    "l.isdigit()"
   ]
  },
  {
   "cell_type": "code",
   "execution_count": 35,
   "id": "2bd4dad0-524a-4d2b-a1b7-35b0c768668a",
   "metadata": {},
   "outputs": [],
   "source": [
    "m = \"my_var\""
   ]
  },
  {
   "cell_type": "code",
   "execution_count": 36,
   "id": "25dbba4f-c4d3-46ed-a576-2cc0cd628e41",
   "metadata": {},
   "outputs": [
    {
     "data": {
      "text/plain": [
       "True"
      ]
     },
     "execution_count": 36,
     "metadata": {},
     "output_type": "execute_result"
    }
   ],
   "source": [
    "m.isidentifier()"
   ]
  },
  {
   "cell_type": "code",
   "execution_count": 37,
   "id": "41fa6607-13e4-4420-86df-b685c36c78b9",
   "metadata": {},
   "outputs": [],
   "source": [
    "# Checks if the string can be a valid Python identifier (variable name)."
   ]
  },
  {
   "cell_type": "code",
   "execution_count": 38,
   "id": "b03a4a98-e40c-4af2-89b8-19cf7423609f",
   "metadata": {},
   "outputs": [],
   "source": [
    "n = \"hello\""
   ]
  },
  {
   "cell_type": "code",
   "execution_count": 39,
   "id": "7c05bc68-dd4d-4cab-aa98-781a319c6a84",
   "metadata": {},
   "outputs": [
    {
     "data": {
      "text/plain": [
       "True"
      ]
     },
     "execution_count": 39,
     "metadata": {},
     "output_type": "execute_result"
    }
   ],
   "source": [
    "n.islower()"
   ]
  },
  {
   "cell_type": "code",
   "execution_count": 40,
   "id": "c433c252-d863-4f50-b12b-e27c28eb2043",
   "metadata": {},
   "outputs": [],
   "source": [
    "o = \"123\""
   ]
  },
  {
   "cell_type": "code",
   "execution_count": 41,
   "id": "49a7d5d2-ddfc-4820-b30e-4cbdd2b59b03",
   "metadata": {},
   "outputs": [
    {
     "data": {
      "text/plain": [
       "True"
      ]
     },
     "execution_count": 41,
     "metadata": {},
     "output_type": "execute_result"
    }
   ],
   "source": [
    "o.isnumeric()"
   ]
  },
  {
   "cell_type": "code",
   "execution_count": 42,
   "id": "9ac8f582-a8ef-443f-8e0d-0a2a5c2087c5",
   "metadata": {},
   "outputs": [],
   "source": [
    "p = \" \""
   ]
  },
  {
   "cell_type": "code",
   "execution_count": 43,
   "id": "ccc1f969-1a1d-4175-be3e-79a971a9a8e6",
   "metadata": {},
   "outputs": [
    {
     "data": {
      "text/plain": [
       "True"
      ]
     },
     "execution_count": 43,
     "metadata": {},
     "output_type": "execute_result"
    }
   ],
   "source": [
    "p.isspace()"
   ]
  },
  {
   "cell_type": "code",
   "execution_count": 44,
   "id": "c620dd44-cedf-45a8-88ed-a0051d03d97b",
   "metadata": {},
   "outputs": [],
   "source": [
    "q = [\"hello\", \"world\"]"
   ]
  },
  {
   "cell_type": "code",
   "execution_count": 45,
   "id": "fc42e39e-f748-47a5-94f3-f5860b6c2caf",
   "metadata": {},
   "outputs": [
    {
     "data": {
      "text/plain": [
       "'hello world'"
      ]
     },
     "execution_count": 45,
     "metadata": {},
     "output_type": "execute_result"
    }
   ],
   "source": [
    "\" \".join(q)"
   ]
  },
  {
   "cell_type": "code",
   "execution_count": 46,
   "id": "3e52334b-b4a9-4303-b00a-8cca710b9867",
   "metadata": {},
   "outputs": [],
   "source": [
    "r = \"hello\""
   ]
  },
  {
   "cell_type": "code",
   "execution_count": 52,
   "id": "6ccf3c54-d8b0-4dff-bbce-c6091ecbe637",
   "metadata": {},
   "outputs": [
    {
     "data": {
      "text/plain": [
       "'hello     '"
      ]
     },
     "execution_count": 52,
     "metadata": {},
     "output_type": "execute_result"
    }
   ],
   "source": [
    "r.ljust(10)"
   ]
  },
  {
   "cell_type": "code",
   "execution_count": 53,
   "id": "905040e2-ed72-4222-9256-92c03394b980",
   "metadata": {},
   "outputs": [],
   "source": [
    "s = \"HELLO\""
   ]
  },
  {
   "cell_type": "code",
   "execution_count": 54,
   "id": "e1c180e3-3dec-471f-823e-872d0666aa54",
   "metadata": {},
   "outputs": [
    {
     "data": {
      "text/plain": [
       "'hello'"
      ]
     },
     "execution_count": 54,
     "metadata": {},
     "output_type": "execute_result"
    }
   ],
   "source": [
    "s.lower()"
   ]
  },
  {
   "cell_type": "code",
   "execution_count": 55,
   "id": "b48a4f6b-63dd-40f7-953e-4ba308438d26",
   "metadata": {},
   "outputs": [],
   "source": [
    "t = \"  hello\""
   ]
  },
  {
   "cell_type": "code",
   "execution_count": 56,
   "id": "7ee444d1-e413-43a6-ad41-7fb6c8666b6a",
   "metadata": {},
   "outputs": [
    {
     "data": {
      "text/plain": [
       "'hello'"
      ]
     },
     "execution_count": 56,
     "metadata": {},
     "output_type": "execute_result"
    }
   ],
   "source": [
    "t.lstrip()"
   ]
  },
  {
   "cell_type": "code",
   "execution_count": 57,
   "id": "4a26c08a-9bcf-4f6b-aa3a-75ddfb4868f2",
   "metadata": {},
   "outputs": [],
   "source": [
    "u = str.maketrans(\"aeiou\", \"12345\")"
   ]
  },
  {
   "cell_type": "code",
   "execution_count": 58,
   "id": "70154361-ab6e-40cc-995f-9a6a95905903",
   "metadata": {},
   "outputs": [
    {
     "data": {
      "text/plain": [
       "'h2ll4'"
      ]
     },
     "execution_count": 58,
     "metadata": {},
     "output_type": "execute_result"
    }
   ],
   "source": [
    "\"hello\".translate(u)"
   ]
  },
  {
   "cell_type": "code",
   "execution_count": 59,
   "id": "d9286651-eea7-4849-92fe-57f11078851b",
   "metadata": {},
   "outputs": [],
   "source": [
    "v = \"hello world\""
   ]
  },
  {
   "cell_type": "code",
   "execution_count": 60,
   "id": "77a723b5-169f-4087-8747-bbabfaf5fb04",
   "metadata": {},
   "outputs": [
    {
     "data": {
      "text/plain": [
       "('hello', ' ', 'world')"
      ]
     },
     "execution_count": 60,
     "metadata": {},
     "output_type": "execute_result"
    }
   ],
   "source": [
    "v.partition(\" \")"
   ]
  },
  {
   "cell_type": "code",
   "execution_count": 61,
   "id": "18f4b908-e6a9-4c26-b9d0-1d1bffbdce66",
   "metadata": {},
   "outputs": [],
   "source": [
    "w = \"hello\""
   ]
  },
  {
   "cell_type": "code",
   "execution_count": 62,
   "id": "4574c07f-5d00-4d98-bc10-26f81a89b86b",
   "metadata": {},
   "outputs": [
    {
     "data": {
      "text/plain": [
       "'llo'"
      ]
     },
     "execution_count": 62,
     "metadata": {},
     "output_type": "execute_result"
    }
   ],
   "source": [
    "w.removeprefix(\"he\")"
   ]
  },
  {
   "cell_type": "code",
   "execution_count": 63,
   "id": "c640805d-4183-439f-b09e-083f2713da9e",
   "metadata": {},
   "outputs": [],
   "source": [
    "x = \"hello\""
   ]
  },
  {
   "cell_type": "code",
   "execution_count": 64,
   "id": "aa3ebd5a-d3cf-4f6b-9edf-a3fe93269c00",
   "metadata": {},
   "outputs": [
    {
     "data": {
      "text/plain": [
       "'herro'"
      ]
     },
     "execution_count": 64,
     "metadata": {},
     "output_type": "execute_result"
    }
   ],
   "source": [
    "x.replace(\"l\", \"r\")"
   ]
  },
  {
   "cell_type": "code",
   "execution_count": 65,
   "id": "bdfd293f-1965-4de5-9797-0effe098e695",
   "metadata": {},
   "outputs": [],
   "source": [
    "y = \"hello world\""
   ]
  },
  {
   "cell_type": "code",
   "execution_count": 66,
   "id": "b94e7c9d-36a0-4aed-b467-c163b6cb5540",
   "metadata": {},
   "outputs": [
    {
     "data": {
      "text/plain": [
       "['hello', 'world']"
      ]
     },
     "execution_count": 66,
     "metadata": {},
     "output_type": "execute_result"
    }
   ],
   "source": [
    "y.split()"
   ]
  },
  {
   "cell_type": "code",
   "execution_count": 67,
   "id": "3fd5437a-b530-47fe-8e1c-9441d2c824ef",
   "metadata": {},
   "outputs": [],
   "source": [
    "z = \"  hello  \""
   ]
  },
  {
   "cell_type": "code",
   "execution_count": 68,
   "id": "84909608-5d98-4fc4-b16e-b989a534c8d2",
   "metadata": {},
   "outputs": [
    {
     "data": {
      "text/plain": [
       "'hello'"
      ]
     },
     "execution_count": 68,
     "metadata": {},
     "output_type": "execute_result"
    }
   ],
   "source": [
    "z.strip()"
   ]
  },
  {
   "cell_type": "code",
   "execution_count": 69,
   "id": "16fd6423-9491-4307-af45-b6fdd7a809eb",
   "metadata": {},
   "outputs": [],
   "source": [
    "A = \"HeLLo\""
   ]
  },
  {
   "cell_type": "code",
   "execution_count": 70,
   "id": "ed899314-b893-4df9-ac0d-cd30848c7247",
   "metadata": {},
   "outputs": [
    {
     "data": {
      "text/plain": [
       "'hEllO'"
      ]
     },
     "execution_count": 70,
     "metadata": {},
     "output_type": "execute_result"
    }
   ],
   "source": [
    "A.swapcase()"
   ]
  },
  {
   "cell_type": "code",
   "execution_count": 71,
   "id": "07a06397-9fa6-4d3a-be43-c2878e298d8f",
   "metadata": {},
   "outputs": [],
   "source": [
    "B = \"hello\""
   ]
  },
  {
   "cell_type": "code",
   "execution_count": 72,
   "id": "7f44493d-beab-4770-81a9-7a6f517fa8ea",
   "metadata": {},
   "outputs": [
    {
     "data": {
      "text/plain": [
       "'HELLO'"
      ]
     },
     "execution_count": 72,
     "metadata": {},
     "output_type": "execute_result"
    }
   ],
   "source": [
    "B.upper()"
   ]
  },
  {
   "cell_type": "code",
   "execution_count": 73,
   "id": "fdbde2a2-5b11-4327-9ef3-4ed3c3e89e88",
   "metadata": {},
   "outputs": [],
   "source": [
    "C = \"42\""
   ]
  },
  {
   "cell_type": "code",
   "execution_count": 74,
   "id": "787173e2-234f-44a3-9b87-4abb408e0324",
   "metadata": {},
   "outputs": [
    {
     "data": {
      "text/plain": [
       "'00042'"
      ]
     },
     "execution_count": 74,
     "metadata": {},
     "output_type": "execute_result"
    }
   ],
   "source": [
    "C.zfill(5)"
   ]
  },
  {
   "cell_type": "code",
   "execution_count": null,
   "id": "21c30e05-eb90-4f23-8a20-c0e2cd496ffb",
   "metadata": {},
   "outputs": [],
   "source": []
  }
 ],
 "metadata": {
  "kernelspec": {
   "display_name": "Python 3 (ipykernel)",
   "language": "python",
   "name": "python3"
  },
  "language_info": {
   "codemirror_mode": {
    "name": "ipython",
    "version": 3
   },
   "file_extension": ".py",
   "mimetype": "text/x-python",
   "name": "python",
   "nbconvert_exporter": "python",
   "pygments_lexer": "ipython3",
   "version": "3.12.7"
  }
 },
 "nbformat": 4,
 "nbformat_minor": 5
}
