{
 "cells": [
  {
   "cell_type": "markdown",
   "id": "cbdaec52-ef81-4950-bc21-1495532987d8",
   "metadata": {},
   "source": [
    "# Heading 1"
   ]
  },
  {
   "cell_type": "markdown",
   "id": "c398792d-2ee3-4efd-829c-54417112b632",
   "metadata": {},
   "source": [
    "## Heading 2"
   ]
  },
  {
   "cell_type": "markdown",
   "id": "d619b9bc-d1c2-42ba-9b5b-1702efdd79f6",
   "metadata": {},
   "source": [
    "### Heading 3"
   ]
  },
  {
   "cell_type": "markdown",
   "id": "21b9a70a-0dbf-4c8b-a761-debc7698ac1e",
   "metadata": {},
   "source": [
    "#### Heading 4"
   ]
  },
  {
   "cell_type": "markdown",
   "id": "1fcff150-068b-4d40-9ea5-679afa0576e1",
   "metadata": {},
   "source": [
    "##### Heading 5"
   ]
  },
  {
   "cell_type": "markdown",
   "id": "a56f268b-15a8-4e3f-9187-786a0758a66d",
   "metadata": {},
   "source": [
    "###### Heading 6"
   ]
  },
  {
   "cell_type": "raw",
   "id": "6c2230c7-d192-491d-b27c-a6bf4b4fa437",
   "metadata": {},
   "source": [
    "Raw Command's results shows as raw"
   ]
  },
  {
   "cell_type": "code",
   "execution_count": 22,
   "id": "06d6da68-5521-4aa2-a167-3002ecd14f6d",
   "metadata": {},
   "outputs": [
    {
     "name": "stdout",
     "output_type": "stream",
     "text": [
      "Moiz Here\n"
     ]
    }
   ],
   "source": [
    "print(\"Moiz Here\")"
   ]
  },
  {
   "cell_type": "code",
   "execution_count": 5,
   "id": "afaccb71-6623-48b5-8f86-78390ff2296b",
   "metadata": {},
   "outputs": [
    {
     "ename": "SyntaxError",
     "evalue": "invalid syntax. Perhaps you forgot a comma? (1723367049.py, line 1)",
     "output_type": "error",
     "traceback": [
      "\u001b[1;36m  Cell \u001b[1;32mIn[5], line 1\u001b[1;36m\u001b[0m\n\u001b[1;33m    print(Moiz here)\u001b[0m\n\u001b[1;37m          ^\u001b[0m\n\u001b[1;31mSyntaxError\u001b[0m\u001b[1;31m:\u001b[0m invalid syntax. Perhaps you forgot a comma?\n"
     ]
    }
   ],
   "source": [
    "print(Moiz here)"
   ]
  },
  {
   "cell_type": "code",
   "execution_count": 6,
   "id": "9bd5686c-49e2-4aa7-8310-d6d60c32e224",
   "metadata": {},
   "outputs": [
    {
     "ename": "NameError",
     "evalue": "name 'Print' is not defined",
     "output_type": "error",
     "traceback": [
      "\u001b[1;31m---------------------------------------------------------------------------\u001b[0m",
      "\u001b[1;31mNameError\u001b[0m                                 Traceback (most recent call last)",
      "Cell \u001b[1;32mIn[6], line 1\u001b[0m\n\u001b[1;32m----> 1\u001b[0m Print(\u001b[38;5;124m\"\u001b[39m\u001b[38;5;124mMoiz here\u001b[39m\u001b[38;5;124m\"\u001b[39m)\n",
      "\u001b[1;31mNameError\u001b[0m: name 'Print' is not defined"
     ]
    }
   ],
   "source": [
    "Print(\"Moiz here\")"
   ]
  },
  {
   "cell_type": "code",
   "execution_count": 7,
   "id": "5b466dbb-9b13-480f-a4a1-a4cb839c4c9b",
   "metadata": {},
   "outputs": [
    {
     "name": "stdout",
     "output_type": "stream",
     "text": [
      "MNK here\n"
     ]
    }
   ],
   "source": [
    "# Good Day\n",
    "print(\"MNK here\")"
   ]
  },
  {
   "cell_type": "markdown",
   "id": "351aec55-5d1a-47fe-9a50-89ede5fd10fa",
   "metadata": {},
   "source": [
    "# Good Day\n",
    "print(\"MNK here\")"
   ]
  },
  {
   "cell_type": "code",
   "execution_count": 8,
   "id": "3e9420f9-6f60-44a9-8b25-ed086f5031bd",
   "metadata": {},
   "outputs": [
    {
     "name": "stdout",
     "output_type": "stream",
     "text": [
      "69\n"
     ]
    }
   ],
   "source": [
    "print(\"69\")"
   ]
  },
  {
   "cell_type": "code",
   "execution_count": 9,
   "id": "eafb8632-f62f-46cf-96f1-fd08317de8c6",
   "metadata": {},
   "outputs": [
    {
     "name": "stdout",
     "output_type": "stream",
     "text": [
      "96\n"
     ]
    }
   ],
   "source": [
    "print(96)"
   ]
  },
  {
   "cell_type": "code",
   "execution_count": 15,
   "id": "4b2c5a54-f3fc-4436-9b90-fdaa7b135cfb",
   "metadata": {},
   "outputs": [
    {
     "name": "stdout",
     "output_type": "stream",
     "text": [
      "969.69\n"
     ]
    }
   ],
   "source": [
    "print(969.69)"
   ]
  },
  {
   "cell_type": "code",
   "execution_count": 10,
   "id": "c86b1b19-b985-43aa-bf1b-26c828f657d3",
   "metadata": {},
   "outputs": [
    {
     "name": "stdout",
     "output_type": "stream",
     "text": [
      "69\n"
     ]
    },
    {
     "data": {
      "text/plain": [
       "NoneType"
      ]
     },
     "execution_count": 10,
     "metadata": {},
     "output_type": "execute_result"
    }
   ],
   "source": [
    "type(print(\"69\"))"
   ]
  },
  {
   "cell_type": "code",
   "execution_count": 11,
   "id": "55faa47c-c82c-48bb-b764-722694eb79a7",
   "metadata": {},
   "outputs": [
    {
     "name": "stdout",
     "output_type": "stream",
     "text": [
      "96\n"
     ]
    },
    {
     "data": {
      "text/plain": [
       "NoneType"
      ]
     },
     "execution_count": 11,
     "metadata": {},
     "output_type": "execute_result"
    }
   ],
   "source": [
    "type(print(96))"
   ]
  },
  {
   "cell_type": "code",
   "execution_count": 16,
   "id": "90a49e9a-d82c-41cb-add9-4b5b255097f7",
   "metadata": {},
   "outputs": [
    {
     "name": "stdout",
     "output_type": "stream",
     "text": [
      "969.69\n"
     ]
    },
    {
     "data": {
      "text/plain": [
       "NoneType"
      ]
     },
     "execution_count": 16,
     "metadata": {},
     "output_type": "execute_result"
    }
   ],
   "source": [
    "type(print(969.69))"
   ]
  },
  {
   "cell_type": "code",
   "execution_count": 14,
   "id": "a0714355-6a78-4135-8209-4e14d80551d7",
   "metadata": {},
   "outputs": [
    {
     "data": {
      "text/plain": [
       "str"
      ]
     },
     "execution_count": 14,
     "metadata": {},
     "output_type": "execute_result"
    }
   ],
   "source": [
    "type(\"69\")"
   ]
  },
  {
   "cell_type": "code",
   "execution_count": 13,
   "id": "31ecf749-1968-4d1f-9fb5-2fe5ea6420ad",
   "metadata": {},
   "outputs": [
    {
     "data": {
      "text/plain": [
       "int"
      ]
     },
     "execution_count": 13,
     "metadata": {},
     "output_type": "execute_result"
    }
   ],
   "source": [
    "type(96)"
   ]
  },
  {
   "cell_type": "code",
   "execution_count": 17,
   "id": "65039e80-8a36-4b96-8f5c-8d9afca7246e",
   "metadata": {},
   "outputs": [
    {
     "data": {
      "text/plain": [
       "float"
      ]
     },
     "execution_count": 17,
     "metadata": {},
     "output_type": "execute_result"
    }
   ],
   "source": [
    "type(969.69)"
   ]
  },
  {
   "cell_type": "code",
   "execution_count": 18,
   "id": "28e6ac9e-fa8f-4045-afd4-b03311a89f43",
   "metadata": {},
   "outputs": [
    {
     "data": {
      "text/plain": [
       "str"
      ]
     },
     "execution_count": 18,
     "metadata": {},
     "output_type": "execute_result"
    }
   ],
   "source": [
    "type(\"969.69\")"
   ]
  },
  {
   "cell_type": "code",
   "execution_count": 19,
   "id": "ef822b5c-4627-4322-a262-f750dd0e177f",
   "metadata": {},
   "outputs": [
    {
     "name": "stdout",
     "output_type": "stream",
     "text": [
      "<class 'str'>\n"
     ]
    }
   ],
   "source": [
    "print(type(\"69\"))"
   ]
  },
  {
   "cell_type": "code",
   "execution_count": 20,
   "id": "21faf68c-cf42-41bf-9436-297b3af32d2c",
   "metadata": {},
   "outputs": [
    {
     "name": "stdout",
     "output_type": "stream",
     "text": [
      "<class 'int'>\n"
     ]
    }
   ],
   "source": [
    "print(type(96))"
   ]
  },
  {
   "cell_type": "code",
   "execution_count": 21,
   "id": "37b76a11-c272-4e9a-80c7-5024b10b6bf2",
   "metadata": {},
   "outputs": [
    {
     "name": "stdout",
     "output_type": "stream",
     "text": [
      "<class 'float'>\n"
     ]
    }
   ],
   "source": [
    "print(type(969.69))"
   ]
  },
  {
   "cell_type": "code",
   "execution_count": 26,
   "id": "47f1800d-b941-446f-b860-6ecc9cb115fe",
   "metadata": {},
   "outputs": [
    {
     "ename": "SyntaxError",
     "evalue": "unterminated string literal (detected at line 1) (3863655412.py, line 1)",
     "output_type": "error",
     "traceback": [
      "\u001b[1;36m  Cell \u001b[1;32mIn[26], line 1\u001b[1;36m\u001b[0m\n\u001b[1;33m    print(\"MNK here, 22\u001b[0m\n\u001b[1;37m          ^\u001b[0m\n\u001b[1;31mSyntaxError\u001b[0m\u001b[1;31m:\u001b[0m unterminated string literal (detected at line 1)\n"
     ]
    }
   ],
   "source": [
    "print(\"MNK here, 22\n",
    "years old\")"
   ]
  },
  {
   "cell_type": "code",
   "execution_count": 27,
   "id": "4b8947e2-9152-4c52-a0dc-a3f81e8508aa",
   "metadata": {},
   "outputs": [
    {
     "ename": "SyntaxError",
     "evalue": "invalid syntax. Perhaps you forgot a comma? (227321930.py, line 1)",
     "output_type": "error",
     "traceback": [
      "\u001b[1;36m  Cell \u001b[1;32mIn[27], line 1\u001b[1;36m\u001b[0m\n\u001b[1;33m    print(\"\"MNK here, 22\u001b[0m\n\u001b[1;37m          ^\u001b[0m\n\u001b[1;31mSyntaxError\u001b[0m\u001b[1;31m:\u001b[0m invalid syntax. Perhaps you forgot a comma?\n"
     ]
    }
   ],
   "source": [
    "print(\"\"MNK here, 22\n",
    "years old\"\")"
   ]
  },
  {
   "cell_type": "code",
   "execution_count": 28,
   "id": "39ab65c7-8d88-4673-a0eb-6256653859d5",
   "metadata": {},
   "outputs": [
    {
     "name": "stdout",
     "output_type": "stream",
     "text": [
      "MNK here, 22\n",
      "years old\n"
     ]
    }
   ],
   "source": [
    "print(\"\"\"MNK here, 22\n",
    "years old\"\"\")"
   ]
  },
  {
   "cell_type": "code",
   "execution_count": 29,
   "id": "c2015d69-50e2-43db-be8d-65f913a93d23",
   "metadata": {},
   "outputs": [
    {
     "ename": "SyntaxError",
     "evalue": "unterminated string literal (detected at line 1) (3193972294.py, line 1)",
     "output_type": "error",
     "traceback": [
      "\u001b[1;36m  Cell \u001b[1;32mIn[29], line 1\u001b[1;36m\u001b[0m\n\u001b[1;33m    print('MNK here, 22\u001b[0m\n\u001b[1;37m          ^\u001b[0m\n\u001b[1;31mSyntaxError\u001b[0m\u001b[1;31m:\u001b[0m unterminated string literal (detected at line 1)\n"
     ]
    }
   ],
   "source": [
    "print('MNK here, 22\n",
    "years old')"
   ]
  },
  {
   "cell_type": "code",
   "execution_count": 30,
   "id": "87a6170e-6e1d-4452-a5ae-be6d62a9f670",
   "metadata": {},
   "outputs": [
    {
     "ename": "SyntaxError",
     "evalue": "invalid syntax. Perhaps you forgot a comma? (4102910730.py, line 1)",
     "output_type": "error",
     "traceback": [
      "\u001b[1;36m  Cell \u001b[1;32mIn[30], line 1\u001b[1;36m\u001b[0m\n\u001b[1;33m    print(''MNK here, 22\u001b[0m\n\u001b[1;37m          ^\u001b[0m\n\u001b[1;31mSyntaxError\u001b[0m\u001b[1;31m:\u001b[0m invalid syntax. Perhaps you forgot a comma?\n"
     ]
    }
   ],
   "source": [
    "print(''MNK here, 22\n",
    "years old'')"
   ]
  },
  {
   "cell_type": "code",
   "execution_count": 31,
   "id": "970dd70f-7f28-4dbd-b290-c950184f7c71",
   "metadata": {},
   "outputs": [
    {
     "name": "stdout",
     "output_type": "stream",
     "text": [
      "MNK here, 22\n",
      "years old\n"
     ]
    }
   ],
   "source": [
    "print('''MNK here, 22\n",
    "years old''')"
   ]
  },
  {
   "cell_type": "code",
   "execution_count": 32,
   "id": "d2c39b2e-d253-4ea8-b974-731d353ecdbb",
   "metadata": {},
   "outputs": [
    {
     "ename": "SyntaxError",
     "evalue": "unterminated string literal (detected at line 1) (1005369630.py, line 1)",
     "output_type": "error",
     "traceback": [
      "\u001b[1;36m  Cell \u001b[1;32mIn[32], line 1\u001b[1;36m\u001b[0m\n\u001b[1;33m    (\"MNK here, 22\u001b[0m\n\u001b[1;37m     ^\u001b[0m\n\u001b[1;31mSyntaxError\u001b[0m\u001b[1;31m:\u001b[0m unterminated string literal (detected at line 1)\n"
     ]
    }
   ],
   "source": [
    "(\"MNK here, 22\n",
    "years old\")"
   ]
  },
  {
   "cell_type": "code",
   "execution_count": 33,
   "id": "ed9e6075-f46a-4741-b6fe-aebf022db4d6",
   "metadata": {},
   "outputs": [
    {
     "ename": "SyntaxError",
     "evalue": "invalid syntax. Perhaps you forgot a comma? (217655123.py, line 1)",
     "output_type": "error",
     "traceback": [
      "\u001b[1;36m  Cell \u001b[1;32mIn[33], line 1\u001b[1;36m\u001b[0m\n\u001b[1;33m    (\"\"MNK here, 22\u001b[0m\n\u001b[1;37m     ^\u001b[0m\n\u001b[1;31mSyntaxError\u001b[0m\u001b[1;31m:\u001b[0m invalid syntax. Perhaps you forgot a comma?\n"
     ]
    }
   ],
   "source": [
    "(\"\"MNK here, 22\n",
    "years old\"\")"
   ]
  },
  {
   "cell_type": "code",
   "execution_count": 34,
   "id": "1c457a59-7c6d-49fa-bba1-4dfef7953127",
   "metadata": {},
   "outputs": [
    {
     "data": {
      "text/plain": [
       "'MNK here, 22\\nyears old'"
      ]
     },
     "execution_count": 34,
     "metadata": {},
     "output_type": "execute_result"
    }
   ],
   "source": [
    "(\"\"\"MNK here, 22\n",
    "years old\"\"\")"
   ]
  },
  {
   "cell_type": "code",
   "execution_count": 35,
   "id": "3514754a-6519-4cfa-a77d-65888cbdb427",
   "metadata": {},
   "outputs": [
    {
     "ename": "SyntaxError",
     "evalue": "unterminated string literal (detected at line 1) (1730550242.py, line 1)",
     "output_type": "error",
     "traceback": [
      "\u001b[1;36m  Cell \u001b[1;32mIn[35], line 1\u001b[1;36m\u001b[0m\n\u001b[1;33m    ('MNK here, 22\u001b[0m\n\u001b[1;37m     ^\u001b[0m\n\u001b[1;31mSyntaxError\u001b[0m\u001b[1;31m:\u001b[0m unterminated string literal (detected at line 1)\n"
     ]
    }
   ],
   "source": [
    "('MNK here, 22\n",
    "years old')"
   ]
  },
  {
   "cell_type": "code",
   "execution_count": 36,
   "id": "bee7129e-1ec3-4aa6-9151-0ec2b3919053",
   "metadata": {},
   "outputs": [
    {
     "ename": "SyntaxError",
     "evalue": "invalid syntax. Perhaps you forgot a comma? (3637335941.py, line 1)",
     "output_type": "error",
     "traceback": [
      "\u001b[1;36m  Cell \u001b[1;32mIn[36], line 1\u001b[1;36m\u001b[0m\n\u001b[1;33m    (''MNK here, 22\u001b[0m\n\u001b[1;37m     ^\u001b[0m\n\u001b[1;31mSyntaxError\u001b[0m\u001b[1;31m:\u001b[0m invalid syntax. Perhaps you forgot a comma?\n"
     ]
    }
   ],
   "source": [
    "(''MNK here, 22\n",
    "years old'')"
   ]
  },
  {
   "cell_type": "code",
   "execution_count": 37,
   "id": "22b9064d-d135-472a-8f2d-e4a02cd5b26d",
   "metadata": {},
   "outputs": [
    {
     "data": {
      "text/plain": [
       "'MNK here, 22\\nyears old'"
      ]
     },
     "execution_count": 37,
     "metadata": {},
     "output_type": "execute_result"
    }
   ],
   "source": [
    "('''MNK here, 22\n",
    "years old''')"
   ]
  },
  {
   "cell_type": "markdown",
   "id": "456e74b1-d452-4a4f-b0cd-6ea26e01b8db",
   "metadata": {},
   "source": [
    "Thanks to come till last, i tried to cover every possible treatment we have learned so far!"
   ]
  },
  {
   "cell_type": "code",
   "execution_count": null,
   "id": "b1b03e72-5d4e-41d9-87da-c590b217687e",
   "metadata": {},
   "outputs": [],
   "source": []
  }
 ],
 "metadata": {
  "kernelspec": {
   "display_name": "Python 3 (ipykernel)",
   "language": "python",
   "name": "python3"
  },
  "language_info": {
   "codemirror_mode": {
    "name": "ipython",
    "version": 3
   },
   "file_extension": ".py",
   "mimetype": "text/x-python",
   "name": "python",
   "nbconvert_exporter": "python",
   "pygments_lexer": "ipython3",
   "version": "3.12.7"
  }
 },
 "nbformat": 4,
 "nbformat_minor": 5
}
