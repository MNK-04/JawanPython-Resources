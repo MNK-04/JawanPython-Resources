{
 "cells": [
  {
   "cell_type": "markdown",
   "id": "4d8927fa-86ba-42af-b3c7-b3d7d8e9c190",
   "metadata": {},
   "source": [
    "#### Why do we use for loop in python?"
   ]
  },
  {
   "cell_type": "markdown",
   "id": "1fe02bb2-6431-492d-be99-b4352506f261",
   "metadata": {},
   "source": [
    "A for loop in Python is used to iterate over a sequence (like a list, tuple, string, or range) and execute a block of code repeatedly for each item in the sequence. It helps automate repetitive tasks, making the code more concise and efficient"
   ]
  },
  {
   "cell_type": "code",
   "execution_count": 2,
   "id": "0646aca6-03fd-4e01-af8f-dfdcb1dacf91",
   "metadata": {},
   "outputs": [
    {
     "data": {
      "text/plain": [
       "(1, 2, 3, 4, 5)"
      ]
     },
     "execution_count": 2,
     "metadata": {},
     "output_type": "execute_result"
    }
   ],
   "source": [
    "# Tuple\n",
    "my_tuple = (1, 2, 3, 4, 5)\n",
    "my_tuple"
   ]
  },
  {
   "cell_type": "code",
   "execution_count": 3,
   "id": "bd58b32e-3e18-4132-8c08-357180e07958",
   "metadata": {},
   "outputs": [
    {
     "name": "stdout",
     "output_type": "stream",
     "text": [
      "1\n",
      "2\n",
      "3\n",
      "4\n",
      "5\n"
     ]
    }
   ],
   "source": [
    "print(my_tuple[0])\n",
    "print(my_tuple[1])\n",
    "print(my_tuple[2])\n",
    "print(my_tuple[3])\n",
    "print(my_tuple[4])"
   ]
  },
  {
   "cell_type": "code",
   "execution_count": 4,
   "id": "23ce6225-ca81-48cf-9504-aaf26ed73f09",
   "metadata": {},
   "outputs": [
    {
     "name": "stdout",
     "output_type": "stream",
     "text": [
      "1\n",
      "2\n",
      "3\n",
      "4\n",
      "5\n"
     ]
    }
   ],
   "source": [
    "for i in my_tuple:\n",
    "    print(i)"
   ]
  },
  {
   "cell_type": "code",
   "execution_count": 50,
   "id": "21dc1ff4-3674-4368-9588-939a2e938d7e",
   "metadata": {},
   "outputs": [],
   "source": [
    "# Industry norms to write i in for loop, you may use anyother."
   ]
  },
  {
   "cell_type": "code",
   "execution_count": 5,
   "id": "1c30ded0-a3fa-4a3d-b8ab-f2cd53500c59",
   "metadata": {},
   "outputs": [
    {
     "name": "stdout",
     "output_type": "stream",
     "text": [
      "1\n",
      "2\n",
      "3\n",
      "4\n",
      "5\n"
     ]
    }
   ],
   "source": [
    "for name in my_tuple:\n",
    "    print(name)"
   ]
  },
  {
   "cell_type": "code",
   "execution_count": 6,
   "id": "e58ee220-c449-48fc-abd4-aea50616ce7d",
   "metadata": {},
   "outputs": [
    {
     "data": {
      "text/plain": [
       "['apple', 'banana', 'cherry']"
      ]
     },
     "execution_count": 6,
     "metadata": {},
     "output_type": "execute_result"
    }
   ],
   "source": [
    "# List\n",
    "my_list = ['apple', 'banana', 'cherry']\n",
    "my_list"
   ]
  },
  {
   "cell_type": "code",
   "execution_count": 7,
   "id": "88aa7545-c507-4cf0-aff1-b0a973a7d7d3",
   "metadata": {},
   "outputs": [
    {
     "name": "stdout",
     "output_type": "stream",
     "text": [
      "apple\n",
      "banana\n",
      "cherry\n"
     ]
    }
   ],
   "source": [
    "for fruit in my_list:\n",
    "    print(fruit)"
   ]
  },
  {
   "cell_type": "code",
   "execution_count": 8,
   "id": "4bd50b7b-8f09-44cf-9538-84a19c3b6f61",
   "metadata": {},
   "outputs": [
    {
     "data": {
      "text/plain": [
       "'hello'"
      ]
     },
     "execution_count": 8,
     "metadata": {},
     "output_type": "execute_result"
    }
   ],
   "source": [
    "# String\n",
    "my_string = \"hello\"\n",
    "my_string"
   ]
  },
  {
   "cell_type": "code",
   "execution_count": 9,
   "id": "1dd13d75-2e2f-46c1-9886-69b0ff05aead",
   "metadata": {},
   "outputs": [
    {
     "name": "stdout",
     "output_type": "stream",
     "text": [
      "h\n",
      "e\n",
      "l\n",
      "l\n",
      "o\n"
     ]
    }
   ],
   "source": [
    "for i in my_string:\n",
    "    print(i)"
   ]
  },
  {
   "cell_type": "code",
   "execution_count": 1,
   "id": "d05e0c0a-ec52-48da-a567-045097e7d373",
   "metadata": {},
   "outputs": [
    {
     "name": "stdout",
     "output_type": "stream",
     "text": [
      "Hello,\n",
      "Moiz\n",
      "here!\n"
     ]
    }
   ],
   "source": [
    "my_string = \"Hello, Moiz here!\"\n",
    "\n",
    "# Split the string by spaces\n",
    "words = my_string.split() \n",
    "\n",
    "# Print each word on a new line\n",
    "for i in words:\n",
    "    print(i)"
   ]
  },
  {
   "cell_type": "code",
   "execution_count": 10,
   "id": "2340c995-f0dc-4c81-9bb3-d8eb3001b068",
   "metadata": {},
   "outputs": [],
   "source": [
    "cities = ['karachi','hyderabad', 'islamabad', 'quetta','lahore']"
   ]
  },
  {
   "cell_type": "code",
   "execution_count": 12,
   "id": "831a9b63-7ed2-4671-b98a-f9d35e8f3d85",
   "metadata": {},
   "outputs": [
    {
     "name": "stdout",
     "output_type": "stream",
     "text": [
      "karachi\n",
      "hyderabad\n",
      "islamabad\n",
      "quetta\n",
      "lahore\n"
     ]
    }
   ],
   "source": [
    "print(cities[0])\n",
    "print(cities[1])\n",
    "print(cities[2])\n",
    "print(cities[3])\n",
    "print(cities[4])"
   ]
  },
  {
   "cell_type": "code",
   "execution_count": 11,
   "id": "7827df8b-b351-4002-8558-c25b8fb5d030",
   "metadata": {},
   "outputs": [
    {
     "name": "stdout",
     "output_type": "stream",
     "text": [
      "karachi\n",
      "hyderabad\n",
      "islamabad\n",
      "quetta\n",
      "lahore\n"
     ]
    }
   ],
   "source": [
    "for city in cities:\n",
    "    print(city)"
   ]
  },
  {
   "cell_type": "code",
   "execution_count": 13,
   "id": "142a94f3-d8c5-4dc2-8b30-0e519c43a533",
   "metadata": {},
   "outputs": [
    {
     "name": "stdout",
     "output_type": "stream",
     "text": [
      "1\n",
      "2\n",
      "3\n",
      "4\n",
      "5\n",
      "6\n",
      "7\n",
      "8\n",
      "9\n",
      "10\n"
     ]
    }
   ],
   "source": [
    "for i in range(1,11):\n",
    "    print(i)"
   ]
  },
  {
   "cell_type": "code",
   "execution_count": 14,
   "id": "b17fd370-b9b7-4dfb-98b6-e51bc1ec1f0c",
   "metadata": {},
   "outputs": [
    {
     "name": "stdout",
     "output_type": "stream",
     "text": [
      "0\n",
      "1\n",
      "2\n",
      "3\n",
      "4\n",
      "5\n",
      "6\n",
      "7\n",
      "8\n",
      "9\n"
     ]
    }
   ],
   "source": [
    "for i in range(10):\n",
    "    print(i)"
   ]
  },
  {
   "cell_type": "code",
   "execution_count": 15,
   "id": "8e35e533-3fcc-43ea-8c9d-5bb307e27a02",
   "metadata": {},
   "outputs": [
    {
     "name": "stdout",
     "output_type": "stream",
     "text": [
      "2\n",
      "4\n",
      "6\n",
      "8\n",
      "10\n",
      "12\n",
      "14\n",
      "16\n",
      "18\n",
      "20\n"
     ]
    }
   ],
   "source": [
    "for i in range(2,21,2):\n",
    "    print(i)"
   ]
  },
  {
   "cell_type": "code",
   "execution_count": 16,
   "id": "713cef46-95bf-4b37-b976-1dbd886f7cf4",
   "metadata": {},
   "outputs": [
    {
     "name": "stdout",
     "output_type": "stream",
     "text": [
      "2 * 1 = 2\n",
      "2 * 2 = 4\n",
      "2 * 3 = 6\n",
      "2 * 4 = 8\n",
      "2 * 5 = 10\n",
      "2 * 6 = 12\n",
      "2 * 7 = 14\n",
      "2 * 8 = 16\n",
      "2 * 9 = 18\n",
      "2 * 10 = 20\n"
     ]
    }
   ],
   "source": [
    "for i in range(2,21,2):\n",
    "    print(f\"2 * {i//2} = {i}\")"
   ]
  },
  {
   "cell_type": "code",
   "execution_count": 17,
   "id": "9c86935d-f0a6-4bb6-9ffc-1a7c82ebda67",
   "metadata": {},
   "outputs": [
    {
     "data": {
      "text/plain": [
       "1.0"
      ]
     },
     "execution_count": 17,
     "metadata": {},
     "output_type": "execute_result"
    }
   ],
   "source": [
    "2/2"
   ]
  },
  {
   "cell_type": "code",
   "execution_count": 18,
   "id": "12b0154f-b1f9-447f-a931-711df8fb51e2",
   "metadata": {},
   "outputs": [
    {
     "data": {
      "text/plain": [
       "1"
      ]
     },
     "execution_count": 18,
     "metadata": {},
     "output_type": "execute_result"
    }
   ],
   "source": [
    "2//2"
   ]
  },
  {
   "cell_type": "code",
   "execution_count": 19,
   "id": "52cc8f04-8f24-4890-b072-23de30b62975",
   "metadata": {},
   "outputs": [
    {
     "name": "stdout",
     "output_type": "stream",
     "text": [
      "3 * 1 = 3\n",
      "3 * 2 = 6\n",
      "3 * 3 = 9\n",
      "3 * 4 = 12\n",
      "3 * 5 = 15\n",
      "3 * 6 = 18\n",
      "3 * 7 = 21\n",
      "3 * 8 = 24\n",
      "3 * 9 = 27\n",
      "3 * 10 = 30\n"
     ]
    }
   ],
   "source": [
    "for i in range(3,31,3):\n",
    "    print(f'3 * {i//3} = {i}')"
   ]
  },
  {
   "cell_type": "code",
   "execution_count": 20,
   "id": "7b4b4526-e540-4256-8cae-2dc4f8815e81",
   "metadata": {},
   "outputs": [
    {
     "name": "stdout",
     "output_type": "stream",
     "text": [
      "I'm Happy\n",
      "I'm Happy\n",
      "I'm Happy\n",
      "I'm Happy\n",
      "I'm Happy\n",
      "I'm Happy\n",
      "I'm Happy\n",
      "I'm Happy\n",
      "I'm Happy\n",
      "I'm Happy\n"
     ]
    }
   ],
   "source": [
    "for i in range(10):\n",
    "    print('''I'm Happy''')"
   ]
  },
  {
   "cell_type": "code",
   "execution_count": 21,
   "id": "60d521b6-1f99-40e9-bc0d-1a3f24ff3955",
   "metadata": {},
   "outputs": [
    {
     "ename": "TypeError",
     "evalue": "unsupported operand type(s) for +: 'int' and 'str'",
     "output_type": "error",
     "traceback": [
      "\u001b[1;31m---------------------------------------------------------------------------\u001b[0m",
      "\u001b[1;31mTypeError\u001b[0m                                 Traceback (most recent call last)",
      "Cell \u001b[1;32mIn[21], line 2\u001b[0m\n\u001b[0;32m      1\u001b[0m \u001b[38;5;28;01mfor\u001b[39;00m i \u001b[38;5;129;01min\u001b[39;00m \u001b[38;5;28mrange\u001b[39m(\u001b[38;5;241m10\u001b[39m):\n\u001b[1;32m----> 2\u001b[0m     \u001b[38;5;28mprint\u001b[39m(i \u001b[38;5;241m+\u001b[39m \u001b[38;5;124m'''\u001b[39m\u001b[38;5;124m: I\u001b[39m\u001b[38;5;124m'\u001b[39m\u001b[38;5;124mm Happy\u001b[39m\u001b[38;5;124m'''\u001b[39m)\n",
      "\u001b[1;31mTypeError\u001b[0m: unsupported operand type(s) for +: 'int' and 'str'"
     ]
    }
   ],
   "source": [
    "for i in range(10):\n",
    "    print(i + ''': I'm Happy''')"
   ]
  },
  {
   "cell_type": "code",
   "execution_count": 2,
   "id": "63bc03fc-9ce5-4562-b70c-9a0cc4129d2f",
   "metadata": {},
   "outputs": [
    {
     "ename": "TypeError",
     "evalue": "unsupported operand type(s) for +: 'int' and 'str'",
     "output_type": "error",
     "traceback": [
      "\u001b[1;31m---------------------------------------------------------------------------\u001b[0m",
      "\u001b[1;31mTypeError\u001b[0m                                 Traceback (most recent call last)",
      "Cell \u001b[1;32mIn[2], line 2\u001b[0m\n\u001b[0;32m      1\u001b[0m \u001b[38;5;28;01mfor\u001b[39;00m i \u001b[38;5;129;01min\u001b[39;00m \u001b[38;5;28mrange\u001b[39m(\u001b[38;5;241m10\u001b[39m):\n\u001b[1;32m----> 2\u001b[0m     \u001b[38;5;28mprint\u001b[39m(i \u001b[38;5;241m+\u001b[39m \u001b[38;5;124m\"\u001b[39m\u001b[38;5;124m: I\u001b[39m\u001b[38;5;124m'\u001b[39m\u001b[38;5;124mm Happy\u001b[39m\u001b[38;5;124m\"\u001b[39m)\n",
      "\u001b[1;31mTypeError\u001b[0m: unsupported operand type(s) for +: 'int' and 'str'"
     ]
    }
   ],
   "source": [
    "for i in range(10):\n",
    "    print(i + \": I'm Happy\")"
   ]
  },
  {
   "cell_type": "code",
   "execution_count": 22,
   "id": "70d8a2aa-9e60-4a2e-9e1b-8f8fbe93dbf6",
   "metadata": {},
   "outputs": [
    {
     "name": "stdout",
     "output_type": "stream",
     "text": [
      "0: I'm Happy\n",
      "1: I'm Happy\n",
      "2: I'm Happy\n",
      "3: I'm Happy\n",
      "4: I'm Happy\n",
      "5: I'm Happy\n",
      "6: I'm Happy\n",
      "7: I'm Happy\n",
      "8: I'm Happy\n",
      "9: I'm Happy\n"
     ]
    }
   ],
   "source": [
    "for i in range(10):\n",
    "    print(str(i) + \": I'm Happy\")"
   ]
  },
  {
   "cell_type": "code",
   "execution_count": 23,
   "id": "17ebb25d-3f2c-41ef-8447-28a42043d9d3",
   "metadata": {},
   "outputs": [],
   "source": [
    "for i in range(0):\n",
    "    print(str(i) + \": I'm Happy\")"
   ]
  },
  {
   "cell_type": "code",
   "execution_count": 24,
   "id": "6c106d33-abdd-489f-9807-e7040593e937",
   "metadata": {},
   "outputs": [
    {
     "name": "stdout",
     "output_type": "stream",
     "text": [
      "51: I'm Happy\n",
      "52: I'm Happy\n",
      "53: I'm Happy\n",
      "54: I'm Happy\n",
      "55: I'm Happy\n",
      "56: I'm Happy\n",
      "57: I'm Happy\n",
      "58: I'm Happy\n",
      "59: I'm Happy\n",
      "60: I'm Happy\n",
      "61: I'm Happy\n",
      "62: I'm Happy\n",
      "63: I'm Happy\n",
      "64: I'm Happy\n",
      "65: I'm Happy\n",
      "66: I'm Happy\n",
      "67: I'm Happy\n",
      "68: I'm Happy\n",
      "69: I'm Happy\n",
      "70: I'm Happy\n"
     ]
    }
   ],
   "source": [
    "for i in range(51,71):\n",
    "    print(str(i) + ''': I'm Happy''')"
   ]
  },
  {
   "cell_type": "code",
   "execution_count": 25,
   "id": "e2b93032-f3ac-4b61-a3bd-69b2e7bdefdb",
   "metadata": {},
   "outputs": [
    {
     "data": {
      "text/plain": [
       "['karachi', 'hyderabad', 'islamabad', 'quetta', 'lahore']"
      ]
     },
     "execution_count": 25,
     "metadata": {},
     "output_type": "execute_result"
    }
   ],
   "source": [
    "cities"
   ]
  },
  {
   "cell_type": "code",
   "execution_count": 26,
   "id": "ee0504be-5787-4754-a70f-7e9a01463bb2",
   "metadata": {},
   "outputs": [
    {
     "name": "stdout",
     "output_type": "stream",
     "text": [
      "0 : karachi\n",
      "1 : hyderabad\n",
      "2 : islamabad\n",
      "3 : quetta\n",
      "4 : lahore\n"
     ]
    }
   ],
   "source": [
    "for index, city in enumerate(cities):\n",
    "    print(f'{index} : {city}')"
   ]
  },
  {
   "cell_type": "markdown",
   "id": "92d73075-a8b6-4dbd-a2e6-cdcfeb06ab36",
   "metadata": {},
   "source": [
    "## Nested for loop"
   ]
  },
  {
   "cell_type": "code",
   "execution_count": 27,
   "id": "46f47dfa-2a0c-4c41-ad30-a8db77b4d35a",
   "metadata": {},
   "outputs": [
    {
     "data": {
      "text/plain": [
       "['karachi', 'hyderabad', 'islamabad', 'quetta', 'lahore']"
      ]
     },
     "execution_count": 27,
     "metadata": {},
     "output_type": "execute_result"
    }
   ],
   "source": [
    "cities"
   ]
  },
  {
   "cell_type": "code",
   "execution_count": 28,
   "id": "edb4bd34-b4e4-438e-9d2c-649388aa5e7f",
   "metadata": {},
   "outputs": [
    {
     "data": {
      "text/plain": [
       "['islamabad', 'multan', 'faisalabad', 'quetta', 'peshawar']"
      ]
     },
     "execution_count": 28,
     "metadata": {},
     "output_type": "execute_result"
    }
   ],
   "source": [
    "visited_cities = ['islamabad', 'multan','faisalabad','quetta','peshawar']\n",
    "visited_cities"
   ]
  },
  {
   "cell_type": "code",
   "execution_count": 29,
   "id": "95520a38-9f86-4f46-a0a0-8f974bff9ca7",
   "metadata": {},
   "outputs": [
    {
     "name": "stdout",
     "output_type": "stream",
     "text": [
      "karachi islamabad\n",
      "karachi multan\n",
      "karachi faisalabad\n",
      "karachi quetta\n",
      "karachi peshawar\n",
      "hyderabad islamabad\n",
      "hyderabad multan\n",
      "hyderabad faisalabad\n",
      "hyderabad quetta\n",
      "hyderabad peshawar\n",
      "islamabad islamabad\n",
      "islamabad multan\n",
      "islamabad faisalabad\n",
      "islamabad quetta\n",
      "islamabad peshawar\n",
      "quetta islamabad\n",
      "quetta multan\n",
      "quetta faisalabad\n",
      "quetta quetta\n",
      "quetta peshawar\n",
      "lahore islamabad\n",
      "lahore multan\n",
      "lahore faisalabad\n",
      "lahore quetta\n",
      "lahore peshawar\n"
     ]
    }
   ],
   "source": [
    "for city in cities:\n",
    "    for visited_city in visited_cities:\n",
    "        print(city, visited_city)"
   ]
  },
  {
   "cell_type": "code",
   "execution_count": 30,
   "id": "eb153fc4-97d8-4552-81bb-6e7c44a3a325",
   "metadata": {},
   "outputs": [
    {
     "data": {
      "text/plain": [
       "('karachi', 'hyderabad', 'islamabad', 'quetta', 'lahore')"
      ]
     },
     "execution_count": 30,
     "metadata": {},
     "output_type": "execute_result"
    }
   ],
   "source": [
    "cities_tuple = ('karachi', 'hyderabad', 'islamabad', 'quetta', 'lahore')\n",
    "cities_tuple"
   ]
  },
  {
   "cell_type": "code",
   "execution_count": 31,
   "id": "3e82decd-c486-4d80-80f2-475367328da7",
   "metadata": {},
   "outputs": [
    {
     "data": {
      "text/plain": [
       "('islamabad', 'multan', 'faisalabad', 'quetta', 'peshawar')"
      ]
     },
     "execution_count": 31,
     "metadata": {},
     "output_type": "execute_result"
    }
   ],
   "source": [
    "visited_cities_tuple = ('islamabad', 'multan','faisalabad','quetta','peshawar')\n",
    "visited_cities_tuple"
   ]
  },
  {
   "cell_type": "code",
   "execution_count": 32,
   "id": "77a6fd53-1139-4319-9502-0fb2d38e1672",
   "metadata": {},
   "outputs": [
    {
     "name": "stdout",
     "output_type": "stream",
     "text": [
      "karachi islamabad\n",
      "karachi multan\n",
      "karachi faisalabad\n",
      "karachi quetta\n",
      "karachi peshawar\n",
      "hyderabad islamabad\n",
      "hyderabad multan\n",
      "hyderabad faisalabad\n",
      "hyderabad quetta\n",
      "hyderabad peshawar\n",
      "islamabad islamabad\n",
      "islamabad multan\n",
      "islamabad faisalabad\n",
      "islamabad quetta\n",
      "islamabad peshawar\n",
      "quetta islamabad\n",
      "quetta multan\n",
      "quetta faisalabad\n",
      "quetta quetta\n",
      "quetta peshawar\n",
      "lahore islamabad\n",
      "lahore multan\n",
      "lahore faisalabad\n",
      "lahore quetta\n",
      "lahore peshawar\n"
     ]
    }
   ],
   "source": [
    "for city in cities_tuple:\n",
    "    for visited_city in visited_cities_tuple:\n",
    "        print(city, visited_city)"
   ]
  },
  {
   "cell_type": "code",
   "execution_count": 33,
   "id": "ec08f3a6-36eb-4819-b6b7-e7e87b281f0d",
   "metadata": {},
   "outputs": [
    {
     "data": {
      "text/plain": [
       "dict_items([('name', 'sara'), ('email', 'abc@gmail.com'), ('education', 'master')])"
      ]
     },
     "execution_count": 33,
     "metadata": {},
     "output_type": "execute_result"
    }
   ],
   "source": [
    "employee = {\n",
    "    'name' : 'sara',\n",
    "    'email' : \"abc@gmail.com\",\n",
    "    'education' : 'master'\n",
    "}\n",
    "employee.items()\n",
    "# employee.keys()\n",
    "# employee.values()"
   ]
  },
  {
   "cell_type": "code",
   "execution_count": 34,
   "id": "12b721eb-66bd-4827-9975-cacef48b20a7",
   "metadata": {},
   "outputs": [
    {
     "name": "stdout",
     "output_type": "stream",
     "text": [
      "name sara\n",
      "email abc@gmail.com\n",
      "education master\n"
     ]
    }
   ],
   "source": [
    "employee = {\n",
    "    'name' : 'sara',\n",
    "    'email' : \"abc@gmail.com\",\n",
    "    'education' : 'master'\n",
    "}\n",
    "\n",
    "# for i in employee.items():\n",
    "#     print(i)\n",
    "\n",
    "\n",
    "for key,value in employee.items():\n",
    "    print(key,value)"
   ]
  },
  {
   "cell_type": "code",
   "execution_count": 35,
   "id": "fc54de6c-c16f-4a34-b9c2-af290be51146",
   "metadata": {},
   "outputs": [
    {
     "name": "stdout",
     "output_type": "stream",
     "text": [
      "name\n",
      "email\n",
      "education\n"
     ]
    }
   ],
   "source": [
    "employee = {\n",
    "    'name' : 'sara',\n",
    "    'email' : \"abc@gmail.com\",\n",
    "    'education' : 'master'\n",
    "}\n",
    "for key in employee.keys():\n",
    "    print(key)"
   ]
  },
  {
   "cell_type": "code",
   "execution_count": 36,
   "id": "26b0f4d6-012a-486d-9905-09e3ca8a2781",
   "metadata": {},
   "outputs": [
    {
     "name": "stdout",
     "output_type": "stream",
     "text": [
      "sara\n",
      "abc@gmail.com\n",
      "master\n"
     ]
    }
   ],
   "source": [
    "employee = {\n",
    "    'name' : 'sara',\n",
    "    'email' : \"abc@gmail.com\",\n",
    "    'education' : 'master'\n",
    "}\n",
    "\n",
    "for value in employee.values():\n",
    "    print(value)"
   ]
  },
  {
   "cell_type": "markdown",
   "id": "30fe35fa-0d76-49d3-8ab8-9026a63aaa2b",
   "metadata": {},
   "source": [
    "## while loop"
   ]
  },
  {
   "cell_type": "code",
   "execution_count": 37,
   "id": "eea7424d-2ed8-457f-be33-1aabf515e6e3",
   "metadata": {},
   "outputs": [],
   "source": [
    "# num = 0\n",
    "# while num < 5:\n",
    "#     print(\"loop is running : \", num)"
   ]
  },
  {
   "cell_type": "code",
   "execution_count": 38,
   "id": "21b9bd3f-161f-4f41-a6db-79a1155e21cf",
   "metadata": {},
   "outputs": [
    {
     "name": "stdout",
     "output_type": "stream",
     "text": [
      "loop is running :  0\n",
      "loop is running :  1\n",
      "loop is running :  2\n",
      "loop is running :  3\n",
      "loop is running :  4\n",
      "---> 5\n"
     ]
    }
   ],
   "source": [
    "num = 0\n",
    "while num < 5:\n",
    "    print(\"loop is running : \", num)\n",
    "    num += 1\n",
    "print('--->', num)"
   ]
  },
  {
   "cell_type": "code",
   "execution_count": 39,
   "id": "c0c1fd39-31d4-46fa-b38f-49c415b1d952",
   "metadata": {},
   "outputs": [
    {
     "name": "stdout",
     "output_type": "stream",
     "text": [
      "loop is running :  1\n",
      "loop is running :  2\n",
      "loop is running :  3\n",
      "loop is running :  4\n",
      "loop is running :  5\n",
      "---> 6\n"
     ]
    }
   ],
   "source": [
    "num = 1\n",
    "while num <= 5:\n",
    "    print(\"loop is running : \", num)\n",
    "    num += 1\n",
    "print('--->', num)"
   ]
  },
  {
   "cell_type": "code",
   "execution_count": 2,
   "id": "5a0b3d0a-ee31-4796-a3fc-62eabf64f106",
   "metadata": {},
   "outputs": [
    {
     "name": "stdin",
     "output_type": "stream",
     "text": [
      "Enter city to visit: karachi \n",
      "Enter city to visit: lahore\n",
      "Enter city to visit: quit\n"
     ]
    },
    {
     "name": "stdout",
     "output_type": "stream",
     "text": [
      "['karachi ', 'lahore']\n"
     ]
    }
   ],
   "source": [
    "cities_to_visit = []\n",
    "user_input = ''\n",
    "\n",
    "while user_input != 'quit':\n",
    "    city = input('Enter city to visit:')\n",
    "    if city == 'quit':\n",
    "        user_input = 'quit'\n",
    "    else:\n",
    "        cities_to_visit.append(city)\n",
    "    \n",
    "print(cities_to_visit)"
   ]
  },
  {
   "cell_type": "markdown",
   "id": "7161cf8d-3c5f-4c67-80f1-b6bafcc148d0",
   "metadata": {},
   "source": [
    "## Nested While loop"
   ]
  },
  {
   "cell_type": "code",
   "execution_count": 42,
   "id": "5497b21e-f75a-4896-8aee-8d3d36abdff3",
   "metadata": {},
   "outputs": [
    {
     "name": "stdout",
     "output_type": "stream",
     "text": [
      "karachi islamabad\n",
      "karachi multan\n",
      "karachi faisalabad\n",
      "karachi quetta\n",
      "karachi peshawar\n",
      "hyderabad islamabad\n",
      "hyderabad multan\n",
      "hyderabad faisalabad\n",
      "hyderabad quetta\n",
      "hyderabad peshawar\n",
      "islamabad islamabad\n",
      "islamabad multan\n",
      "islamabad faisalabad\n",
      "islamabad quetta\n",
      "islamabad peshawar\n",
      "quetta islamabad\n",
      "quetta multan\n",
      "quetta faisalabad\n",
      "quetta quetta\n",
      "quetta peshawar\n",
      "lahore islamabad\n",
      "lahore multan\n",
      "lahore faisalabad\n",
      "lahore quetta\n",
      "lahore peshawar\n"
     ]
    }
   ],
   "source": [
    "# Define the tuples\n",
    "cities = ('karachi', 'hyderabad', 'islamabad', 'quetta', 'lahore')\n",
    "visited_cities = ('islamabad', 'multan', 'faisalabad', 'quetta', 'peshawar')\n",
    "\n",
    "# Initialize the index for cities_tuple\n",
    "i = 0\n",
    "\n",
    "# Outer while loop for cities_tuple\n",
    "while i < len(cities):\n",
    "    # Initialize the index for visited_cities_tuple\n",
    "    j = 0\n",
    "    \n",
    "    # Inner while loop for visited_cities_tuple\n",
    "    while j < len(visited_cities):\n",
    "        print(cities_tuple[i], visited_cities_tuple[j])\n",
    "        j += 1  # Move to the next visited city\n",
    "    \n",
    "    i += 1  # Move to the next city in cities_tuple"
   ]
  },
  {
   "cell_type": "markdown",
   "id": "d6e00958-9db0-4d4b-ada2-aa28cff05aa3",
   "metadata": {},
   "source": [
    "## String Formatting"
   ]
  },
  {
   "cell_type": "code",
   "execution_count": 43,
   "id": "e313f2cb-b8d0-4e0a-829e-1aa165a707ba",
   "metadata": {},
   "outputs": [],
   "source": [
    "name = 'sara'\n",
    "email = 'abcd@gmail.com'"
   ]
  },
  {
   "cell_type": "code",
   "execution_count": 44,
   "id": "c2b955c8-e3b0-497c-a3bd-be6f1acd9adb",
   "metadata": {},
   "outputs": [
    {
     "data": {
      "text/plain": [
       "'Name: sara, Email: abcd@gmail.com'"
      ]
     },
     "execution_count": 44,
     "metadata": {},
     "output_type": "execute_result"
    }
   ],
   "source": [
    "\"Name: {}, Email: {}\".format(name,email)"
   ]
  },
  {
   "cell_type": "code",
   "execution_count": 45,
   "id": "69079513-d441-4b16-a49a-9f18c7dabee8",
   "metadata": {},
   "outputs": [
    {
     "data": {
      "text/plain": [
       "'Name: sara, Email:abcd@gmail.com'"
      ]
     },
     "execution_count": 45,
     "metadata": {},
     "output_type": "execute_result"
    }
   ],
   "source": [
    "\"Name: {0}, Email:{1}\".format(name,email)"
   ]
  },
  {
   "cell_type": "code",
   "execution_count": 46,
   "id": "a42111e9-be29-4b70-94e6-0586eeb7084d",
   "metadata": {},
   "outputs": [
    {
     "data": {
      "text/plain": [
       "'Name: sara, Email: abcd@gmail.com'"
      ]
     },
     "execution_count": 46,
     "metadata": {},
     "output_type": "execute_result"
    }
   ],
   "source": [
    "\"Name: {name}, Email: {email}\".format(name=name,email=email)"
   ]
  },
  {
   "cell_type": "code",
   "execution_count": 47,
   "id": "ad8ef1a0-1308-4f33-9b2d-f9381ab4b75b",
   "metadata": {},
   "outputs": [
    {
     "data": {
      "text/plain": [
       "'Name: sara, Email: abcd@gmail.com'"
      ]
     },
     "execution_count": 47,
     "metadata": {},
     "output_type": "execute_result"
    }
   ],
   "source": [
    "\"Name: {Name}, Email: {Email}\".format(Name=name,Email=email)"
   ]
  },
  {
   "cell_type": "code",
   "execution_count": 48,
   "id": "76a0a82c-1fb7-4744-861c-3ab7f0c9e566",
   "metadata": {},
   "outputs": [
    {
     "data": {
      "text/plain": [
       "'Name:sara, Email:abcd@gmail.com'"
      ]
     },
     "execution_count": 48,
     "metadata": {},
     "output_type": "execute_result"
    }
   ],
   "source": [
    "f'Name:{name}, Email:{email}'"
   ]
  },
  {
   "cell_type": "code",
   "execution_count": 49,
   "id": "faf1789b-3c80-42c3-bbc7-ad69528dbde5",
   "metadata": {},
   "outputs": [
    {
     "name": "stdout",
     "output_type": "stream",
     "text": [
      "Name: sara Email: abcd@gmail.com\n"
     ]
    }
   ],
   "source": [
    "print(\"Name:\", name,\"Email:\", email)"
   ]
  },
  {
   "cell_type": "code",
   "execution_count": null,
   "id": "9f9fcc2e-bc91-4491-a2e9-4e9189736017",
   "metadata": {},
   "outputs": [],
   "source": []
  }
 ],
 "metadata": {
  "kernelspec": {
   "display_name": "Python 3 (ipykernel)",
   "language": "python",
   "name": "python3"
  },
  "language_info": {
   "codemirror_mode": {
    "name": "ipython",
    "version": 3
   },
   "file_extension": ".py",
   "mimetype": "text/x-python",
   "name": "python",
   "nbconvert_exporter": "python",
   "pygments_lexer": "ipython3",
   "version": "3.12.7"
  }
 },
 "nbformat": 4,
 "nbformat_minor": 5
}
