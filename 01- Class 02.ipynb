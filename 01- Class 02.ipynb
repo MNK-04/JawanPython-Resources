{
 "cells": [
  {
   "cell_type": "markdown",
   "id": "6f89e753-ca17-4448-84d3-430ee76480ac",
   "metadata": {},
   "source": [
    "###### Session 2"
   ]
  },
  {
   "cell_type": "code",
   "execution_count": 2,
   "id": "de1a5e0f-abef-4cc2-b67b-9e755ba053a7",
   "metadata": {},
   "outputs": [
    {
     "name": "stdout",
     "output_type": "stream",
     "text": [
      "Hello World\n"
     ]
    }
   ],
   "source": [
    "# Hehe\n",
    "print (\"Hello World\")"
   ]
  },
  {
   "cell_type": "markdown",
   "id": "7eee774a-2fe8-46c1-9e5e-f5d31b26840a",
   "metadata": {},
   "source": [
    "# Hehe\n",
    "print (\"Hello World\")"
   ]
  },
  {
   "cell_type": "code",
   "execution_count": 5,
   "id": "06b73784-9250-4c68-9968-d896e7d60a6d",
   "metadata": {},
   "outputs": [
    {
     "data": {
      "text/plain": [
       "str"
      ]
     },
     "execution_count": 5,
     "metadata": {},
     "output_type": "execute_result"
    }
   ],
   "source": [
    "type(\"hello world\")"
   ]
  },
  {
   "cell_type": "code",
   "execution_count": 7,
   "id": "e0342761-eb03-4f7a-b23e-962e706d33e5",
   "metadata": {},
   "outputs": [
    {
     "name": "stdout",
     "output_type": "stream",
     "text": [
      "<class 'str'>\n"
     ]
    }
   ],
   "source": [
    "print(type(\"hello world\"))"
   ]
  },
  {
   "cell_type": "code",
   "execution_count": 6,
   "id": "c79e5c3d-df51-45a9-8377-530844562626",
   "metadata": {},
   "outputs": [
    {
     "name": "stdout",
     "output_type": "stream",
     "text": [
      "123\n"
     ]
    }
   ],
   "source": [
    "print(123)"
   ]
  },
  {
   "cell_type": "markdown",
   "id": "88e249cd-9239-4cc0-839f-0c000a24f52d",
   "metadata": {},
   "source": [
    "print(123)"
   ]
  },
  {
   "cell_type": "code",
   "execution_count": 28,
   "id": "11362a5a-5a92-4d3f-a981-0dc0f3b8b62e",
   "metadata": {},
   "outputs": [
    {
     "data": {
      "text/plain": [
       "str"
      ]
     },
     "execution_count": 28,
     "metadata": {},
     "output_type": "execute_result"
    }
   ],
   "source": [
    "type(\"123\")"
   ]
  },
  {
   "cell_type": "code",
   "execution_count": 9,
   "id": "0efffac8-8e5f-448b-bc15-d92216373bd7",
   "metadata": {},
   "outputs": [
    {
     "name": "stdout",
     "output_type": "stream",
     "text": [
      "<class 'int'>\n"
     ]
    }
   ],
   "source": [
    "print(type(123))"
   ]
  },
  {
   "cell_type": "code",
   "execution_count": 10,
   "id": "38e1507a-ab18-4abd-b427-57278b016332",
   "metadata": {},
   "outputs": [
    {
     "data": {
      "text/plain": [
       "float"
      ]
     },
     "execution_count": 10,
     "metadata": {},
     "output_type": "execute_result"
    }
   ],
   "source": [
    "type(123.9\n",
    ")"
   ]
  },
  {
   "cell_type": "code",
   "execution_count": 25,
   "id": "06e286ca-72da-401a-b123-d7e0895bfeda",
   "metadata": {},
   "outputs": [
    {
     "name": "stdout",
     "output_type": "stream",
     "text": [
      "My name is Moiz, 22\n",
      "Years old\n"
     ]
    }
   ],
   "source": [
    "print(\"\"\"My name is Moiz, 22\n",
    "Years old\"\"\")"
   ]
  },
  {
   "cell_type": "code",
   "execution_count": 24,
   "id": "09eee02d-d74c-49f0-8b50-00b3b7b18314",
   "metadata": {},
   "outputs": [
    {
     "name": "stdout",
     "output_type": "stream",
     "text": [
      "My name is Moiz, 22\n",
      "Years old\n"
     ]
    },
    {
     "data": {
      "text/plain": [
       "NoneType"
      ]
     },
     "execution_count": 24,
     "metadata": {},
     "output_type": "execute_result"
    }
   ],
   "source": [
    "type(print(\"\"\"My name is Moiz, 22\n",
    "Years old\"\"\"\n",
    "        ))"
   ]
  },
  {
   "cell_type": "code",
   "execution_count": 15,
   "id": "eb26d593-d473-472d-8623-37a1799d187b",
   "metadata": {},
   "outputs": [
    {
     "data": {
      "text/plain": [
       "int"
      ]
     },
     "execution_count": 15,
     "metadata": {},
     "output_type": "execute_result"
    }
   ],
   "source": [
    "type(22\n",
    ")"
   ]
  },
  {
   "cell_type": "code",
   "execution_count": 20,
   "id": "0dd7155d-8afc-4b2c-b2dc-ced74ad4f5e7",
   "metadata": {},
   "outputs": [
    {
     "data": {
      "text/plain": [
       "'We are learning here on 2,Dec/24\\nhope to stay motivated throughout'"
      ]
     },
     "execution_count": 20,
     "metadata": {},
     "output_type": "execute_result"
    }
   ],
   "source": [
    "\"\"\"We are learning here on 2,Dec/24\n",
    "hope to stay motivated throughout\"\"\""
   ]
  },
  {
   "cell_type": "code",
   "execution_count": 23,
   "id": "1e7d4aec-cb3f-4a38-bbf5-bcc480078d86",
   "metadata": {},
   "outputs": [
    {
     "name": "stdout",
     "output_type": "stream",
     "text": [
      "We are learning here on 2,Dec/24\n",
      "hope to stay motivated throughout\n"
     ]
    }
   ],
   "source": [
    "print(\"\"\"We are learning here on 2,Dec/24\n",
    "hope to stay motivated throughout\"\"\")"
   ]
  },
  {
   "cell_type": "code",
   "execution_count": 6,
   "id": "f088ca96-4bb9-4efe-9718-fe6802caa629",
   "metadata": {},
   "outputs": [
    {
     "name": "stdout",
     "output_type": "stream",
     "text": [
      "We are learning here on 2,Dec/24 hope to stay motivated throughout\n"
     ]
    }
   ],
   "source": [
    "print(\"\"\"We are learning here on 2,Dec/24 \\\n",
    "hope to stay motivated throughout\"\"\")"
   ]
  },
  {
   "cell_type": "code",
   "execution_count": null,
   "id": "3e719b3a-c807-43b6-9374-975d5f1810de",
   "metadata": {},
   "outputs": [],
   "source": []
  }
 ],
 "metadata": {
  "kernelspec": {
   "display_name": "Python 3 (ipykernel)",
   "language": "python",
   "name": "python3"
  },
  "language_info": {
   "codemirror_mode": {
    "name": "ipython",
    "version": 3
   },
   "file_extension": ".py",
   "mimetype": "text/x-python",
   "name": "python",
   "nbconvert_exporter": "python",
   "pygments_lexer": "ipython3",
   "version": "3.12.7"
  }
 },
 "nbformat": 4,
 "nbformat_minor": 5
}
