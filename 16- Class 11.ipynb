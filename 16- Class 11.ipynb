{
 "cells": [
  {
   "cell_type": "markdown",
   "id": "7128d03b-1282-4ef4-843f-9b7fb16923b3",
   "metadata": {},
   "source": [
    "## Functions"
   ]
  },
  {
   "cell_type": "markdown",
   "id": "b7665229-2b61-4187-aaad-dc2644a002b8",
   "metadata": {},
   "source": [
    "In Python, a function is a reusable block of code that performs a specific task. Functions allow us to group related tasks together meaning that you can break down complex programs into smaller, more manageable pieces."
   ]
  },
  {
   "cell_type": "markdown",
   "id": "65ee58da-3798-4906-b33e-4f719d65632b",
   "metadata": {},
   "source": [
    "### Why Use Functions?"
   ]
  },
  {
   "cell_type": "markdown",
   "id": "c86c9cd5-3f29-4c51-b94e-c25638339942",
   "metadata": {},
   "source": [
    "Reusability: Once a function is defined, you can call it multiple times without having to rewrite the same code.\n",
    "Organization: Functions allow you to organize your code logically into blocks, making it easier to understand.\n",
    "Abstraction: Functions can hide complex implementation details, exposing only what’s necessary."
   ]
  },
  {
   "cell_type": "markdown",
   "id": "a0e52021-98ed-4e5c-9e6c-aa6fb5b10c3a",
   "metadata": {},
   "source": [
    "## Defining a Function"
   ]
  },
  {
   "cell_type": "code",
   "execution_count": 3,
   "id": "3a5f7c84-f69e-4151-a752-665a652ba5c5",
   "metadata": {},
   "outputs": [],
   "source": [
    "def function_name(parameters): #parameters/arguments (optional)\n",
    "    # Function body\n",
    "    # Code to be executed\n",
    "    return value #(depends on condition)"
   ]
  },
  {
   "cell_type": "code",
   "execution_count": 4,
   "id": "a541628c-85d7-4633-9c62-08ecdc2a9987",
   "metadata": {},
   "outputs": [],
   "source": [
    "def greet():\n",
    "    print('Welcome')"
   ]
  },
  {
   "cell_type": "code",
   "execution_count": 5,
   "id": "dee06c8b-1658-4f6f-8b1b-2ac30e9c53a5",
   "metadata": {},
   "outputs": [
    {
     "name": "stdout",
     "output_type": "stream",
     "text": [
      "Welcome\n",
      "Welcome\n",
      "Welcome\n"
     ]
    }
   ],
   "source": [
    "greet()\n",
    "greet()\n",
    "greet()"
   ]
  },
  {
   "cell_type": "code",
   "execution_count": 6,
   "id": "498daa4a-eecc-4407-9e40-d880d39fb425",
   "metadata": {},
   "outputs": [
    {
     "name": "stdout",
     "output_type": "stream",
     "text": [
      "Hello! User\n"
     ]
    }
   ],
   "source": [
    "#syntax \n",
    "def greet():\n",
    "    print('Hello! User')\n",
    "\n",
    "greet()"
   ]
  },
  {
   "cell_type": "code",
   "execution_count": 7,
   "id": "c02d00dd-6605-446e-b12d-79a28eb94798",
   "metadata": {},
   "outputs": [
    {
     "name": "stdout",
     "output_type": "stream",
     "text": [
      "Hello World\n"
     ]
    }
   ],
   "source": [
    "#my first function in python\n",
    "def message():\n",
    "    print('Hello World')\n",
    "\n",
    "message()"
   ]
  },
  {
   "cell_type": "code",
   "execution_count": 8,
   "id": "e82d79e6-9bad-4bfb-9ee0-3909a3d9631f",
   "metadata": {},
   "outputs": [
    {
     "ename": "SyntaxError",
     "evalue": "expected '(' (2352193185.py, line 1)",
     "output_type": "error",
     "traceback": [
      "\u001b[1;36m  Cell \u001b[1;32mIn[8], line 1\u001b[1;36m\u001b[0m\n\u001b[1;33m    def message:\u001b[0m\n\u001b[1;37m               ^\u001b[0m\n\u001b[1;31mSyntaxError\u001b[0m\u001b[1;31m:\u001b[0m expected '('\n"
     ]
    }
   ],
   "source": [
    "def message:\n",
    "    print('Hello World')\n",
    "\n",
    "message"
   ]
  },
  {
   "cell_type": "code",
   "execution_count": 9,
   "id": "bbc6e4a7-419f-42c5-ba33-3f407098b0d7",
   "metadata": {},
   "outputs": [
    {
     "name": "stdout",
     "output_type": "stream",
     "text": [
      "Hello ali\n",
      "Hello aymen\n"
     ]
    }
   ],
   "source": [
    "def greet(name):\n",
    "    print('Hello', name)\n",
    "\n",
    "greet('ali')\n",
    "greet('aymen')"
   ]
  },
  {
   "cell_type": "code",
   "execution_count": 11,
   "id": "21d9ffec-b61b-4479-96a8-9451dfebbd58",
   "metadata": {},
   "outputs": [
    {
     "name": "stdout",
     "output_type": "stream",
     "text": [
      "Hello abc\n"
     ]
    }
   ],
   "source": [
    "#Function with Parameters\n",
    "def greet(name):\n",
    "    print('Hello',name)\n",
    "    return\n",
    "\n",
    "greet('abc')"
   ]
  },
  {
   "cell_type": "code",
   "execution_count": 12,
   "id": "6217cb8d-2972-42f9-8c41-806635988848",
   "metadata": {},
   "outputs": [
    {
     "name": "stdout",
     "output_type": "stream",
     "text": [
      "Hello abbas\n"
     ]
    }
   ],
   "source": [
    "greet('abbas')"
   ]
  },
  {
   "cell_type": "code",
   "execution_count": 13,
   "id": "45e5a7d3-ffa4-4309-a916-4f96afea5b3b",
   "metadata": {},
   "outputs": [
    {
     "name": "stdout",
     "output_type": "stream",
     "text": [
      "Hello abc\n"
     ]
    }
   ],
   "source": [
    "#Function with Parameters\n",
    "def greet(name):\n",
    "    print('Hello',name)\n",
    "    return \n",
    "\n",
    "greet('abc')"
   ]
  },
  {
   "cell_type": "code",
   "execution_count": 14,
   "id": "749c00aa-0e5b-4087-a128-1b51db2dc745",
   "metadata": {},
   "outputs": [
    {
     "name": "stdout",
     "output_type": "stream",
     "text": [
      "Hello abc\n"
     ]
    },
    {
     "data": {
      "text/plain": [
       "0"
      ]
     },
     "execution_count": 14,
     "metadata": {},
     "output_type": "execute_result"
    }
   ],
   "source": [
    "def greet(name):\n",
    "    print('Hello',name)\n",
    "    return 0\n",
    "\n",
    "greet('abc')"
   ]
  },
  {
   "cell_type": "code",
   "execution_count": 15,
   "id": "12ebbd46-8f4c-486f-ab4b-0b5b47f78ca2",
   "metadata": {},
   "outputs": [],
   "source": [
    "#Function with Parameters\n",
    "def greet(name):\n",
    "    print(f\"Hello, {name}!\")"
   ]
  },
  {
   "cell_type": "code",
   "execution_count": 16,
   "id": "6ce4b8bd-c3ac-4c39-8fab-0f14d83ddb91",
   "metadata": {},
   "outputs": [
    {
     "name": "stdout",
     "output_type": "stream",
     "text": [
      "Hello, qasim!\n",
      "Hello, zeeshan!\n"
     ]
    }
   ],
   "source": [
    "#Function with Parameters\n",
    "def greet(name):\n",
    "    print(f\"Hello, {name}!\")\n",
    "\n",
    "greet('qasim')\n",
    "greet('zeeshan')"
   ]
  },
  {
   "cell_type": "code",
   "execution_count": 17,
   "id": "5ff309d9-5f41-4fc0-8ba6-ca27815e7498",
   "metadata": {},
   "outputs": [
    {
     "name": "stdout",
     "output_type": "stream",
     "text": [
      "welcome Guest\n"
     ]
    }
   ],
   "source": [
    "def greet(name=\"Guest\"):\n",
    "    print('welcome',name)\n",
    "\n",
    "greet()"
   ]
  },
  {
   "cell_type": "code",
   "execution_count": 18,
   "id": "54b45902-30e4-4be6-9c51-9eccb05657f0",
   "metadata": {},
   "outputs": [
    {
     "name": "stdout",
     "output_type": "stream",
     "text": [
      "welcome habib\n"
     ]
    }
   ],
   "source": [
    "greet('habib')"
   ]
  },
  {
   "cell_type": "code",
   "execution_count": 19,
   "id": "ebb372ab-dd82-46ef-9166-4b5b9d8a0d37",
   "metadata": {},
   "outputs": [
    {
     "name": "stdout",
     "output_type": "stream",
     "text": [
      "Hello, Guest!\n",
      "Hello, ali!\n",
      "Hello, Guest!\n",
      "Hello, Guest!\n"
     ]
    }
   ],
   "source": [
    "#Default Arguments\n",
    "def greet(name=\"Guest\"):\n",
    "    print(f\"Hello, {name}!\")\n",
    "\n",
    "greet()\n",
    "greet('ali')\n",
    "greet()\n",
    "greet()"
   ]
  },
  {
   "cell_type": "code",
   "execution_count": 2,
   "id": "0e8bf3dc-a4c5-4331-9dea-699ce8289c4e",
   "metadata": {},
   "outputs": [],
   "source": [
    "def add(a=2,b=4):\n",
    "    return a+b"
   ]
  },
  {
   "cell_type": "code",
   "execution_count": 20,
   "id": "eba6b319-6e54-4ef7-bef2-cb1bc5708e8d",
   "metadata": {},
   "outputs": [
    {
     "data": {
      "text/plain": [
       "6"
      ]
     },
     "execution_count": 20,
     "metadata": {},
     "output_type": "execute_result"
    }
   ],
   "source": [
    "def add(a=2,b=4):\n",
    "    return a+b\n",
    "\n",
    "add()"
   ]
  },
  {
   "cell_type": "code",
   "execution_count": 21,
   "id": "53e2c4a9-c198-4f0f-bfa9-03de0d06d0e9",
   "metadata": {},
   "outputs": [
    {
     "name": "stdout",
     "output_type": "stream",
     "text": [
      "55\n"
     ]
    }
   ],
   "source": [
    "def add(a=2,b=4):\n",
    "    print(a+b)\n",
    "\n",
    "add(22,33)"
   ]
  },
  {
   "cell_type": "code",
   "execution_count": 22,
   "id": "d61d5e15-ad09-4cf5-a6a6-50ac1cbde985",
   "metadata": {},
   "outputs": [
    {
     "name": "stdout",
     "output_type": "stream",
     "text": [
      "6\n",
      "6\n"
     ]
    },
    {
     "data": {
      "text/plain": [
       "6"
      ]
     },
     "execution_count": 22,
     "metadata": {},
     "output_type": "execute_result"
    }
   ],
   "source": [
    "def add(a=2,b=4):\n",
    "    print(b+a)\n",
    "    print(a+b)\n",
    "    return a+b\n",
    "    return b+a\n",
    "\n",
    "add()"
   ]
  },
  {
   "cell_type": "code",
   "execution_count": 82,
   "id": "79506581-ed2c-4478-bd6b-a5523d051afa",
   "metadata": {},
   "outputs": [],
   "source": [
    "# Answer provided above is of upper 3 statements."
   ]
  },
  {
   "cell_type": "code",
   "execution_count": 23,
   "id": "00daf839-4839-4cbd-82b8-bc279a3201aa",
   "metadata": {},
   "outputs": [
    {
     "name": "stdout",
     "output_type": "stream",
     "text": [
      "6\n",
      "6\n"
     ]
    },
    {
     "data": {
      "text/plain": [
       "11"
      ]
     },
     "execution_count": 23,
     "metadata": {},
     "output_type": "execute_result"
    }
   ],
   "source": [
    "def add(a=2,b=4,c=5):\n",
    "    print(b+a)\n",
    "    print(a+b)\n",
    "    return a+b+c\n",
    "    return a-b\n",
    "\n",
    "add()"
   ]
  },
  {
   "cell_type": "code",
   "execution_count": 28,
   "id": "5df4cb57-065f-4a04-82be-59240bef812b",
   "metadata": {},
   "outputs": [
    {
     "ename": "IndentationError",
     "evalue": "unexpected indent (3939659742.py, line 5)",
     "output_type": "error",
     "traceback": [
      "\u001b[1;36m  Cell \u001b[1;32mIn[28], line 5\u001b[1;36m\u001b[0m\n\u001b[1;33m    return a+b\u001b[0m\n\u001b[1;37m    ^\u001b[0m\n\u001b[1;31mIndentationError\u001b[0m\u001b[1;31m:\u001b[0m unexpected indent\n"
     ]
    }
   ],
   "source": [
    "def add(a=2,b=4,c=22):\n",
    "    print(b+a)\n",
    "    print(a+b)\n",
    "    return a-b\n",
    "        return a+b"
   ]
  },
  {
   "cell_type": "code",
   "execution_count": 83,
   "id": "a9d06455-8c9e-46a4-82eb-c81324fd18aa",
   "metadata": {},
   "outputs": [
    {
     "data": {
      "text/plain": [
       "12"
      ]
     },
     "execution_count": 83,
     "metadata": {},
     "output_type": "execute_result"
    }
   ],
   "source": [
    "# Multiple Parameters\n",
    "def add(a, b):\n",
    "    return a + b\n",
    "\n",
    "add(5,7)"
   ]
  },
  {
   "cell_type": "code",
   "execution_count": 31,
   "id": "0aacd1e0-21d0-4849-9f3f-82a6ed7b2faa",
   "metadata": {},
   "outputs": [
    {
     "ename": "TypeError",
     "evalue": "unsupported operand type(s) for +: 'float' and 'str'",
     "output_type": "error",
     "traceback": [
      "\u001b[1;31m---------------------------------------------------------------------------\u001b[0m",
      "\u001b[1;31mTypeError\u001b[0m                                 Traceback (most recent call last)",
      "Cell \u001b[1;32mIn[31], line 5\u001b[0m\n\u001b[0;32m      2\u001b[0m \u001b[38;5;28;01mdef\u001b[39;00m \u001b[38;5;21madd\u001b[39m(a, b):\n\u001b[0;32m      3\u001b[0m     \u001b[38;5;28;01mreturn\u001b[39;00m \u001b[38;5;28mint\u001b[39m(a \u001b[38;5;241m+\u001b[39m b)\n\u001b[1;32m----> 5\u001b[0m add(\u001b[38;5;241m3.2\u001b[39m,\u001b[38;5;124m'\u001b[39m\u001b[38;5;124mabc\u001b[39m\u001b[38;5;124m'\u001b[39m)\n",
      "Cell \u001b[1;32mIn[31], line 3\u001b[0m, in \u001b[0;36madd\u001b[1;34m(a, b)\u001b[0m\n\u001b[0;32m      2\u001b[0m \u001b[38;5;28;01mdef\u001b[39;00m \u001b[38;5;21madd\u001b[39m(a, b):\n\u001b[1;32m----> 3\u001b[0m     \u001b[38;5;28;01mreturn\u001b[39;00m \u001b[38;5;28mint\u001b[39m(a \u001b[38;5;241m+\u001b[39m b)\n",
      "\u001b[1;31mTypeError\u001b[0m: unsupported operand type(s) for +: 'float' and 'str'"
     ]
    }
   ],
   "source": [
    "# Multiple Parameters\n",
    "def add(a, b):\n",
    "    return int(a + b)\n",
    "    \n",
    "add(3.2,'abc')"
   ]
  },
  {
   "cell_type": "code",
   "execution_count": 32,
   "id": "318aa412-e91c-4c68-8451-8007338e4993",
   "metadata": {},
   "outputs": [
    {
     "data": {
      "text/plain": [
       "('apple', 'orange', 'cherry')"
      ]
     },
     "execution_count": 32,
     "metadata": {},
     "output_type": "execute_result"
    }
   ],
   "source": [
    "def fruits(*abc):\n",
    "    return abc\n",
    "\n",
    "fruits('apple','orange','cherry')"
   ]
  },
  {
   "cell_type": "code",
   "execution_count": 33,
   "id": "0f52487c-6e7b-4b03-a02f-eb5faa4e5c00",
   "metadata": {},
   "outputs": [
    {
     "ename": "TypeError",
     "evalue": "fruits() got an unexpected keyword argument 'a'",
     "output_type": "error",
     "traceback": [
      "\u001b[1;31m---------------------------------------------------------------------------\u001b[0m",
      "\u001b[1;31mTypeError\u001b[0m                                 Traceback (most recent call last)",
      "Cell \u001b[1;32mIn[33], line 4\u001b[0m\n\u001b[0;32m      1\u001b[0m \u001b[38;5;28;01mdef\u001b[39;00m \u001b[38;5;21mfruits\u001b[39m(\u001b[38;5;241m*\u001b[39mabc):\n\u001b[0;32m      2\u001b[0m     \u001b[38;5;28;01mreturn\u001b[39;00m abc\n\u001b[1;32m----> 4\u001b[0m fruits(a\u001b[38;5;241m=\u001b[39m\u001b[38;5;124m'\u001b[39m\u001b[38;5;124mapple\u001b[39m\u001b[38;5;124m'\u001b[39m,b\u001b[38;5;241m=\u001b[39m\u001b[38;5;124m'\u001b[39m\u001b[38;5;124morange\u001b[39m\u001b[38;5;124m'\u001b[39m,c\u001b[38;5;241m=\u001b[39m\u001b[38;5;124m'\u001b[39m\u001b[38;5;124mcherry\u001b[39m\u001b[38;5;124m'\u001b[39m)\n",
      "\u001b[1;31mTypeError\u001b[0m: fruits() got an unexpected keyword argument 'a'"
     ]
    }
   ],
   "source": [
    "def fruits(*abc):\n",
    "    return abc\n",
    "\n",
    "fruits(a='apple',b='orange',c='cherry')"
   ]
  },
  {
   "cell_type": "code",
   "execution_count": 34,
   "id": "1c62b2bf-994c-4d25-8f28-5ced68965621",
   "metadata": {},
   "outputs": [
    {
     "data": {
      "text/plain": [
       "['apple', 'orange', 'cherry']"
      ]
     },
     "execution_count": 34,
     "metadata": {},
     "output_type": "execute_result"
    }
   ],
   "source": [
    "def fruits(*abc):\n",
    "    return list(abc)\n",
    "\n",
    "fruits('apple','orange','cherry')"
   ]
  },
  {
   "cell_type": "code",
   "execution_count": 35,
   "id": "a9aea67e-88da-4462-88da-5508784a1280",
   "metadata": {},
   "outputs": [
    {
     "ename": "SyntaxError",
     "evalue": "invalid syntax (685269262.py, line 2)",
     "output_type": "error",
     "traceback": [
      "\u001b[1;36m  Cell \u001b[1;32mIn[35], line 2\u001b[1;36m\u001b[0m\n\u001b[1;33m    print(return a - b)\u001b[0m\n\u001b[1;37m          ^\u001b[0m\n\u001b[1;31mSyntaxError\u001b[0m\u001b[1;31m:\u001b[0m invalid syntax\n"
     ]
    }
   ],
   "source": [
    "def subtract(a, b):\n",
    "    print(return a - b)\n",
    "\n",
    "subtract(b=3, a=10)"
   ]
  },
  {
   "cell_type": "code",
   "execution_count": 36,
   "id": "b1c800ff-bb55-466c-b6cb-1c104492dd75",
   "metadata": {},
   "outputs": [
    {
     "ename": "SyntaxError",
     "evalue": "'return' outside function (39375614.py, line 3)",
     "output_type": "error",
     "traceback": [
      "\u001b[1;36m  Cell \u001b[1;32mIn[36], line 3\u001b[1;36m\u001b[0m\n\u001b[1;33m    return(22-2)\u001b[0m\n\u001b[1;37m    ^\u001b[0m\n\u001b[1;31mSyntaxError\u001b[0m\u001b[1;31m:\u001b[0m 'return' outside function\n"
     ]
    }
   ],
   "source": [
    "# def subtract(a, b):\n",
    "\n",
    "return(22-2)\n",
    "\n",
    "# subtract(b=3, a=10)"
   ]
  },
  {
   "cell_type": "code",
   "execution_count": 37,
   "id": "550cd7f5-6bca-4222-8fb2-671f6269b650",
   "metadata": {},
   "outputs": [
    {
     "data": {
      "text/plain": [
       "{'name': 'umair', 'age': 22}"
      ]
     },
     "execution_count": 37,
     "metadata": {},
     "output_type": "execute_result"
    }
   ],
   "source": [
    "def greet(**xyz):\n",
    "    return xyz\n",
    "\n",
    "greet(name='umair', age=22)"
   ]
  },
  {
   "cell_type": "code",
   "execution_count": 38,
   "id": "333eabe4-75e5-4842-a108-8ab8226ec169",
   "metadata": {},
   "outputs": [
    {
     "name": "stdout",
     "output_type": "stream",
     "text": [
      "Hello, Alice!\n"
     ]
    }
   ],
   "source": [
    "def greet(**abc):\n",
    "    print(f\"Hello, {abc['name']}!\")\n",
    "\n",
    "greet(name=\"Alice\")"
   ]
  },
  {
   "cell_type": "code",
   "execution_count": 39,
   "id": "cb9c66c8-d5f8-4066-b4e2-c0de8b615a13",
   "metadata": {},
   "outputs": [
    {
     "name": "stdout",
     "output_type": "stream",
     "text": [
      "Job Title: {}\n"
     ]
    }
   ],
   "source": [
    "def job(**kwargs):\n",
    "    print('Job Title:', kwargs)\n",
    "\n",
    "job()"
   ]
  },
  {
   "cell_type": "code",
   "execution_count": 40,
   "id": "d41a6a0d-4f38-4bda-82e3-78f6e540557c",
   "metadata": {},
   "outputs": [
    {
     "name": "stdout",
     "output_type": "stream",
     "text": [
      "Job Title: Sales\n"
     ]
    }
   ],
   "source": [
    "def job(**kwargs):\n",
    "    print('Job Title:', kwargs['title'])\n",
    "\n",
    "job(title='Sales')"
   ]
  },
  {
   "cell_type": "code",
   "execution_count": 41,
   "id": "9b63d4b7-4300-4ec7-b3ae-19f769147c7c",
   "metadata": {},
   "outputs": [
    {
     "name": "stdout",
     "output_type": "stream",
     "text": [
      "age:22\n",
      "name:ali\n",
      "job:data analyst\n",
      "salary:500k\n"
     ]
    }
   ],
   "source": [
    "def xyz(**pqr):\n",
    "    for i,v in pqr.items():\n",
    "        print(f\"{i}:{v}\")\n",
    "\n",
    "xyz(age=22, name='ali', job='data analyst', salary=\"500k\")"
   ]
  },
  {
   "cell_type": "code",
   "execution_count": 42,
   "id": "c7637c4b-d7d5-4ceb-a8b6-f14794683f79",
   "metadata": {},
   "outputs": [
    {
     "data": {
      "text/plain": [
       "200"
      ]
     },
     "execution_count": 42,
     "metadata": {},
     "output_type": "execute_result"
    }
   ],
   "source": [
    "# Positional Arguments\n",
    "def subtract(a, b):\n",
    "    return b-a\n",
    "    \n",
    "subtract(22,222)"
   ]
  },
  {
   "cell_type": "code",
   "execution_count": 43,
   "id": "5d45fd61-f08d-4e5a-b0e9-3e7ea414bb02",
   "metadata": {},
   "outputs": [
    {
     "data": {
      "text/plain": [
       "7"
      ]
     },
     "execution_count": 43,
     "metadata": {},
     "output_type": "execute_result"
    }
   ],
   "source": [
    "# Keyword Arguments\n",
    "def subtract(a, b):\n",
    "    return a - b\n",
    "\n",
    "subtract(b=3, a=10)"
   ]
  },
  {
   "cell_type": "code",
   "execution_count": 44,
   "id": "3d9688d0-5b68-478a-9073-b99c1fa8e6b2",
   "metadata": {},
   "outputs": [
    {
     "data": {
      "text/plain": [
       "7"
      ]
     },
     "execution_count": 44,
     "metadata": {},
     "output_type": "execute_result"
    }
   ],
   "source": [
    "def subtract(a, b=5):\n",
    "    return a - b\n",
    "\n",
    "subtract(b=3, a=10)"
   ]
  },
  {
   "cell_type": "code",
   "execution_count": 45,
   "id": "c629e9f9-3053-459d-8a57-6cbf74a91f48",
   "metadata": {},
   "outputs": [
    {
     "data": {
      "text/plain": [
       "5"
      ]
     },
     "execution_count": 45,
     "metadata": {},
     "output_type": "execute_result"
    }
   ],
   "source": [
    "def subtract(a, b=5):\n",
    "    return a - b\n",
    "\n",
    "subtract(a=10)"
   ]
  },
  {
   "cell_type": "code",
   "execution_count": 46,
   "id": "50b99675-ffa7-4e43-bd6f-7aa152bb2a41",
   "metadata": {},
   "outputs": [
    {
     "ename": "TypeError",
     "evalue": "subtract() missing 1 required positional argument: 'b'",
     "output_type": "error",
     "traceback": [
      "\u001b[1;31m---------------------------------------------------------------------------\u001b[0m",
      "\u001b[1;31mTypeError\u001b[0m                                 Traceback (most recent call last)",
      "Cell \u001b[1;32mIn[46], line 4\u001b[0m\n\u001b[0;32m      1\u001b[0m \u001b[38;5;28;01mdef\u001b[39;00m \u001b[38;5;21msubtract\u001b[39m(a, b):\n\u001b[0;32m      2\u001b[0m     \u001b[38;5;28;01mreturn\u001b[39;00m a \u001b[38;5;241m-\u001b[39m b\n\u001b[1;32m----> 4\u001b[0m subtract(a\u001b[38;5;241m=\u001b[39m\u001b[38;5;241m10\u001b[39m)\n",
      "\u001b[1;31mTypeError\u001b[0m: subtract() missing 1 required positional argument: 'b'"
     ]
    }
   ],
   "source": [
    "def subtract(a, b):\n",
    "    return a - b\n",
    "\n",
    "subtract(a=10)"
   ]
  },
  {
   "cell_type": "markdown",
   "id": "421fa4a1-12ba-4681-a293-75a5f558697b",
   "metadata": {},
   "source": [
    "# Variable-length Arguments"
   ]
  },
  {
   "cell_type": "code",
   "execution_count": 47,
   "id": "fbaaa25d-b563-4025-8024-89ab530a89ac",
   "metadata": {},
   "outputs": [
    {
     "ename": "TypeError",
     "evalue": "unsupported operand type(s) for +: 'int' and 'str'",
     "output_type": "error",
     "traceback": [
      "\u001b[1;31m---------------------------------------------------------------------------\u001b[0m",
      "\u001b[1;31mTypeError\u001b[0m                                 Traceback (most recent call last)",
      "Cell \u001b[1;32mIn[47], line 5\u001b[0m\n\u001b[0;32m      2\u001b[0m     \u001b[38;5;28;01mreturn\u001b[39;00m \u001b[38;5;28msum\u001b[39m(abc)\n\u001b[0;32m      4\u001b[0m \u001b[38;5;66;03m# add(1,2,5,6,7)\u001b[39;00m\n\u001b[1;32m----> 5\u001b[0m add(\u001b[38;5;241m1\u001b[39m,\u001b[38;5;241m2\u001b[39m,\u001b[38;5;124m'\u001b[39m\u001b[38;5;124mabc\u001b[39m\u001b[38;5;124m'\u001b[39m)\n",
      "Cell \u001b[1;32mIn[47], line 2\u001b[0m, in \u001b[0;36madd\u001b[1;34m(*abc)\u001b[0m\n\u001b[0;32m      1\u001b[0m \u001b[38;5;28;01mdef\u001b[39;00m \u001b[38;5;21madd\u001b[39m(\u001b[38;5;241m*\u001b[39mabc):\n\u001b[1;32m----> 2\u001b[0m     \u001b[38;5;28;01mreturn\u001b[39;00m \u001b[38;5;28msum\u001b[39m(abc)\n",
      "\u001b[1;31mTypeError\u001b[0m: unsupported operand type(s) for +: 'int' and 'str'"
     ]
    }
   ],
   "source": [
    "def add(*abc):\n",
    "    return sum(abc)\n",
    "\n",
    "# add(1,2,5,6,7)\n",
    "add(1,2,'abc')"
   ]
  },
  {
   "cell_type": "code",
   "execution_count": 48,
   "id": "64995b3f-5c9e-4a82-ae8c-1b64af22247f",
   "metadata": {},
   "outputs": [
    {
     "ename": "TypeError",
     "evalue": "sum() takes at most 2 arguments (3 given)",
     "output_type": "error",
     "traceback": [
      "\u001b[1;31m---------------------------------------------------------------------------\u001b[0m",
      "\u001b[1;31mTypeError\u001b[0m                                 Traceback (most recent call last)",
      "Cell \u001b[1;32mIn[48], line 4\u001b[0m\n\u001b[0;32m      1\u001b[0m \u001b[38;5;66;03m# def add(*abc):\u001b[39;00m\n\u001b[0;32m      2\u001b[0m \u001b[38;5;66;03m#     return\u001b[39;00m\n\u001b[1;32m----> 4\u001b[0m \u001b[38;5;28msum\u001b[39m(\u001b[38;5;241m1\u001b[39m,\u001b[38;5;241m2\u001b[39m,\u001b[38;5;241m4\u001b[39m)\n",
      "\u001b[1;31mTypeError\u001b[0m: sum() takes at most 2 arguments (3 given)"
     ]
    }
   ],
   "source": [
    "# def add(*abc):\n",
    "#     return\n",
    "\n",
    "sum(1,2,4)"
   ]
  },
  {
   "cell_type": "code",
   "execution_count": 49,
   "id": "b96994cb-0480-4da7-b0ac-e62b2fdabcf9",
   "metadata": {},
   "outputs": [
    {
     "ename": "TypeError",
     "evalue": "'int' object is not iterable",
     "output_type": "error",
     "traceback": [
      "\u001b[1;31m---------------------------------------------------------------------------\u001b[0m",
      "\u001b[1;31mTypeError\u001b[0m                                 Traceback (most recent call last)",
      "Cell \u001b[1;32mIn[49], line 1\u001b[0m\n\u001b[1;32m----> 1\u001b[0m \u001b[38;5;28msum\u001b[39m(\u001b[38;5;241m1\u001b[39m,\u001b[38;5;241m2\u001b[39m)\n",
      "\u001b[1;31mTypeError\u001b[0m: 'int' object is not iterable"
     ]
    }
   ],
   "source": [
    "sum(1,2)"
   ]
  },
  {
   "cell_type": "code",
   "execution_count": 50,
   "id": "15b01020-d7f3-423f-ada0-e780d39efe19",
   "metadata": {},
   "outputs": [
    {
     "ename": "TypeError",
     "evalue": "'int' object is not iterable",
     "output_type": "error",
     "traceback": [
      "\u001b[1;31m---------------------------------------------------------------------------\u001b[0m",
      "\u001b[1;31mTypeError\u001b[0m                                 Traceback (most recent call last)",
      "Cell \u001b[1;32mIn[50], line 1\u001b[0m\n\u001b[1;32m----> 1\u001b[0m \u001b[38;5;28mprint\u001b[39m(\u001b[38;5;28msum\u001b[39m(\u001b[38;5;241m1\u001b[39m,\u001b[38;5;241m2\u001b[39m))\n",
      "\u001b[1;31mTypeError\u001b[0m: 'int' object is not iterable"
     ]
    }
   ],
   "source": [
    "print(sum(1,2))"
   ]
  },
  {
   "cell_type": "code",
   "execution_count": 51,
   "id": "4b8865fa-4540-4882-a3d8-dd07b3bb6899",
   "metadata": {},
   "outputs": [
    {
     "data": {
      "text/plain": [
       "10"
      ]
     },
     "execution_count": 51,
     "metadata": {},
     "output_type": "execute_result"
    }
   ],
   "source": [
    "x = (1,2,3,4)\n",
    "y= 22\n",
    "sum(x)"
   ]
  },
  {
   "cell_type": "code",
   "execution_count": 52,
   "id": "18255139-920c-4a77-bfa0-ca8bf26ec195",
   "metadata": {},
   "outputs": [
    {
     "data": {
      "text/plain": [
       "18"
      ]
     },
     "execution_count": 52,
     "metadata": {},
     "output_type": "execute_result"
    }
   ],
   "source": [
    "sum((1,4,6,7))"
   ]
  },
  {
   "cell_type": "code",
   "execution_count": 53,
   "id": "e8aecf8e-b976-4968-81a6-5a5f9df1c234",
   "metadata": {},
   "outputs": [
    {
     "data": {
      "text/plain": [
       "11"
      ]
     },
     "execution_count": 53,
     "metadata": {},
     "output_type": "execute_result"
    }
   ],
   "source": [
    "sum([1,2,3,5])"
   ]
  },
  {
   "cell_type": "code",
   "execution_count": 54,
   "id": "9adb659e-10a9-439d-a19c-37eb14f4139b",
   "metadata": {},
   "outputs": [
    {
     "data": {
      "text/plain": [
       "13"
      ]
     },
     "execution_count": 54,
     "metadata": {},
     "output_type": "execute_result"
    }
   ],
   "source": [
    "sum([1,2,3,5],2)"
   ]
  },
  {
   "cell_type": "code",
   "execution_count": 55,
   "id": "89fd650b-850f-463d-8350-b58719d814f0",
   "metadata": {},
   "outputs": [
    {
     "data": {
      "text/plain": [
       "11"
      ]
     },
     "execution_count": 55,
     "metadata": {},
     "output_type": "execute_result"
    }
   ],
   "source": [
    "sum([1,2,3,5])"
   ]
  },
  {
   "cell_type": "code",
   "execution_count": 56,
   "id": "1771b2d8-0c9b-47ff-8ebe-cae5eb44b457",
   "metadata": {},
   "outputs": [],
   "source": [
    "# Signature: sum(iterable, /, start=0)\n",
    "# Docstring:\n",
    "# Return the sum of a 'start' value (default: 0) plus an iterable of numbers\n",
    "\n",
    "# When the iterable is empty, return the start value.\n",
    "# This function is intended specifically for use with numeric values and may\n",
    "# reject non-numeric types.\n",
    "# Type:      builtin_function_or_method"
   ]
  },
  {
   "cell_type": "code",
   "execution_count": 57,
   "id": "8aa612d3-12de-440b-a792-571bfc9f36c5",
   "metadata": {},
   "outputs": [],
   "source": [
    "# sum(iterable, /, start=0)"
   ]
  },
  {
   "cell_type": "code",
   "execution_count": 58,
   "id": "2dc2356a-8345-4268-a5fb-e000f4309943",
   "metadata": {},
   "outputs": [],
   "source": [
    "# **iterable** (required): This is the first argument, and it represents a collection of numbers (e.g., a list, tuple, or any other iterable)\n",
    "# whose sum is to be calculated."
   ]
  },
  {
   "cell_type": "code",
   "execution_count": 59,
   "id": "395aa944-02f8-4159-baad-fbc8710155c5",
   "metadata": {},
   "outputs": [],
   "source": [
    "# **start (optional):**This is the second argument and has a default value of 0. It adds a starting value to the sum of the elements in the iterable. \n",
    "# For instance, if the iterable is empty, it will return this start value. If no start value is provided, the default value of 0 will be used.\n",
    "\n",
    "# The reason for taking a single argument in some cases is when you are using sum() with just the iterable, leaving the default start value of 0 \n",
    "# to be applied automatically."
   ]
  },
  {
   "cell_type": "code",
   "execution_count": 60,
   "id": "f1ea7ad6-bade-4157-b39a-27d6d97fd284",
   "metadata": {},
   "outputs": [
    {
     "data": {
      "text/plain": [
       "13"
      ]
     },
     "execution_count": 60,
     "metadata": {},
     "output_type": "execute_result"
    }
   ],
   "source": [
    "sum([1,2,3,5],2)"
   ]
  },
  {
   "cell_type": "code",
   "execution_count": 61,
   "id": "73a82ed2-826c-4469-aab7-234f1e505223",
   "metadata": {},
   "outputs": [
    {
     "data": {
      "text/plain": [
       "13"
      ]
     },
     "execution_count": 61,
     "metadata": {},
     "output_type": "execute_result"
    }
   ],
   "source": [
    "sum([1,2,3,5],start=2)"
   ]
  },
  {
   "cell_type": "code",
   "execution_count": 62,
   "id": "b1fbfbf0-d03f-439a-9936-742a558b1a8f",
   "metadata": {},
   "outputs": [
    {
     "ename": "TypeError",
     "evalue": "can only concatenate list (not \"int\") to list",
     "output_type": "error",
     "traceback": [
      "\u001b[1;31m---------------------------------------------------------------------------\u001b[0m",
      "\u001b[1;31mTypeError\u001b[0m                                 Traceback (most recent call last)",
      "Cell \u001b[1;32mIn[62], line 1\u001b[0m\n\u001b[1;32m----> 1\u001b[0m \u001b[38;5;28msum\u001b[39m([\u001b[38;5;241m1\u001b[39m,\u001b[38;5;241m2\u001b[39m,\u001b[38;5;241m3\u001b[39m,\u001b[38;5;241m5\u001b[39m],[\u001b[38;5;241m1\u001b[39m,\u001b[38;5;241m2\u001b[39m,\u001b[38;5;241m3\u001b[39m])\n",
      "\u001b[1;31mTypeError\u001b[0m: can only concatenate list (not \"int\") to list"
     ]
    }
   ],
   "source": [
    "sum([1,2,3,5],[1,2,3])"
   ]
  },
  {
   "cell_type": "code",
   "execution_count": 63,
   "id": "70b3eb11-ab8a-4516-991c-4cba1d6f6915",
   "metadata": {},
   "outputs": [
    {
     "ename": "TypeError",
     "evalue": "sum() takes at most 2 arguments (3 given)",
     "output_type": "error",
     "traceback": [
      "\u001b[1;31m---------------------------------------------------------------------------\u001b[0m",
      "\u001b[1;31mTypeError\u001b[0m                                 Traceback (most recent call last)",
      "Cell \u001b[1;32mIn[63], line 1\u001b[0m\n\u001b[1;32m----> 1\u001b[0m \u001b[38;5;28msum\u001b[39m([\u001b[38;5;241m1\u001b[39m,\u001b[38;5;241m2\u001b[39m,\u001b[38;5;241m3\u001b[39m,\u001b[38;5;241m5\u001b[39m],\u001b[38;5;241m2\u001b[39m,\u001b[38;5;241m4\u001b[39m)\n",
      "\u001b[1;31mTypeError\u001b[0m: sum() takes at most 2 arguments (3 given)"
     ]
    }
   ],
   "source": [
    "sum([1,2,3,5],2,4)"
   ]
  },
  {
   "cell_type": "code",
   "execution_count": 64,
   "id": "4f5c2d10-d3b8-4a85-bdcf-2727b0a61917",
   "metadata": {},
   "outputs": [
    {
     "data": {
      "text/plain": [
       "66"
      ]
     },
     "execution_count": 64,
     "metadata": {},
     "output_type": "execute_result"
    }
   ],
   "source": [
    "# *args collects extra positional arguments into a tuple.\n",
    "def add(*args):\n",
    "    return sum(args)\n",
    "\n",
    "add(1,2,3,4,56)\n",
    "# print(add(1, 2, 3))\n",
    "# print(add(4, 5, 6, 7))"
   ]
  },
  {
   "cell_type": "code",
   "execution_count": 65,
   "id": "aeb6d3df-6adc-4e6c-951d-ea7325935b42",
   "metadata": {},
   "outputs": [
    {
     "name": "stdout",
     "output_type": "stream",
     "text": [
      "Hello, Alice!\n",
      "Hello, Bob!\n",
      "Hello, Charlie!\n"
     ]
    }
   ],
   "source": [
    "def greet(*args):\n",
    "    for name in args:\n",
    "        print(f\"Hello, {name}!\")\n",
    "        \n",
    "greet(\"Alice\", \"Bob\", \"Charlie\")"
   ]
  },
  {
   "cell_type": "code",
   "execution_count": 66,
   "id": "20c1a58a-ee1e-46e2-991b-eec4bf618808",
   "metadata": {},
   "outputs": [
    {
     "name": "stdout",
     "output_type": "stream",
     "text": [
      "Hello!, basit\n"
     ]
    }
   ],
   "source": [
    "def greet(**xyz):\n",
    "    print(f\"Hello!, {xyz['name']}\")\n",
    "\n",
    "greet(name='basit')"
   ]
  },
  {
   "cell_type": "code",
   "execution_count": 67,
   "id": "e461ee70-b76f-43f9-b34f-c4352e33761f",
   "metadata": {},
   "outputs": [
    {
     "ename": "TypeError",
     "evalue": "greet() takes 0 positional arguments but 1 was given",
     "output_type": "error",
     "traceback": [
      "\u001b[1;31m---------------------------------------------------------------------------\u001b[0m",
      "\u001b[1;31mTypeError\u001b[0m                                 Traceback (most recent call last)",
      "Cell \u001b[1;32mIn[67], line 4\u001b[0m\n\u001b[0;32m      1\u001b[0m \u001b[38;5;28;01mdef\u001b[39;00m \u001b[38;5;21mgreet\u001b[39m(\u001b[38;5;241m*\u001b[39m\u001b[38;5;241m*\u001b[39mxyz):\n\u001b[0;32m      2\u001b[0m     \u001b[38;5;28mprint\u001b[39m(\u001b[38;5;124mf\u001b[39m\u001b[38;5;124m\"\u001b[39m\u001b[38;5;124mHello!, \u001b[39m\u001b[38;5;132;01m{\u001b[39;00mxyz[\u001b[38;5;124m'\u001b[39m\u001b[38;5;124mname\u001b[39m\u001b[38;5;124m'\u001b[39m]\u001b[38;5;132;01m}\u001b[39;00m\u001b[38;5;124m\"\u001b[39m)\n\u001b[1;32m----> 4\u001b[0m greet(xyz)\n",
      "\u001b[1;31mTypeError\u001b[0m: greet() takes 0 positional arguments but 1 was given"
     ]
    }
   ],
   "source": [
    "def greet(**xyz):\n",
    "    print(f\"Hello!, {xyz['name']}\")\n",
    "\n",
    "greet(xyz)"
   ]
  },
  {
   "cell_type": "code",
   "execution_count": 68,
   "id": "ecae00f4-bbe9-4e2b-a106-30afcb05e5c2",
   "metadata": {},
   "outputs": [
    {
     "ename": "SyntaxError",
     "evalue": "positional argument follows keyword argument (3972851776.py, line 4)",
     "output_type": "error",
     "traceback": [
      "\u001b[1;36m  Cell \u001b[1;32mIn[68], line 4\u001b[1;36m\u001b[0m\n\u001b[1;33m    greet(name='basit','ali')\u001b[0m\n\u001b[1;37m                            ^\u001b[0m\n\u001b[1;31mSyntaxError\u001b[0m\u001b[1;31m:\u001b[0m positional argument follows keyword argument\n"
     ]
    }
   ],
   "source": [
    "def greet(**xyz):\n",
    "    print(f\"Hello!, {xyz['name']}\")\n",
    "\n",
    "greet(name='basit','ali')"
   ]
  },
  {
   "cell_type": "code",
   "execution_count": 69,
   "id": "786be5de-6a35-4878-8800-69ad5b0dbe2e",
   "metadata": {},
   "outputs": [
    {
     "name": "stdout",
     "output_type": "stream",
     "text": [
      "Hello!, basit\n"
     ]
    }
   ],
   "source": [
    "def greet(**xyz):\n",
    "    print(f\"Hello!, {xyz['name']}\")\n",
    "\n",
    "greet(name='basit',abc='ali')"
   ]
  },
  {
   "cell_type": "code",
   "execution_count": 70,
   "id": "e312477b-d72a-482a-b3a8-91bb2a2e5c99",
   "metadata": {},
   "outputs": [
    {
     "name": "stdout",
     "output_type": "stream",
     "text": [
      "Hello!, ali\n"
     ]
    }
   ],
   "source": [
    "def greet(**xyz):\n",
    "    print(f\"Hello!, {xyz['abc']}\")\n",
    "\n",
    "greet(name='basit',abc='ali')"
   ]
  },
  {
   "cell_type": "code",
   "execution_count": 71,
   "id": "fdadc94a-6561-497e-9df0-2eac53dd383a",
   "metadata": {},
   "outputs": [
    {
     "ename": "SyntaxError",
     "evalue": "keyword argument repeated: name (1624490747.py, line 4)",
     "output_type": "error",
     "traceback": [
      "\u001b[1;36m  Cell \u001b[1;32mIn[71], line 4\u001b[1;36m\u001b[0m\n\u001b[1;33m    greet(name='basit',name='ali')\u001b[0m\n\u001b[1;37m                       ^\u001b[0m\n\u001b[1;31mSyntaxError\u001b[0m\u001b[1;31m:\u001b[0m keyword argument repeated: name\n"
     ]
    }
   ],
   "source": [
    "def greet(**xyz):\n",
    "    print(f\"Hello!, {xyz['name']}\")\n",
    "\n",
    "greet(name='basit',name='ali')"
   ]
  },
  {
   "cell_type": "code",
   "execution_count": 72,
   "id": "741ba3b7-6136-474b-85ff-1227d67c5fe6",
   "metadata": {},
   "outputs": [
    {
     "name": "stdout",
     "output_type": "stream",
     "text": [
      "Hello!, basit\n"
     ]
    }
   ],
   "source": [
    "def greet(**xyz):\n",
    "    print(f\"Hello!, {xyz['name']}\")\n",
    "\n",
    "greet(name='basit',abc='ali')"
   ]
  },
  {
   "cell_type": "code",
   "execution_count": 73,
   "id": "b386b13e-0496-4f7f-b56e-b7e37efec3ad",
   "metadata": {},
   "outputs": [
    {
     "ename": "SyntaxError",
     "evalue": "positional argument follows keyword argument (774707235.py, line 5)",
     "output_type": "error",
     "traceback": [
      "\u001b[1;36m  Cell \u001b[1;32mIn[73], line 5\u001b[1;36m\u001b[0m\n\u001b[1;33m    greet(name=\"Alice\",'ali')\u001b[0m\n\u001b[1;37m                            ^\u001b[0m\n\u001b[1;31mSyntaxError\u001b[0m\u001b[1;31m:\u001b[0m positional argument follows keyword argument\n"
     ]
    }
   ],
   "source": [
    "# **kwargs collects extra keyword arguments into a dictionary.\n",
    "def greet(**kwargs):\n",
    "    print(f\"Hello, {kwargs['name']}!\")\n",
    "\n",
    "greet(name=\"Alice\",'ali')"
   ]
  },
  {
   "cell_type": "code",
   "execution_count": 74,
   "id": "d1609298-f565-4f90-b371-2a378d35638a",
   "metadata": {},
   "outputs": [
    {
     "name": "stdout",
     "output_type": "stream",
     "text": [
      "Hello, Alice!\n"
     ]
    }
   ],
   "source": [
    "def greet(**kwargs):\n",
    "    print(f\"Hello, {kwargs['name']}!\")\n",
    "\n",
    "greet(name=\"Alice\")"
   ]
  },
  {
   "cell_type": "code",
   "execution_count": 75,
   "id": "6ea3824c-e68f-4600-95e2-d581d3d5a947",
   "metadata": {},
   "outputs": [
    {
     "name": "stdout",
     "output_type": "stream",
     "text": [
      "Hello, Alice!\n"
     ]
    }
   ],
   "source": [
    "def greet(**abc):\n",
    "    print(f\"Hello, {abc['name']}!\")\n",
    "\n",
    "greet(name=\"Alice\")"
   ]
  },
  {
   "cell_type": "code",
   "execution_count": 76,
   "id": "d2711deb-c96e-4a1f-b779-e0a0cefe14b4",
   "metadata": {},
   "outputs": [
    {
     "name": "stdout",
     "output_type": "stream",
     "text": [
      "Job Title: {}\n"
     ]
    }
   ],
   "source": [
    "def job(**kwargs):\n",
    "    print('Job Title:', kwargs)\n",
    "\n",
    "job()"
   ]
  },
  {
   "cell_type": "code",
   "execution_count": 77,
   "id": "e9af3541-2bca-42a2-a715-f40f3db379b0",
   "metadata": {},
   "outputs": [
    {
     "name": "stdout",
     "output_type": "stream",
     "text": [
      "Job Title: Sales\n",
      "Job Title: accountant\n",
      "Job Title: businessman\n"
     ]
    }
   ],
   "source": [
    "def job(**kwargs):\n",
    "    print('Job Title:', kwargs['title'])\n",
    "\n",
    "job(title='Sales')\n",
    "job(title='accountant')\n",
    "job(title='businessman')"
   ]
  },
  {
   "cell_type": "code",
   "execution_count": 78,
   "id": "1eef085f-6084-460b-ad9d-ad86c66afb0a",
   "metadata": {},
   "outputs": [
    {
     "name": "stdout",
     "output_type": "stream",
     "text": [
      "Job Title: {'title': 'Sales'}\n",
      "Job Title: {'title': 'accountant'}\n",
      "Job Title: {'title': 'businessman'}\n"
     ]
    }
   ],
   "source": [
    "def job(**kwargs):\n",
    "    print('Job Title:', kwargs)\n",
    "\n",
    "job(title='Sales')\n",
    "job(title='accountant')\n",
    "job(title='businessman')"
   ]
  },
  {
   "cell_type": "code",
   "execution_count": 79,
   "id": "3ddadd88-e699-44f8-92f0-5aeccab6de85",
   "metadata": {},
   "outputs": [
    {
     "name": "stdout",
     "output_type": "stream",
     "text": [
      "name: Alice\n",
      "age: 30\n",
      "job: Engineer\n"
     ]
    }
   ],
   "source": [
    "def describe_person(**kwargs):\n",
    "    for key, value in kwargs.items():\n",
    "        print(f\"{key}: {value}\")\n",
    "        \n",
    "describe_person(name=\"Alice\", age=30, job=\"Engineer\")"
   ]
  },
  {
   "cell_type": "code",
   "execution_count": 80,
   "id": "3afb8211-0a5e-41c5-8b80-78448cb1febb",
   "metadata": {},
   "outputs": [
    {
     "name": "stdout",
     "output_type": "stream",
     "text": [
      "name:Alice\n",
      "age:30\n",
      "job:Engineer\n"
     ]
    }
   ],
   "source": [
    "def pqr(**kwargs):\n",
    "    for abc, xyz in kwargs.items():\n",
    "        print(f\"{abc}:{xyz}\")\n",
    "\n",
    "pqr(name=\"Alice\", age=30, job=\"Engineer\")"
   ]
  },
  {
   "cell_type": "code",
   "execution_count": 81,
   "id": "5a91e291-4d2b-476a-82c9-47727a781873",
   "metadata": {},
   "outputs": [
    {
     "name": "stdout",
     "output_type": "stream",
     "text": [
      "{'name': 'Alice', 'age': 30, 'job': 'Engineer'}\n"
     ]
    }
   ],
   "source": [
    "def pqr(**kwargs):\n",
    "    print(kwargs)\n",
    "\n",
    "pqr(name=\"Alice\", age=30, job=\"Engineer\")"
   ]
  },
  {
   "cell_type": "code",
   "execution_count": null,
   "id": "e1d3c7ed-fa00-4cb4-82d8-4eb93164072c",
   "metadata": {},
   "outputs": [],
   "source": []
  }
 ],
 "metadata": {
  "kernelspec": {
   "display_name": "Python 3 (ipykernel)",
   "language": "python",
   "name": "python3"
  },
  "language_info": {
   "codemirror_mode": {
    "name": "ipython",
    "version": 3
   },
   "file_extension": ".py",
   "mimetype": "text/x-python",
   "name": "python",
   "nbconvert_exporter": "python",
   "pygments_lexer": "ipython3",
   "version": "3.12.7"
  }
 },
 "nbformat": 4,
 "nbformat_minor": 5
}
