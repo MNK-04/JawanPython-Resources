{
 "cells": [
  {
   "cell_type": "markdown",
   "id": "eb6d1952-cdbc-4920-b228-11527ffbd918",
   "metadata": {},
   "source": [
    "Q1. my_tuple = ( (1, 2, 3), [4, 5, 6], (\"apple\", \"banana\", \"cherry\"), [7, 8, 9] )\n",
    "• Print all elements from my_tuple on a new line (using for loop)\n",
    "• Create a new tuple by concatenating the first and last elements of my_tuple"
   ]
  },
  {
   "cell_type": "code",
   "execution_count": 1,
   "id": "0047170b-1072-41c6-9632-cac7e9ce8e61",
   "metadata": {},
   "outputs": [
    {
     "data": {
      "text/plain": [
       "((1, 2, 3), [4, 5, 6], ('apple', 'banana', 'cherry'), [7, 8, 9])"
      ]
     },
     "execution_count": 1,
     "metadata": {},
     "output_type": "execute_result"
    }
   ],
   "source": [
    "my_tuple = ((1, 2, 3), [4, 5, 6], ('apple', 'banana', 'cherry'), [7, 8, 9])\n",
    "my_tuple"
   ]
  },
  {
   "cell_type": "code",
   "execution_count": 3,
   "id": "73da8904-c6f2-44bb-bb24-3019f418a6c4",
   "metadata": {},
   "outputs": [
    {
     "name": "stdout",
     "output_type": "stream",
     "text": [
      "(1, 2, 3)\n",
      "[4, 5, 6]\n",
      "('apple', 'banana', 'cherry')\n",
      "[7, 8, 9]\n"
     ]
    }
   ],
   "source": [
    "for i in my_tuple:\n",
    "    print(i)"
   ]
  },
  {
   "cell_type": "code",
   "execution_count": 4,
   "id": "2a03fac2-751f-4451-ae0d-bdd0ce4935f3",
   "metadata": {},
   "outputs": [
    {
     "name": "stdout",
     "output_type": "stream",
     "text": [
      "(1, 2, 3, 7, 8, 9)\n"
     ]
    }
   ],
   "source": [
    "my_tuple = ((1, 2, 3), [4, 5, 6], ('apple', 'banana', 'cherry'), [7, 8, 9])\n",
    "\n",
    "first_element = my_tuple[0]\n",
    "\n",
    "last_element = tuple(my_tuple[-1])\n",
    "\n",
    "new_tuple = first_element + last_element\n",
    "\n",
    "print(new_tuple)"
   ]
  },
  {
   "cell_type": "raw",
   "id": "64fc65d0-d7ed-411f-a364-33fafda7666e",
   "metadata": {},
   "source": [
    "## Can't find the issue in above program as i am putting the same program in new file and its working fine."
   ]
  },
  {
   "cell_type": "markdown",
   "id": "9213ee34-3c9f-4f16-98f2-1631f89a2124",
   "metadata": {},
   "source": [
    "Q2. inventory = {\"The Great Gatsby\": {\"price\": 10.99, \"quantity\": 5}, \"Rich dad poor dad\": {\"price\": 8.99, \"quantity\": 8}, \"Harry Potter\": {\"price\": 12.50, \"quantity\": 2},}\n",
    "• Add a new book in inventory using method and get all book titles using method\n",
    "• Remove a book if it's out of stock"
   ]
  },
  {
   "cell_type": "code",
   "execution_count": 1,
   "id": "41f41a31-794b-412e-9c65-8d5bf27e0dfb",
   "metadata": {},
   "outputs": [
    {
     "data": {
      "text/plain": [
       "{'The Great Gatsby': {'price': 10.99, 'quantity': 5},\n",
       " 'Rich dad poor dad': {'price': 8.99, 'quantity': 8},\n",
       " 'Harry Potter': {'price': 12.5, 'quantity': 2}}"
      ]
     },
     "execution_count": 1,
     "metadata": {},
     "output_type": "execute_result"
    }
   ],
   "source": [
    "inventory = { \"The Great Gatsby\": {\"price\": 10.99, \"quantity\": 5}, \"Rich dad poor dad\": {\"price\":8.99, \"quantity\": 8}, \n",
    "             \"Harry Potter\": {\"price\": 12.50, \"quantity\": 2}, }\n",
    "inventory"
   ]
  },
  {
   "cell_type": "code",
   "execution_count": 31,
   "id": "f7f2ca6c-09cb-43ed-9a30-900548651942",
   "metadata": {},
   "outputs": [],
   "source": [
    "inventory['Dark Psychology']= {'price': 9.99, 'quantity': 4}"
   ]
  },
  {
   "cell_type": "code",
   "execution_count": 32,
   "id": "49a2d0d0-6002-4b55-b749-5541aca32d1b",
   "metadata": {},
   "outputs": [
    {
     "data": {
      "text/plain": [
       "{'The Great Gatsby': {'price': 10.99, 'quantity': 5},\n",
       " 'Rich dad poor dad': {'price': 8.99, 'quantity': 8},\n",
       " 'Harry Potter': {'price': 12.5, 'quantity': 2},\n",
       " 'Dark Psychology': {'price': 9.99, 'quantity': 4}}"
      ]
     },
     "execution_count": 32,
     "metadata": {},
     "output_type": "execute_result"
    }
   ],
   "source": [
    "inventory"
   ]
  },
  {
   "cell_type": "code",
   "execution_count": 33,
   "id": "dba3ad8a-5fb6-45c0-81cc-039cdaa4d0fb",
   "metadata": {},
   "outputs": [
    {
     "data": {
      "text/plain": [
       "dict_keys(['The Great Gatsby', 'Rich dad poor dad', 'Harry Potter', 'Dark Psychology'])"
      ]
     },
     "execution_count": 33,
     "metadata": {},
     "output_type": "execute_result"
    }
   ],
   "source": [
    "inventory.keys()"
   ]
  },
  {
   "cell_type": "code",
   "execution_count": 34,
   "id": "1e38dc4d-e4c3-43d7-aaf2-16f8672389a9",
   "metadata": {},
   "outputs": [
    {
     "name": "stdout",
     "output_type": "stream",
     "text": [
      "Updated inventory: {'The Great Gatsby': {'price': 10.99, 'quantity': 5}, 'Rich dad poor dad': {'price': 8.99, 'quantity': 8}, 'Dark Psychology': {'price': 9.99, 'quantity': 4}}\n"
     ]
    }
   ],
   "source": [
    "books_to_remove = [title for title, details in inventory.items() if details[\"quantity\"] == 2]\n",
    "\n",
    "for book in books_to_remove:\n",
    "    del inventory[book]\n",
    "\n",
    "print(\"Updated inventory:\", inventory)"
   ]
  },
  {
   "cell_type": "markdown",
   "id": "84677338-b87a-4645-89b1-e3124f22f4e4",
   "metadata": {},
   "source": [
    "Q3. An ecommerce store stores information about its products in a nested dictionary. The outer dictionary uses product IDs as keys, and the inner dictionary stores product details like name, category, price, and stock quantity.\n",
    "products = { 101: {“name”: “Laptop”, “category”: “Electronics”, “price”: 1200, “stock”: 50}, 102: {“name”: “Shirt”, “category”: “Apparel”, “price”: 25, “stock”: 200}, 103: {“name”: “Coffee Maker”, “category”: “Home Appliances”, “price”: 80, “stock”: 30} }\n",
    "• Increase the stock of the “Shirt” product (add 50 more units)\n",
    "• Add a new product (e.g., “Smartphone”)"
   ]
  },
  {
   "cell_type": "code",
   "execution_count": 56,
   "id": "9dfa87af-a9c6-4dd3-b23e-b91ba1a83ee4",
   "metadata": {},
   "outputs": [],
   "source": [
    "products = { \n",
    "    101: {\"name\": \"Laptop\", \"category\": \"Electronics\", \"price\": 1200, \"stock\": 50}, \n",
    "    102:{\"name\": \"Shirt\", \"category\": \"Apparel\", \"price\": 25, \"stock\": 200}, \n",
    "    103: {\"name\": \"Coffee Maker\", \"category\": \"Home Appliances\", \"price\": 80, \"stock\": 30}\n",
    "}\n",
    "\n",
    "product_IDs = list(products.keys())\n",
    "product_details = list(products.values())"
   ]
  },
  {
   "cell_type": "code",
   "execution_count": 57,
   "id": "6717e36b-5660-4c2d-976a-ac63bc6000d0",
   "metadata": {},
   "outputs": [
    {
     "data": {
      "text/plain": [
       "[101, 102, 103]"
      ]
     },
     "execution_count": 57,
     "metadata": {},
     "output_type": "execute_result"
    }
   ],
   "source": [
    "product_IDs"
   ]
  },
  {
   "cell_type": "code",
   "execution_count": 58,
   "id": "b1959774-a5d6-4737-b69c-8ce55d4ea46a",
   "metadata": {},
   "outputs": [
    {
     "data": {
      "text/plain": [
       "[{'name': 'Laptop', 'category': 'Electronics', 'price': 1200, 'stock': 50},\n",
       " {'name': 'Shirt', 'category': 'Apparel', 'price': 25, 'stock': 200},\n",
       " {'name': 'Coffee Maker',\n",
       "  'category': 'Home Appliances',\n",
       "  'price': 80,\n",
       "  'stock': 30}]"
      ]
     },
     "execution_count": 58,
     "metadata": {},
     "output_type": "execute_result"
    }
   ],
   "source": [
    "product_details"
   ]
  },
  {
   "cell_type": "code",
   "execution_count": 60,
   "id": "e0dbf0e4-474b-44fc-a71b-1d31107bb810",
   "metadata": {},
   "outputs": [],
   "source": [
    "products[102]['stock'] += 50"
   ]
  },
  {
   "cell_type": "code",
   "execution_count": 61,
   "id": "cc3f604f-f8cf-4a11-a3d5-d0ab6ec0348d",
   "metadata": {},
   "outputs": [
    {
     "data": {
      "text/plain": [
       "{101: {'name': 'Laptop',\n",
       "  'category': 'Electronics',\n",
       "  'price': 1200,\n",
       "  'stock': 50},\n",
       " 102: {'name': 'Shirt', 'category': 'Apparel', 'price': 25, 'stock': 250},\n",
       " 103: {'name': 'Coffee Maker',\n",
       "  'category': 'Home Appliances',\n",
       "  'price': 80,\n",
       "  'stock': 30}}"
      ]
     },
     "execution_count": 61,
     "metadata": {},
     "output_type": "execute_result"
    }
   ],
   "source": [
    "products"
   ]
  },
  {
   "cell_type": "code",
   "execution_count": 62,
   "id": "d4fe6ef4-d03b-4b83-823f-9d9b466fd900",
   "metadata": {},
   "outputs": [],
   "source": [
    "products[104] = {\"name\": \"Smartphone\", \"category\": \"Electronics\", \"price\": 700, \"stock\": 60}"
   ]
  },
  {
   "cell_type": "code",
   "execution_count": 63,
   "id": "e217f868-b2e0-4f3c-9459-3a53c0b399cd",
   "metadata": {},
   "outputs": [
    {
     "data": {
      "text/plain": [
       "{101: {'name': 'Laptop',\n",
       "  'category': 'Electronics',\n",
       "  'price': 1200,\n",
       "  'stock': 50},\n",
       " 102: {'name': 'Shirt', 'category': 'Apparel', 'price': 25, 'stock': 250},\n",
       " 103: {'name': 'Coffee Maker',\n",
       "  'category': 'Home Appliances',\n",
       "  'price': 80,\n",
       "  'stock': 30},\n",
       " 104: {'name': 'Smartphone',\n",
       "  'category': 'Electronics',\n",
       "  'price': 700,\n",
       "  'stock': 60}}"
      ]
     },
     "execution_count": 63,
     "metadata": {},
     "output_type": "execute_result"
    }
   ],
   "source": [
    "products"
   ]
  },
  {
   "cell_type": "markdown",
   "id": "7a568bc3-432f-4d54-994d-d899db3cd6b8",
   "metadata": {},
   "source": [
    "Q4. You are given a list that contains some duplicate items. Remove the duplicates by converting the\n",
    "list to a set.\n",
    "shopping_list = [“apple”, “banana”, “apple”, “orange”, “banana”, “grape”]"
   ]
  },
  {
   "cell_type": "code",
   "execution_count": 66,
   "id": "212340b4-d47f-4508-af67-f6961606e374",
   "metadata": {},
   "outputs": [],
   "source": [
    "Fruit_list = [\"apple\", \"banana\", \"apple\", \"orange\", \"banana\", \"grape\"]\n",
    "\n",
    "New_list = set(Fruit_list)"
   ]
  },
  {
   "cell_type": "code",
   "execution_count": 67,
   "id": "0e8d1d2d-d300-4e2c-b600-e0cf9978159b",
   "metadata": {},
   "outputs": [
    {
     "data": {
      "text/plain": [
       "{'apple', 'banana', 'grape', 'orange'}"
      ]
     },
     "execution_count": 67,
     "metadata": {},
     "output_type": "execute_result"
    }
   ],
   "source": [
    "New_list"
   ]
  },
  {
   "cell_type": "markdown",
   "id": "92b94ed0-e041-475b-9a3b-7c2d0ee11229",
   "metadata": {},
   "source": [
    "Q5. You are managing a list of students enrolled in two different courses. You need to perform various set operations to understand the student enrollment. course_a = {“John”, “Alice”, “Bob”, “David”} course_b = {“Alice”, “Eve”, “Charlie”, “David”}\n",
    "Task: Create two sets: one for students in “Course A” and one for students in “Course B”.\n",
    "• Find students who are in Course A but not in Course B (difference)\n",
    "• Find students who are only in one of the two courses (symmetric difference)"
   ]
  },
  {
   "cell_type": "code",
   "execution_count": 68,
   "id": "e6be1b7e-3e18-4d53-95aa-3c73003161d5",
   "metadata": {},
   "outputs": [
    {
     "name": "stdout",
     "output_type": "stream",
     "text": [
      "{'John', 'Bob'}\n"
     ]
    }
   ],
   "source": [
    "course_a = {\"John\", \"Alice\", \"Bob\", \"David\"}\n",
    "course_b = {\"Alice\", \"Eve\", \"Charlie\", \"David\"}\n",
    "\n",
    "difference_set = course_a - course_b\n",
    "print(difference_set)"
   ]
  },
  {
   "cell_type": "code",
   "execution_count": 69,
   "id": "03ce72bd-c238-469a-a9cc-25ddb5c6275c",
   "metadata": {},
   "outputs": [
    {
     "name": "stdout",
     "output_type": "stream",
     "text": [
      "{'John', 'Charlie', 'Bob', 'Eve'}\n"
     ]
    }
   ],
   "source": [
    "course_a = {\"John\", \"Alice\", \"Bob\", \"David\"}\n",
    "course_b = {\"Alice\", \"Eve\", \"Charlie\", \"David\"}\n",
    "\n",
    "print(course_a.symmetric_difference(course_b))"
   ]
  },
  {
   "cell_type": "markdown",
   "id": "05145490-9315-40ec-b4a8-542e0a3d997e",
   "metadata": {},
   "source": [
    "Q6. Write a Python program that calculates the sum of all even numbers between 1 and 50 (inclusive) using a for loop.\n",
    "Hint\n",
    "1. Initialize a variable to hold the sum (e.g., sum_of_evens).\n",
    "2. Use a for loop to iterate through all numbers from 1 to 50.\n",
    "3. Inside the loop, check if the number is even.\n",
    "4. If the number is even, add it to sum_of_evens.\n",
    "5. After the loop finishes, print the total sum of all even numbers between 1 and 50."
   ]
  },
  {
   "cell_type": "code",
   "execution_count": 77,
   "id": "56a07891-b080-42eb-b61d-390b17c2f0f3",
   "metadata": {},
   "outputs": [
    {
     "name": "stdout",
     "output_type": "stream",
     "text": [
      "Sum of even numbers between 1 and 50: 650\n"
     ]
    }
   ],
   "source": [
    "sum_of_evens = 0\n",
    "\n",
    "for number in range(1, 51):\n",
    "    if number % 2 == 0:\n",
    "        sum_of_evens += number\n",
    "\n",
    "print(\"Sum of even numbers between 1 and 50:\", sum_of_evens) "
   ]
  },
  {
   "cell_type": "markdown",
   "id": "ff64d015-6132-429f-863f-9fe0168eeb03",
   "metadata": {},
   "source": [
    "Q7. Write a Python program that prints the multiplication table for a given number (between 1 and 10) using a for loop.\n",
    "Hint:\n",
    "1. Ask the user for a number between 1 and 10.\n",
    "2. Use a for loop to iterate through the numbers from 1 to 10.\n",
    "3. For each iteration, calculate the product of the given number and the current number in the loop.\n",
    "4. Print the result in a readable format (e.g., 5 x 1 = 5).\n",
    "5. Ensure the program works correctly for any number between 1 and 10."
   ]
  },
  {
   "cell_type": "code",
   "execution_count": 97,
   "id": "c89ccc7f-e991-4102-bbe7-32541d951357",
   "metadata": {},
   "outputs": [
    {
     "name": "stdin",
     "output_type": "stream",
     "text": [
      "Type a number between 1 to 10:  9\n"
     ]
    },
    {
     "name": "stdout",
     "output_type": "stream",
     "text": [
      "Table of 9:\n",
      "9 x 1 = 9\n",
      "9 x 2 = 18\n",
      "9 x 3 = 27\n",
      "9 x 4 = 36\n",
      "9 x 5 = 45\n",
      "9 x 6 = 54\n",
      "9 x 7 = 63\n",
      "9 x 8 = 72\n",
      "9 x 9 = 81\n",
      "9 x 10 = 90\n"
     ]
    }
   ],
   "source": [
    "number = int(input(\"Type a number between 1 to 10: \"))\n",
    "\n",
    "if 1 <= number <= 10:\n",
    "    print(f\"Table of {number}:\")\n",
    "    for i in range(1,11):\n",
    "        result = number * i\n",
    "        print(f\"{number} x {i} = {result}\")\n",
    "else:\n",
    "    print(\"Please, Enter a number btw 1 to 10.\")"
   ]
  },
  {
   "cell_type": "markdown",
   "id": "344205b9-4388-4430-9b14-e6d43979ed7f",
   "metadata": {},
   "source": [
    "Q8. Power of a Number, Write a Python program that takes a number and prints the powers of the number (starting from 1 to 10) using a while loop. For example, if the user inputs 3, the output should be:\n",
    "3^1 = 3\n",
    "3^2 = 9\n",
    "3^3 = 27\n",
    "... up to 3^10."
   ]
  },
  {
   "cell_type": "code",
   "execution_count": 104,
   "id": "e821db90-8049-4b76-b5bc-6641ca68ffb6",
   "metadata": {},
   "outputs": [
    {
     "name": "stdin",
     "output_type": "stream",
     "text": [
      "Type a number between 1 to 10:  10\n"
     ]
    },
    {
     "name": "stdout",
     "output_type": "stream",
     "text": [
      "Power of 10:\n",
      "10 ^ 1 = 10\n",
      "10 ^ 2 = 100\n",
      "10 ^ 3 = 1000\n",
      "10 ^ 4 = 10000\n",
      "10 ^ 5 = 100000\n",
      "10 ^ 6 = 1000000\n",
      "10 ^ 7 = 10000000\n",
      "10 ^ 8 = 100000000\n",
      "10 ^ 9 = 1000000000\n",
      "10 ^ 10 = 10000000000\n"
     ]
    }
   ],
   "source": [
    "number = int(input(\"Type a number between 1 to 10: \"))\n",
    "\n",
    "if 1 <= number <= 10:\n",
    "    print(f\"Power of {number}:\")\n",
    "    i = 1\n",
    "    while i <= 10:\n",
    "        result = number ** i\n",
    "        print(f\"{number} ^ {i} = {result}\")\n",
    "        i += 1\n",
    "else:\n",
    "    print(\"Please, Enter a number btw 1 to 10.\")"
   ]
  },
  {
   "cell_type": "markdown",
   "id": "09eb70a5-472c-48fc-9d5a-67a0ff7a7c43",
   "metadata": {},
   "source": [
    "Q9. Problem Statement: Write a Python program that takes an integer input from the user and counts down from that number to 0. The program should display the current number at each step until it reaches 0, at which point it should print a message indicating the countdown is finished\n",
    "Output Hint:\n",
    "Enter a number to start the countdown: 3\n",
    "3\n",
    "2\n",
    "1\n",
    "0\n",
    "Countdown finished!"
   ]
  },
  {
   "cell_type": "code",
   "execution_count": 110,
   "id": "240539ee-ff29-415d-b67a-afaa3f9bacbe",
   "metadata": {
    "scrolled": true
   },
   "outputs": [
    {
     "name": "stdin",
     "output_type": "stream",
     "text": [
      "Enter a number to start the countdown:  10\n"
     ]
    },
    {
     "name": "stdout",
     "output_type": "stream",
     "text": [
      "10\n",
      "9\n",
      "8\n",
      "7\n",
      "6\n",
      "5\n",
      "4\n",
      "3\n",
      "2\n",
      "1\n",
      "0\n",
      "Countdown finished!\n"
     ]
    }
   ],
   "source": [
    "num = int(input(\"Enter a number to start the countdown: \"))\n",
    "\n",
    "while num >= 0:\n",
    "    print(num)\n",
    "    num -= 1\n",
    "\n",
    "print(\"Countdown finished!\")"
   ]
  },
  {
   "cell_type": "markdown",
   "id": "d579ddfa-dfbd-4066-9ab6-b6cc5deb6510",
   "metadata": {},
   "source": [
    "Q10. Write a Python program that takes an integer input n from the user and generates a right-angled triangle pattern of stars (*) with n rows. The first row should contain 1 star, the second row 2 stars, the third row 3 stars, and so on until the nth row.\n",
    "Ensure the stars in each row are separated by spaces, and each row starts on a new line.\n",
    "Pattern:\n",
    "*\n",
    "**\n",
    "***\n",
    "****\n",
    "*****"
   ]
  },
  {
   "cell_type": "code",
   "execution_count": 113,
   "id": "ded5f7a0-e991-4b2f-8907-38a373085a80",
   "metadata": {},
   "outputs": [
    {
     "name": "stdin",
     "output_type": "stream",
     "text": [
      "# Pattern:  10\n"
     ]
    },
    {
     "name": "stdout",
     "output_type": "stream",
     "text": [
      "*\n",
      "**\n",
      "***\n",
      "****\n",
      "*****\n",
      "******\n",
      "*******\n",
      "********\n",
      "*********\n",
      "**********\n"
     ]
    }
   ],
   "source": [
    "num = int(input(\"# Pattern: \"))\n",
    "\n",
    "for i in range(1, num+1):\n",
    "    print(\"*\" * i)"
   ]
  },
  {
   "cell_type": "code",
   "execution_count": null,
   "id": "1dc54e0b-6c89-4447-bac7-28effbeea346",
   "metadata": {},
   "outputs": [],
   "source": []
  }
 ],
 "metadata": {
  "kernelspec": {
   "display_name": "Python 3 (ipykernel)",
   "language": "python",
   "name": "python3"
  },
  "language_info": {
   "codemirror_mode": {
    "name": "ipython",
    "version": 3
   },
   "file_extension": ".py",
   "mimetype": "text/x-python",
   "name": "python",
   "nbconvert_exporter": "python",
   "pygments_lexer": "ipython3",
   "version": "3.12.7"
  }
 },
 "nbformat": 4,
 "nbformat_minor": 5
}
