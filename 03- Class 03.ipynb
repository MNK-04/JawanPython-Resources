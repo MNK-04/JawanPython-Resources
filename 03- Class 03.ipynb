{
 "cells": [
  {
   "cell_type": "code",
   "execution_count": 1,
   "id": "becaf3d2-6a0f-4fce-8e5b-7a4e8c6f89eb",
   "metadata": {},
   "outputs": [
    {
     "name": "stdout",
     "output_type": "stream",
     "text": [
      "hello world\n"
     ]
    }
   ],
   "source": [
    "print('hello world')"
   ]
  },
  {
   "cell_type": "code",
   "execution_count": 2,
   "id": "d54faa1f-ca54-4463-a324-eeb1bb47367c",
   "metadata": {},
   "outputs": [
    {
     "name": "stdout",
     "output_type": "stream",
     "text": [
      "hello world\n"
     ]
    }
   ],
   "source": [
    "print(\"hello world\")"
   ]
  },
  {
   "cell_type": "code",
   "execution_count": 3,
   "id": "9830b355-100c-4f7d-a018-8abdc38f9f05",
   "metadata": {},
   "outputs": [
    {
     "ename": "SyntaxError",
     "evalue": "unterminated string literal (detected at line 1) (295983814.py, line 1)",
     "output_type": "error",
     "traceback": [
      "\u001b[1;36m  Cell \u001b[1;32mIn[3], line 1\u001b[1;36m\u001b[0m\n\u001b[1;33m    print('sara's book')\u001b[0m\n\u001b[1;37m                      ^\u001b[0m\n\u001b[1;31mSyntaxError\u001b[0m\u001b[1;31m:\u001b[0m unterminated string literal (detected at line 1)\n"
     ]
    }
   ],
   "source": [
    "print('sara's book')"
   ]
  },
  {
   "cell_type": "code",
   "execution_count": null,
   "id": "fbe00b91-1a44-4db1-898c-7a465437a950",
   "metadata": {},
   "outputs": [],
   "source": [
    "# Python is assuming that string is just sara and other irrelevent, so use any othe type of commas like (\"\") to not get error."
   ]
  },
  {
   "cell_type": "code",
   "execution_count": 4,
   "id": "6d284689-5072-4bc5-860c-e43c32cb86ea",
   "metadata": {},
   "outputs": [
    {
     "name": "stdout",
     "output_type": "stream",
     "text": [
      "sara's book\n"
     ]
    }
   ],
   "source": [
    "print(\"sara's book\")"
   ]
  },
  {
   "cell_type": "code",
   "execution_count": 5,
   "id": "4a7b9725-7258-4a1c-b7dd-1dbd7ba5754a",
   "metadata": {},
   "outputs": [
    {
     "ename": "SyntaxError",
     "evalue": "unterminated string literal (detected at line 1) (984155826.py, line 1)",
     "output_type": "error",
     "traceback": [
      "\u001b[1;36m  Cell \u001b[1;32mIn[5], line 1\u001b[1;36m\u001b[0m\n\u001b[1;33m    print(\"sara\"s book\")\u001b[0m\n\u001b[1;37m                      ^\u001b[0m\n\u001b[1;31mSyntaxError\u001b[0m\u001b[1;31m:\u001b[0m unterminated string literal (detected at line 1)\n"
     ]
    }
   ],
   "source": [
    "print(\"sara\"s book\")"
   ]
  },
  {
   "cell_type": "code",
   "execution_count": 70,
   "id": "6639a836-f2ff-4650-8916-193ba565a8ab",
   "metadata": {},
   "outputs": [],
   "source": [
    "# Python is assuming that string is just sara and other irrelevent, so use any othe type of commas like ('') to not get error."
   ]
  },
  {
   "cell_type": "code",
   "execution_count": 6,
   "id": "6c9931e6-2db4-4835-aa4a-dd00057b9e4d",
   "metadata": {},
   "outputs": [
    {
     "name": "stdout",
     "output_type": "stream",
     "text": [
      "sara\"s book\n"
     ]
    }
   ],
   "source": [
    "print('sara\"s book')"
   ]
  },
  {
   "cell_type": "code",
   "execution_count": 7,
   "id": "7a47e96e-04af-4371-a61d-3bdbab97995b",
   "metadata": {},
   "outputs": [
    {
     "data": {
      "text/plain": [
       "'khushboosaleem23@gmail.com'"
      ]
     },
     "execution_count": 7,
     "metadata": {},
     "output_type": "execute_result"
    }
   ],
   "source": [
    "'khushboosaleem23@gmail.com'"
   ]
  },
  {
   "cell_type": "code",
   "execution_count": 8,
   "id": "e1c68419-b4c4-4a00-8356-a7534806e4e9",
   "metadata": {},
   "outputs": [
    {
     "data": {
      "text/plain": [
       "'khushboosaleem23@gmail.com'"
      ]
     },
     "execution_count": 8,
     "metadata": {},
     "output_type": "execute_result"
    }
   ],
   "source": [
    "\"khushboosaleem23@gmail.com\""
   ]
  },
  {
   "cell_type": "code",
   "execution_count": 9,
   "id": "a1fc83e7-b85b-42d0-99a6-7304797ba66c",
   "metadata": {},
   "outputs": [
    {
     "name": "stdout",
     "output_type": "stream",
     "text": [
      "khushboosaleem23@gmail.com\n"
     ]
    }
   ],
   "source": [
    "print(\"khushboosaleem23@gmail.com\")"
   ]
  },
  {
   "cell_type": "code",
   "execution_count": 10,
   "id": "1a79060b-822e-46d8-ab19-30571f3b4087",
   "metadata": {},
   "outputs": [],
   "source": [
    "# int\n",
    "# str\n",
    "# float"
   ]
  },
  {
   "cell_type": "markdown",
   "id": "4e4307e9-33f9-4f3e-9828-c592eca3d083",
   "metadata": {},
   "source": [
    "## Typecasting"
   ]
  },
  {
   "cell_type": "code",
   "execution_count": 11,
   "id": "74fba1b2-fb9f-4715-9178-8f997bcdc7b0",
   "metadata": {},
   "outputs": [
    {
     "data": {
      "text/plain": [
       "str"
      ]
     },
     "execution_count": 11,
     "metadata": {},
     "output_type": "execute_result"
    }
   ],
   "source": [
    "type(\"20000\")"
   ]
  },
  {
   "cell_type": "code",
   "execution_count": 12,
   "id": "b3d1a48e-d5cf-4b91-8a11-5a24f770051c",
   "metadata": {},
   "outputs": [
    {
     "data": {
      "text/plain": [
       "20000"
      ]
     },
     "execution_count": 12,
     "metadata": {},
     "output_type": "execute_result"
    }
   ],
   "source": [
    "int('20000')"
   ]
  },
  {
   "cell_type": "code",
   "execution_count": 13,
   "id": "9b829c3f-1a08-4e92-a2f9-7ae9a528c3e2",
   "metadata": {},
   "outputs": [
    {
     "data": {
      "text/plain": [
       "int"
      ]
     },
     "execution_count": 13,
     "metadata": {},
     "output_type": "execute_result"
    }
   ],
   "source": [
    "type(int('20000'))"
   ]
  },
  {
   "cell_type": "code",
   "execution_count": 14,
   "id": "da915568-d557-4ca9-81bd-229d2f3b939a",
   "metadata": {},
   "outputs": [
    {
     "name": "stdout",
     "output_type": "stream",
     "text": [
      "<class 'float'>\n"
     ]
    }
   ],
   "source": [
    "print(type(float('50000.0')))"
   ]
  },
  {
   "cell_type": "code",
   "execution_count": 15,
   "id": "2a056204-2adb-429d-88bf-c57453fd5081",
   "metadata": {},
   "outputs": [
    {
     "name": "stdout",
     "output_type": "stream",
     "text": [
      "<class 'str'>\n"
     ]
    }
   ],
   "source": [
    "print(type('50000.0'))"
   ]
  },
  {
   "cell_type": "code",
   "execution_count": 16,
   "id": "a56a7ccb-7bf7-489f-a8fe-e83107db2038",
   "metadata": {},
   "outputs": [
    {
     "data": {
      "text/plain": [
       "20000.0"
      ]
     },
     "execution_count": 16,
     "metadata": {},
     "output_type": "execute_result"
    }
   ],
   "source": [
    "float(20000)"
   ]
  },
  {
   "cell_type": "code",
   "execution_count": 17,
   "id": "4eefd938-0f8a-42c4-9a7d-6c4a3a2597dd",
   "metadata": {},
   "outputs": [
    {
     "data": {
      "text/plain": [
       "2000"
      ]
     },
     "execution_count": 17,
     "metadata": {},
     "output_type": "execute_result"
    }
   ],
   "source": [
    "int(2000.0)"
   ]
  },
  {
   "cell_type": "code",
   "execution_count": 18,
   "id": "d4ff16eb-c1f1-444b-99d1-a21f3b4a55d3",
   "metadata": {},
   "outputs": [
    {
     "data": {
      "text/plain": [
       "123"
      ]
     },
     "execution_count": 18,
     "metadata": {},
     "output_type": "execute_result"
    }
   ],
   "source": [
    "int('123')"
   ]
  },
  {
   "cell_type": "code",
   "execution_count": 19,
   "id": "11bed88c-c521-4a22-92f5-b025f0ecaf6f",
   "metadata": {},
   "outputs": [
    {
     "data": {
      "text/plain": [
       "456.0"
      ]
     },
     "execution_count": 19,
     "metadata": {},
     "output_type": "execute_result"
    }
   ],
   "source": [
    "float('456')"
   ]
  },
  {
   "cell_type": "code",
   "execution_count": 20,
   "id": "6d8d5b9e-cc6f-4edb-8c13-f008daba9d5b",
   "metadata": {},
   "outputs": [
    {
     "ename": "ValueError",
     "evalue": "invalid literal for int() with base 10: '456.0'",
     "output_type": "error",
     "traceback": [
      "\u001b[1;31m---------------------------------------------------------------------------\u001b[0m",
      "\u001b[1;31mValueError\u001b[0m                                Traceback (most recent call last)",
      "Cell \u001b[1;32mIn[20], line 1\u001b[0m\n\u001b[1;32m----> 1\u001b[0m \u001b[38;5;28mint\u001b[39m(\u001b[38;5;124m'\u001b[39m\u001b[38;5;124m456.0\u001b[39m\u001b[38;5;124m'\u001b[39m)\n",
      "\u001b[1;31mValueError\u001b[0m: invalid literal for int() with base 10: '456.0'"
     ]
    }
   ],
   "source": [
    "int('456.0')"
   ]
  },
  {
   "cell_type": "code",
   "execution_count": 71,
   "id": "58a802b1-5027-454a-9c8b-46805942fe20",
   "metadata": {},
   "outputs": [],
   "source": [
    "# 450.0 is a decimal and known as float, Single quotation marks shows it as string, whereas you want it convert as an integer."
   ]
  },
  {
   "cell_type": "code",
   "execution_count": 21,
   "id": "f34ec986-50a8-4f0f-b363-798684aa208c",
   "metadata": {},
   "outputs": [],
   "source": [
    "# float()\n",
    "# int()\n",
    "# str()"
   ]
  },
  {
   "cell_type": "code",
   "execution_count": 22,
   "id": "10a5742a-c442-49bd-97f7-064b65c40bc9",
   "metadata": {},
   "outputs": [
    {
     "data": {
      "text/plain": [
       "456"
      ]
     },
     "execution_count": 22,
     "metadata": {},
     "output_type": "execute_result"
    }
   ],
   "source": [
    "456"
   ]
  },
  {
   "cell_type": "code",
   "execution_count": 23,
   "id": "5f94a0a1-7366-4f0e-bcd3-11b664961c16",
   "metadata": {},
   "outputs": [
    {
     "data": {
      "text/plain": [
       "'456'"
      ]
     },
     "execution_count": 23,
     "metadata": {},
     "output_type": "execute_result"
    }
   ],
   "source": [
    "str(456)"
   ]
  },
  {
   "cell_type": "code",
   "execution_count": 24,
   "id": "f2f1c723-ef78-46b4-a7f8-7de5d56bd326",
   "metadata": {},
   "outputs": [
    {
     "name": "stdout",
     "output_type": "stream",
     "text": [
      "<class 'str'>\n"
     ]
    }
   ],
   "source": [
    "print(type(str(456)))"
   ]
  },
  {
   "cell_type": "code",
   "execution_count": 25,
   "id": "9acacdb9-8666-49bf-9a62-6431f927eb5b",
   "metadata": {},
   "outputs": [
    {
     "ename": "NameError",
     "evalue": "name 'Print' is not defined",
     "output_type": "error",
     "traceback": [
      "\u001b[1;31m---------------------------------------------------------------------------\u001b[0m",
      "\u001b[1;31mNameError\u001b[0m                                 Traceback (most recent call last)",
      "Cell \u001b[1;32mIn[25], line 1\u001b[0m\n\u001b[1;32m----> 1\u001b[0m Print(\u001b[38;5;28mtype\u001b[39m(\u001b[38;5;28mstr\u001b[39m(\u001b[38;5;241m456\u001b[39m)))\n",
      "\u001b[1;31mNameError\u001b[0m: name 'Print' is not defined"
     ]
    }
   ],
   "source": [
    "Print(type(str(456)))"
   ]
  },
  {
   "cell_type": "code",
   "execution_count": 72,
   "id": "f8135329-94a8-4f7d-abff-899a89467d47",
   "metadata": {},
   "outputs": [],
   "source": [
    "# Case sensitive"
   ]
  },
  {
   "cell_type": "code",
   "execution_count": 27,
   "id": "fd4293b3-3196-4584-a7be-66384ff9ddec",
   "metadata": {},
   "outputs": [
    {
     "data": {
      "text/plain": [
       "'456.0'"
      ]
     },
     "execution_count": 27,
     "metadata": {},
     "output_type": "execute_result"
    }
   ],
   "source": [
    "str(456.0)"
   ]
  },
  {
   "cell_type": "code",
   "execution_count": 28,
   "id": "d8536f01-cf70-41e3-8460-03f9535f4be6",
   "metadata": {},
   "outputs": [
    {
     "ename": "ValueError",
     "evalue": "invalid literal for int() with base 10: 'khush'",
     "output_type": "error",
     "traceback": [
      "\u001b[1;31m---------------------------------------------------------------------------\u001b[0m",
      "\u001b[1;31mValueError\u001b[0m                                Traceback (most recent call last)",
      "Cell \u001b[1;32mIn[28], line 1\u001b[0m\n\u001b[1;32m----> 1\u001b[0m \u001b[38;5;28mint\u001b[39m(\u001b[38;5;124m'\u001b[39m\u001b[38;5;124mkhush\u001b[39m\u001b[38;5;124m'\u001b[39m)\n",
      "\u001b[1;31mValueError\u001b[0m: invalid literal for int() with base 10: 'khush'"
     ]
    }
   ],
   "source": [
    "int('khush')"
   ]
  },
  {
   "cell_type": "code",
   "execution_count": 73,
   "id": "643664d3-0e94-4e75-b0d3-f206bd2547ec",
   "metadata": {},
   "outputs": [],
   "source": [
    "# integers are numbers, and you can't convert your text data to numbers."
   ]
  },
  {
   "cell_type": "code",
   "execution_count": 29,
   "id": "852e5f26-250c-4936-bc26-df37aa091dc2",
   "metadata": {},
   "outputs": [
    {
     "data": {
      "text/plain": [
       "'56'"
      ]
     },
     "execution_count": 29,
     "metadata": {},
     "output_type": "execute_result"
    }
   ],
   "source": [
    "'5'+'6'"
   ]
  },
  {
   "cell_type": "code",
   "execution_count": 74,
   "id": "9ed4eb84-4364-47c1-8800-091688e905bc",
   "metadata": {},
   "outputs": [],
   "source": [
    "# it considers the data as string and not integer."
   ]
  },
  {
   "cell_type": "code",
   "execution_count": 30,
   "id": "ab107d88-d948-444c-9a6a-2a834e520919",
   "metadata": {},
   "outputs": [
    {
     "data": {
      "text/plain": [
       "11"
      ]
     },
     "execution_count": 30,
     "metadata": {},
     "output_type": "execute_result"
    }
   ],
   "source": [
    "5+6"
   ]
  },
  {
   "cell_type": "code",
   "execution_count": 31,
   "id": "d126ca57-a085-4438-8961-b829335640db",
   "metadata": {},
   "outputs": [
    {
     "data": {
      "text/plain": [
       "'2000030000'"
      ]
     },
     "execution_count": 31,
     "metadata": {},
     "output_type": "execute_result"
    }
   ],
   "source": [
    "'20000'+'30000'"
   ]
  },
  {
   "cell_type": "code",
   "execution_count": 32,
   "id": "09113906-bc87-49d2-8563-0dded93b0d6e",
   "metadata": {},
   "outputs": [
    {
     "data": {
      "text/plain": [
       "'khush'"
      ]
     },
     "execution_count": 32,
     "metadata": {},
     "output_type": "execute_result"
    }
   ],
   "source": [
    "name = 'khush'\n",
    "name"
   ]
  },
  {
   "cell_type": "code",
   "execution_count": 34,
   "id": "42dde98a-3d83-4dd1-884b-e12a5cb64554",
   "metadata": {},
   "outputs": [],
   "source": [
    "name = \"khush\"\n",
    "age  = 24"
   ]
  },
  {
   "cell_type": "code",
   "execution_count": 35,
   "id": "cf12b920-a124-4e5f-bbf2-bf6db11e8fb7",
   "metadata": {},
   "outputs": [
    {
     "data": {
      "text/plain": [
       "24"
      ]
     },
     "execution_count": 35,
     "metadata": {},
     "output_type": "execute_result"
    }
   ],
   "source": [
    "age"
   ]
  },
  {
   "cell_type": "code",
   "execution_count": 36,
   "id": "ddb3b8af-ef74-4276-8d7e-21910956f0e3",
   "metadata": {},
   "outputs": [
    {
     "data": {
      "text/plain": [
       "'khush'"
      ]
     },
     "execution_count": 36,
     "metadata": {},
     "output_type": "execute_result"
    }
   ],
   "source": [
    "name"
   ]
  },
  {
   "cell_type": "code",
   "execution_count": null,
   "id": "50ac1787-e7f4-4614-a189-1daf768b85cc",
   "metadata": {},
   "outputs": [],
   "source": [
    "# Your variable can't have space, hyphen between them or any number coming at start, as the variable will be considered as illegal variable. "
   ]
  },
  {
   "cell_type": "code",
   "execution_count": 37,
   "id": "e9ee8b79-68a5-48af-9de3-a63037340325",
   "metadata": {},
   "outputs": [
    {
     "ename": "SyntaxError",
     "evalue": "invalid syntax (3853759419.py, line 1)",
     "output_type": "error",
     "traceback": [
      "\u001b[1;36m  Cell \u001b[1;32mIn[37], line 1\u001b[1;36m\u001b[0m\n\u001b[1;33m    my var = 123\u001b[0m\n\u001b[1;37m       ^\u001b[0m\n\u001b[1;31mSyntaxError\u001b[0m\u001b[1;31m:\u001b[0m invalid syntax\n"
     ]
    }
   ],
   "source": [
    "my var = 123\n",
    "my var"
   ]
  },
  {
   "cell_type": "code",
   "execution_count": 38,
   "id": "f9b21787-622e-4cb7-a291-1fe8ab0cbc30",
   "metadata": {},
   "outputs": [
    {
     "ename": "SyntaxError",
     "evalue": "cannot assign to expression here. Maybe you meant '==' instead of '='? (4174989201.py, line 1)",
     "output_type": "error",
     "traceback": [
      "\u001b[1;36m  Cell \u001b[1;32mIn[38], line 1\u001b[1;36m\u001b[0m\n\u001b[1;33m    my-var = 123\u001b[0m\n\u001b[1;37m    ^\u001b[0m\n\u001b[1;31mSyntaxError\u001b[0m\u001b[1;31m:\u001b[0m cannot assign to expression here. Maybe you meant '==' instead of '='?\n"
     ]
    }
   ],
   "source": [
    "my-var = 123\n",
    "my-var"
   ]
  },
  {
   "cell_type": "code",
   "execution_count": 39,
   "id": "1018b5e5-dd62-48e4-8494-98b8315aff2b",
   "metadata": {},
   "outputs": [
    {
     "ename": "SyntaxError",
     "evalue": "invalid decimal literal (3717639743.py, line 1)",
     "output_type": "error",
     "traceback": [
      "\u001b[1;36m  Cell \u001b[1;32mIn[39], line 1\u001b[1;36m\u001b[0m\n\u001b[1;33m    2myvar  = 20\u001b[0m\n\u001b[1;37m    ^\u001b[0m\n\u001b[1;31mSyntaxError\u001b[0m\u001b[1;31m:\u001b[0m invalid decimal literal\n"
     ]
    }
   ],
   "source": [
    "2myvar  = 20\n",
    "2myvar"
   ]
  },
  {
   "cell_type": "code",
   "execution_count": 1,
   "id": "cc9328e8-1f40-4f57-a515-c33ead6d410a",
   "metadata": {},
   "outputs": [],
   "source": [
    "# Whereas Your variable can have underscore, or number between them or even at end, as the variable will be considered as legal variable. "
   ]
  },
  {
   "cell_type": "code",
   "execution_count": 40,
   "id": "cf3528d2-ebf1-41ad-873d-4452e321a117",
   "metadata": {},
   "outputs": [
    {
     "data": {
      "text/plain": [
       "123"
      ]
     },
     "execution_count": 40,
     "metadata": {},
     "output_type": "execute_result"
    }
   ],
   "source": [
    "my_var = 123\n",
    "my_var"
   ]
  },
  {
   "cell_type": "code",
   "execution_count": 41,
   "id": "bf2fc9c7-600b-494f-8a57-d6b770b2a015",
   "metadata": {},
   "outputs": [
    {
     "data": {
      "text/plain": [
       "123"
      ]
     },
     "execution_count": 41,
     "metadata": {},
     "output_type": "execute_result"
    }
   ],
   "source": [
    "myvar3 = 123\n",
    "myvar3"
   ]
  },
  {
   "cell_type": "code",
   "execution_count": 76,
   "id": "bed35b22-30b8-4f6c-8ea5-29f4d17f8eab",
   "metadata": {},
   "outputs": [
    {
     "data": {
      "text/plain": [
       "321"
      ]
     },
     "execution_count": 76,
     "metadata": {},
     "output_type": "execute_result"
    }
   ],
   "source": [
    "my2var = 321\n",
    "my2var"
   ]
  },
  {
   "cell_type": "code",
   "execution_count": 42,
   "id": "e19b6b14-fdf2-4da7-91f9-2abe973596a4",
   "metadata": {},
   "outputs": [
    {
     "data": {
      "text/plain": [
       "'khush'"
      ]
     },
     "execution_count": 42,
     "metadata": {},
     "output_type": "execute_result"
    }
   ],
   "source": [
    "name"
   ]
  },
  {
   "cell_type": "code",
   "execution_count": 43,
   "id": "de353e5c-5bfd-4f91-baab-4b0a6bbb87ef",
   "metadata": {},
   "outputs": [
    {
     "ename": "NameError",
     "evalue": "name 'Name' is not defined",
     "output_type": "error",
     "traceback": [
      "\u001b[1;31m---------------------------------------------------------------------------\u001b[0m",
      "\u001b[1;31mNameError\u001b[0m                                 Traceback (most recent call last)",
      "Cell \u001b[1;32mIn[43], line 1\u001b[0m\n\u001b[1;32m----> 1\u001b[0m Name\n",
      "\u001b[1;31mNameError\u001b[0m: name 'Name' is not defined"
     ]
    }
   ],
   "source": [
    "Name"
   ]
  },
  {
   "cell_type": "code",
   "execution_count": 78,
   "id": "c337e814-de6d-453e-b384-04e76e7997c4",
   "metadata": {},
   "outputs": [],
   "source": [
    "# Case sensitive."
   ]
  },
  {
   "cell_type": "code",
   "execution_count": 79,
   "id": "cb97ab96-185b-4c95-95de-a6f2f7c8a587",
   "metadata": {},
   "outputs": [],
   "source": [
    "x = 5"
   ]
  },
  {
   "cell_type": "code",
   "execution_count": 48,
   "id": "3a18dba2-4945-4c66-ad42-72d542c46071",
   "metadata": {},
   "outputs": [
    {
     "data": {
      "text/plain": [
       "5"
      ]
     },
     "execution_count": 48,
     "metadata": {},
     "output_type": "execute_result"
    }
   ],
   "source": [
    "x"
   ]
  },
  {
   "cell_type": "code",
   "execution_count": 49,
   "id": "3a9a31a4-eee2-4ab8-b573-f1d0bb4d8936",
   "metadata": {},
   "outputs": [
    {
     "data": {
      "text/plain": [
       "15"
      ]
     },
     "execution_count": 49,
     "metadata": {},
     "output_type": "execute_result"
    }
   ],
   "source": [
    "x+10"
   ]
  },
  {
   "cell_type": "code",
   "execution_count": 50,
   "id": "f8bc35cd-d588-49e7-a32f-254cc60c9eaf",
   "metadata": {},
   "outputs": [
    {
     "data": {
      "text/plain": [
       "45"
      ]
     },
     "execution_count": 50,
     "metadata": {},
     "output_type": "execute_result"
    }
   ],
   "source": [
    "y = x+10   # 5+10 --> 15\n",
    "z = 30+y   # 30+15 --> 45\n",
    "z"
   ]
  },
  {
   "cell_type": "code",
   "execution_count": 51,
   "id": "94975dc4-c802-4e16-a83d-6c752e367388",
   "metadata": {},
   "outputs": [
    {
     "data": {
      "text/plain": [
       "5"
      ]
     },
     "execution_count": 51,
     "metadata": {},
     "output_type": "execute_result"
    }
   ],
   "source": [
    "x"
   ]
  },
  {
   "cell_type": "code",
   "execution_count": 52,
   "id": "d62d0e90-a43e-4d56-b328-2c3810481475",
   "metadata": {},
   "outputs": [
    {
     "data": {
      "text/plain": [
       "15"
      ]
     },
     "execution_count": 52,
     "metadata": {},
     "output_type": "execute_result"
    }
   ],
   "source": [
    "y"
   ]
  },
  {
   "cell_type": "code",
   "execution_count": 53,
   "id": "08ccd673-b3f3-4b37-b99b-07cabc5f03de",
   "metadata": {},
   "outputs": [
    {
     "data": {
      "text/plain": [
       "20"
      ]
     },
     "execution_count": 53,
     "metadata": {},
     "output_type": "execute_result"
    }
   ],
   "source": [
    "x+y"
   ]
  },
  {
   "cell_type": "code",
   "execution_count": 54,
   "id": "37d712c2-0d34-4707-a556-c7e8cc5eab14",
   "metadata": {},
   "outputs": [
    {
     "data": {
      "text/plain": [
       "-10"
      ]
     },
     "execution_count": 54,
     "metadata": {},
     "output_type": "execute_result"
    }
   ],
   "source": [
    "x-y "
   ]
  },
  {
   "cell_type": "code",
   "execution_count": 55,
   "id": "51e7f0f6-34f0-41a5-a8af-2bf1321c8da9",
   "metadata": {},
   "outputs": [
    {
     "data": {
      "text/plain": [
       "50"
      ]
     },
     "execution_count": 55,
     "metadata": {},
     "output_type": "execute_result"
    }
   ],
   "source": [
    "10*5"
   ]
  },
  {
   "cell_type": "code",
   "execution_count": 56,
   "id": "bfe0838d-b636-4d06-a31d-ec67c096e9e4",
   "metadata": {},
   "outputs": [
    {
     "data": {
      "text/plain": [
       "125"
      ]
     },
     "execution_count": 56,
     "metadata": {},
     "output_type": "execute_result"
    }
   ],
   "source": [
    "5**3    # 5*5*5"
   ]
  },
  {
   "cell_type": "code",
   "execution_count": null,
   "id": "6c7f4720-d2f7-4ef5-9bcc-0c1773d9f9c5",
   "metadata": {},
   "outputs": [],
   "source": [
    "# ** use as power."
   ]
  },
  {
   "cell_type": "code",
   "execution_count": 57,
   "id": "66b40e89-37b2-4025-8c4b-98e29a579bb7",
   "metadata": {},
   "outputs": [
    {
     "data": {
      "text/plain": [
       "1.6666666666666667"
      ]
     },
     "execution_count": 57,
     "metadata": {},
     "output_type": "execute_result"
    }
   ],
   "source": [
    "5/3"
   ]
  },
  {
   "cell_type": "code",
   "execution_count": 58,
   "id": "c1b83c0d-641c-4f65-886d-9d04ce4fcfdc",
   "metadata": {},
   "outputs": [
    {
     "data": {
      "text/plain": [
       "1"
      ]
     },
     "execution_count": 58,
     "metadata": {},
     "output_type": "execute_result"
    }
   ],
   "source": [
    "5//3"
   ]
  },
  {
   "cell_type": "code",
   "execution_count": 1,
   "id": "2e27cfef-2b8e-4bcb-ac7a-1dec8df88295",
   "metadata": {},
   "outputs": [],
   "source": [
    "# // means division done and round the value before dot."
   ]
  },
  {
   "cell_type": "code",
   "execution_count": 59,
   "id": "d21c8a84-80b5-463f-9dac-6659b576ecd9",
   "metadata": {},
   "outputs": [
    {
     "data": {
      "text/plain": [
       "2"
      ]
     },
     "execution_count": 59,
     "metadata": {},
     "output_type": "execute_result"
    }
   ],
   "source": [
    "5%3"
   ]
  },
  {
   "cell_type": "code",
   "execution_count": 2,
   "id": "15c22703-5005-4d08-87ed-406a94a43fda",
   "metadata": {},
   "outputs": [],
   "source": [
    "# After division what comes as remainder."
   ]
  },
  {
   "cell_type": "code",
   "execution_count": 60,
   "id": "708bcaca-987d-43ea-b6bd-3222237119e3",
   "metadata": {},
   "outputs": [
    {
     "data": {
      "text/plain": [
       "20000"
      ]
     },
     "execution_count": 60,
     "metadata": {},
     "output_type": "execute_result"
    }
   ],
   "source": [
    "salary = 20000\n",
    "salary"
   ]
  },
  {
   "cell_type": "code",
   "execution_count": 61,
   "id": "21c479ca-404b-40e2-a5a7-41a0d4fe689d",
   "metadata": {},
   "outputs": [
    {
     "data": {
      "text/plain": [
       "25000"
      ]
     },
     "execution_count": 61,
     "metadata": {},
     "output_type": "execute_result"
    }
   ],
   "source": [
    "salary + 5000"
   ]
  },
  {
   "cell_type": "code",
   "execution_count": 62,
   "id": "c4c0f446-76f9-410f-807a-f8f324e1f440",
   "metadata": {},
   "outputs": [
    {
     "data": {
      "text/plain": [
       "20000"
      ]
     },
     "execution_count": 62,
     "metadata": {},
     "output_type": "execute_result"
    }
   ],
   "source": [
    "salary"
   ]
  },
  {
   "cell_type": "code",
   "execution_count": 63,
   "id": "01c498e9-9180-4ba4-9a77-f5b1c5741366",
   "metadata": {},
   "outputs": [],
   "source": [
    "salary = salary + 5000"
   ]
  },
  {
   "cell_type": "code",
   "execution_count": 64,
   "id": "63373737-8961-4880-8718-abd5021c64d2",
   "metadata": {},
   "outputs": [
    {
     "data": {
      "text/plain": [
       "25000"
      ]
     },
     "execution_count": 64,
     "metadata": {},
     "output_type": "execute_result"
    }
   ],
   "source": [
    "salary"
   ]
  },
  {
   "cell_type": "code",
   "execution_count": 65,
   "id": "86b18ef6-7668-4ab3-88d9-b3877c7d418f",
   "metadata": {},
   "outputs": [
    {
     "data": {
      "text/plain": [
       "5"
      ]
     },
     "execution_count": 65,
     "metadata": {},
     "output_type": "execute_result"
    }
   ],
   "source": [
    "x"
   ]
  },
  {
   "cell_type": "code",
   "execution_count": 66,
   "id": "0dd632bc-1f36-4066-ac3b-fed22431a0b5",
   "metadata": {},
   "outputs": [
    {
     "data": {
      "text/plain": [
       "15"
      ]
     },
     "execution_count": 66,
     "metadata": {},
     "output_type": "execute_result"
    }
   ],
   "source": [
    "y"
   ]
  },
  {
   "cell_type": "code",
   "execution_count": 67,
   "id": "cfae83c6-a70e-4b0f-ba9a-7b7dc35ffc24",
   "metadata": {},
   "outputs": [
    {
     "data": {
      "text/plain": [
       "75"
      ]
     },
     "execution_count": 67,
     "metadata": {},
     "output_type": "execute_result"
    }
   ],
   "source": [
    "x*y"
   ]
  },
  {
   "cell_type": "code",
   "execution_count": 68,
   "id": "53ac4c3d-305d-4a9c-81b6-82c2bdb41172",
   "metadata": {},
   "outputs": [
    {
     "name": "stdout",
     "output_type": "stream",
     "text": [
      "5\n",
      "15\n"
     ]
    }
   ],
   "source": [
    "print(x)\n",
    "print(y)"
   ]
  },
  {
   "cell_type": "code",
   "execution_count": 69,
   "id": "c8c7fe32-0949-4051-9891-91e974067640",
   "metadata": {},
   "outputs": [
    {
     "name": "stdout",
     "output_type": "stream",
     "text": [
      "5 15\n"
     ]
    }
   ],
   "source": [
    "print(x,y)"
   ]
  },
  {
   "cell_type": "code",
   "execution_count": null,
   "id": "0ab2b523-eb36-4908-a228-248556135652",
   "metadata": {},
   "outputs": [],
   "source": []
  }
 ],
 "metadata": {
  "kernelspec": {
   "display_name": "Python 3 (ipykernel)",
   "language": "python",
   "name": "python3"
  },
  "language_info": {
   "codemirror_mode": {
    "name": "ipython",
    "version": 3
   },
   "file_extension": ".py",
   "mimetype": "text/x-python",
   "name": "python",
   "nbconvert_exporter": "python",
   "pygments_lexer": "ipython3",
   "version": "3.12.7"
  }
 },
 "nbformat": 4,
 "nbformat_minor": 5
}
